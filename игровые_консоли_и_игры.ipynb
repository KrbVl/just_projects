{
 "cells": [
  {
   "cell_type": "markdown",
   "id": "a7cf04ad",
   "metadata": {},
   "source": [
    "# Описание проекта #\n",
    "\n",
    "Вы работаете в интернет-магазине «Стримчик», который продаёт по всему миру компьютерные игры. Из открытых источников доступны исторические данные о продажах игр, оценки пользователей и экспертов, жанры и платформы (например, Xbox или PlayStation). Вам нужно выявить определяющие успешность игры закономерности. Это позволит сделать ставку на потенциально популярный продукт и спланировать рекламные кампании.\n",
    "\n",
    "Перед вами данные до 2016 года. Представим, что сейчас декабрь 2016 г., и вы планируете кампанию на 2017-й. Нужно отработать принцип работы с данными. Неважно, прогнозируете ли вы продажи на 2017 год по данным 2016-го или же 2027-й — по данным 2026 года.\n",
    "\n",
    "В наборе данных попадается аббревиатура ESRB (Entertainment Software Rating Board) — это ассоциация, определяющая возрастной рейтинг компьютерных игр. ESRB оценивает игровой контент и присваивает ему подходящую возрастную категорию, например, «Для взрослых», «Для детей младшего возраста» или «Для подростков»."
   ]
  },
  {
   "cell_type": "markdown",
   "id": "4b79e40e",
   "metadata": {},
   "source": [
    "## План работы ##\n",
    "\n",
    "- **изучение общей информации**\n",
    "- **подготовка данных**\n",
    "- **исследовательский анализ данных**\n",
    "- **портрет пользователя каждого региона**\n",
    "- **проверка гипотез**\n",
    "- **общий вывод**"
   ]
  },
  {
   "cell_type": "markdown",
   "id": "6e6e5a00",
   "metadata": {},
   "source": [
    "## Описательные данные ##\n",
    "    • Name — название игры\n",
    "    • Platform — платформа\n",
    "    • Year_of_Release — год выпуска\n",
    "    • Genre — жанр игры\n",
    "    • NA_sales — продажи в Северной Америке (миллионы проданных копий)\n",
    "    • EU_sales — продажи в Европе (миллионы проданных копий)\n",
    "    • JP_sales — продажи в Японии (миллионы проданных копий)\n",
    "    • Other_sales — продажи в других странах (миллионы проданных копий)\n",
    "    • Critic_Score — оценка критиков (максимум 100)\n",
    "    • User_Score — оценка пользователей (максимум 10)\n",
    "    • Rating — рейтинг от организации ESRB (англ. Entertainment Software Rating Board). Эта ассоциация определяет рейтинг компьютерных игр и присваивает им подходящую возрастную категорию"
   ]
  },
  {
   "cell_type": "markdown",
   "id": "7fe23ab6",
   "metadata": {},
   "source": [
    "# Изучение обещей информации #"
   ]
  },
  {
   "cell_type": "markdown",
   "id": "4750c6a4",
   "metadata": {},
   "source": [
    "## Ипорт библиотек ##"
   ]
  },
  {
   "cell_type": "code",
   "execution_count": 1,
   "id": "4d7ae294",
   "metadata": {},
   "outputs": [],
   "source": [
    "import pandas as pd\n",
    "import matplotlib.pyplot as plt\n",
    "import seaborn as sns\n",
    "from scipy import stats as st\n",
    "import numpy as np"
   ]
  },
  {
   "cell_type": "markdown",
   "id": "800d7abd",
   "metadata": {},
   "source": [
    "## Изучение таблиц ##"
   ]
  },
  {
   "cell_type": "code",
   "execution_count": 2,
   "id": "15ce9444",
   "metadata": {},
   "outputs": [
    {
     "data": {
      "text/html": [
       "<div>\n",
       "<style scoped>\n",
       "    .dataframe tbody tr th:only-of-type {\n",
       "        vertical-align: middle;\n",
       "    }\n",
       "\n",
       "    .dataframe tbody tr th {\n",
       "        vertical-align: top;\n",
       "    }\n",
       "\n",
       "    .dataframe thead th {\n",
       "        text-align: right;\n",
       "    }\n",
       "</style>\n",
       "<table border=\"1\" class=\"dataframe\">\n",
       "  <thead>\n",
       "    <tr style=\"text-align: right;\">\n",
       "      <th></th>\n",
       "      <th>Name</th>\n",
       "      <th>Platform</th>\n",
       "      <th>Year_of_Release</th>\n",
       "      <th>Genre</th>\n",
       "      <th>NA_sales</th>\n",
       "      <th>EU_sales</th>\n",
       "      <th>JP_sales</th>\n",
       "      <th>Other_sales</th>\n",
       "      <th>Critic_Score</th>\n",
       "      <th>User_Score</th>\n",
       "      <th>Rating</th>\n",
       "    </tr>\n",
       "  </thead>\n",
       "  <tbody>\n",
       "    <tr>\n",
       "      <th>0</th>\n",
       "      <td>Wii Sports</td>\n",
       "      <td>Wii</td>\n",
       "      <td>2006.0</td>\n",
       "      <td>Sports</td>\n",
       "      <td>41.36</td>\n",
       "      <td>28.96</td>\n",
       "      <td>3.77</td>\n",
       "      <td>8.45</td>\n",
       "      <td>76.0</td>\n",
       "      <td>8</td>\n",
       "      <td>E</td>\n",
       "    </tr>\n",
       "    <tr>\n",
       "      <th>1</th>\n",
       "      <td>Super Mario Bros.</td>\n",
       "      <td>NES</td>\n",
       "      <td>1985.0</td>\n",
       "      <td>Platform</td>\n",
       "      <td>29.08</td>\n",
       "      <td>3.58</td>\n",
       "      <td>6.81</td>\n",
       "      <td>0.77</td>\n",
       "      <td>NaN</td>\n",
       "      <td>NaN</td>\n",
       "      <td>NaN</td>\n",
       "    </tr>\n",
       "    <tr>\n",
       "      <th>2</th>\n",
       "      <td>Mario Kart Wii</td>\n",
       "      <td>Wii</td>\n",
       "      <td>2008.0</td>\n",
       "      <td>Racing</td>\n",
       "      <td>15.68</td>\n",
       "      <td>12.76</td>\n",
       "      <td>3.79</td>\n",
       "      <td>3.29</td>\n",
       "      <td>82.0</td>\n",
       "      <td>8.3</td>\n",
       "      <td>E</td>\n",
       "    </tr>\n",
       "    <tr>\n",
       "      <th>3</th>\n",
       "      <td>Wii Sports Resort</td>\n",
       "      <td>Wii</td>\n",
       "      <td>2009.0</td>\n",
       "      <td>Sports</td>\n",
       "      <td>15.61</td>\n",
       "      <td>10.93</td>\n",
       "      <td>3.28</td>\n",
       "      <td>2.95</td>\n",
       "      <td>80.0</td>\n",
       "      <td>8</td>\n",
       "      <td>E</td>\n",
       "    </tr>\n",
       "    <tr>\n",
       "      <th>4</th>\n",
       "      <td>Pokemon Red/Pokemon Blue</td>\n",
       "      <td>GB</td>\n",
       "      <td>1996.0</td>\n",
       "      <td>Role-Playing</td>\n",
       "      <td>11.27</td>\n",
       "      <td>8.89</td>\n",
       "      <td>10.22</td>\n",
       "      <td>1.00</td>\n",
       "      <td>NaN</td>\n",
       "      <td>NaN</td>\n",
       "      <td>NaN</td>\n",
       "    </tr>\n",
       "  </tbody>\n",
       "</table>\n",
       "</div>"
      ],
      "text/plain": [
       "                       Name Platform  Year_of_Release         Genre  NA_sales  \\\n",
       "0                Wii Sports      Wii           2006.0        Sports     41.36   \n",
       "1         Super Mario Bros.      NES           1985.0      Platform     29.08   \n",
       "2            Mario Kart Wii      Wii           2008.0        Racing     15.68   \n",
       "3         Wii Sports Resort      Wii           2009.0        Sports     15.61   \n",
       "4  Pokemon Red/Pokemon Blue       GB           1996.0  Role-Playing     11.27   \n",
       "\n",
       "   EU_sales  JP_sales  Other_sales  Critic_Score User_Score Rating  \n",
       "0     28.96      3.77         8.45          76.0          8      E  \n",
       "1      3.58      6.81         0.77           NaN        NaN    NaN  \n",
       "2     12.76      3.79         3.29          82.0        8.3      E  \n",
       "3     10.93      3.28         2.95          80.0          8      E  \n",
       "4      8.89     10.22         1.00           NaN        NaN    NaN  "
      ]
     },
     "metadata": {},
     "output_type": "display_data"
    },
    {
     "data": {
      "text/html": [
       "<div>\n",
       "<style scoped>\n",
       "    .dataframe tbody tr th:only-of-type {\n",
       "        vertical-align: middle;\n",
       "    }\n",
       "\n",
       "    .dataframe tbody tr th {\n",
       "        vertical-align: top;\n",
       "    }\n",
       "\n",
       "    .dataframe thead th {\n",
       "        text-align: right;\n",
       "    }\n",
       "</style>\n",
       "<table border=\"1\" class=\"dataframe\">\n",
       "  <thead>\n",
       "    <tr style=\"text-align: right;\">\n",
       "      <th></th>\n",
       "      <th>Name</th>\n",
       "      <th>Platform</th>\n",
       "      <th>Year_of_Release</th>\n",
       "      <th>Genre</th>\n",
       "      <th>NA_sales</th>\n",
       "      <th>EU_sales</th>\n",
       "      <th>JP_sales</th>\n",
       "      <th>Other_sales</th>\n",
       "      <th>Critic_Score</th>\n",
       "      <th>User_Score</th>\n",
       "      <th>Rating</th>\n",
       "    </tr>\n",
       "  </thead>\n",
       "  <tbody>\n",
       "    <tr>\n",
       "      <th>16710</th>\n",
       "      <td>Samurai Warriors: Sanada Maru</td>\n",
       "      <td>PS3</td>\n",
       "      <td>2016.0</td>\n",
       "      <td>Action</td>\n",
       "      <td>0.00</td>\n",
       "      <td>0.00</td>\n",
       "      <td>0.01</td>\n",
       "      <td>0.0</td>\n",
       "      <td>NaN</td>\n",
       "      <td>NaN</td>\n",
       "      <td>NaN</td>\n",
       "    </tr>\n",
       "    <tr>\n",
       "      <th>16711</th>\n",
       "      <td>LMA Manager 2007</td>\n",
       "      <td>X360</td>\n",
       "      <td>2006.0</td>\n",
       "      <td>Sports</td>\n",
       "      <td>0.00</td>\n",
       "      <td>0.01</td>\n",
       "      <td>0.00</td>\n",
       "      <td>0.0</td>\n",
       "      <td>NaN</td>\n",
       "      <td>NaN</td>\n",
       "      <td>NaN</td>\n",
       "    </tr>\n",
       "    <tr>\n",
       "      <th>16712</th>\n",
       "      <td>Haitaka no Psychedelica</td>\n",
       "      <td>PSV</td>\n",
       "      <td>2016.0</td>\n",
       "      <td>Adventure</td>\n",
       "      <td>0.00</td>\n",
       "      <td>0.00</td>\n",
       "      <td>0.01</td>\n",
       "      <td>0.0</td>\n",
       "      <td>NaN</td>\n",
       "      <td>NaN</td>\n",
       "      <td>NaN</td>\n",
       "    </tr>\n",
       "    <tr>\n",
       "      <th>16713</th>\n",
       "      <td>Spirits &amp; Spells</td>\n",
       "      <td>GBA</td>\n",
       "      <td>2003.0</td>\n",
       "      <td>Platform</td>\n",
       "      <td>0.01</td>\n",
       "      <td>0.00</td>\n",
       "      <td>0.00</td>\n",
       "      <td>0.0</td>\n",
       "      <td>NaN</td>\n",
       "      <td>NaN</td>\n",
       "      <td>NaN</td>\n",
       "    </tr>\n",
       "    <tr>\n",
       "      <th>16714</th>\n",
       "      <td>Winning Post 8 2016</td>\n",
       "      <td>PSV</td>\n",
       "      <td>2016.0</td>\n",
       "      <td>Simulation</td>\n",
       "      <td>0.00</td>\n",
       "      <td>0.00</td>\n",
       "      <td>0.01</td>\n",
       "      <td>0.0</td>\n",
       "      <td>NaN</td>\n",
       "      <td>NaN</td>\n",
       "      <td>NaN</td>\n",
       "    </tr>\n",
       "  </tbody>\n",
       "</table>\n",
       "</div>"
      ],
      "text/plain": [
       "                                Name Platform  Year_of_Release       Genre  \\\n",
       "16710  Samurai Warriors: Sanada Maru      PS3           2016.0      Action   \n",
       "16711               LMA Manager 2007     X360           2006.0      Sports   \n",
       "16712        Haitaka no Psychedelica      PSV           2016.0   Adventure   \n",
       "16713               Spirits & Spells      GBA           2003.0    Platform   \n",
       "16714            Winning Post 8 2016      PSV           2016.0  Simulation   \n",
       "\n",
       "       NA_sales  EU_sales  JP_sales  Other_sales  Critic_Score User_Score  \\\n",
       "16710      0.00      0.00      0.01          0.0           NaN        NaN   \n",
       "16711      0.00      0.01      0.00          0.0           NaN        NaN   \n",
       "16712      0.00      0.00      0.01          0.0           NaN        NaN   \n",
       "16713      0.01      0.00      0.00          0.0           NaN        NaN   \n",
       "16714      0.00      0.00      0.01          0.0           NaN        NaN   \n",
       "\n",
       "      Rating  \n",
       "16710    NaN  \n",
       "16711    NaN  \n",
       "16712    NaN  \n",
       "16713    NaN  \n",
       "16714    NaN  "
      ]
     },
     "metadata": {},
     "output_type": "display_data"
    },
    {
     "name": "stdout",
     "output_type": "stream",
     "text": [
      "<class 'pandas.core.frame.DataFrame'>\n",
      "RangeIndex: 16715 entries, 0 to 16714\n",
      "Data columns (total 11 columns):\n",
      " #   Column           Non-Null Count  Dtype  \n",
      "---  ------           --------------  -----  \n",
      " 0   Name             16713 non-null  object \n",
      " 1   Platform         16715 non-null  object \n",
      " 2   Year_of_Release  16446 non-null  float64\n",
      " 3   Genre            16713 non-null  object \n",
      " 4   NA_sales         16715 non-null  float64\n",
      " 5   EU_sales         16715 non-null  float64\n",
      " 6   JP_sales         16715 non-null  float64\n",
      " 7   Other_sales      16715 non-null  float64\n",
      " 8   Critic_Score     8137 non-null   float64\n",
      " 9   User_Score       10014 non-null  object \n",
      " 10  Rating           9949 non-null   object \n",
      "dtypes: float64(6), object(5)\n",
      "memory usage: 1.4+ MB\n"
     ]
    },
    {
     "data": {
      "text/html": [
       "<div>\n",
       "<style scoped>\n",
       "    .dataframe tbody tr th:only-of-type {\n",
       "        vertical-align: middle;\n",
       "    }\n",
       "\n",
       "    .dataframe tbody tr th {\n",
       "        vertical-align: top;\n",
       "    }\n",
       "\n",
       "    .dataframe thead th {\n",
       "        text-align: right;\n",
       "    }\n",
       "</style>\n",
       "<table border=\"1\" class=\"dataframe\">\n",
       "  <thead>\n",
       "    <tr style=\"text-align: right;\">\n",
       "      <th></th>\n",
       "      <th>Year_of_Release</th>\n",
       "      <th>NA_sales</th>\n",
       "      <th>EU_sales</th>\n",
       "      <th>JP_sales</th>\n",
       "      <th>Other_sales</th>\n",
       "      <th>Critic_Score</th>\n",
       "    </tr>\n",
       "  </thead>\n",
       "  <tbody>\n",
       "    <tr>\n",
       "      <th>count</th>\n",
       "      <td>16446.000000</td>\n",
       "      <td>16715.000000</td>\n",
       "      <td>16715.000000</td>\n",
       "      <td>16715.000000</td>\n",
       "      <td>16715.000000</td>\n",
       "      <td>8137.000000</td>\n",
       "    </tr>\n",
       "    <tr>\n",
       "      <th>mean</th>\n",
       "      <td>2006.484616</td>\n",
       "      <td>0.263377</td>\n",
       "      <td>0.145060</td>\n",
       "      <td>0.077617</td>\n",
       "      <td>0.047342</td>\n",
       "      <td>68.967679</td>\n",
       "    </tr>\n",
       "    <tr>\n",
       "      <th>std</th>\n",
       "      <td>5.877050</td>\n",
       "      <td>0.813604</td>\n",
       "      <td>0.503339</td>\n",
       "      <td>0.308853</td>\n",
       "      <td>0.186731</td>\n",
       "      <td>13.938165</td>\n",
       "    </tr>\n",
       "    <tr>\n",
       "      <th>min</th>\n",
       "      <td>1980.000000</td>\n",
       "      <td>0.000000</td>\n",
       "      <td>0.000000</td>\n",
       "      <td>0.000000</td>\n",
       "      <td>0.000000</td>\n",
       "      <td>13.000000</td>\n",
       "    </tr>\n",
       "    <tr>\n",
       "      <th>25%</th>\n",
       "      <td>2003.000000</td>\n",
       "      <td>0.000000</td>\n",
       "      <td>0.000000</td>\n",
       "      <td>0.000000</td>\n",
       "      <td>0.000000</td>\n",
       "      <td>60.000000</td>\n",
       "    </tr>\n",
       "    <tr>\n",
       "      <th>50%</th>\n",
       "      <td>2007.000000</td>\n",
       "      <td>0.080000</td>\n",
       "      <td>0.020000</td>\n",
       "      <td>0.000000</td>\n",
       "      <td>0.010000</td>\n",
       "      <td>71.000000</td>\n",
       "    </tr>\n",
       "    <tr>\n",
       "      <th>75%</th>\n",
       "      <td>2010.000000</td>\n",
       "      <td>0.240000</td>\n",
       "      <td>0.110000</td>\n",
       "      <td>0.040000</td>\n",
       "      <td>0.030000</td>\n",
       "      <td>79.000000</td>\n",
       "    </tr>\n",
       "    <tr>\n",
       "      <th>max</th>\n",
       "      <td>2016.000000</td>\n",
       "      <td>41.360000</td>\n",
       "      <td>28.960000</td>\n",
       "      <td>10.220000</td>\n",
       "      <td>10.570000</td>\n",
       "      <td>98.000000</td>\n",
       "    </tr>\n",
       "  </tbody>\n",
       "</table>\n",
       "</div>"
      ],
      "text/plain": [
       "       Year_of_Release      NA_sales      EU_sales      JP_sales  \\\n",
       "count     16446.000000  16715.000000  16715.000000  16715.000000   \n",
       "mean       2006.484616      0.263377      0.145060      0.077617   \n",
       "std           5.877050      0.813604      0.503339      0.308853   \n",
       "min        1980.000000      0.000000      0.000000      0.000000   \n",
       "25%        2003.000000      0.000000      0.000000      0.000000   \n",
       "50%        2007.000000      0.080000      0.020000      0.000000   \n",
       "75%        2010.000000      0.240000      0.110000      0.040000   \n",
       "max        2016.000000     41.360000     28.960000     10.220000   \n",
       "\n",
       "        Other_sales  Critic_Score  \n",
       "count  16715.000000   8137.000000  \n",
       "mean       0.047342     68.967679  \n",
       "std        0.186731     13.938165  \n",
       "min        0.000000     13.000000  \n",
       "25%        0.000000     60.000000  \n",
       "50%        0.010000     71.000000  \n",
       "75%        0.030000     79.000000  \n",
       "max       10.570000     98.000000  "
      ]
     },
     "execution_count": 2,
     "metadata": {},
     "output_type": "execute_result"
    }
   ],
   "source": [
    "#посмотрим первые и последние строки таблицы\n",
    "#затем оценим имеющуюся информацию о нез\n",
    "\n",
    "df = pd.read_csv('\\Сборный Проект №1 (2)\\games.csv')\n",
    "\n",
    "display(df.head())\n",
    "display(df.tail())\n",
    "df.info()\n",
    "df.describe()"
   ]
  },
  {
   "cell_type": "markdown",
   "id": "5fdbe531",
   "metadata": {},
   "source": [
    "## Вывод ##\n",
    "\n",
    "Сразу же бросаются в глаза не совсем корректные названия столбцов. Также видно, что столбцы с оценкой критиков и пользователей необходимо перевести в другой формат. В некоторых столбцах имеются пропущенные значения, проведем оценку и обработаем пропуски. В таблице с описанием на первый взгляд значения смотрятся вполне реально, однако там нехватает некоторых столбцов.\n",
    "\n",
    "План предобработки данных:\n",
    "\n",
    "- привести столбцы к првильному регистру;\n",
    "- добавим недостающие столбцы;\n",
    "- преобразование типов данных;\n",
    "- обработать пропуски."
   ]
  },
  {
   "cell_type": "markdown",
   "id": "8edf37cc",
   "metadata": {},
   "source": [
    "# Предобработка данных #"
   ]
  },
  {
   "cell_type": "markdown",
   "id": "f9620dc7",
   "metadata": {},
   "source": [
    "## Приведение к правильному регистру ##"
   ]
  },
  {
   "cell_type": "code",
   "execution_count": 3,
   "id": "01687e82",
   "metadata": {},
   "outputs": [],
   "source": [
    "#приведем названия столбцов к правильному регистру\n",
    "\n",
    "df = df.rename(columns={'Name': 'name', 'Platform': 'platform', \n",
    "                        'Year_of_Release': 'year_of_release', \n",
    "                        'Genre': 'genre', 'Other_sales': 'other_sales', \n",
    "                        'Critic_Score': 'critic_score', \n",
    "                        'User_Score': 'user_score','Rating': 'rating'})"
   ]
  },
  {
   "cell_type": "markdown",
   "id": "6d6536a4",
   "metadata": {},
   "source": [
    "## Добавим недостабщие столбцы ##"
   ]
  },
  {
   "cell_type": "code",
   "execution_count": 4,
   "id": "d43f81d7",
   "metadata": {
    "scrolled": true
   },
   "outputs": [
    {
     "data": {
      "text/html": [
       "<div>\n",
       "<style scoped>\n",
       "    .dataframe tbody tr th:only-of-type {\n",
       "        vertical-align: middle;\n",
       "    }\n",
       "\n",
       "    .dataframe tbody tr th {\n",
       "        vertical-align: top;\n",
       "    }\n",
       "\n",
       "    .dataframe thead th {\n",
       "        text-align: right;\n",
       "    }\n",
       "</style>\n",
       "<table border=\"1\" class=\"dataframe\">\n",
       "  <thead>\n",
       "    <tr style=\"text-align: right;\">\n",
       "      <th></th>\n",
       "      <th>name</th>\n",
       "      <th>platform</th>\n",
       "      <th>year_of_release</th>\n",
       "      <th>genre</th>\n",
       "      <th>NA_sales</th>\n",
       "      <th>EU_sales</th>\n",
       "      <th>JP_sales</th>\n",
       "      <th>other_sales</th>\n",
       "      <th>critic_score</th>\n",
       "      <th>user_score</th>\n",
       "      <th>rating</th>\n",
       "      <th>world_sales</th>\n",
       "    </tr>\n",
       "  </thead>\n",
       "  <tbody>\n",
       "    <tr>\n",
       "      <th>0</th>\n",
       "      <td>Wii Sports</td>\n",
       "      <td>Wii</td>\n",
       "      <td>2006.0</td>\n",
       "      <td>Sports</td>\n",
       "      <td>41.36</td>\n",
       "      <td>28.96</td>\n",
       "      <td>3.77</td>\n",
       "      <td>8.45</td>\n",
       "      <td>76.0</td>\n",
       "      <td>8</td>\n",
       "      <td>E</td>\n",
       "      <td>82.54</td>\n",
       "    </tr>\n",
       "    <tr>\n",
       "      <th>1</th>\n",
       "      <td>Super Mario Bros.</td>\n",
       "      <td>NES</td>\n",
       "      <td>1985.0</td>\n",
       "      <td>Platform</td>\n",
       "      <td>29.08</td>\n",
       "      <td>3.58</td>\n",
       "      <td>6.81</td>\n",
       "      <td>0.77</td>\n",
       "      <td>NaN</td>\n",
       "      <td>NaN</td>\n",
       "      <td>NaN</td>\n",
       "      <td>40.24</td>\n",
       "    </tr>\n",
       "    <tr>\n",
       "      <th>2</th>\n",
       "      <td>Mario Kart Wii</td>\n",
       "      <td>Wii</td>\n",
       "      <td>2008.0</td>\n",
       "      <td>Racing</td>\n",
       "      <td>15.68</td>\n",
       "      <td>12.76</td>\n",
       "      <td>3.79</td>\n",
       "      <td>3.29</td>\n",
       "      <td>82.0</td>\n",
       "      <td>8.3</td>\n",
       "      <td>E</td>\n",
       "      <td>35.52</td>\n",
       "    </tr>\n",
       "    <tr>\n",
       "      <th>3</th>\n",
       "      <td>Wii Sports Resort</td>\n",
       "      <td>Wii</td>\n",
       "      <td>2009.0</td>\n",
       "      <td>Sports</td>\n",
       "      <td>15.61</td>\n",
       "      <td>10.93</td>\n",
       "      <td>3.28</td>\n",
       "      <td>2.95</td>\n",
       "      <td>80.0</td>\n",
       "      <td>8</td>\n",
       "      <td>E</td>\n",
       "      <td>32.77</td>\n",
       "    </tr>\n",
       "    <tr>\n",
       "      <th>4</th>\n",
       "      <td>Pokemon Red/Pokemon Blue</td>\n",
       "      <td>GB</td>\n",
       "      <td>1996.0</td>\n",
       "      <td>Role-Playing</td>\n",
       "      <td>11.27</td>\n",
       "      <td>8.89</td>\n",
       "      <td>10.22</td>\n",
       "      <td>1.00</td>\n",
       "      <td>NaN</td>\n",
       "      <td>NaN</td>\n",
       "      <td>NaN</td>\n",
       "      <td>31.38</td>\n",
       "    </tr>\n",
       "  </tbody>\n",
       "</table>\n",
       "</div>"
      ],
      "text/plain": [
       "                       name platform  year_of_release         genre  NA_sales  \\\n",
       "0                Wii Sports      Wii           2006.0        Sports     41.36   \n",
       "1         Super Mario Bros.      NES           1985.0      Platform     29.08   \n",
       "2            Mario Kart Wii      Wii           2008.0        Racing     15.68   \n",
       "3         Wii Sports Resort      Wii           2009.0        Sports     15.61   \n",
       "4  Pokemon Red/Pokemon Blue       GB           1996.0  Role-Playing     11.27   \n",
       "\n",
       "   EU_sales  JP_sales  other_sales  critic_score user_score rating  \\\n",
       "0     28.96      3.77         8.45          76.0          8      E   \n",
       "1      3.58      6.81         0.77           NaN        NaN    NaN   \n",
       "2     12.76      3.79         3.29          82.0        8.3      E   \n",
       "3     10.93      3.28         2.95          80.0          8      E   \n",
       "4      8.89     10.22         1.00           NaN        NaN    NaN   \n",
       "\n",
       "   world_sales  \n",
       "0        82.54  \n",
       "1        40.24  \n",
       "2        35.52  \n",
       "3        32.77  \n",
       "4        31.38  "
      ]
     },
     "execution_count": 4,
     "metadata": {},
     "output_type": "execute_result"
    }
   ],
   "source": [
    "#добавим столбец с суммарными продажами и проверим результат\n",
    "\n",
    "df['world_sales'] = df.filter(like='sales').sum(axis=1)\n",
    "df.head()"
   ]
  },
  {
   "cell_type": "markdown",
   "id": "1d518ee8",
   "metadata": {},
   "source": [
    "## Обработка пропусков и преобразование типов данных ##"
   ]
  },
  {
   "cell_type": "markdown",
   "id": "5a85db93",
   "metadata": {},
   "source": [
    "Пропуски в столбце с названием игр можно оставить, так как конкренто названия особую роль не играют, а вот для дальнейшей работы они нам подойдут. Учитывая, что наш анализ будет строиться на группировке по годам для построения прогноза на 2017 год, то строки с пропусками года выпуска мы удалим (их процент небольшой и на общую картину он не повлияет). Что касается пропусков в рейтинге игр, то мы их оставим, так как они составляют большую часть таблицы.\n",
    "\n",
    "Данные пропуски значений могли возникнуть скорее всего из-за технических сбоев при составлени таблицы, потому что такие данные должны быть в открытом доступе. Что касается оценки игр, то здесь также может иметь место фактор определенной границы по количеству голосов, чтобы оценка была основана не на игре одного пользователя."
   ]
  },
  {
   "cell_type": "code",
   "execution_count": 6,
   "id": "7c585807",
   "metadata": {},
   "outputs": [],
   "source": [
    "#удалим строки, в которых пропущенны года издания игр и жанры с названиями\n",
    "\n",
    "df = df.dropna(subset=['year_of_release'])\n",
    "df = df.dropna(subset=['genre'])"
   ]
  },
  {
   "cell_type": "code",
   "execution_count": 7,
   "id": "88885c2a",
   "metadata": {},
   "outputs": [
    {
     "name": "stdout",
     "output_type": "stream",
     "text": [
      "<class 'pandas.core.frame.DataFrame'>\n",
      "Int64Index: 16444 entries, 0 to 16714\n",
      "Data columns (total 12 columns):\n",
      " #   Column           Non-Null Count  Dtype  \n",
      "---  ------           --------------  -----  \n",
      " 0   name             16444 non-null  object \n",
      " 1   platform         16444 non-null  object \n",
      " 2   year_of_release  16444 non-null  int32  \n",
      " 3   genre            16444 non-null  object \n",
      " 4   NA_sales         16444 non-null  float64\n",
      " 5   EU_sales         16444 non-null  float64\n",
      " 6   JP_sales         16444 non-null  float64\n",
      " 7   other_sales      16444 non-null  float64\n",
      " 8   critic_score     7983 non-null   float64\n",
      " 9   user_score       9839 non-null   object \n",
      " 10  rating           9768 non-null   object \n",
      " 11  world_sales      16444 non-null  float64\n",
      "dtypes: float64(6), int32(1), object(5)\n",
      "memory usage: 1.6+ MB\n"
     ]
    }
   ],
   "source": [
    "#преобразует типы данных\n",
    "\n",
    "df['year_of_release'] = df['year_of_release'].astype('int')\n",
    "df.info()"
   ]
  },
  {
   "cell_type": "code",
   "execution_count": 8,
   "id": "a9ccc5d8",
   "metadata": {},
   "outputs": [
    {
     "data": {
      "text/plain": [
       "tbd    2376\n",
       "7.8     322\n",
       "8       285\n",
       "8.2     276\n",
       "8.3     252\n",
       "       ... \n",
       "1.1       2\n",
       "1.9       2\n",
       "9.6       2\n",
       "0         1\n",
       "9.7       1\n",
       "Name: user_score, Length: 96, dtype: int64"
      ]
     },
     "execution_count": 8,
     "metadata": {},
     "output_type": "execute_result"
    }
   ],
   "source": [
    "df['user_score'].value_counts()"
   ]
  },
  {
   "cell_type": "markdown",
   "id": "574bdfbd",
   "metadata": {},
   "source": [
    "В столбце user_score мы видим очень много оценок tbd (в переводе на русский язык, \"подлежит уточнению\"). Заменим их на NaN, чтобы можно было производить операции с этим столбцом."
   ]
  },
  {
   "cell_type": "code",
   "execution_count": 9,
   "id": "975b4087",
   "metadata": {},
   "outputs": [
    {
     "name": "stdout",
     "output_type": "stream",
     "text": [
      "<class 'pandas.core.frame.DataFrame'>\n",
      "Int64Index: 16444 entries, 0 to 16714\n",
      "Data columns (total 12 columns):\n",
      " #   Column           Non-Null Count  Dtype  \n",
      "---  ------           --------------  -----  \n",
      " 0   name             16444 non-null  object \n",
      " 1   platform         16444 non-null  object \n",
      " 2   year_of_release  16444 non-null  int32  \n",
      " 3   genre            16444 non-null  object \n",
      " 4   NA_sales         16444 non-null  float64\n",
      " 5   EU_sales         16444 non-null  float64\n",
      " 6   JP_sales         16444 non-null  float64\n",
      " 7   other_sales      16444 non-null  float64\n",
      " 8   critic_score     7983 non-null   float64\n",
      " 9   user_score       7463 non-null   float64\n",
      " 10  rating           9768 non-null   object \n",
      " 11  world_sales      16444 non-null  float64\n",
      "dtypes: float64(7), int32(1), object(4)\n",
      "memory usage: 1.6+ MB\n"
     ]
    }
   ],
   "source": [
    "df.loc[df['user_score'] == 'tbd','user_score'] = np.nan\n",
    "df['user_score'] = df['user_score'].astype('float')\n",
    "df.info()"
   ]
  },
  {
   "cell_type": "code",
   "execution_count": 10,
   "id": "5ca61873",
   "metadata": {},
   "outputs": [
    {
     "data": {
      "text/plain": [
       "name               0.000000\n",
       "platform           0.000000\n",
       "year_of_release    0.000000\n",
       "genre              0.000000\n",
       "NA_sales           0.000000\n",
       "EU_sales           0.000000\n",
       "JP_sales           0.000000\n",
       "other_sales        0.000000\n",
       "critic_score       0.514534\n",
       "user_score         0.546157\n",
       "rating             0.405984\n",
       "world_sales        0.000000\n",
       "dtype: float64"
      ]
     },
     "execution_count": 10,
     "metadata": {},
     "output_type": "execute_result"
    }
   ],
   "source": [
    "#посмотрим на пропуски в столбцах\n",
    "\n",
    "df.isna().mean()"
   ]
  },
  {
   "cell_type": "code",
   "execution_count": 11,
   "id": "58d94def",
   "metadata": {},
   "outputs": [
    {
     "data": {
      "text/html": [
       "<div>\n",
       "<style scoped>\n",
       "    .dataframe tbody tr th:only-of-type {\n",
       "        vertical-align: middle;\n",
       "    }\n",
       "\n",
       "    .dataframe tbody tr th {\n",
       "        vertical-align: top;\n",
       "    }\n",
       "\n",
       "    .dataframe thead th {\n",
       "        text-align: right;\n",
       "    }\n",
       "</style>\n",
       "<table border=\"1\" class=\"dataframe\">\n",
       "  <thead>\n",
       "    <tr style=\"text-align: right;\">\n",
       "      <th></th>\n",
       "      <th>name</th>\n",
       "      <th>platform</th>\n",
       "      <th>year_of_release</th>\n",
       "      <th>genre</th>\n",
       "      <th>NA_sales</th>\n",
       "      <th>EU_sales</th>\n",
       "      <th>JP_sales</th>\n",
       "      <th>other_sales</th>\n",
       "      <th>critic_score</th>\n",
       "      <th>user_score</th>\n",
       "      <th>rating</th>\n",
       "      <th>world_sales</th>\n",
       "    </tr>\n",
       "  </thead>\n",
       "  <tbody>\n",
       "    <tr>\n",
       "      <th>0</th>\n",
       "      <td>Wii Sports</td>\n",
       "      <td>Wii</td>\n",
       "      <td>2006</td>\n",
       "      <td>Sports</td>\n",
       "      <td>41.36</td>\n",
       "      <td>28.96</td>\n",
       "      <td>3.77</td>\n",
       "      <td>8.45</td>\n",
       "      <td>76.0</td>\n",
       "      <td>8.0</td>\n",
       "      <td>E</td>\n",
       "      <td>82.54</td>\n",
       "    </tr>\n",
       "    <tr>\n",
       "      <th>1</th>\n",
       "      <td>Super Mario Bros.</td>\n",
       "      <td>NES</td>\n",
       "      <td>1985</td>\n",
       "      <td>Platform</td>\n",
       "      <td>29.08</td>\n",
       "      <td>3.58</td>\n",
       "      <td>6.81</td>\n",
       "      <td>0.77</td>\n",
       "      <td>NaN</td>\n",
       "      <td>NaN</td>\n",
       "      <td>no rating</td>\n",
       "      <td>40.24</td>\n",
       "    </tr>\n",
       "    <tr>\n",
       "      <th>2</th>\n",
       "      <td>Mario Kart Wii</td>\n",
       "      <td>Wii</td>\n",
       "      <td>2008</td>\n",
       "      <td>Racing</td>\n",
       "      <td>15.68</td>\n",
       "      <td>12.76</td>\n",
       "      <td>3.79</td>\n",
       "      <td>3.29</td>\n",
       "      <td>82.0</td>\n",
       "      <td>8.3</td>\n",
       "      <td>E</td>\n",
       "      <td>35.52</td>\n",
       "    </tr>\n",
       "    <tr>\n",
       "      <th>3</th>\n",
       "      <td>Wii Sports Resort</td>\n",
       "      <td>Wii</td>\n",
       "      <td>2009</td>\n",
       "      <td>Sports</td>\n",
       "      <td>15.61</td>\n",
       "      <td>10.93</td>\n",
       "      <td>3.28</td>\n",
       "      <td>2.95</td>\n",
       "      <td>80.0</td>\n",
       "      <td>8.0</td>\n",
       "      <td>E</td>\n",
       "      <td>32.77</td>\n",
       "    </tr>\n",
       "    <tr>\n",
       "      <th>4</th>\n",
       "      <td>Pokemon Red/Pokemon Blue</td>\n",
       "      <td>GB</td>\n",
       "      <td>1996</td>\n",
       "      <td>Role-Playing</td>\n",
       "      <td>11.27</td>\n",
       "      <td>8.89</td>\n",
       "      <td>10.22</td>\n",
       "      <td>1.00</td>\n",
       "      <td>NaN</td>\n",
       "      <td>NaN</td>\n",
       "      <td>no rating</td>\n",
       "      <td>31.38</td>\n",
       "    </tr>\n",
       "  </tbody>\n",
       "</table>\n",
       "</div>"
      ],
      "text/plain": [
       "                       name platform  year_of_release         genre  NA_sales  \\\n",
       "0                Wii Sports      Wii             2006        Sports     41.36   \n",
       "1         Super Mario Bros.      NES             1985      Platform     29.08   \n",
       "2            Mario Kart Wii      Wii             2008        Racing     15.68   \n",
       "3         Wii Sports Resort      Wii             2009        Sports     15.61   \n",
       "4  Pokemon Red/Pokemon Blue       GB             1996  Role-Playing     11.27   \n",
       "\n",
       "   EU_sales  JP_sales  other_sales  critic_score  user_score     rating  \\\n",
       "0     28.96      3.77         8.45          76.0         8.0          E   \n",
       "1      3.58      6.81         0.77           NaN         NaN  no rating   \n",
       "2     12.76      3.79         3.29          82.0         8.3          E   \n",
       "3     10.93      3.28         2.95          80.0         8.0          E   \n",
       "4      8.89     10.22         1.00           NaN         NaN  no rating   \n",
       "\n",
       "   world_sales  \n",
       "0        82.54  \n",
       "1        40.24  \n",
       "2        35.52  \n",
       "3        32.77  \n",
       "4        31.38  "
      ]
     },
     "execution_count": 11,
     "metadata": {},
     "output_type": "execute_result"
    }
   ],
   "source": [
    "#заполним пропуски в столбце rating\n",
    "\n",
    "df['rating'] = df['rating'].fillna('no rating')\n",
    "df.head()"
   ]
  },
  {
   "cell_type": "markdown",
   "id": "0f7ffb6b",
   "metadata": {},
   "source": [
    "## Вывод ##\n",
    "\n",
    "Мы заменили названия столбцов, обработали пропуски и привели данные к необходимым форматам. Теперь мы готовы приступать к анализу! "
   ]
  },
  {
   "cell_type": "markdown",
   "id": "b729460c",
   "metadata": {},
   "source": [
    "# Исследовательский анализ данных #\n",
    "\n",
    "## Структура исследовательского анализа ##\n",
    "\n",
    "На данном этапе нам необходимо:\n",
    "- посмотреть, сколько игр выпускалось в разные годы;\n",
    "- посмотреть, как менялись продажи по платформам;\n",
    "- выбрать платформы с наибольшими суммарными продажами и построить распределение по годам;\n",
    "- выбрать несколько потенциально прибыльных платформ;\n",
    "- посмотреть, как влияют на продажи внутри одной популярной платформы отзывы пользователей и критиков;\n",
    "- построить диаграмму рассеяния и посчитать корреляцию между отзывами и продажами;\n",
    "- сформулировать выводы."
   ]
  },
  {
   "cell_type": "markdown",
   "id": "06ac4ffc",
   "metadata": {},
   "source": [
    "## Количество выпущенных игр в год ##"
   ]
  },
  {
   "cell_type": "code",
   "execution_count": 12,
   "id": "74c1d768",
   "metadata": {},
   "outputs": [
    {
     "data": {
      "text/plain": [
       "<AxesSubplot:title={'center':'Количество выпущенных игр в год'}, xlabel='year_of_release', ylabel='Количество игр'>"
      ]
     },
     "execution_count": 12,
     "metadata": {},
     "output_type": "execute_result"
    },
    {
     "data": {
      "image/png": "[encoded data removed]",
      "text/plain": [
       "<Figure size 1440x288 with 1 Axes>"
      ]
     },
     "metadata": {
      "needs_background": "light"
     },
     "output_type": "display_data"
    }
   ],
   "source": [
    "#сгруппируем ланные по годам выпуска\n",
    "\n",
    "plt.title('Количество выпущенных игр в год')\n",
    "\n",
    "plt.xlabel('Год выпуска')\n",
    "plt.ylabel('Количество игр')\n",
    "\n",
    "df.groupby('year_of_release')['name'].count().plot(kind='bar', figsize=(20,4))"
   ]
  },
  {
   "cell_type": "markdown",
   "id": "a1fb05c2",
   "metadata": {},
   "source": [
    "Отсортировав таблицу по количеству выпущенных игр в разные годы мы видим, что зависимости количества игр конкретно от года нет и также не прослеживается общей тенденции. Однако можно отметить, что в за опеределенные промежутки времени выпускается приблизительно одинаковое количество игр. Также можно предположить, что определенным фактором может служить выход (или же отсрочка выхода) консоли новго поколения. "
   ]
  },
  {
   "cell_type": "markdown",
   "id": "a826cbe2",
   "metadata": {},
   "source": [
    "## Продажи по платформам ##"
   ]
  },
  {
   "cell_type": "code",
   "execution_count": 13,
   "id": "fd5abcd5",
   "metadata": {
    "scrolled": true
   },
   "outputs": [
    {
     "data": {
      "text/plain": [
       "<AxesSubplot:title={'center':'Платформы с наибольшими суммарными продажами'}, xlabel='platform', ylabel='Суммарные продажи'>"
      ]
     },
     "execution_count": 13,
     "metadata": {},
     "output_type": "execute_result"
    },
    {
     "data": {
      "image/png": "[encoded data removed]",
      "text/plain": [
       "<Figure size 1440x432 with 1 Axes>"
      ]
     },
     "metadata": {
      "needs_background": "light"
     },
     "output_type": "display_data"
    }
   ],
   "source": [
    "#найдем платформы с наибольшими суммарными продажами\n",
    "\n",
    "plt.title('Платформы с наибольшими суммарными продажами')\n",
    "\n",
    "plt.xlabel('Платформа')\n",
    "plt.ylabel('Суммарные продажи')\n",
    "\n",
    "df.groupby('platform')['world_sales'].sum().sort_values().plot.bar(figsize=(20,6))"
   ]
  },
  {
   "cell_type": "markdown",
   "id": "ced9a712",
   "metadata": {},
   "source": [
    "В топ продаж попали платформы не самого последнего поколения. Посмотрим на графики распределения самых популярных платформ и выберем актуаьлный период. "
   ]
  },
  {
   "cell_type": "markdown",
   "id": "15b7c23d",
   "metadata": {},
   "source": [
    "## Графики распределения самых популярных платформ ##"
   ]
  },
  {
   "cell_type": "code",
   "execution_count": 14,
   "id": "90e71b35",
   "metadata": {},
   "outputs": [
    {
     "data": {
      "image/png": "[encoded data removed]",
      "text/plain": [
       "<Figure size 1080x1080 with 6 Axes>"
      ]
     },
     "metadata": {
      "needs_background": "light"
     },
     "output_type": "display_data"
    }
   ],
   "source": [
    "position = 1\n",
    "platforms = ['PS', 'DS', 'Wii', 'X360', 'PS2', 'PS3']\n",
    "plt.figure(figsize=(15, 15))\n",
    "plt.tight_layout()\n",
    "\n",
    "for pristavka in platforms:\n",
    "    plt.subplot(3, 2, position)\n",
    "    df.query('platform == @pristavka').groupby(['year_of_release', 'platform'])['world_sales'].sum().plot.bar()\n",
    "    plt.title(pristavka)\n",
    "    plt.xlabel('Год')\n",
    "    plt.ylabel('Продажи')\n",
    "    position += 1\n",
    "        \n",
    "plt.tight_layout()    "
   ]
  },
  {
   "cell_type": "markdown",
   "id": "8cdb26cb",
   "metadata": {},
   "source": [
    "### Промежуточный вывод ###"
   ]
  },
  {
   "cell_type": "markdown",
   "id": "c135dcb7",
   "metadata": {},
   "source": [
    "На графиках видно, что платформы существуют от 10 до 12 лет, а пик продаж приходится в основном на 3-6 года с момента релиза консоли. Также, учитывая, что платформы нового поколения различных фирм выходят одновременно, можно проследить закономерность продаж от выхода по конслои PS.\n",
    "\n",
    "Первая консоль PS вышла в 1994 году, и пик игровых продаж приходится на 1997-1999 года. В 2000 году выходит PS2, в результате чего уже в этом году продажи игр на PS падают, а PS2 соответственно растут. Аналогичная ситуация происходит и со следующей весией продукта: в год выхода PS3 (2006).\n",
    "\n",
    "Мы знаем, что PS4 вышла в конце 2013 года. На графике PS3 прослеживается соотвествующее падение продаж, начиная с 2014. Можно предположить, что следющие несколько лет станут пиками по продажам игр на PS4 и соотвественно на платформах 8-го поколения. Однако окончательный вывод сделаем после проверки всех данных."
   ]
  },
  {
   "cell_type": "markdown",
   "id": "9d867bfe",
   "metadata": {},
   "source": [
    "## Обновленная статистика ##"
   ]
  },
  {
   "cell_type": "markdown",
   "id": "9cc1e279",
   "metadata": {},
   "source": [
    "Изучив статистику выхода консолей, мы возьмем данные за последние 4 года - вторую половину предположительного периода \"плодотворной жизни\" консоли одного поколения, - так как именно эти данные помогут нам построить прогноз на 2017 год."
   ]
  },
  {
   "cell_type": "code",
   "execution_count": 15,
   "id": "3d999077",
   "metadata": {},
   "outputs": [
    {
     "data": {
      "text/plain": [
       "platform\n",
       "PS4     314.14\n",
       "PS3     181.43\n",
       "XOne    159.32\n",
       "3DS     143.25\n",
       "X360    136.80\n",
       "WiiU     64.63\n",
       "PC       39.43\n",
       "PSV      32.99\n",
       "Wii      13.66\n",
       "PSP       3.50\n",
       "DS        1.54\n",
       "Name: world_sales, dtype: float64"
      ]
     },
     "execution_count": 15,
     "metadata": {},
     "output_type": "execute_result"
    }
   ],
   "source": [
    "#создадим таблицу с актуальными данными (за последние семь лет) и\n",
    "#посчитаем суммарные продажи на различных платформах\n",
    "\n",
    "df_newest = df.query('year_of_release >= 2013')\n",
    "df_newest.groupby('platform')['world_sales'].sum().sort_values(ascending=False)"
   ]
  },
  {
   "cell_type": "markdown",
   "id": "f456ffbc",
   "metadata": {},
   "source": [
    "Мы можем сделать вывод, что платформами с наибольишими суммарными продажами являются PS3 и X360. Также прослеживатся закономерность, что с выходом новой консоли (в нашем случае PS4 и XOne) продажи на старых версиях будут постепенно падать, а на новых - наоборот расти.\n",
    "\n",
    "Построим дополнительные графики, чтобы посмотреть, как ведут себя и сколько \"прожили\" топ-5 платформ за последние 7 лет."
   ]
  },
  {
   "cell_type": "markdown",
   "id": "00a5bbef",
   "metadata": {},
   "source": [
    "## Актуальные продажи платформ ##"
   ]
  },
  {
   "cell_type": "code",
   "execution_count": 16,
   "id": "612a1f74",
   "metadata": {},
   "outputs": [
    {
     "data": {
      "text/plain": [
       "<AxesSubplot:xlabel='platform'>"
      ]
     },
     "execution_count": 16,
     "metadata": {},
     "output_type": "execute_result"
    },
    {
     "data": {
      "image/png": "[encoded data removed]",
      "text/plain": [
       "<Figure size 432x288 with 1 Axes>"
      ]
     },
     "metadata": {
      "needs_background": "light"
     },
     "output_type": "display_data"
    }
   ],
   "source": [
    "#выберем платформы с наибольшим количеством продаж за последнее время\n",
    "\n",
    "df_newest.groupby('platform')['world_sales'].sum().sort_values().plot.bar()"
   ]
  },
  {
   "cell_type": "markdown",
   "id": "e31b205c",
   "metadata": {},
   "source": [
    "В лидерах по продажам находятся PS4, PS3, XOne, 3DS и X360. Построим графики продаж для этих платформ. "
   ]
  },
  {
   "cell_type": "code",
   "execution_count": 17,
   "id": "af04819e",
   "metadata": {},
   "outputs": [
    {
     "data": {
      "image/png": "[encoded data removed]",
      "text/plain": [
       "<Figure size 1080x1440 with 5 Axes>"
      ]
     },
     "metadata": {
      "needs_background": "light"
     },
     "output_type": "display_data"
    }
   ],
   "source": [
    "#построим графики остальных моделей, попавших в наш список\n",
    "\n",
    "position = 1\n",
    "platforms = ['X360', '3DS', 'XOne', 'PS3', 'PS4']\n",
    "plt.figure(figsize=(15, 20))\n",
    "\n",
    "for pristavka in platforms:\n",
    "    plt.subplot(3, 2, position)\n",
    "    df_newest.query('platform == @pristavka').groupby(['year_of_release', 'platform'])['world_sales'].sum().plot.bar()\n",
    "    plt.title(pristavka)\n",
    "    plt.xlabel('Год')\n",
    "    plt.ylabel('Продажи')\n",
    "    position += 1"
   ]
  },
  {
   "cell_type": "markdown",
   "id": "7972c6ca",
   "metadata": {},
   "source": [
    "На графиках мы видим динамику продаж самых популярных платформ. У PS3, 3DS и X360 эта динамика нисходящая, следовательно, на эти платформы рассчитывать не стоит.\n",
    "\n",
    "С другой стороны, мы видим положительную динамику на платформах PS4 и XOne. Поэтому остановимся именно на них!"
   ]
  },
  {
   "cell_type": "markdown",
   "id": "1d671290",
   "metadata": {},
   "source": [
    "## \"Ящик с усами\" преположительных лидеров ##"
   ]
  },
  {
   "cell_type": "code",
   "execution_count": 18,
   "id": "250f91f1",
   "metadata": {},
   "outputs": [
    {
     "data": {
      "text/plain": [
       "Text(0, 0.5, 'Продажи')"
      ]
     },
     "execution_count": 18,
     "metadata": {},
     "output_type": "execute_result"
    },
    {
     "data": {
      "image/png": "[encoded data removed]",
      "text/plain": [
       "<Figure size 1080x504 with 1 Axes>"
      ]
     },
     "metadata": {
      "needs_background": "light"
     },
     "output_type": "display_data"
    }
   ],
   "source": [
    "#построим график «ящик с усами» по глобальным продажам игр в разбивке по отобранным нами двум платформам.\n",
    "plt.figure(figsize=(15, 7))\n",
    "\n",
    "sns.boxplot(x = 'platform',  y = 'world_sales', data = df_newest)\n",
    "\n",
    "plt.title('График распределения продаж')\n",
    "plt.xlabel('Платформы')\n",
    "plt.ylabel('Продажи')"
   ]
  },
  {
   "cell_type": "code",
   "execution_count": 19,
   "id": "193d918c",
   "metadata": {},
   "outputs": [
    {
     "data": {
      "image/png": "[encoded data removed]",
      "text/plain": [
       "<Figure size 1080x504 with 1 Axes>"
      ]
     },
     "metadata": {
      "needs_background": "light"
     },
     "output_type": "display_data"
    }
   ],
   "source": [
    "#построим график «ящик с усами» по глобальным продажам игр в разбивке по отобранным нами двум платформам.\n",
    "plt.figure(figsize=(15, 7))\n",
    "\n",
    "sns.boxplot(x = 'platform',  y = 'world_sales', data = df_newest)\n",
    "\n",
    "plt.title('График распределения продаж')\n",
    "plt.xlabel('Платформы')\n",
    "plt.ylabel('Продажи')\n",
    "plt.ylim([0, 2]);"
   ]
  },
  {
   "cell_type": "markdown",
   "id": "304e56d0",
   "metadata": {},
   "source": [
    "По графикам видно, что в продажах очень много значений, которые являются выбросами. Однако в нашем случае это означает, что имеется большое количество дорогих продаж."
   ]
  },
  {
   "cell_type": "markdown",
   "id": "127096ef",
   "metadata": {},
   "source": [
    "## Зависимость продаж от отзывов ##"
   ]
  },
  {
   "cell_type": "markdown",
   "id": "d861c528",
   "metadata": {},
   "source": [
    "Теперь посмотрим, как влияют на продажи внутри одной популярной платформы отзывы пользователей и критиков."
   ]
  },
  {
   "cell_type": "code",
   "execution_count": 20,
   "id": "e036eda2",
   "metadata": {},
   "outputs": [
    {
     "data": {
      "image/png": "[encoded data removed]",
      "text/plain": [
       "<Figure size 432x288 with 1 Axes>"
      ]
     },
     "metadata": {
      "needs_background": "light"
     },
     "output_type": "display_data"
    },
    {
     "data": {
      "text/plain": [
       "Text(0, 0.5, 'Продажи')"
      ]
     },
     "execution_count": 20,
     "metadata": {},
     "output_type": "execute_result"
    },
    {
     "data": {
      "image/png": "[encoded data removed]",
      "text/plain": [
       "<Figure size 432x288 with 1 Axes>"
      ]
     },
     "metadata": {
      "needs_background": "light"
     },
     "output_type": "display_data"
    }
   ],
   "source": [
    "#построим диаграмму рассеяния и посчитаем корреляцию между отзывами и продажами\n",
    "\n",
    "df_xone = df_newest.query('platform == \"XOne\"')\n",
    "plt.scatter(x=df_xone['critic_score'], y=df_xone['world_sales'])\n",
    "plt.title('Диаграмма рейтинга критиков')\n",
    "plt.xlabel('Оценка')\n",
    "plt.ylabel('Продажи')\n",
    "plt.show()\n",
    "\n",
    "plt.scatter(x=df_xone['user_score'], y=df_xone['world_sales'])\n",
    "plt.title('Диаграмма рейтинга пользователей')\n",
    "plt.xlabel('Оценка')\n",
    "plt.ylabel('Продажи')"
   ]
  },
  {
   "cell_type": "code",
   "execution_count": 21,
   "id": "41bc7663",
   "metadata": {},
   "outputs": [
    {
     "data": {
      "text/plain": [
       "critic_score    0.416998\n",
       "user_score     -0.068925\n",
       "dtype: float64"
      ]
     },
     "execution_count": 21,
     "metadata": {},
     "output_type": "execute_result"
    }
   ],
   "source": [
    "\n",
    "df_xone[['critic_score', 'user_score']].corrwith(df_xone['world_sales'])"
   ]
  },
  {
   "cell_type": "code",
   "execution_count": 22,
   "id": "7881bfff",
   "metadata": {},
   "outputs": [
    {
     "data": {
      "image/png": "[encoded data removed]",
      "text/plain": [
       "<Figure size 432x288 with 1 Axes>"
      ]
     },
     "metadata": {
      "needs_background": "light"
     },
     "output_type": "display_data"
    },
    {
     "data": {
      "text/plain": [
       "Text(0, 0.5, 'Продажи')"
      ]
     },
     "execution_count": 22,
     "metadata": {},
     "output_type": "execute_result"
    },
    {
     "data": {
      "image/png": "[encoded data removed]",
      "text/plain": [
       "<Figure size 432x288 with 1 Axes>"
      ]
     },
     "metadata": {
      "needs_background": "light"
     },
     "output_type": "display_data"
    }
   ],
   "source": [
    "df_ps = df_newest.query('platform == \"PS4\"')\n",
    "plt.scatter(x=df_ps['critic_score'], y=df_ps['world_sales'])\n",
    "plt.title('Диаграмма рейтинга критиков')\n",
    "plt.xlabel('Оценка')\n",
    "plt.ylabel('Продажи')\n",
    "plt.show()\n",
    "\n",
    "plt.scatter(x=df_ps['user_score'], y=df_ps['world_sales'])\n",
    "plt.title('Диаграмма рейтинга пользователей')\n",
    "plt.xlabel('Оценка')\n",
    "plt.ylabel('Продажи')"
   ]
  },
  {
   "cell_type": "code",
   "execution_count": 23,
   "id": "44a05c9c",
   "metadata": {},
   "outputs": [
    {
     "data": {
      "text/plain": [
       "critic_score    0.406568\n",
       "user_score     -0.031957\n",
       "dtype: float64"
      ]
     },
     "execution_count": 23,
     "metadata": {},
     "output_type": "execute_result"
    }
   ],
   "source": [
    "df_ps[['critic_score', 'user_score']].corrwith(df_ps['world_sales'])"
   ]
  },
  {
   "cell_type": "code",
   "execution_count": 24,
   "id": "fc2d3db0",
   "metadata": {},
   "outputs": [
    {
     "data": {
      "text/plain": [
       "<AxesSubplot:>"
      ]
     },
     "execution_count": 24,
     "metadata": {},
     "output_type": "execute_result"
    },
    {
     "data": {
      "image/png": "[encoded data removed]",
      "text/plain": [
       "<Figure size 432x432 with 2 Axes>"
      ]
     },
     "metadata": {
      "needs_background": "light"
     },
     "output_type": "display_data"
    }
   ],
   "source": [
    "plt.figure(figsize=(6,6))\n",
    "sns.heatmap(df_newest[df_newest['platform'] == 'PS4'][['world_sales', 'critic_score', 'user_score']].corr(), annot=True, fmt='.2f')  "
   ]
  },
  {
   "cell_type": "markdown",
   "id": "5d69c471",
   "metadata": {},
   "source": [
    "На даиграммах видно, что есть небольшая прямая взаимосвязь между отзывами критиков и продажами, чего не скажешь о связи оценок пользовалей с продажами."
   ]
  },
  {
   "cell_type": "markdown",
   "id": "754d33c3",
   "metadata": {},
   "source": [
    "## Сравнение по общим показателям ##"
   ]
  },
  {
   "cell_type": "markdown",
   "id": "c22e0ee5",
   "metadata": {},
   "source": [
    "Сравним выводы по отобранным нами платформам с общей статистикой."
   ]
  },
  {
   "cell_type": "code",
   "execution_count": 25,
   "id": "40af31e2",
   "metadata": {},
   "outputs": [
    {
     "name": "stdout",
     "output_type": "stream",
     "text": [
      "PS3 коэффициент корреляции: 0.3342853393371919\n",
      "X360 коэффициент корреляции: 0.3503445460228664\n",
      "PS4 коэффициент корреляции: 0.40656790206178095\n",
      "3DS коэффициент корреляции: 0.3570566142288103\n",
      "XOne коэффициент корреляции: 0.4169983280084017\n",
      "WiiU коэффициент корреляции: 0.3764149065423912\n",
      "Wii коэффициент корреляции: nan\n",
      "PC коэффициент корреляции: 0.19603028294369382\n",
      "PSV коэффициент корреляции: 0.2547423503068656\n",
      "DS коэффициент корреляции: nan\n",
      "PSP коэффициент корреляции: nan\n"
     ]
    },
    {
     "name": "stderr",
     "output_type": "stream",
     "text": [
      "C:\\Users\\Vlados\\anaconda3\\lib\\site-packages\\numpy\\lib\\function_base.py:2634: RuntimeWarning: Degrees of freedom <= 0 for slice\n",
      "  c = cov(x, y, rowvar, dtype=dtype)\n",
      "C:\\Users\\Vlados\\anaconda3\\lib\\site-packages\\numpy\\lib\\function_base.py:2493: RuntimeWarning: divide by zero encountered in true_divide\n",
      "  c *= np.true_divide(1, fact)\n"
     ]
    }
   ],
   "source": [
    "#создадим список уникальных платформ\n",
    "\n",
    "platforms = df_newest['platform'].unique()\n",
    "\n",
    "#напишем цикл, для определения корреляции по каждой платформе\n",
    "\n",
    "for platform in platforms:\n",
    "    correlation = df_newest.query('platform == @platform')\n",
    "    print(platform,'коэффициент корреляции:',correlation['critic_score'].corr(correlation['world_sales']))"
   ]
  },
  {
   "cell_type": "code",
   "execution_count": 26,
   "id": "acafd33d",
   "metadata": {},
   "outputs": [
    {
     "name": "stdout",
     "output_type": "stream",
     "text": [
      "PS3 коэффициент корреляции: 0.0023944027357566925\n",
      "X360 коэффициент корреляции: -0.011742185147181342\n",
      "PS4 коэффициент корреляции: -0.031957110204556424\n",
      "3DS коэффициент корреляции: 0.24150411773563016\n",
      "XOne коэффициент корреляции: -0.06892505328279414\n",
      "WiiU коэффициент корреляции: 0.4193304819266187\n",
      "Wii коэффициент корреляции: 0.6829417215362368\n",
      "PC коэффициент корреляции: -0.0938418695247674\n",
      "PSV коэффициент корреляции: 0.0009424723319108626\n",
      "DS коэффициент корреляции: nan\n",
      "PSP коэффициент корреляции: -0.9999999999999999\n"
     ]
    }
   ],
   "source": [
    "for platform in platforms:\n",
    "    correlation = df_newest.query('platform == @platform')\n",
    "    print(platform,'коэффициент корреляции:',correlation['user_score'].corr(correlation['world_sales']))"
   ]
  },
  {
   "cell_type": "markdown",
   "id": "dfc877c1",
   "metadata": {},
   "source": [
    "### Вывод ###\n",
    "\n",
    "На большинстве платформ наблюдается незначительная корреляция между оценкой критиков и продажами, а также отсутствие взаимосвязи между оценкой пользователей и продажами."
   ]
  },
  {
   "cell_type": "markdown",
   "id": "731533eb",
   "metadata": {},
   "source": [
    "## Зависимость продаж от жанров ##"
   ]
  },
  {
   "cell_type": "code",
   "execution_count": 27,
   "id": "06624d19",
   "metadata": {},
   "outputs": [
    {
     "data": {
      "text/plain": [
       "Text(0, 0.5, 'Продажи')"
      ]
     },
     "execution_count": 27,
     "metadata": {},
     "output_type": "execute_result"
    },
    {
     "data": {
      "image/png": "[encoded data removed]",
      "text/plain": [
       "<Figure size 1080x504 with 1 Axes>"
      ]
     },
     "metadata": {
      "needs_background": "light"
     },
     "output_type": "display_data"
    }
   ],
   "source": [
    "#посмотрим, зависят ли продажи игр от жанров\n",
    "\n",
    "plt.figure(figsize=(15, 7))\n",
    "\n",
    "df_newest.groupby(['genre'])['world_sales'].sum().sort_values(ascending=False).plot.bar()\n",
    "plt.title('Зависимость продажи игр от жанров')\n",
    "plt.xlabel('Жанры')\n",
    "plt.ylabel('Продажи')"
   ]
  },
  {
   "cell_type": "markdown",
   "id": "fbd638c5",
   "metadata": {},
   "source": [
    "Да, взаимосвязь жанра с объемом продаж есть. Самыми популярными жанрами являются экшны и шутеры. Последние места занимают паззлы и стратегии."
   ]
  },
  {
   "cell_type": "markdown",
   "id": "9bb66744",
   "metadata": {},
   "source": [
    "## Вывод ##\n",
    "\n",
    "В результате исследовательского анализа мы определили актуальный период (2010-2016гг), а также продолжительность жизни платформ (10-12 лет).\n",
    "\n",
    "Платформами с наибольишими суммарными продажами являются PS3 и X360, однако их продажи прошли пиковые показатели и стремятся к нулю. Также прослеживатся закономерность, что продажи PS4 и XOne будут постепенно расти.\n",
    "\n",
    "Что касается зависимости продаж от отзывов, то такая закономерность слабо прослеживается только в отношении отзывов критиков.\n",
    "\n",
    "Также мы о пределили зависимость продаж от жанров."
   ]
  },
  {
   "cell_type": "markdown",
   "id": "64e7d9c3",
   "metadata": {},
   "source": [
    "# Портрет пользователя каждого региона #\n",
    "\n",
    "## Структура формирования портрета пользователя региона ##\n",
    "\n",
    "Определим для пользователя каждого региона:\n",
    "\n",
    "    • определение самых популярных платформ (топ-5);\n",
    "    • определение самых популярных жанров (топ-5);\n",
    "    • влияние рейтинга ESRB на продажи в отдельном регионе."
   ]
  },
  {
   "cell_type": "markdown",
   "id": "e18ade23",
   "metadata": {},
   "source": [
    "## Самые популярные платформы ##"
   ]
  },
  {
   "cell_type": "code",
   "execution_count": 28,
   "id": "669a69fb",
   "metadata": {},
   "outputs": [
    {
     "data": {
      "text/plain": [
       "platform\n",
       "PS4     0.248429\n",
       "XOne    0.212744\n",
       "X360    0.186562\n",
       "PS3     0.145073\n",
       "3DS     0.087272\n",
       "WiiU    0.066734\n",
       "PC      0.025382\n",
       "Wii     0.014987\n",
       "PSV     0.011514\n",
       "DS      0.001302\n",
       "PSP     0.000000\n",
       "Name: share_of_sales, dtype: float64"
      ]
     },
     "execution_count": 28,
     "metadata": {},
     "output_type": "execute_result"
    }
   ],
   "source": [
    "#посмотрим на самые популярные платформы в каждом из регионов\n",
    "\n",
    "df_newest_NA = df_newest.pivot_table(index='platform', values='NA_sales', aggfunc='sum')\n",
    "df_newest_NA_total = df_newest_NA['NA_sales'].sum()\n",
    "df_newest_NA['share_of_sales'] = df_newest_NA['NA_sales'] / df_newest_NA_total\n",
    "df_newest_NA['share_of_sales'].sort_values(ascending=False)"
   ]
  },
  {
   "cell_type": "code",
   "execution_count": 29,
   "id": "36c8a7e9",
   "metadata": {},
   "outputs": [
    {
     "data": {
      "text/plain": [
       "platform\n",
       "PS4     0.359712\n",
       "PS3     0.172883\n",
       "XOne    0.131530\n",
       "X360    0.108406\n",
       "3DS     0.078933\n",
       "PC      0.064656\n",
       "WiiU    0.050608\n",
       "PSV     0.015552\n",
       "Wii     0.015119\n",
       "DS      0.002167\n",
       "PSP     0.000433\n",
       "Name: share_of_sales, dtype: float64"
      ]
     },
     "execution_count": 29,
     "metadata": {},
     "output_type": "execute_result"
    }
   ],
   "source": [
    "df_newest_EU = df_newest.pivot_table(index='platform', values='EU_sales', aggfunc='sum')\n",
    "df_newest_EU_total = df_newest_EU['EU_sales'].sum()\n",
    "df_newest_EU['share_of_sales'] = df_newest_EU['EU_sales'] / df_newest_EU_total\n",
    "df_newest_EU['share_of_sales'].sort_values(ascending=False)"
   ]
  },
  {
   "cell_type": "code",
   "execution_count": 30,
   "id": "5f4096e9",
   "metadata": {},
   "outputs": [
    {
     "data": {
      "text/plain": [
       "platform\n",
       "3DS     0.481674\n",
       "PS3     0.165862\n",
       "PSV     0.132050\n",
       "PS4     0.113368\n",
       "WiiU    0.077284\n",
       "PSP     0.023370\n",
       "X360    0.003623\n",
       "XOne    0.002415\n",
       "Wii     0.000355\n",
       "DS      0.000000\n",
       "PC      0.000000\n",
       "Name: share_of_sales, dtype: float64"
      ]
     },
     "execution_count": 30,
     "metadata": {},
     "output_type": "execute_result"
    }
   ],
   "source": [
    "df_newest_JP = df_newest.pivot_table(index='platform', values='JP_sales', aggfunc='sum')\n",
    "df_newest_JP_total = df_newest_JP['JP_sales'].sum()\n",
    "df_newest_JP['share_of_sales'] = df_newest_JP['JP_sales'] / df_newest_JP_total\n",
    "df_newest_JP['share_of_sales'].sort_values(ascending=False)"
   ]
  },
  {
   "cell_type": "markdown",
   "id": "8db22697",
   "metadata": {},
   "source": [
    "### Вывод ###\n",
    "\n",
    "Основными платформами в Северной Америке X360, PS3, Wii, PS4 и XOne. В Европе же раскалад немного другой, там больше предпочитают производителя Sony и игры на PC: PS3, X360, PS4, PC и Wii. Картина с Японией достаточно сильно отличается ввиду определенного притяжения к портативным приставкам и отличия культуры и вкусов от Северной Америки и Европы, их топ-5 следующий: 3DS, ps3, psp, DS и PSV."
   ]
  },
  {
   "cell_type": "markdown",
   "id": "1be6a60c",
   "metadata": {},
   "source": [
    "# Жанры и регионы #"
   ]
  },
  {
   "cell_type": "code",
   "execution_count": 32,
   "id": "c439b5e3",
   "metadata": {
    "scrolled": true
   },
   "outputs": [
    {
     "data": {
      "text/plain": [
       "<Figure size 1080x504 with 0 Axes>"
      ]
     },
     "metadata": {},
     "output_type": "display_data"
    },
    {
     "data": {
      "image/png": "[encoded data removed]",
      "text/plain": [
       "<Figure size 1080x288 with 2 Axes>"
      ]
     },
     "metadata": {
      "needs_background": "light"
     },
     "output_type": "display_data"
    },
    {
     "data": {
      "image/png": "[encoded data removed]",
      "text/plain": [
       "<Figure size 1080x288 with 2 Axes>"
      ]
     },
     "metadata": {
      "needs_background": "light"
     },
     "output_type": "display_data"
    },
    {
     "data": {
      "image/png": "[encoded data removed]",
      "text/plain": [
       "<Figure size 1080x288 with 2 Axes>"
      ]
     },
     "metadata": {
      "needs_background": "light"
     },
     "output_type": "display_data"
    }
   ],
   "source": [
    "regions = ['NA_sales', 'EU_sales', 'JP_sales']\n",
    "plt.figure(figsize=(15, 7))\n",
    "\n",
    "for region in regions:\n",
    "    #position = 0\n",
    "    fig, axes = plt.subplots(1,2,figsize=(15,4))\n",
    "    df_newest.groupby('genre')[region].sum().sort_values(ascending=False)[0:5].plot.bar(ax=axes[0])\n",
    "    plt.title(region)\n",
    "    plt.xlabel('Жанр')\n",
    "    plt.ylabel('Продажи')\n",
    "    #plt.show()\n",
    "    \n",
    "    #position += 1\n",
    "    df_newest.groupby('platform')[region].sum().sort_values(ascending=False)[0:5].plot.bar(ax=axes[1])\n",
    "    plt.title(region)\n",
    "    plt.xlabel('Платформы')\n",
    "    plt.ylabel('Продажи')\n",
    "    plt.show()"
   ]
  },
  {
   "cell_type": "markdown",
   "id": "eedca878",
   "metadata": {},
   "source": [
    "### Вывод ###\n",
    "\n",
    "Топ-5 жанров в Европе и Северной Америке схожи: там в основном играют в экшн, шутеры, споритвные симуляторы, ролевые или миск. Как ни странно, топ-5 жанров, предпочитаемых в Японии, отличается. Он состоит из ролевых, экшна, миска, платформенных и приключенеских игр. Такое различие в предпочтениях можно объяснить разностью культур и предпочтений. Северная Америка и Европа похожи в этом плане между собой, чего не скажешь о Японии.   "
   ]
  },
  {
   "cell_type": "markdown",
   "id": "9ba1d5bf",
   "metadata": {},
   "source": [
    "## Влияние рейтинга ESRB ##"
   ]
  },
  {
   "cell_type": "code",
   "execution_count": 33,
   "id": "92d1829f",
   "metadata": {},
   "outputs": [
    {
     "data": {
      "text/plain": [
       "<AxesSubplot:xlabel='rating'>"
      ]
     },
     "execution_count": 33,
     "metadata": {},
     "output_type": "execute_result"
    },
    {
     "data": {
      "image/png": "[encoded data removed]",
      "text/plain": [
       "<Figure size 432x288 with 1 Axes>"
      ]
     },
     "metadata": {
      "needs_background": "light"
     },
     "output_type": "display_data"
    }
   ],
   "source": [
    "#сравним рейтинг ESRB\n",
    "\n",
    "df_newest.groupby('rating')['NA_sales'].sum().sort_values(ascending=False).plot(kind='bar')"
   ]
  },
  {
   "cell_type": "code",
   "execution_count": 34,
   "id": "e4c48ca3",
   "metadata": {},
   "outputs": [
    {
     "data": {
      "text/plain": [
       "<AxesSubplot:xlabel='rating'>"
      ]
     },
     "execution_count": 34,
     "metadata": {},
     "output_type": "execute_result"
    },
    {
     "data": {
      "image/png": "[encoded data removed]",
      "text/plain": [
       "<Figure size 432x288 with 1 Axes>"
      ]
     },
     "metadata": {
      "needs_background": "light"
     },
     "output_type": "display_data"
    }
   ],
   "source": [
    "df_newest.groupby('rating')['EU_sales'].sum().sort_values(ascending=False).plot(kind='bar')"
   ]
  },
  {
   "cell_type": "code",
   "execution_count": 35,
   "id": "31a03456",
   "metadata": {},
   "outputs": [
    {
     "data": {
      "text/plain": [
       "<AxesSubplot:xlabel='rating'>"
      ]
     },
     "execution_count": 35,
     "metadata": {},
     "output_type": "execute_result"
    },
    {
     "data": {
      "image/png": "[encoded data removed]",
      "text/plain": [
       "<Figure size 432x288 with 1 Axes>"
      ]
     },
     "metadata": {
      "needs_background": "light"
     },
     "output_type": "display_data"
    }
   ],
   "source": [
    "df_newest.groupby('rating')['JP_sales'].sum().sort_values(ascending=False).plot(kind='bar')"
   ]
  },
  {
   "cell_type": "markdown",
   "id": "6c4bdd38",
   "metadata": {},
   "source": [
    "### Вывод ###\n",
    "\n",
    "Аналогично прошлым показателям, рейтинги в Северной Америке и Европе схожи, и пользователи предпочитают игры 18+ или без ограничения по возрасу. В свою очередь, Япония отличается большим количеством игр, рейтинг которых не определен.  "
   ]
  },
  {
   "cell_type": "markdown",
   "id": "75c25ce1",
   "metadata": {},
   "source": [
    "## Общий вывод ##\n",
    "\n",
    "- Основными платформами в Северной Америке X360, PS3, Wii, PS4 и XOne. В Европе же раскалад немного другой, там больше предпочитают производителя Sony и игры на PC: PS3, X360, PS4, PC и Wii. Картина с Японией достаточно сильно отличается ввиду определенного притяжения к портативным приставкам и отличия культуры и вкусов от Северной Америки и Европы, их топ-5 следующий: 3DS, ps3, psp, DS и PSV.\n",
    "- Топ-5 жанров в Европе и Северной Америке схожи: там в основном играют в экшн, шутеры, споритвные симуляторы, ролевые или миск. Как ни странно, топ-5 жанров, предпочитаемых в Японии, отличается. Он состоит из ролевых, экшна, миска, платформенных и приключенеских игр. Такое различие в предпочтениях можно объяснить разностью культур и предпочтений. Северная Америка и Европа похожи в этом плане между собой, чего не скажешь о Японии.\n",
    "- Аналогично прошлым показателям, рейтинги в Северной Америке и Европе схожи. В свою очередь, Япония отличается большим количеством игр без определенного рейтинга."
   ]
  },
  {
   "cell_type": "markdown",
   "id": "b273d5f1",
   "metadata": {},
   "source": [
    "# Проверка гипотез #\n",
    "\n",
    "## Выдвижение гипотез ##\n",
    "\n",
    "Нам были поставлены задачи сравнить средние пользовательские рейтинги платформ Xbox One и PC, а также\n",
    "средние пользовательские рейтинги жанров Action (англ. «действие», экшен-игры) и Sports (англ. «спортивные соревнования»).\n",
    "\n",
    "Исходя из наших задач, выдвенем нулевые и альтернативные гипотезы (мы помним, что в нулевой гипотезе всегда должен быть знак \"равно\"):\n",
    "\n",
    "    • средние пользовательские рейтинги платформ Xbox One и PC равны друг другу;\n",
    "    • средние пользовательские рейтинги платформ Xbox One и PC не равны друг другу;\n",
    "\n",
    "    • средние пользовательские рейтинги жанров Action и Sports равны;\n",
    "    • средние пользовательские рейтинги жанров Action и Sports разные."
   ]
  },
  {
   "cell_type": "markdown",
   "id": "fe0f88a4",
   "metadata": {},
   "source": [
    "## Проверка первой гипотезы ##"
   ]
  },
  {
   "cell_type": "code",
   "execution_count": 36,
   "id": "c8b43fca",
   "metadata": {},
   "outputs": [
    {
     "name": "stdout",
     "output_type": "stream",
     "text": [
      "1.9069968429360702\n",
      "3.035892752408884\n"
     ]
    }
   ],
   "source": [
    "#проверим первую гипотезу о равенстве пользовательского рейтинга платформ XOne и PC\n",
    "\n",
    "alpha = 0.05\n",
    "\n",
    "xone = df_newest[(df_newest['platform'] == 'XOne') & (df_newest['user_score'] > 0)]['user_score']\n",
    "pc = df_newest[(df_newest['platform'] == 'PC') & (df_newest['user_score'] > 0)]['user_score']\n",
    "\n",
    "print(xone.var(ddof=1))\n",
    "print(pc.var(ddof=1))"
   ]
  },
  {
   "cell_type": "code",
   "execution_count": 37,
   "id": "eae18fdc",
   "metadata": {},
   "outputs": [
    {
     "name": "stdout",
     "output_type": "stream",
     "text": [
      "p-значение: 0.14759594013430463\n",
      "Не получилось отвергнуть нулевую гипотезу\n"
     ]
    }
   ],
   "source": [
    "#мы используем функцию st.ttest_ind(), потому что сравниваем две средние значения,\n",
    "#так как диперсии наших выборок различаются,\n",
    "#то значение параметра equal_var укажем как False\n",
    "\n",
    "results = st.ttest_ind(xone, pc, equal_var = False)\n",
    "print('p-значение:', results.pvalue)\n",
    "\n",
    "if results.pvalue < alpha:\n",
    "    print(\"Отвергаем нулевую гипотезу\")\n",
    "else:\n",
    "    print(\"Не получилось отвергнуть нулевую гипотезу\")"
   ]
  },
  {
   "cell_type": "markdown",
   "id": "ad902d8a",
   "metadata": {},
   "source": [
    "## Проверка второй гипотезы ##"
   ]
  },
  {
   "cell_type": "code",
   "execution_count": 38,
   "id": "a70e5290",
   "metadata": {},
   "outputs": [
    {
     "name": "stdout",
     "output_type": "stream",
     "text": [
      "1.76936090424827\n",
      "3.1806128144654062\n"
     ]
    }
   ],
   "source": [
    "#проведем аналогичную работу со вротой гипотезой\n",
    "\n",
    "alpha = 0.05\n",
    "\n",
    "action = df_newest[(df_newest['genre'] == 'Action') & (df_newest['user_score'] > 0)]['user_score']\n",
    "sports = df_newest[(df_newest['genre'] == 'Sports') & (df_newest['user_score'] > 0)]['user_score']\n",
    "\n",
    "print(action.var(ddof=1))\n",
    "print(sports.var(ddof=1))"
   ]
  },
  {
   "cell_type": "code",
   "execution_count": 39,
   "id": "8f4bc3d4",
   "metadata": {},
   "outputs": [
    {
     "name": "stdout",
     "output_type": "stream",
     "text": [
      "p-значение: 1.4460039700704315e-20\n",
      "Отвергаем нулевую гипотезу\n"
     ]
    }
   ],
   "source": [
    "results = st.ttest_ind(action, sports, equal_var = False)\n",
    "print('p-значение:', results.pvalue)\n",
    "\n",
    "if results.pvalue < alpha:\n",
    "    print(\"Отвергаем нулевую гипотезу\")\n",
    "else:\n",
    "    print(\"Не получилось отвергнуть нулевую гипотезу\")"
   ]
  },
  {
   "cell_type": "markdown",
   "id": "1ca7c53c",
   "metadata": {},
   "source": [
    "## Вывод ##\n",
    "\n",
    "Мы проверили две гипотезы, в результате чего можем сказать следующее:\n",
    "\n",
    "- мы отвергаем гипотезу о том, что пользовательские рейтинги платформ Xbox One и PC равны друг другу;\n",
    "- также мы отвергаем гипотезу о равности средних пользовательских рейтингов жанров Action и Sports."
   ]
  },
  {
   "cell_type": "markdown",
   "id": "d39d5278",
   "metadata": {},
   "source": [
    "# Итоговый вывод #"
   ]
  },
  {
   "cell_type": "markdown",
   "id": "3fc90430",
   "metadata": {},
   "source": [
    "Мы провели большую работу, в результате которой можем сформулировать логическое заключение.\n",
    "\n",
    "Наше исследование относится к актуальному периоду (2010-2016гг). Платформами с наибольишими суммарными продажами являются PS3 и X360, однако они прошли пиковые показатели и стремятся к нулю. Также прослеживатся закономерность, что продажи PS4 и XOne будут расти в следующие годы, исходя из статистики \"жизни платформы одного поколения\".\n",
    "\n",
    "Что касается зависимости продаж от отзывов, то такая закономерность слабо прослеживается только в отношении отзывов критиков.\n",
    "\n",
    "Основными платформами в Северной Америке и Европе являются X360, PS3, Wii, PS4 и XOne. В Европе же раскалад немного другой, там больше предпочитают производителя Sony и игры на PC: PS3, X360, PS4, PC и Wii. Картина с Японией достаточно сильно отличается ввиду определенного притяжения к портативным приставкам и отличия культуры и вкусов от Северной Америки и Европы, их топ-5 следующий: 3DS, ps3, psp, DS и PSV. Исходя из данных о промежутках пиков-и-спадов продаж, актуальными платформами на 2017 год можно считать платформы 8-го поколения: 3DS (ориентируясь на Японию), PS4 и XOne. \n",
    "\n",
    "Топ-5 жанров в Европе и Северной Америке схожи: там в основном играют в экшн, шутеры, споритвные симуляторы, ролевые или миск. Как ни странно, топ-5 жанров, предпочитаемых в Японии, отличается. Он состоит из ролевых, экшна, миска, платформенных и приключенеских игр. Такое различие в также объясняется различием культур и предпочтений.\n",
    "\n",
    "Рейтинг ESRB игр в Северной Америке и Европе схожи, и пользователи предпочитают игры 18+ или без ограничения по возрасу. В свою очередь, Япония отличается большим количеством игр, рейтинг которых не определен.\n",
    "\n",
    "Мы проверили две гипотезы, в результате чего можем сказать, что:\n",
    "- мы отвергаем гипотезу о том, что пользовательские рейтинги платформ Xbox One и PC равны друг другу;\n",
    "- однако не может отвергнуть гипотезу о равности средних пользовательских рейтингов жанров Action и Sports.\n",
    "\n",
    "Определив закономерности успешности игры мы можем предположить, что потенциально популярными продуктами в 2017 году будут:\n",
    "\n",
    "- экшен-игры и шутеры на платформах PS4 и XOne в Европе и Северной Америке с ограничениями 18+ или без них;\n",
    "- в Японии следует сделать ставку на ролевые и экшен-игры на платформе 3DS."
   ]
  }
 ],
 "metadata": {
  "ExecuteTimeLog": [
   {
    "duration": 1096,
    "start_time": "2022-03-03T15:46:08.188Z"
   },
   {
    "duration": 89,
    "start_time": "2022-03-03T15:46:09.285Z"
   },
   {
    "duration": 7,
    "start_time": "2022-03-03T15:46:09.380Z"
   },
   {
    "duration": 18,
    "start_time": "2022-03-03T15:46:09.388Z"
   },
   {
    "duration": 39,
    "start_time": "2022-03-03T15:46:09.408Z"
   },
   {
    "duration": 12,
    "start_time": "2022-03-03T15:46:09.449Z"
   },
   {
    "duration": 7,
    "start_time": "2022-03-03T15:46:09.466Z"
   },
   {
    "duration": 15,
    "start_time": "2022-03-03T15:46:09.475Z"
   },
   {
    "duration": 8,
    "start_time": "2022-03-03T15:46:09.492Z"
   },
   {
    "duration": 48,
    "start_time": "2022-03-03T15:46:09.501Z"
   },
   {
    "duration": 392,
    "start_time": "2022-03-03T15:46:09.550Z"
   },
   {
    "duration": 397,
    "start_time": "2022-03-03T15:46:09.944Z"
   },
   {
    "duration": 204,
    "start_time": "2022-03-03T15:46:10.343Z"
   },
   {
    "duration": 202,
    "start_time": "2022-03-03T15:46:10.548Z"
   },
   {
    "duration": 207,
    "start_time": "2022-03-03T15:46:10.751Z"
   },
   {
    "duration": 230,
    "start_time": "2022-03-03T15:46:10.959Z"
   },
   {
    "duration": 301,
    "start_time": "2022-03-03T15:46:11.190Z"
   },
   {
    "duration": 211,
    "start_time": "2022-03-03T15:46:11.493Z"
   },
   {
    "duration": 11,
    "start_time": "2022-03-03T15:46:11.705Z"
   },
   {
    "duration": 210,
    "start_time": "2022-03-03T15:46:11.718Z"
   },
   {
    "duration": 174,
    "start_time": "2022-03-03T15:46:11.930Z"
   },
   {
    "duration": 169,
    "start_time": "2022-03-03T15:46:12.108Z"
   },
   {
    "duration": 181,
    "start_time": "2022-03-03T15:46:12.279Z"
   },
   {
    "duration": 184,
    "start_time": "2022-03-03T15:46:12.463Z"
   },
   {
    "duration": 161,
    "start_time": "2022-03-03T15:46:12.649Z"
   },
   {
    "duration": 151,
    "start_time": "2022-03-03T15:46:12.812Z"
   },
   {
    "duration": 7,
    "start_time": "2022-03-03T15:46:12.965Z"
   },
   {
    "duration": 554,
    "start_time": "2022-03-03T15:46:12.974Z"
   },
   {
    "duration": 13,
    "start_time": "2022-03-03T15:46:13.530Z"
   },
   {
    "duration": 594,
    "start_time": "2022-03-03T15:46:13.545Z"
   },
   {
    "duration": 8,
    "start_time": "2022-03-03T15:46:14.140Z"
   },
   {
    "duration": 45,
    "start_time": "2022-03-03T15:46:14.150Z"
   },
   {
    "duration": 52,
    "start_time": "2022-03-03T15:46:14.196Z"
   },
   {
    "duration": 7,
    "start_time": "2022-03-03T15:46:14.249Z"
   },
   {
    "duration": 124,
    "start_time": "2022-03-03T15:46:14.257Z"
   },
   {
    "duration": 28,
    "start_time": "2022-03-03T15:46:14.383Z"
   },
   {
    "duration": 22,
    "start_time": "2022-03-03T15:46:14.412Z"
   },
   {
    "duration": 17,
    "start_time": "2022-03-03T15:46:14.436Z"
   },
   {
    "duration": 19,
    "start_time": "2022-03-03T15:46:14.455Z"
   },
   {
    "duration": 32,
    "start_time": "2022-03-03T15:46:14.476Z"
   },
   {
    "duration": 173,
    "start_time": "2022-03-03T15:46:14.510Z"
   },
   {
    "duration": 173,
    "start_time": "2022-03-03T15:46:14.685Z"
   },
   {
    "duration": 180,
    "start_time": "2022-03-03T15:46:14.860Z"
   },
   {
    "duration": 12,
    "start_time": "2022-03-03T15:46:15.042Z"
   },
   {
    "duration": 37,
    "start_time": "2022-03-03T15:46:15.056Z"
   },
   {
    "duration": 26,
    "start_time": "2022-03-03T15:46:15.096Z"
   },
   {
    "duration": 11,
    "start_time": "2022-03-03T15:46:15.123Z"
   },
   {
    "duration": 5,
    "start_time": "2022-03-03T15:57:47.645Z"
   },
   {
    "duration": 16,
    "start_time": "2022-03-03T15:58:09.505Z"
   },
   {
    "duration": 8,
    "start_time": "2022-03-03T15:58:26.524Z"
   },
   {
    "duration": 7,
    "start_time": "2022-03-03T15:59:07.975Z"
   },
   {
    "duration": 15,
    "start_time": "2022-03-03T16:01:15.641Z"
   },
   {
    "duration": 8,
    "start_time": "2022-03-03T16:06:08.839Z"
   },
   {
    "duration": 4,
    "start_time": "2022-03-03T16:06:23.728Z"
   },
   {
    "duration": 8,
    "start_time": "2022-03-03T16:07:14.273Z"
   },
   {
    "duration": 5,
    "start_time": "2022-03-03T16:07:18.289Z"
   },
   {
    "duration": 4,
    "start_time": "2022-03-03T16:27:05.595Z"
   },
   {
    "duration": 18,
    "start_time": "2022-03-03T16:28:18.309Z"
   },
   {
    "duration": 21,
    "start_time": "2022-03-03T16:28:36.405Z"
   },
   {
    "duration": 258,
    "start_time": "2022-03-03T16:29:33.761Z"
   },
   {
    "duration": 422,
    "start_time": "2022-03-03T16:29:56.639Z"
   },
   {
    "duration": 502,
    "start_time": "2022-03-03T16:30:02.618Z"
   },
   {
    "duration": 327,
    "start_time": "2022-03-03T16:30:28.989Z"
   },
   {
    "duration": 1613,
    "start_time": "2022-03-03T16:31:15.731Z"
   },
   {
    "duration": 211,
    "start_time": "2022-03-03T16:31:36.286Z"
   },
   {
    "duration": 1431,
    "start_time": "2022-03-06T11:39:59.385Z"
   },
   {
    "duration": 134,
    "start_time": "2022-03-06T11:40:00.819Z"
   },
   {
    "duration": 8,
    "start_time": "2022-03-06T11:40:00.956Z"
   },
   {
    "duration": 36,
    "start_time": "2022-03-06T11:40:00.967Z"
   },
   {
    "duration": 8,
    "start_time": "2022-03-06T11:40:01.005Z"
   },
   {
    "duration": 43,
    "start_time": "2022-03-06T11:40:01.016Z"
   },
   {
    "duration": 16,
    "start_time": "2022-03-06T11:40:01.061Z"
   },
   {
    "duration": 12,
    "start_time": "2022-03-06T11:40:01.081Z"
   },
   {
    "duration": 47,
    "start_time": "2022-03-06T11:40:01.096Z"
   },
   {
    "duration": 15,
    "start_time": "2022-03-06T11:40:01.152Z"
   },
   {
    "duration": 31,
    "start_time": "2022-03-06T11:40:01.170Z"
   },
   {
    "duration": 653,
    "start_time": "2022-03-06T11:40:01.204Z"
   },
   {
    "duration": 846,
    "start_time": "2022-03-06T11:40:01.860Z"
   },
   {
    "duration": 3170,
    "start_time": "2022-03-06T11:40:02.709Z"
   },
   {
    "duration": 13,
    "start_time": "2022-03-06T11:40:05.881Z"
   },
   {
    "duration": 392,
    "start_time": "2022-03-06T11:40:05.897Z"
   },
   {
    "duration": 1419,
    "start_time": "2022-03-06T11:40:06.292Z"
   },
   {
    "duration": 614,
    "start_time": "2022-03-06T11:40:07.714Z"
   },
   {
    "duration": 810,
    "start_time": "2022-03-06T11:40:08.331Z"
   },
   {
    "duration": 11,
    "start_time": "2022-03-06T11:40:09.151Z"
   },
   {
    "duration": 795,
    "start_time": "2022-03-06T11:40:09.165Z"
   },
   {
    "duration": 12,
    "start_time": "2022-03-06T11:40:09.962Z"
   },
   {
    "duration": 472,
    "start_time": "2022-03-06T11:40:09.979Z"
   },
   {
    "duration": 49,
    "start_time": "2022-03-06T11:40:10.454Z"
   },
   {
    "duration": 73,
    "start_time": "2022-03-06T11:40:10.505Z"
   },
   {
    "duration": 555,
    "start_time": "2022-03-06T11:40:10.581Z"
   },
   {
    "duration": 30,
    "start_time": "2022-03-06T11:40:11.139Z"
   },
   {
    "duration": 19,
    "start_time": "2022-03-06T11:40:11.172Z"
   },
   {
    "duration": 19,
    "start_time": "2022-03-06T11:40:11.193Z"
   },
   {
    "duration": 2210,
    "start_time": "2022-03-06T11:40:11.214Z"
   },
   {
    "duration": 265,
    "start_time": "2022-03-06T11:40:13.426Z"
   },
   {
    "duration": 263,
    "start_time": "2022-03-06T11:40:13.693Z"
   },
   {
    "duration": 265,
    "start_time": "2022-03-06T11:40:13.959Z"
   },
   {
    "duration": 26,
    "start_time": "2022-03-06T11:40:14.226Z"
   },
   {
    "duration": 9,
    "start_time": "2022-03-06T11:40:14.254Z"
   },
   {
    "duration": 16,
    "start_time": "2022-03-06T11:40:14.265Z"
   },
   {
    "duration": 6,
    "start_time": "2022-03-06T11:40:14.283Z"
   },
   {
    "duration": 2249,
    "start_time": "2022-03-06T11:40:33.157Z"
   },
   {
    "duration": 2096,
    "start_time": "2022-03-06T11:40:51.451Z"
   },
   {
    "duration": 1916,
    "start_time": "2022-03-06T11:41:11.523Z"
   },
   {
    "duration": 3528,
    "start_time": "2022-03-06T11:41:18.428Z"
   },
   {
    "duration": 2608,
    "start_time": "2022-03-06T11:41:32.059Z"
   },
   {
    "duration": 3242,
    "start_time": "2022-03-06T11:42:41.910Z"
   },
   {
    "duration": 1233,
    "start_time": "2022-03-06T11:43:25.213Z"
   },
   {
    "duration": 3254,
    "start_time": "2022-03-06T11:43:32.981Z"
   },
   {
    "duration": 1031,
    "start_time": "2022-03-06T11:45:24.292Z"
   },
   {
    "duration": 269,
    "start_time": "2022-03-06T11:45:36.741Z"
   },
   {
    "duration": 1942,
    "start_time": "2022-03-06T11:45:56.942Z"
   },
   {
    "duration": 4068,
    "start_time": "2022-03-06T11:46:19.598Z"
   },
   {
    "duration": 2853,
    "start_time": "2022-03-06T11:46:59.898Z"
   },
   {
    "duration": 3572,
    "start_time": "2022-03-06T11:48:47.385Z"
   },
   {
    "duration": 3426,
    "start_time": "2022-03-06T11:49:51.325Z"
   },
   {
    "duration": 2632,
    "start_time": "2022-03-06T11:50:00.456Z"
   },
   {
    "duration": 2903,
    "start_time": "2022-03-06T11:50:17.878Z"
   },
   {
    "duration": 5873,
    "start_time": "2022-03-06T11:53:15.305Z"
   },
   {
    "duration": 3150,
    "start_time": "2022-03-06T11:53:53.643Z"
   },
   {
    "duration": 3111,
    "start_time": "2022-03-06T11:54:02.765Z"
   },
   {
    "duration": 595,
    "start_time": "2022-03-06T11:58:04.566Z"
   },
   {
    "duration": 724,
    "start_time": "2022-03-06T11:58:11.778Z"
   },
   {
    "duration": 917,
    "start_time": "2022-03-06T11:58:18.099Z"
   },
   {
    "duration": 2359,
    "start_time": "2022-03-06T12:01:47.574Z"
   },
   {
    "duration": 1386,
    "start_time": "2022-03-06T12:01:56.187Z"
   },
   {
    "duration": 1447,
    "start_time": "2022-03-06T12:04:19.289Z"
   },
   {
    "duration": 2127,
    "start_time": "2022-03-06T12:04:27.460Z"
   },
   {
    "duration": 1718,
    "start_time": "2022-03-06T12:04:33.162Z"
   },
   {
    "duration": 2106,
    "start_time": "2022-03-06T12:04:43.863Z"
   },
   {
    "duration": 1406,
    "start_time": "2022-03-06T12:14:01.293Z"
   },
   {
    "duration": 388,
    "start_time": "2022-03-06T14:51:40.654Z"
   },
   {
    "duration": 1639,
    "start_time": "2022-03-06T14:51:47.036Z"
   },
   {
    "duration": 133,
    "start_time": "2022-03-06T14:51:48.678Z"
   },
   {
    "duration": 9,
    "start_time": "2022-03-06T14:51:48.834Z"
   },
   {
    "duration": 32,
    "start_time": "2022-03-06T14:51:48.847Z"
   },
   {
    "duration": 8,
    "start_time": "2022-03-06T14:51:48.883Z"
   },
   {
    "duration": 57,
    "start_time": "2022-03-06T14:51:48.894Z"
   },
   {
    "duration": 15,
    "start_time": "2022-03-06T14:51:48.954Z"
   },
   {
    "duration": 12,
    "start_time": "2022-03-06T14:51:48.973Z"
   },
   {
    "duration": 62,
    "start_time": "2022-03-06T14:51:48.988Z"
   },
   {
    "duration": 14,
    "start_time": "2022-03-06T14:51:49.053Z"
   },
   {
    "duration": 22,
    "start_time": "2022-03-06T14:51:49.070Z"
   },
   {
    "duration": 689,
    "start_time": "2022-03-06T14:51:49.094Z"
   },
   {
    "duration": 701,
    "start_time": "2022-03-06T14:51:49.785Z"
   },
   {
    "duration": 3263,
    "start_time": "2022-03-06T14:51:50.488Z"
   },
   {
    "duration": 16,
    "start_time": "2022-03-06T14:51:53.754Z"
   },
   {
    "duration": 436,
    "start_time": "2022-03-06T14:51:53.773Z"
   },
   {
    "duration": 1401,
    "start_time": "2022-03-06T14:51:54.211Z"
   },
   {
    "duration": 714,
    "start_time": "2022-03-06T14:51:55.614Z"
   },
   {
    "duration": 738,
    "start_time": "2022-03-06T14:51:56.332Z"
   },
   {
    "duration": 819,
    "start_time": "2022-03-06T14:51:57.073Z"
   },
   {
    "duration": 11,
    "start_time": "2022-03-06T14:51:57.894Z"
   },
   {
    "duration": 1058,
    "start_time": "2022-03-06T14:51:57.908Z"
   },
   {
    "duration": 13,
    "start_time": "2022-03-06T14:51:58.974Z"
   },
   {
    "duration": 472,
    "start_time": "2022-03-06T14:51:58.990Z"
   },
   {
    "duration": 74,
    "start_time": "2022-03-06T14:51:59.465Z"
   },
   {
    "duration": 57,
    "start_time": "2022-03-06T14:51:59.541Z"
   },
   {
    "duration": 536,
    "start_time": "2022-03-06T14:51:59.600Z"
   },
   {
    "duration": 26,
    "start_time": "2022-03-06T14:52:00.139Z"
   },
   {
    "duration": 34,
    "start_time": "2022-03-06T14:52:00.168Z"
   },
   {
    "duration": 37,
    "start_time": "2022-03-06T14:52:00.204Z"
   },
   {
    "duration": 2488,
    "start_time": "2022-03-06T14:52:00.244Z"
   },
   {
    "duration": 1715,
    "start_time": "2022-03-06T14:52:02.734Z"
   },
   {
    "duration": 276,
    "start_time": "2022-03-06T14:52:04.452Z"
   },
   {
    "duration": 318,
    "start_time": "2022-03-06T14:52:04.733Z"
   },
   {
    "duration": 287,
    "start_time": "2022-03-06T14:52:05.054Z"
   },
   {
    "duration": 13,
    "start_time": "2022-03-06T14:52:05.344Z"
   },
   {
    "duration": 12,
    "start_time": "2022-03-06T14:52:05.360Z"
   },
   {
    "duration": 14,
    "start_time": "2022-03-06T14:52:05.375Z"
   },
   {
    "duration": 44,
    "start_time": "2022-03-06T14:52:05.392Z"
   }
  ],
  "kernelspec": {
   "display_name": "Python 3 (ipykernel)",
   "language": "python",
   "name": "python3"
  },
  "language_info": {
   "codemirror_mode": {
    "name": "ipython",
    "version": 3
   },
   "file_extension": ".py",
   "mimetype": "text/x-python",
   "name": "python",
   "nbconvert_exporter": "python",
   "pygments_lexer": "ipython3",
   "version": "3.9.7"
  },
  "toc": {
   "base_numbering": 1,
   "nav_menu": {},
   "number_sections": true,
   "sideBar": true,
   "skip_h1_title": false,
   "title_cell": "Table of Contents",
   "title_sidebar": "Contents",
   "toc_cell": false,
   "toc_position": {
    "height": "calc(100% - 180px)",
    "left": "10px",
    "top": "150px",
    "width": "303.837px"
   },
   "toc_section_display": true,
   "toc_window_display": true
  }
 },
 "nbformat": 4,
 "nbformat_minor": 5
}
