{
 "cells": [
  {
   "cell_type": "markdown",
   "metadata": {
    "toc": true
   },
   "source": [
    "<h1>Содержание<span class=\"tocSkip\"></span></h1>\n",
    "<div class=\"toc\"><ul class=\"toc-item\"><li><span><a href=\"#Изучение-данных-из-файла\" data-toc-modified-id=\"Изучение-данных-из-файла-1\"><span class=\"toc-item-num\">1&nbsp;&nbsp;</span>Изучение данных из файла</a></span><ul class=\"toc-item\"><li><span><a href=\"#Вывод\" data-toc-modified-id=\"Вывод-1.1\"><span class=\"toc-item-num\">1.1&nbsp;&nbsp;</span>Вывод</a></span></li></ul></li><li><span><a href=\"#Предобработка-данных\" data-toc-modified-id=\"Предобработка-данных-2\"><span class=\"toc-item-num\">2&nbsp;&nbsp;</span>Предобработка данных</a></span></li><li><span><a href=\"#Расчёты-и-добавление-результатов-в-таблицу\" data-toc-modified-id=\"Расчёты-и-добавление-результатов-в-таблицу-3\"><span class=\"toc-item-num\">3&nbsp;&nbsp;</span>Расчёты и добавление результатов в таблицу</a></span></li><li><span><a href=\"#Исследовательский-анализ-данных\" data-toc-modified-id=\"Исследовательский-анализ-данных-4\"><span class=\"toc-item-num\">4&nbsp;&nbsp;</span>Исследовательский анализ данных</a></span><ul class=\"toc-item\"><li><span><a href=\"#👀-Комментарий-ревьюера\" data-toc-modified-id=\"👀-Комментарий-ревьюера-4.1\"><span class=\"toc-item-num\">4.1&nbsp;&nbsp;</span>👀 Комментарий ревьюера</a></span></li><li><span><a href=\"#Комментарий-студента\" data-toc-modified-id=\"Комментарий-студента-4.2\"><span class=\"toc-item-num\">4.2&nbsp;&nbsp;</span>Комментарий студента</a></span></li><li><span><a href=\"#✔-Комментарий-ревьюера-V.2\" data-toc-modified-id=\"✔-Комментарий-ревьюера-V.2-4.3\"><span class=\"toc-item-num\">4.3&nbsp;&nbsp;</span>✔ Комментарий ревьюера V.2</a></span></li><li><span><a href=\"#👀-Комментарий-ревьюера\" data-toc-modified-id=\"👀-Комментарий-ревьюера-4.4\"><span class=\"toc-item-num\">4.4&nbsp;&nbsp;</span>👀 Комментарий ревьюера</a></span></li><li><span><a href=\"#Комментарий-студента\" data-toc-modified-id=\"Комментарий-студента-4.5\"><span class=\"toc-item-num\">4.5&nbsp;&nbsp;</span>Комментарий студента</a></span></li><li><span><a href=\"#👀-Комментарий-ревьюера\" data-toc-modified-id=\"👀-Комментарий-ревьюера-4.6\"><span class=\"toc-item-num\">4.6&nbsp;&nbsp;</span>👀 Комментарий ревьюера</a></span></li><li><span><a href=\"#Комментарий-студента\" data-toc-modified-id=\"Комментарий-студента-4.7\"><span class=\"toc-item-num\">4.7&nbsp;&nbsp;</span>Комментарий студента</a></span></li><li><span><a href=\"#✔-Комментарий-ревьюера-V.2\" data-toc-modified-id=\"✔-Комментарий-ревьюера-V.2-4.8\"><span class=\"toc-item-num\">4.8&nbsp;&nbsp;</span>✔ Комментарий ревьюера V.2</a></span></li></ul></li><li><span><a href=\"#Общий-вывод\" data-toc-modified-id=\"Общий-вывод-5\"><span class=\"toc-item-num\">5&nbsp;&nbsp;</span>Общий вывод</a></span></li><li><span><a href=\"#Чек-лист-готовности-проекта\" data-toc-modified-id=\"Чек-лист-готовности-проекта-6\"><span class=\"toc-item-num\">6&nbsp;&nbsp;</span>Чек-лист готовности проекта</a></span></li></ul></div>"
   ]
  },
  {
   "cell_type": "markdown",
   "metadata": {},
   "source": [
    "# Исследование объявлений о продаже квартир\n",
    "\n",
    "В нашем распоряжении данные сервиса Яндекс.Недвижимость — архив объявлений о продаже квартир в Санкт-Петербурге и соседних населённых пунктах за несколько лет. Нужно определить рыночную стоимость объектов недвижимости. Наша задача — установить параметры. Это позволит построить автоматизированную систему: она отследит аномалии и мошенническую деятельность. \n",
    "\n",
    "По каждой квартире на продажу доступны два вида данных. Первые вписаны пользователем, вторые получены автоматически на основе картографических данных. Например, расстояние до центра, аэропорта, ближайшего парка и водоёма. "
   ]
  },
  {
   "cell_type": "markdown",
   "metadata": {},
   "source": [
    "**Цели исследования:**\n",
    "\n",
    "- изучить время продажи квартиры;\n",
    "- убрать редкие и выбивающиеся значения;\n",
    "- определить, какие факторы больше всего влияют на стоимость квартиры;\n",
    "- выделить населённые пункты с самой высокой и низкой стоимостью жилья;\n",
    "- изучить зависимость цены квартиры от удаленности от центра;\n",
    "- сравнить квартиры в центре города с остальным сегментом."
   ]
  },
  {
   "cell_type": "markdown",
   "metadata": {},
   "source": [
    "## Изучение данных из файла"
   ]
  },
  {
   "cell_type": "code",
   "execution_count": 216,
   "metadata": {},
   "outputs": [],
   "source": [
    "#сначала импортируем библиотеки\n",
    "\n",
    "import pandas as pd\n",
    "import matplotlib.pyplot as plt\n",
    "import numpy as np\n",
    "import seaborn as sns\n",
    "from scipy import stats as st"
   ]
  },
  {
   "cell_type": "code",
   "execution_count": 217,
   "metadata": {},
   "outputs": [
    {
     "data": {
      "text/html": [
       "<div>\n",
       "<style scoped>\n",
       "    .dataframe tbody tr th:only-of-type {\n",
       "        vertical-align: middle;\n",
       "    }\n",
       "\n",
       "    .dataframe tbody tr th {\n",
       "        vertical-align: top;\n",
       "    }\n",
       "\n",
       "    .dataframe thead th {\n",
       "        text-align: right;\n",
       "    }\n",
       "</style>\n",
       "<table border=\"1\" class=\"dataframe\">\n",
       "  <thead>\n",
       "    <tr style=\"text-align: right;\">\n",
       "      <th></th>\n",
       "      <th>total_images</th>\n",
       "      <th>last_price</th>\n",
       "      <th>total_area</th>\n",
       "      <th>first_day_exposition</th>\n",
       "      <th>rooms</th>\n",
       "      <th>ceiling_height</th>\n",
       "      <th>floors_total</th>\n",
       "      <th>living_area</th>\n",
       "      <th>floor</th>\n",
       "      <th>is_apartment</th>\n",
       "      <th>studio</th>\n",
       "      <th>open_plan</th>\n",
       "      <th>kitchen_area</th>\n",
       "      <th>balcony</th>\n",
       "      <th>locality_name</th>\n",
       "      <th>airports_nearest</th>\n",
       "      <th>cityCenters_nearest</th>\n",
       "      <th>parks_around3000</th>\n",
       "      <th>parks_nearest</th>\n",
       "      <th>ponds_around3000</th>\n",
       "      <th>ponds_nearest</th>\n",
       "      <th>days_exposition</th>\n",
       "    </tr>\n",
       "  </thead>\n",
       "  <tbody>\n",
       "    <tr>\n",
       "      <th>0</th>\n",
       "      <td>20</td>\n",
       "      <td>13000000.0</td>\n",
       "      <td>108.00</td>\n",
       "      <td>2019-03-07T00:00:00</td>\n",
       "      <td>3</td>\n",
       "      <td>2.70</td>\n",
       "      <td>16.0</td>\n",
       "      <td>51.00</td>\n",
       "      <td>8</td>\n",
       "      <td>NaN</td>\n",
       "      <td>False</td>\n",
       "      <td>False</td>\n",
       "      <td>25.00</td>\n",
       "      <td>NaN</td>\n",
       "      <td>Санкт-Петербург</td>\n",
       "      <td>18863.0</td>\n",
       "      <td>16028.0</td>\n",
       "      <td>1.0</td>\n",
       "      <td>482.0</td>\n",
       "      <td>2.0</td>\n",
       "      <td>755.0</td>\n",
       "      <td>NaN</td>\n",
       "    </tr>\n",
       "    <tr>\n",
       "      <th>1</th>\n",
       "      <td>7</td>\n",
       "      <td>3350000.0</td>\n",
       "      <td>40.40</td>\n",
       "      <td>2018-12-04T00:00:00</td>\n",
       "      <td>1</td>\n",
       "      <td>NaN</td>\n",
       "      <td>11.0</td>\n",
       "      <td>18.60</td>\n",
       "      <td>1</td>\n",
       "      <td>NaN</td>\n",
       "      <td>False</td>\n",
       "      <td>False</td>\n",
       "      <td>11.00</td>\n",
       "      <td>2.0</td>\n",
       "      <td>посёлок Шушары</td>\n",
       "      <td>12817.0</td>\n",
       "      <td>18603.0</td>\n",
       "      <td>0.0</td>\n",
       "      <td>NaN</td>\n",
       "      <td>0.0</td>\n",
       "      <td>NaN</td>\n",
       "      <td>81.0</td>\n",
       "    </tr>\n",
       "    <tr>\n",
       "      <th>2</th>\n",
       "      <td>10</td>\n",
       "      <td>5196000.0</td>\n",
       "      <td>56.00</td>\n",
       "      <td>2015-08-20T00:00:00</td>\n",
       "      <td>2</td>\n",
       "      <td>NaN</td>\n",
       "      <td>5.0</td>\n",
       "      <td>34.30</td>\n",
       "      <td>4</td>\n",
       "      <td>NaN</td>\n",
       "      <td>False</td>\n",
       "      <td>False</td>\n",
       "      <td>8.30</td>\n",
       "      <td>0.0</td>\n",
       "      <td>Санкт-Петербург</td>\n",
       "      <td>21741.0</td>\n",
       "      <td>13933.0</td>\n",
       "      <td>1.0</td>\n",
       "      <td>90.0</td>\n",
       "      <td>2.0</td>\n",
       "      <td>574.0</td>\n",
       "      <td>558.0</td>\n",
       "    </tr>\n",
       "    <tr>\n",
       "      <th>3</th>\n",
       "      <td>0</td>\n",
       "      <td>64900000.0</td>\n",
       "      <td>159.00</td>\n",
       "      <td>2015-07-24T00:00:00</td>\n",
       "      <td>3</td>\n",
       "      <td>NaN</td>\n",
       "      <td>14.0</td>\n",
       "      <td>NaN</td>\n",
       "      <td>9</td>\n",
       "      <td>NaN</td>\n",
       "      <td>False</td>\n",
       "      <td>False</td>\n",
       "      <td>NaN</td>\n",
       "      <td>0.0</td>\n",
       "      <td>Санкт-Петербург</td>\n",
       "      <td>28098.0</td>\n",
       "      <td>6800.0</td>\n",
       "      <td>2.0</td>\n",
       "      <td>84.0</td>\n",
       "      <td>3.0</td>\n",
       "      <td>234.0</td>\n",
       "      <td>424.0</td>\n",
       "    </tr>\n",
       "    <tr>\n",
       "      <th>4</th>\n",
       "      <td>2</td>\n",
       "      <td>10000000.0</td>\n",
       "      <td>100.00</td>\n",
       "      <td>2018-06-19T00:00:00</td>\n",
       "      <td>2</td>\n",
       "      <td>3.03</td>\n",
       "      <td>14.0</td>\n",
       "      <td>32.00</td>\n",
       "      <td>13</td>\n",
       "      <td>NaN</td>\n",
       "      <td>False</td>\n",
       "      <td>False</td>\n",
       "      <td>41.00</td>\n",
       "      <td>NaN</td>\n",
       "      <td>Санкт-Петербург</td>\n",
       "      <td>31856.0</td>\n",
       "      <td>8098.0</td>\n",
       "      <td>2.0</td>\n",
       "      <td>112.0</td>\n",
       "      <td>1.0</td>\n",
       "      <td>48.0</td>\n",
       "      <td>121.0</td>\n",
       "    </tr>\n",
       "    <tr>\n",
       "      <th>5</th>\n",
       "      <td>10</td>\n",
       "      <td>2890000.0</td>\n",
       "      <td>30.40</td>\n",
       "      <td>2018-09-10T00:00:00</td>\n",
       "      <td>1</td>\n",
       "      <td>NaN</td>\n",
       "      <td>12.0</td>\n",
       "      <td>14.40</td>\n",
       "      <td>5</td>\n",
       "      <td>NaN</td>\n",
       "      <td>False</td>\n",
       "      <td>False</td>\n",
       "      <td>9.10</td>\n",
       "      <td>NaN</td>\n",
       "      <td>городской посёлок Янино-1</td>\n",
       "      <td>NaN</td>\n",
       "      <td>NaN</td>\n",
       "      <td>NaN</td>\n",
       "      <td>NaN</td>\n",
       "      <td>NaN</td>\n",
       "      <td>NaN</td>\n",
       "      <td>55.0</td>\n",
       "    </tr>\n",
       "    <tr>\n",
       "      <th>6</th>\n",
       "      <td>6</td>\n",
       "      <td>3700000.0</td>\n",
       "      <td>37.30</td>\n",
       "      <td>2017-11-02T00:00:00</td>\n",
       "      <td>1</td>\n",
       "      <td>NaN</td>\n",
       "      <td>26.0</td>\n",
       "      <td>10.60</td>\n",
       "      <td>6</td>\n",
       "      <td>NaN</td>\n",
       "      <td>False</td>\n",
       "      <td>False</td>\n",
       "      <td>14.40</td>\n",
       "      <td>1.0</td>\n",
       "      <td>посёлок Парголово</td>\n",
       "      <td>52996.0</td>\n",
       "      <td>19143.0</td>\n",
       "      <td>0.0</td>\n",
       "      <td>NaN</td>\n",
       "      <td>0.0</td>\n",
       "      <td>NaN</td>\n",
       "      <td>155.0</td>\n",
       "    </tr>\n",
       "    <tr>\n",
       "      <th>7</th>\n",
       "      <td>5</td>\n",
       "      <td>7915000.0</td>\n",
       "      <td>71.60</td>\n",
       "      <td>2019-04-18T00:00:00</td>\n",
       "      <td>2</td>\n",
       "      <td>NaN</td>\n",
       "      <td>24.0</td>\n",
       "      <td>NaN</td>\n",
       "      <td>22</td>\n",
       "      <td>NaN</td>\n",
       "      <td>False</td>\n",
       "      <td>False</td>\n",
       "      <td>18.90</td>\n",
       "      <td>2.0</td>\n",
       "      <td>Санкт-Петербург</td>\n",
       "      <td>23982.0</td>\n",
       "      <td>11634.0</td>\n",
       "      <td>0.0</td>\n",
       "      <td>NaN</td>\n",
       "      <td>0.0</td>\n",
       "      <td>NaN</td>\n",
       "      <td>NaN</td>\n",
       "    </tr>\n",
       "    <tr>\n",
       "      <th>8</th>\n",
       "      <td>20</td>\n",
       "      <td>2900000.0</td>\n",
       "      <td>33.16</td>\n",
       "      <td>2018-05-23T00:00:00</td>\n",
       "      <td>1</td>\n",
       "      <td>NaN</td>\n",
       "      <td>27.0</td>\n",
       "      <td>15.43</td>\n",
       "      <td>26</td>\n",
       "      <td>NaN</td>\n",
       "      <td>False</td>\n",
       "      <td>False</td>\n",
       "      <td>8.81</td>\n",
       "      <td>NaN</td>\n",
       "      <td>посёлок Мурино</td>\n",
       "      <td>NaN</td>\n",
       "      <td>NaN</td>\n",
       "      <td>NaN</td>\n",
       "      <td>NaN</td>\n",
       "      <td>NaN</td>\n",
       "      <td>NaN</td>\n",
       "      <td>189.0</td>\n",
       "    </tr>\n",
       "    <tr>\n",
       "      <th>9</th>\n",
       "      <td>18</td>\n",
       "      <td>5400000.0</td>\n",
       "      <td>61.00</td>\n",
       "      <td>2017-02-26T00:00:00</td>\n",
       "      <td>3</td>\n",
       "      <td>2.50</td>\n",
       "      <td>9.0</td>\n",
       "      <td>43.60</td>\n",
       "      <td>7</td>\n",
       "      <td>NaN</td>\n",
       "      <td>False</td>\n",
       "      <td>False</td>\n",
       "      <td>6.50</td>\n",
       "      <td>2.0</td>\n",
       "      <td>Санкт-Петербург</td>\n",
       "      <td>50898.0</td>\n",
       "      <td>15008.0</td>\n",
       "      <td>0.0</td>\n",
       "      <td>NaN</td>\n",
       "      <td>0.0</td>\n",
       "      <td>NaN</td>\n",
       "      <td>289.0</td>\n",
       "    </tr>\n",
       "  </tbody>\n",
       "</table>\n",
       "</div>"
      ],
      "text/plain": [
       "   total_images  last_price  total_area first_day_exposition  rooms  \\\n",
       "0            20  13000000.0      108.00  2019-03-07T00:00:00      3   \n",
       "1             7   3350000.0       40.40  2018-12-04T00:00:00      1   \n",
       "2            10   5196000.0       56.00  2015-08-20T00:00:00      2   \n",
       "3             0  64900000.0      159.00  2015-07-24T00:00:00      3   \n",
       "4             2  10000000.0      100.00  2018-06-19T00:00:00      2   \n",
       "5            10   2890000.0       30.40  2018-09-10T00:00:00      1   \n",
       "6             6   3700000.0       37.30  2017-11-02T00:00:00      1   \n",
       "7             5   7915000.0       71.60  2019-04-18T00:00:00      2   \n",
       "8            20   2900000.0       33.16  2018-05-23T00:00:00      1   \n",
       "9            18   5400000.0       61.00  2017-02-26T00:00:00      3   \n",
       "\n",
       "   ceiling_height  floors_total  living_area  floor is_apartment  studio  \\\n",
       "0            2.70          16.0        51.00      8          NaN   False   \n",
       "1             NaN          11.0        18.60      1          NaN   False   \n",
       "2             NaN           5.0        34.30      4          NaN   False   \n",
       "3             NaN          14.0          NaN      9          NaN   False   \n",
       "4            3.03          14.0        32.00     13          NaN   False   \n",
       "5             NaN          12.0        14.40      5          NaN   False   \n",
       "6             NaN          26.0        10.60      6          NaN   False   \n",
       "7             NaN          24.0          NaN     22          NaN   False   \n",
       "8             NaN          27.0        15.43     26          NaN   False   \n",
       "9            2.50           9.0        43.60      7          NaN   False   \n",
       "\n",
       "   open_plan  kitchen_area  balcony              locality_name  \\\n",
       "0      False         25.00      NaN            Санкт-Петербург   \n",
       "1      False         11.00      2.0             посёлок Шушары   \n",
       "2      False          8.30      0.0            Санкт-Петербург   \n",
       "3      False           NaN      0.0            Санкт-Петербург   \n",
       "4      False         41.00      NaN            Санкт-Петербург   \n",
       "5      False          9.10      NaN  городской посёлок Янино-1   \n",
       "6      False         14.40      1.0          посёлок Парголово   \n",
       "7      False         18.90      2.0            Санкт-Петербург   \n",
       "8      False          8.81      NaN             посёлок Мурино   \n",
       "9      False          6.50      2.0            Санкт-Петербург   \n",
       "\n",
       "   airports_nearest  cityCenters_nearest  parks_around3000  parks_nearest  \\\n",
       "0           18863.0              16028.0               1.0          482.0   \n",
       "1           12817.0              18603.0               0.0            NaN   \n",
       "2           21741.0              13933.0               1.0           90.0   \n",
       "3           28098.0               6800.0               2.0           84.0   \n",
       "4           31856.0               8098.0               2.0          112.0   \n",
       "5               NaN                  NaN               NaN            NaN   \n",
       "6           52996.0              19143.0               0.0            NaN   \n",
       "7           23982.0              11634.0               0.0            NaN   \n",
       "8               NaN                  NaN               NaN            NaN   \n",
       "9           50898.0              15008.0               0.0            NaN   \n",
       "\n",
       "   ponds_around3000  ponds_nearest  days_exposition  \n",
       "0               2.0          755.0              NaN  \n",
       "1               0.0            NaN             81.0  \n",
       "2               2.0          574.0            558.0  \n",
       "3               3.0          234.0            424.0  \n",
       "4               1.0           48.0            121.0  \n",
       "5               NaN            NaN             55.0  \n",
       "6               0.0            NaN            155.0  \n",
       "7               0.0            NaN              NaN  \n",
       "8               NaN            NaN            189.0  \n",
       "9               0.0            NaN            289.0  "
      ]
     },
     "metadata": {},
     "output_type": "display_data"
    },
    {
     "name": "stdout",
     "output_type": "stream",
     "text": [
      "<class 'pandas.core.frame.DataFrame'>\n",
      "RangeIndex: 23699 entries, 0 to 23698\n",
      "Data columns (total 22 columns):\n",
      " #   Column                Non-Null Count  Dtype  \n",
      "---  ------                --------------  -----  \n",
      " 0   total_images          23699 non-null  int64  \n",
      " 1   last_price            23699 non-null  float64\n",
      " 2   total_area            23699 non-null  float64\n",
      " 3   first_day_exposition  23699 non-null  object \n",
      " 4   rooms                 23699 non-null  int64  \n",
      " 5   ceiling_height        14504 non-null  float64\n",
      " 6   floors_total          23613 non-null  float64\n",
      " 7   living_area           21796 non-null  float64\n",
      " 8   floor                 23699 non-null  int64  \n",
      " 9   is_apartment          2775 non-null   object \n",
      " 10  studio                23699 non-null  bool   \n",
      " 11  open_plan             23699 non-null  bool   \n",
      " 12  kitchen_area          21421 non-null  float64\n",
      " 13  balcony               12180 non-null  float64\n",
      " 14  locality_name         23650 non-null  object \n",
      " 15  airports_nearest      18157 non-null  float64\n",
      " 16  cityCenters_nearest   18180 non-null  float64\n",
      " 17  parks_around3000      18181 non-null  float64\n",
      " 18  parks_nearest         8079 non-null   float64\n",
      " 19  ponds_around3000      18181 non-null  float64\n",
      " 20  ponds_nearest         9110 non-null   float64\n",
      " 21  days_exposition       20518 non-null  float64\n",
      "dtypes: bool(2), float64(14), int64(3), object(3)\n",
      "memory usage: 3.7+ MB\n"
     ]
    }
   ],
   "source": [
    "#откроем таблицу и посмотрим первые десять строк\n",
    "#далее выведем информацию о ней\n",
    "\n",
    "data = pd.read_csv('/real_estate_data.csv', sep='\\t')\n",
    "pd.set_option('display.max_columns', None)\n",
    "display(data.head(10))\n",
    "data.info()"
   ]
  },
  {
   "cell_type": "markdown",
   "metadata": {},
   "source": [
    "Согласно описанию к данным:\n",
    "- airports_nearest — расстояние до ближайшего аэропорта в метрах (м)\n",
    "- balcony — число балконов\n",
    "- ceiling_height — высота потолков (м)\n",
    "- cityCenters_nearest — расстояние до центра города (м)\n",
    "- days_exposition — сколько дней было размещено объявление (от публикации до снятия)\n",
    "- first_day_exposition — дата публикации\n",
    "- floor — этаж\n",
    "- floors_total — всего этажей в доме\n",
    "- is_apartment — апартаменты (булев тип)\n",
    "- kitchen_area — площадь кухни в квадратных метрах (м²)\n",
    "- last_price — цена на момент снятия с публикации\n",
    "- living_area — жилая площадь в квадратных метрах (м²)\n",
    "- locality_name — название населённого пункта\n",
    "- open_plan — свободная планировка (булев тип)\n",
    "- parks_around3000 — число парков в радиусе 3 км\n",
    "- parks_nearest — расстояние до ближайшего парка (м)\n",
    "- ponds_around3000 — число водоёмов в радиусе 3 км\n",
    "- ponds_nearest — расстояние до ближайшего водоёма (м)\n",
    "- rooms — число комнат\n",
    "- studio — квартира-студия (булев тип)\n",
    "- total_area — площадь квартиры в квадратных метрах (м²)\n",
    "- total_images — число фотографий квартиры в объявлении"
   ]
  },
  {
   "cell_type": "markdown",
   "metadata": {},
   "source": [
    "### Вывод"
   ]
  },
  {
   "cell_type": "markdown",
   "metadata": {},
   "source": [
    "Изучив таблицу, мы видим, что во многих столбцах есть пропущенные значения: ceiling_height, living_area, is_apartment, kitchen_area, balcony, locality_name, airports_nearest, cityCenters_nearest, parks_around3000, parks_nearest, ponds_around3000, ponds_nearest, days_exposition.Также необходимо привести названия столбцов к правильному регистру и поменять тип данных в некоторых из них."
   ]
  },
  {
   "cell_type": "markdown",
   "metadata": {},
   "source": [
    "## Предобработка данных"
   ]
  },
  {
   "cell_type": "markdown",
   "metadata": {},
   "source": [
    "**Приведение к представительному формату**"
   ]
  },
  {
   "cell_type": "code",
   "execution_count": 218,
   "metadata": {},
   "outputs": [],
   "source": [
    "#переименуем неправильные названия столбцов\n",
    "#и расположим их в более удобном для восприятия формате\n",
    "data = data[[\n",
    "    'locality_name',  \n",
    "    'total_area',\n",
    "    'living_area',\n",
    "    'kitchen_area',\n",
    "    'ceiling_height',\n",
    "    'rooms',\n",
    "    'balcony',\n",
    "    'floor',\n",
    "    'floors_total',\n",
    "    'is_apartment',\n",
    "    'studio',\n",
    "    'open_plan',  \n",
    "    'total_images',\n",
    "    'last_price',\n",
    "    'first_day_exposition',\n",
    "    'days_exposition',\n",
    "    'cityCenters_nearest',\n",
    "    'airports_nearest',\n",
    "    'parks_around3000',\n",
    "    'parks_nearest',\n",
    "    'ponds_around3000',\n",
    "    'ponds_nearest'\n",
    "]]"
   ]
  },
  {
   "cell_type": "code",
   "execution_count": 219,
   "metadata": {},
   "outputs": [],
   "source": [
    "colum= [\n",
    " 'locality_name',  \n",
    " 'total_area',\n",
    " 'living_area',\n",
    " 'kitchen_area',\n",
    " 'ceiling_height',\n",
    " 'rooms',\n",
    " 'balcony',\n",
    " 'floor',\n",
    " 'floors_total',\n",
    " 'is_apartment',\n",
    " 'studio',\n",
    " 'open_plan',  \n",
    " 'total_images',\n",
    " 'last_price',\n",
    " 'first_day_exposition',\n",
    " 'days_of_exposition',\n",
    " 'city_center_m',\n",
    " 'airports_m',\n",
    " 'parks_3km',\n",
    " 'parks_nearest_m',\n",
    " 'ponds_3km',\n",
    " 'ponds_nearest_m'\n",
    "]\n",
    "data.set_axis(colum, axis='columns', inplace=True)"
   ]
  },
  {
   "cell_type": "markdown",
   "metadata": {},
   "source": [
    "**Обработка пропусков**"
   ]
  },
  {
   "cell_type": "code",
   "execution_count": 220,
   "metadata": {},
   "outputs": [
    {
     "data": {
      "text/plain": [
       "locality_name            0.206760\n",
       "total_area               0.000000\n",
       "living_area              8.029875\n",
       "kitchen_area             9.612220\n",
       "ceiling_height          38.799105\n",
       "rooms                    0.000000\n",
       "balcony                 48.605426\n",
       "floor                    0.000000\n",
       "floors_total             0.362885\n",
       "is_apartment            88.290645\n",
       "studio                   0.000000\n",
       "open_plan                0.000000\n",
       "total_images             0.000000\n",
       "last_price               0.000000\n",
       "first_day_exposition     0.000000\n",
       "days_of_exposition      13.422507\n",
       "city_center_m           23.287902\n",
       "airports_m              23.384953\n",
       "parks_3km               23.283683\n",
       "parks_nearest_m         65.909954\n",
       "ponds_3km               23.283683\n",
       "ponds_nearest_m         61.559559\n",
       "dtype: float64"
      ]
     },
     "execution_count": 220,
     "metadata": {},
     "output_type": "execute_result"
    }
   ],
   "source": [
    "#покажем наглядно количество пропусков в таблице\n",
    "#в процентах от общего числа\n",
    "data.isna().mean()*100"
   ]
  },
  {
   "cell_type": "markdown",
   "metadata": {},
   "source": [
    "К сожалению, для всех пропущенных значений мы не сможем подобрать логичную замену. Оставим такие случаи без изменений, так как отсутствие значения — тоже важный сигнал, который не нужно прятать."
   ]
  },
  {
   "cell_type": "code",
   "execution_count": 221,
   "metadata": {},
   "outputs": [],
   "source": [
    "#скорее всего, если балкона нет, его просто не указывают\n",
    "#заменим пропущенные значения в этом столбце на 0\n",
    "data['balcony'] = data['balcony'].fillna(0)"
   ]
  },
  {
   "cell_type": "code",
   "execution_count": 222,
   "metadata": {},
   "outputs": [
    {
     "data": {
      "text/plain": [
       "0"
      ]
     },
     "execution_count": 222,
     "metadata": {},
     "output_type": "execute_result"
    }
   ],
   "source": [
    "#удалим строки, где не указан населенный пункт\n",
    "#потому что их процент менее 1 и, не зная\n",
    "#места, люди обычно квартиры не покупают\n",
    "data = data.dropna(subset=['locality_name'])\n",
    "\n",
    "#проверяем корректность работы\n",
    "data['locality_name'].isnull().sum()"
   ]
  },
  {
   "cell_type": "code",
   "execution_count": 223,
   "metadata": {},
   "outputs": [
    {
     "data": {
      "text/plain": [
       "0"
      ]
     },
     "execution_count": 223,
     "metadata": {},
     "output_type": "execute_result"
    }
   ],
   "source": [
    "#так же поступим с квартирами без указания этажа\n",
    "data.drop(data[data['floor'] == 0].isnull().index, inplace=True)\n",
    "\n",
    "#проверяем корректность работы\n",
    "data['floor'].isnull().sum()"
   ]
  },
  {
   "cell_type": "code",
   "execution_count": 224,
   "metadata": {},
   "outputs": [
    {
     "data": {
      "text/plain": [
       "False    23600\n",
       "True        50\n",
       "Name: is_apartment, dtype: int64"
      ]
     },
     "execution_count": 224,
     "metadata": {},
     "output_type": "execute_result"
    }
   ],
   "source": [
    "#заменим значения Nan в столбце апартаментов на False\n",
    "#скорее всего люди просто не указывали, что это апартаменты\n",
    "data['is_apartment'] = data['is_apartment'].fillna(0)\n",
    "\n",
    "#сразу заменим тип для парвильной работы\n",
    "data['is_apartment'] = data['is_apartment'].astype(bool)\n",
    "\n",
    "#проверяем корректность заполнения\n",
    "data['is_apartment'].value_counts()"
   ]
  },
  {
   "cell_type": "markdown",
   "metadata": {},
   "source": [
    "Далее для удобства подсчетов изменим тип данных в столбцах, где это можно сделать, на целочисленный."
   ]
  },
  {
   "cell_type": "code",
   "execution_count": 225,
   "metadata": {},
   "outputs": [],
   "source": [
    "data['last_price'] = data['last_price'].astype('int')\n",
    "data['balcony'] = data['balcony'].astype('int')"
   ]
  },
  {
   "cell_type": "code",
   "execution_count": 226,
   "metadata": {},
   "outputs": [],
   "source": [
    "#переведем высоту потолков в сантиметры и затем изменим тип на целочисленный\n",
    "data['ceiling_height'] = data['ceiling_height']*100\n",
    "#data['ceiling_height'].astype('int')"
   ]
  },
  {
   "cell_type": "code",
   "execution_count": 227,
   "metadata": {},
   "outputs": [],
   "source": [
    "#переведем столбец first_day_exposition во временной формат и округлим до дня, чтобы упростить рассчеты\n",
    "\n",
    "data['first_day_exposition'] = pd.to_datetime(data['first_day_exposition'], format='%Y-%m-%dT%H:%M:%S')\n",
    "data['first_day_exposition'] = data['first_day_exposition'].dt.round('1D')"
   ]
  },
  {
   "cell_type": "code",
   "execution_count": 228,
   "metadata": {},
   "outputs": [],
   "source": [
    "#теперь заполним пропуски в столбцах kitchen_area и living_area\n",
    "#медианными значенями в зависимости от общей площади квартиры\n",
    "data['kitchen_area'] = data['kitchen_area'].fillna(data.groupby('total_area')['kitchen_area'].transform('median'))\n",
    "data['living_area'] = data['living_area'].fillna(data.groupby('total_area')['living_area'].transform('median'))"
   ]
  },
  {
   "cell_type": "markdown",
   "metadata": {},
   "source": [
    "**Вывод**"
   ]
  },
  {
   "cell_type": "markdown",
   "metadata": {},
   "source": [
    "Мы заполнили пропуска, где это можно было сделать корректно, изменили тип данных, поменяли названия столбцов и привели таблицу к удодбному для просмотра виду."
   ]
  },
  {
   "cell_type": "markdown",
   "metadata": {},
   "source": [
    "## Расчёты и добавление результатов в таблицу"
   ]
  },
  {
   "cell_type": "code",
   "execution_count": 229,
   "metadata": {},
   "outputs": [],
   "source": [
    "#добавим столбец с рассчетом цены за квадратный метр\n",
    "data['price_per_metre'] = data['last_price']/data['total_area']\n",
    "data['price_per_metre'] = data['price_per_metre'].round(2)\n",
    "\n",
    "#добавим день недели, месяц и год публикации объявления\n",
    "data['weekday_of_exposition'] = data['first_day_exposition'].dt.weekday\n",
    "data['month_of_exposition'] = data['first_day_exposition'].dt.month\n",
    "data['year_of_exposition'] = data['first_day_exposition'].dt.year\n",
    "\n",
    "#добавим столбец с этажом квартиры\n",
    "data.loc[data['floor'] == 1, 'floor_optimezed'] = 'первый этаж'\n",
    "data.loc[data['floor'] == data['floors_total'], 'floor_optimezed'] = 'последний этаж'\n",
    "data['floor_optimezed'] = data['floor_optimezed'].fillna ('другой этаж')\n",
    "\n",
    "#добавим столбец с соотношением жилой и общей площади,\n",
    "#а также отношение площади кухни к общей\n",
    "data['living_area_ratio'] = data['living_area']/data['total_area']\n",
    "data['living_area_ratio'] = data['living_area_ratio'].round(2)\n",
    "data['kitchen_area_ratio'] = data['kitchen_area']/data['total_area']\n",
    "data['kitchen_area_ratio'] = data['kitchen_area_ratio'].round(2)"
   ]
  },
  {
   "cell_type": "code",
   "execution_count": 230,
   "metadata": {},
   "outputs": [
    {
     "data": {
      "text/html": [
       "<div>\n",
       "<style scoped>\n",
       "    .dataframe tbody tr th:only-of-type {\n",
       "        vertical-align: middle;\n",
       "    }\n",
       "\n",
       "    .dataframe tbody tr th {\n",
       "        vertical-align: top;\n",
       "    }\n",
       "\n",
       "    .dataframe thead th {\n",
       "        text-align: right;\n",
       "    }\n",
       "</style>\n",
       "<table border=\"1\" class=\"dataframe\">\n",
       "  <thead>\n",
       "    <tr style=\"text-align: right;\">\n",
       "      <th></th>\n",
       "      <th>locality_name</th>\n",
       "      <th>total_area</th>\n",
       "      <th>living_area</th>\n",
       "      <th>kitchen_area</th>\n",
       "      <th>ceiling_height</th>\n",
       "      <th>rooms</th>\n",
       "      <th>balcony</th>\n",
       "      <th>floor</th>\n",
       "      <th>floors_total</th>\n",
       "      <th>is_apartment</th>\n",
       "      <th>studio</th>\n",
       "      <th>open_plan</th>\n",
       "      <th>total_images</th>\n",
       "      <th>last_price</th>\n",
       "      <th>first_day_exposition</th>\n",
       "      <th>days_of_exposition</th>\n",
       "      <th>city_center_m</th>\n",
       "      <th>airports_m</th>\n",
       "      <th>parks_3km</th>\n",
       "      <th>parks_nearest_m</th>\n",
       "      <th>ponds_3km</th>\n",
       "      <th>ponds_nearest_m</th>\n",
       "      <th>price_per_metre</th>\n",
       "      <th>weekday_of_exposition</th>\n",
       "      <th>month_of_exposition</th>\n",
       "      <th>year_of_exposition</th>\n",
       "      <th>floor_optimezed</th>\n",
       "      <th>living_area_ratio</th>\n",
       "      <th>kitchen_area_ratio</th>\n",
       "    </tr>\n",
       "  </thead>\n",
       "  <tbody>\n",
       "    <tr>\n",
       "      <th>0</th>\n",
       "      <td>Санкт-Петербург</td>\n",
       "      <td>108.0</td>\n",
       "      <td>51.0</td>\n",
       "      <td>25.0</td>\n",
       "      <td>270.0</td>\n",
       "      <td>3</td>\n",
       "      <td>0</td>\n",
       "      <td>8</td>\n",
       "      <td>16.0</td>\n",
       "      <td>False</td>\n",
       "      <td>False</td>\n",
       "      <td>False</td>\n",
       "      <td>20</td>\n",
       "      <td>13000000</td>\n",
       "      <td>2019-03-07</td>\n",
       "      <td>NaN</td>\n",
       "      <td>16028.0</td>\n",
       "      <td>18863.0</td>\n",
       "      <td>1.0</td>\n",
       "      <td>482.0</td>\n",
       "      <td>2.0</td>\n",
       "      <td>755.0</td>\n",
       "      <td>120370.37</td>\n",
       "      <td>3</td>\n",
       "      <td>3</td>\n",
       "      <td>2019</td>\n",
       "      <td>другой этаж</td>\n",
       "      <td>0.47</td>\n",
       "      <td>0.23</td>\n",
       "    </tr>\n",
       "    <tr>\n",
       "      <th>1</th>\n",
       "      <td>посёлок Шушары</td>\n",
       "      <td>40.4</td>\n",
       "      <td>18.6</td>\n",
       "      <td>11.0</td>\n",
       "      <td>NaN</td>\n",
       "      <td>1</td>\n",
       "      <td>2</td>\n",
       "      <td>1</td>\n",
       "      <td>11.0</td>\n",
       "      <td>False</td>\n",
       "      <td>False</td>\n",
       "      <td>False</td>\n",
       "      <td>7</td>\n",
       "      <td>3350000</td>\n",
       "      <td>2018-12-04</td>\n",
       "      <td>81.0</td>\n",
       "      <td>18603.0</td>\n",
       "      <td>12817.0</td>\n",
       "      <td>0.0</td>\n",
       "      <td>NaN</td>\n",
       "      <td>0.0</td>\n",
       "      <td>NaN</td>\n",
       "      <td>82920.79</td>\n",
       "      <td>1</td>\n",
       "      <td>12</td>\n",
       "      <td>2018</td>\n",
       "      <td>первый этаж</td>\n",
       "      <td>0.46</td>\n",
       "      <td>0.27</td>\n",
       "    </tr>\n",
       "    <tr>\n",
       "      <th>2</th>\n",
       "      <td>Санкт-Петербург</td>\n",
       "      <td>56.0</td>\n",
       "      <td>34.3</td>\n",
       "      <td>8.3</td>\n",
       "      <td>NaN</td>\n",
       "      <td>2</td>\n",
       "      <td>0</td>\n",
       "      <td>4</td>\n",
       "      <td>5.0</td>\n",
       "      <td>False</td>\n",
       "      <td>False</td>\n",
       "      <td>False</td>\n",
       "      <td>10</td>\n",
       "      <td>5196000</td>\n",
       "      <td>2015-08-20</td>\n",
       "      <td>558.0</td>\n",
       "      <td>13933.0</td>\n",
       "      <td>21741.0</td>\n",
       "      <td>1.0</td>\n",
       "      <td>90.0</td>\n",
       "      <td>2.0</td>\n",
       "      <td>574.0</td>\n",
       "      <td>92785.71</td>\n",
       "      <td>3</td>\n",
       "      <td>8</td>\n",
       "      <td>2015</td>\n",
       "      <td>другой этаж</td>\n",
       "      <td>0.61</td>\n",
       "      <td>0.15</td>\n",
       "    </tr>\n",
       "    <tr>\n",
       "      <th>3</th>\n",
       "      <td>Санкт-Петербург</td>\n",
       "      <td>159.0</td>\n",
       "      <td>95.0</td>\n",
       "      <td>15.0</td>\n",
       "      <td>NaN</td>\n",
       "      <td>3</td>\n",
       "      <td>0</td>\n",
       "      <td>9</td>\n",
       "      <td>14.0</td>\n",
       "      <td>False</td>\n",
       "      <td>False</td>\n",
       "      <td>False</td>\n",
       "      <td>0</td>\n",
       "      <td>64900000</td>\n",
       "      <td>2015-07-24</td>\n",
       "      <td>424.0</td>\n",
       "      <td>6800.0</td>\n",
       "      <td>28098.0</td>\n",
       "      <td>2.0</td>\n",
       "      <td>84.0</td>\n",
       "      <td>3.0</td>\n",
       "      <td>234.0</td>\n",
       "      <td>408176.10</td>\n",
       "      <td>4</td>\n",
       "      <td>7</td>\n",
       "      <td>2015</td>\n",
       "      <td>другой этаж</td>\n",
       "      <td>0.60</td>\n",
       "      <td>0.09</td>\n",
       "    </tr>\n",
       "    <tr>\n",
       "      <th>4</th>\n",
       "      <td>Санкт-Петербург</td>\n",
       "      <td>100.0</td>\n",
       "      <td>32.0</td>\n",
       "      <td>41.0</td>\n",
       "      <td>303.0</td>\n",
       "      <td>2</td>\n",
       "      <td>0</td>\n",
       "      <td>13</td>\n",
       "      <td>14.0</td>\n",
       "      <td>False</td>\n",
       "      <td>False</td>\n",
       "      <td>False</td>\n",
       "      <td>2</td>\n",
       "      <td>10000000</td>\n",
       "      <td>2018-06-19</td>\n",
       "      <td>121.0</td>\n",
       "      <td>8098.0</td>\n",
       "      <td>31856.0</td>\n",
       "      <td>2.0</td>\n",
       "      <td>112.0</td>\n",
       "      <td>1.0</td>\n",
       "      <td>48.0</td>\n",
       "      <td>100000.00</td>\n",
       "      <td>1</td>\n",
       "      <td>6</td>\n",
       "      <td>2018</td>\n",
       "      <td>другой этаж</td>\n",
       "      <td>0.32</td>\n",
       "      <td>0.41</td>\n",
       "    </tr>\n",
       "  </tbody>\n",
       "</table>\n",
       "</div>"
      ],
      "text/plain": [
       "     locality_name  total_area  living_area  kitchen_area  ceiling_height  \\\n",
       "0  Санкт-Петербург       108.0         51.0          25.0           270.0   \n",
       "1   посёлок Шушары        40.4         18.6          11.0             NaN   \n",
       "2  Санкт-Петербург        56.0         34.3           8.3             NaN   \n",
       "3  Санкт-Петербург       159.0         95.0          15.0             NaN   \n",
       "4  Санкт-Петербург       100.0         32.0          41.0           303.0   \n",
       "\n",
       "   rooms  balcony  floor  floors_total  is_apartment  studio  open_plan  \\\n",
       "0      3        0      8          16.0         False   False      False   \n",
       "1      1        2      1          11.0         False   False      False   \n",
       "2      2        0      4           5.0         False   False      False   \n",
       "3      3        0      9          14.0         False   False      False   \n",
       "4      2        0     13          14.0         False   False      False   \n",
       "\n",
       "   total_images  last_price first_day_exposition  days_of_exposition  \\\n",
       "0            20    13000000           2019-03-07                 NaN   \n",
       "1             7     3350000           2018-12-04                81.0   \n",
       "2            10     5196000           2015-08-20               558.0   \n",
       "3             0    64900000           2015-07-24               424.0   \n",
       "4             2    10000000           2018-06-19               121.0   \n",
       "\n",
       "   city_center_m  airports_m  parks_3km  parks_nearest_m  ponds_3km  \\\n",
       "0        16028.0     18863.0        1.0            482.0        2.0   \n",
       "1        18603.0     12817.0        0.0              NaN        0.0   \n",
       "2        13933.0     21741.0        1.0             90.0        2.0   \n",
       "3         6800.0     28098.0        2.0             84.0        3.0   \n",
       "4         8098.0     31856.0        2.0            112.0        1.0   \n",
       "\n",
       "   ponds_nearest_m  price_per_metre  weekday_of_exposition  \\\n",
       "0            755.0        120370.37                      3   \n",
       "1              NaN         82920.79                      1   \n",
       "2            574.0         92785.71                      3   \n",
       "3            234.0        408176.10                      4   \n",
       "4             48.0        100000.00                      1   \n",
       "\n",
       "   month_of_exposition  year_of_exposition floor_optimezed  living_area_ratio  \\\n",
       "0                    3                2019     другой этаж               0.47   \n",
       "1                   12                2018     первый этаж               0.46   \n",
       "2                    8                2015     другой этаж               0.61   \n",
       "3                    7                2015     другой этаж               0.60   \n",
       "4                    6                2018     другой этаж               0.32   \n",
       "\n",
       "   kitchen_area_ratio  \n",
       "0                0.23  \n",
       "1                0.27  \n",
       "2                0.15  \n",
       "3                0.09  \n",
       "4                0.41  "
      ]
     },
     "execution_count": 230,
     "metadata": {},
     "output_type": "execute_result"
    }
   ],
   "source": [
    "#проверим результат\n",
    "\n",
    "data.head()"
   ]
  },
  {
   "cell_type": "markdown",
   "metadata": {},
   "source": [
    "**Вывод**"
   ]
  },
  {
   "cell_type": "markdown",
   "metadata": {},
   "source": [
    "Мы добавили необходимые для подсчетов столбцы и теперь готовы приступить к исследовательскому анализу."
   ]
  },
  {
   "cell_type": "markdown",
   "metadata": {},
   "source": [
    "## Исследовательский анализ данных"
   ]
  },
  {
   "cell_type": "markdown",
   "metadata": {},
   "source": [
    "Сначала напишем функцию по определению вбросов с обращением к таблице по методу .describe()"
   ]
  },
  {
   "cell_type": "code",
   "execution_count": 231,
   "metadata": {},
   "outputs": [],
   "source": [
    "def mustache(column):\n",
    "    stat = data[column].describe()\n",
    "    \n",
    "    # вычислим межквартильный размах\n",
    "    lQR = stat[6] - stat[4]\n",
    "    \n",
    "    # вычислим левый и правый ус    \n",
    "    left_mustache = round(stat[4] - 1.5 * lQR, 2)\n",
    "    right_mustache = round(stat[6] + 1.5 * lQR, 2)\n",
    "\n",
    "    # левый ус не должен быть меньше минимального значения\n",
    "    if left_mustache < stat[3]: left_mustache = stat[3] \n",
    "        \n",
    "    # правый ус не должен быть больше максимального значения\n",
    "    if right_mustache > stat[7]: right_mustache = stat[7]\n",
    "        \n",
    "    return [left_mustache, right_mustache]"
   ]
  },
  {
   "cell_type": "markdown",
   "metadata": {},
   "source": [
    "Изучим следующие параметры: площадь, цену, число комнат, высоту потолков. Для этого построим гистаграммы по каждому из них."
   ]
  },
  {
   "cell_type": "code",
   "execution_count": 232,
   "metadata": {},
   "outputs": [
    {
     "data": {
      "text/html": [
       "<div>\n",
       "<style scoped>\n",
       "    .dataframe tbody tr th:only-of-type {\n",
       "        vertical-align: middle;\n",
       "    }\n",
       "\n",
       "    .dataframe tbody tr th {\n",
       "        vertical-align: top;\n",
       "    }\n",
       "\n",
       "    .dataframe thead th {\n",
       "        text-align: right;\n",
       "    }\n",
       "</style>\n",
       "<table border=\"1\" class=\"dataframe\">\n",
       "  <thead>\n",
       "    <tr style=\"text-align: right;\">\n",
       "      <th></th>\n",
       "      <th>total_area</th>\n",
       "      <th>last_price</th>\n",
       "      <th>rooms</th>\n",
       "      <th>ceiling_height</th>\n",
       "    </tr>\n",
       "  </thead>\n",
       "  <tbody>\n",
       "    <tr>\n",
       "      <th>count</th>\n",
       "      <td>23650.000000</td>\n",
       "      <td>2.365000e+04</td>\n",
       "      <td>23650.000000</td>\n",
       "      <td>14490.000000</td>\n",
       "    </tr>\n",
       "    <tr>\n",
       "      <th>mean</th>\n",
       "      <td>60.329069</td>\n",
       "      <td>6.541127e+06</td>\n",
       "      <td>2.070106</td>\n",
       "      <td>277.128709</td>\n",
       "    </tr>\n",
       "    <tr>\n",
       "      <th>std</th>\n",
       "      <td>35.661808</td>\n",
       "      <td>1.089640e+07</td>\n",
       "      <td>1.078620</td>\n",
       "      <td>126.159329</td>\n",
       "    </tr>\n",
       "    <tr>\n",
       "      <th>min</th>\n",
       "      <td>12.000000</td>\n",
       "      <td>1.219000e+04</td>\n",
       "      <td>0.000000</td>\n",
       "      <td>100.000000</td>\n",
       "    </tr>\n",
       "    <tr>\n",
       "      <th>25%</th>\n",
       "      <td>40.000000</td>\n",
       "      <td>3.400000e+06</td>\n",
       "      <td>1.000000</td>\n",
       "      <td>252.000000</td>\n",
       "    </tr>\n",
       "    <tr>\n",
       "      <th>50%</th>\n",
       "      <td>52.000000</td>\n",
       "      <td>4.650000e+06</td>\n",
       "      <td>2.000000</td>\n",
       "      <td>265.000000</td>\n",
       "    </tr>\n",
       "    <tr>\n",
       "      <th>75%</th>\n",
       "      <td>69.700000</td>\n",
       "      <td>6.799000e+06</td>\n",
       "      <td>3.000000</td>\n",
       "      <td>280.000000</td>\n",
       "    </tr>\n",
       "    <tr>\n",
       "      <th>max</th>\n",
       "      <td>900.000000</td>\n",
       "      <td>7.630000e+08</td>\n",
       "      <td>19.000000</td>\n",
       "      <td>10000.000000</td>\n",
       "    </tr>\n",
       "  </tbody>\n",
       "</table>\n",
       "</div>"
      ],
      "text/plain": [
       "         total_area    last_price         rooms  ceiling_height\n",
       "count  23650.000000  2.365000e+04  23650.000000    14490.000000\n",
       "mean      60.329069  6.541127e+06      2.070106      277.128709\n",
       "std       35.661808  1.089640e+07      1.078620      126.159329\n",
       "min       12.000000  1.219000e+04      0.000000      100.000000\n",
       "25%       40.000000  3.400000e+06      1.000000      252.000000\n",
       "50%       52.000000  4.650000e+06      2.000000      265.000000\n",
       "75%       69.700000  6.799000e+06      3.000000      280.000000\n",
       "max      900.000000  7.630000e+08     19.000000    10000.000000"
      ]
     },
     "execution_count": 232,
     "metadata": {},
     "output_type": "execute_result"
    }
   ],
   "source": [
    "#сначала посмотрим на описание данных столбцов\n",
    "data[['total_area', 'last_price', 'rooms', 'ceiling_height']].describe()"
   ]
  },
  {
   "cell_type": "markdown",
   "metadata": {},
   "source": [
    "По данным мы видим, что есть значительные выбросы. Они не позволят нам построить наглядные гистаграммы.\n",
    "В связи с этим уберем выбросы и построим гистаграммы без них."
   ]
  },
  {
   "cell_type": "code",
   "execution_count": 233,
   "metadata": {},
   "outputs": [
    {
     "data": {
      "text/plain": [
       "[12.0, 114.25]"
      ]
     },
     "execution_count": 233,
     "metadata": {},
     "output_type": "execute_result"
    }
   ],
   "source": [
    "#определим усы\n",
    "mustache('total_area')"
   ]
  },
  {
   "cell_type": "code",
   "execution_count": 234,
   "metadata": {},
   "outputs": [
    {
     "data": {
      "text/plain": [
       "<AxesSubplot:title={'center':'Гистограмма площади квартир'}, xlabel='Площадь в м2', ylabel='Frequency'>"
      ]
     },
     "execution_count": 234,
     "metadata": {},
     "output_type": "execute_result"
    },
    {
     "data": {
      "image/png": "[encoded data removed]",
      "text/plain": [
       "<Figure size 1080x288 with 1 Axes>"
      ]
     },
     "metadata": {
      "needs_background": "light"
     },
     "output_type": "display_data"
    }
   ],
   "source": [
    "#мы видим минимальную площадь квартиры 12м, это значение правдоподобно\n",
    "#вряд ли часто можно увидеть квартиры с площадью больше 114м\n",
    "#поэтому ограничимся такими показателями\n",
    "\n",
    "plt.title('Гистограмма площади квартир')\n",
    "\n",
    "plt.xlabel('Площадь в м2')\n",
    "plt.ylabel('Кол-во квартир')\n",
    "\n",
    "data['total_area'].plot(kind='hist', figsize=(15,4), bins=200, range=(10, 200))"
   ]
  },
  {
   "cell_type": "markdown",
   "metadata": {},
   "source": [
    "**Вывод**\n",
    "\n",
    "Мы видим, что большая часть квартир имеет площадь приблизительно от 29 до 47 метров. Меньше всего продается квартир с площадью до 29 и больше 80 метров."
   ]
  },
  {
   "cell_type": "code",
   "execution_count": 235,
   "metadata": {},
   "outputs": [
    {
     "data": {
      "text/plain": [
       "[12190.0, 11897500.0]"
      ]
     },
     "execution_count": 235,
     "metadata": {},
     "output_type": "execute_result"
    }
   ],
   "source": [
    "mustache('last_price')"
   ]
  },
  {
   "cell_type": "code",
   "execution_count": 236,
   "metadata": {},
   "outputs": [
    {
     "data": {
      "text/plain": [
       "<AxesSubplot:title={'center':'Гистограмма цен за квартиру'}, xlabel='цена', ylabel='Frequency'>"
      ]
     },
     "execution_count": 236,
     "metadata": {},
     "output_type": "execute_result"
    },
    {
     "data": {
      "image/png": "[encoded data removed]",
      "text/plain": [
       "<Figure size 1080x288 with 1 Axes>"
      ]
     },
     "metadata": {
      "needs_background": "light"
     },
     "output_type": "display_data"
    }
   ],
   "source": [
    "#цена на квартиру может быть любой, однако\n",
    "#возьмем более менее жизненные показатели\n",
    "\n",
    "plt.title('Гистограмма цен за квартиру')\n",
    "\n",
    "plt.xlabel('цена')\n",
    "plt.ylabel('Кол-во квартир')\n",
    "\n",
    "data['last_price'].plot(kind='hist', figsize=(15,4), bins=100, range=(1000000, 11825000))"
   ]
  },
  {
   "cell_type": "markdown",
   "metadata": {},
   "source": [
    "**Вывод**\n",
    "\n",
    "Больше всего квартир продается в диапазоне от 3 до 5 млн рублей. Далее идет тенденция: чем выше стоимость, тем меньше квартир продается."
   ]
  },
  {
   "cell_type": "code",
   "execution_count": 237,
   "metadata": {},
   "outputs": [
    {
     "data": {
      "text/plain": [
       "[0.0, 6.0]"
      ]
     },
     "execution_count": 237,
     "metadata": {},
     "output_type": "execute_result"
    }
   ],
   "source": [
    "mustache('rooms')"
   ]
  },
  {
   "cell_type": "code",
   "execution_count": 238,
   "metadata": {},
   "outputs": [
    {
     "data": {
      "text/plain": [
       "<AxesSubplot:title={'center':'Кол-во комнат в квартирах'}>"
      ]
     },
     "execution_count": 238,
     "metadata": {},
     "output_type": "execute_result"
    },
    {
     "data": {
      "image/png": "[encoded data removed]",
      "text/plain": [
       "<Figure size 432x288 with 1 Axes>"
      ]
     },
     "metadata": {
      "needs_background": "light"
     },
     "output_type": "display_data"
    }
   ],
   "source": [
    "#по таблице видно, что есть квартиры с нулевыми значениями\n",
    "#таких квартир не бывает, поэтому удалим эти строки\n",
    "#также ограничим количетво квартир до 6\n",
    "\n",
    "data.drop(data[data['rooms'] == 0].index, inplace=True)\n",
    "plt.title('Кол-во комнат в квартирах')\n",
    "data['rooms'].value_counts().plot.bar()"
   ]
  },
  {
   "cell_type": "markdown",
   "metadata": {},
   "source": [
    "**Вывод**\n",
    "\n",
    "Мы видим, что большинство продающихся квартир - это однушки или двушки. Квартир с четырьмя комнатами и больше продается намного меньше."
   ]
  },
  {
   "cell_type": "code",
   "execution_count": 239,
   "metadata": {},
   "outputs": [
    {
     "data": {
      "text/plain": [
       "[207.5, 323.5]"
      ]
     },
     "execution_count": 239,
     "metadata": {},
     "output_type": "execute_result"
    }
   ],
   "source": [
    "mustache('ceiling_height')"
   ]
  },
  {
   "cell_type": "code",
   "execution_count": 240,
   "metadata": {},
   "outputs": [
    {
     "data": {
      "text/plain": [
       "<AxesSubplot:title={'center':'Гистограмма высоты потолков в квартирах'}, xlabel='Высота потолков', ylabel='Frequency'>"
      ]
     },
     "execution_count": 240,
     "metadata": {},
     "output_type": "execute_result"
    },
    {
     "data": {
      "image/png": "[encoded data removed]",
      "text/plain": [
       "<Figure size 1080x288 with 1 Axes>"
      ]
     },
     "metadata": {
      "needs_background": "light"
     },
     "output_type": "display_data"
    }
   ],
   "source": [
    "#обычно высота потолков равняется 270-280\n",
    "#возьмем ограничения с запасом\n",
    "\n",
    "plt.title('Гистограмма высоты потолков в квартирах')\n",
    "\n",
    "plt.xlabel('Высота потолков')\n",
    "plt.ylabel('Кол-во квартир')\n",
    "\n",
    "data['ceiling_height'].plot(kind='hist', figsize=(15,4), bins=50, range=(207, 323))"
   ]
  },
  {
   "cell_type": "markdown",
   "metadata": {},
   "source": [
    "**Вывод**\n",
    "\n",
    "Большинство квартир имеет высоту потолков высотой около 250см. Приблизительно одинаковые значения мы видим на уровнях 260 и 270см, а также 280 и 300см. "
   ]
  },
  {
   "cell_type": "code",
   "execution_count": 241,
   "metadata": {},
   "outputs": [
    {
     "data": {
      "text/plain": [
       "count    20287.000000\n",
       "mean       181.398827\n",
       "std        220.147815\n",
       "min          1.000000\n",
       "25%         45.000000\n",
       "50%         96.000000\n",
       "75%        232.000000\n",
       "max       1580.000000\n",
       "Name: days_of_exposition, dtype: float64"
      ]
     },
     "execution_count": 241,
     "metadata": {},
     "output_type": "execute_result"
    }
   ],
   "source": [
    "#проведем оценку время продажи квартир\n",
    "data['days_of_exposition'].describe()"
   ]
  },
  {
   "cell_type": "code",
   "execution_count": 242,
   "metadata": {},
   "outputs": [
    {
     "data": {
      "text/plain": [
       "[1.0, 512.5]"
      ]
     },
     "execution_count": 242,
     "metadata": {},
     "output_type": "execute_result"
    }
   ],
   "source": [
    "mustache('days_of_exposition')"
   ]
  },
  {
   "cell_type": "code",
   "execution_count": 243,
   "metadata": {},
   "outputs": [
    {
     "data": {
      "text/plain": [
       "<AxesSubplot:title={'center':'Гистограмма \"срока жизни\" объявлений'}, xlabel='Дни', ylabel='Frequency'>"
      ]
     },
     "execution_count": 243,
     "metadata": {},
     "output_type": "execute_result"
    },
    {
     "data": {
      "image/png": "[encoded data removed]",
      "text/plain": [
       "<Figure size 1080x288 with 1 Axes>"
      ]
     },
     "metadata": {
      "needs_background": "light"
     },
     "output_type": "display_data"
    }
   ],
   "source": [
    "plt.title('Гистограмма \"срока жизни\" объявлений')\n",
    "\n",
    "plt.xlabel('Дни')\n",
    "plt.ylabel('Кол-во квартир')\n",
    "\n",
    "data['days_of_exposition'].plot(kind='hist', figsize=(15,4), bins=100, range=(0, 300))"
   ]
  },
  {
   "cell_type": "markdown",
   "metadata": {},
   "source": [
    "Квартиры могут купить как за 1 день, так и продавать очень долго, вплоть до того, что все еще висеть на продаже (возможно, именно поэтому встречаются пропущенные значения).\n",
    "\n",
    "Среднее арифметическое значение равнятеся 181.4 дням, медиана - 96. В среднем квартиры продаются от 45 до 100 дней. Аномально быстрыми считаются продажи в первые 5 дней, а аномально долгими - после 512.\n",
    "\n",
    "Также встречаются пики, по данным в Интернете можно узнать, что это даты автоматического снятия объявлений."
   ]
  },
  {
   "cell_type": "code",
   "execution_count": 244,
   "metadata": {},
   "outputs": [
    {
     "name": "stdout",
     "output_type": "stream",
     "text": [
      "<class 'pandas.core.frame.DataFrame'>\n",
      "Int64Index: 23453 entries, 0 to 23698\n",
      "Data columns (total 29 columns):\n",
      " #   Column                 Non-Null Count  Dtype         \n",
      "---  ------                 --------------  -----         \n",
      " 0   locality_name          23453 non-null  object        \n",
      " 1   total_area             23453 non-null  float64       \n",
      " 2   living_area            23312 non-null  float64       \n",
      " 3   kitchen_area           23304 non-null  float64       \n",
      " 4   ceiling_height         14408 non-null  float64       \n",
      " 5   rooms                  23453 non-null  int64         \n",
      " 6   balcony                23453 non-null  int32         \n",
      " 7   floor                  23453 non-null  int64         \n",
      " 8   floors_total           23371 non-null  float64       \n",
      " 9   is_apartment           23453 non-null  bool          \n",
      " 10  studio                 23453 non-null  bool          \n",
      " 11  open_plan              23453 non-null  bool          \n",
      " 12  total_images           23453 non-null  int64         \n",
      " 13  last_price             23453 non-null  int32         \n",
      " 14  first_day_exposition   23453 non-null  datetime64[ns]\n",
      " 15  days_of_exposition     20287 non-null  float64       \n",
      " 16  city_center_m          18021 non-null  float64       \n",
      " 17  airports_m             17998 non-null  float64       \n",
      " 18  parks_3km              18022 non-null  float64       \n",
      " 19  parks_nearest_m        8035 non-null   float64       \n",
      " 20  ponds_3km              18022 non-null  float64       \n",
      " 21  ponds_nearest_m        9016 non-null   float64       \n",
      " 22  price_per_metre        23453 non-null  float64       \n",
      " 23  weekday_of_exposition  23453 non-null  int64         \n",
      " 24  month_of_exposition    23453 non-null  int64         \n",
      " 25  year_of_exposition     23453 non-null  int64         \n",
      " 26  floor_optimezed        23453 non-null  object        \n",
      " 27  living_area_ratio      23312 non-null  float64       \n",
      " 28  kitchen_area_ratio     23304 non-null  float64       \n",
      "dtypes: bool(3), datetime64[ns](1), float64(15), int32(2), int64(6), object(2)\n",
      "memory usage: 4.7+ MB\n"
     ]
    }
   ],
   "source": [
    "# Код ревьюера\n",
    "data.info()"
   ]
  },
  {
   "cell_type": "code",
   "execution_count": 245,
   "metadata": {
    "scrolled": true
   },
   "outputs": [
    {
     "data": {
      "text/html": [
       "<div>\n",
       "<style scoped>\n",
       "    .dataframe tbody tr th:only-of-type {\n",
       "        vertical-align: middle;\n",
       "    }\n",
       "\n",
       "    .dataframe tbody tr th {\n",
       "        vertical-align: top;\n",
       "    }\n",
       "\n",
       "    .dataframe thead th {\n",
       "        text-align: right;\n",
       "    }\n",
       "</style>\n",
       "<table border=\"1\" class=\"dataframe\">\n",
       "  <thead>\n",
       "    <tr style=\"text-align: right;\">\n",
       "      <th></th>\n",
       "      <th>locality_name</th>\n",
       "      <th>total_area</th>\n",
       "      <th>living_area</th>\n",
       "      <th>kitchen_area</th>\n",
       "      <th>ceiling_height</th>\n",
       "      <th>rooms</th>\n",
       "      <th>balcony</th>\n",
       "      <th>floor</th>\n",
       "      <th>floors_total</th>\n",
       "      <th>is_apartment</th>\n",
       "      <th>studio</th>\n",
       "      <th>open_plan</th>\n",
       "      <th>total_images</th>\n",
       "      <th>last_price</th>\n",
       "      <th>first_day_exposition</th>\n",
       "      <th>days_of_exposition</th>\n",
       "      <th>city_center_m</th>\n",
       "      <th>airports_m</th>\n",
       "      <th>parks_3km</th>\n",
       "      <th>parks_nearest_m</th>\n",
       "      <th>ponds_3km</th>\n",
       "      <th>ponds_nearest_m</th>\n",
       "      <th>price_per_metre</th>\n",
       "      <th>weekday_of_exposition</th>\n",
       "      <th>month_of_exposition</th>\n",
       "      <th>year_of_exposition</th>\n",
       "      <th>floor_optimezed</th>\n",
       "      <th>living_area_ratio</th>\n",
       "      <th>kitchen_area_ratio</th>\n",
       "      <th>good_area</th>\n",
       "      <th>good_price</th>\n",
       "      <th>good_rooms</th>\n",
       "      <th>good_ceiling</th>\n",
       "      <th>good_days_of_exposition</th>\n",
       "    </tr>\n",
       "  </thead>\n",
       "  <tbody>\n",
       "    <tr>\n",
       "      <th>0</th>\n",
       "      <td>посёлок Шушары</td>\n",
       "      <td>40.4</td>\n",
       "      <td>18.6</td>\n",
       "      <td>11.0</td>\n",
       "      <td>NaN</td>\n",
       "      <td>1</td>\n",
       "      <td>2</td>\n",
       "      <td>1</td>\n",
       "      <td>11.0</td>\n",
       "      <td>False</td>\n",
       "      <td>False</td>\n",
       "      <td>False</td>\n",
       "      <td>7</td>\n",
       "      <td>3350000</td>\n",
       "      <td>2018-12-04</td>\n",
       "      <td>81.0</td>\n",
       "      <td>18603.0</td>\n",
       "      <td>12817.0</td>\n",
       "      <td>0.0</td>\n",
       "      <td>NaN</td>\n",
       "      <td>0.0</td>\n",
       "      <td>NaN</td>\n",
       "      <td>82920.79</td>\n",
       "      <td>1</td>\n",
       "      <td>12</td>\n",
       "      <td>2018</td>\n",
       "      <td>первый этаж</td>\n",
       "      <td>0.46</td>\n",
       "      <td>0.27</td>\n",
       "      <td>True</td>\n",
       "      <td>True</td>\n",
       "      <td>True</td>\n",
       "      <td>True</td>\n",
       "      <td>True</td>\n",
       "    </tr>\n",
       "    <tr>\n",
       "      <th>1</th>\n",
       "      <td>Санкт-Петербург</td>\n",
       "      <td>56.0</td>\n",
       "      <td>34.3</td>\n",
       "      <td>8.3</td>\n",
       "      <td>NaN</td>\n",
       "      <td>2</td>\n",
       "      <td>0</td>\n",
       "      <td>4</td>\n",
       "      <td>5.0</td>\n",
       "      <td>False</td>\n",
       "      <td>False</td>\n",
       "      <td>False</td>\n",
       "      <td>10</td>\n",
       "      <td>5196000</td>\n",
       "      <td>2015-08-20</td>\n",
       "      <td>558.0</td>\n",
       "      <td>13933.0</td>\n",
       "      <td>21741.0</td>\n",
       "      <td>1.0</td>\n",
       "      <td>90.0</td>\n",
       "      <td>2.0</td>\n",
       "      <td>574.0</td>\n",
       "      <td>92785.71</td>\n",
       "      <td>3</td>\n",
       "      <td>8</td>\n",
       "      <td>2015</td>\n",
       "      <td>другой этаж</td>\n",
       "      <td>0.61</td>\n",
       "      <td>0.15</td>\n",
       "      <td>True</td>\n",
       "      <td>True</td>\n",
       "      <td>True</td>\n",
       "      <td>True</td>\n",
       "      <td>True</td>\n",
       "    </tr>\n",
       "    <tr>\n",
       "      <th>2</th>\n",
       "      <td>Санкт-Петербург</td>\n",
       "      <td>100.0</td>\n",
       "      <td>32.0</td>\n",
       "      <td>41.0</td>\n",
       "      <td>303.0</td>\n",
       "      <td>2</td>\n",
       "      <td>0</td>\n",
       "      <td>13</td>\n",
       "      <td>14.0</td>\n",
       "      <td>False</td>\n",
       "      <td>False</td>\n",
       "      <td>False</td>\n",
       "      <td>2</td>\n",
       "      <td>10000000</td>\n",
       "      <td>2018-06-19</td>\n",
       "      <td>121.0</td>\n",
       "      <td>8098.0</td>\n",
       "      <td>31856.0</td>\n",
       "      <td>2.0</td>\n",
       "      <td>112.0</td>\n",
       "      <td>1.0</td>\n",
       "      <td>48.0</td>\n",
       "      <td>100000.00</td>\n",
       "      <td>1</td>\n",
       "      <td>6</td>\n",
       "      <td>2018</td>\n",
       "      <td>другой этаж</td>\n",
       "      <td>0.32</td>\n",
       "      <td>0.41</td>\n",
       "      <td>True</td>\n",
       "      <td>True</td>\n",
       "      <td>True</td>\n",
       "      <td>True</td>\n",
       "      <td>True</td>\n",
       "    </tr>\n",
       "    <tr>\n",
       "      <th>3</th>\n",
       "      <td>городской посёлок Янино-1</td>\n",
       "      <td>30.4</td>\n",
       "      <td>14.4</td>\n",
       "      <td>9.1</td>\n",
       "      <td>NaN</td>\n",
       "      <td>1</td>\n",
       "      <td>0</td>\n",
       "      <td>5</td>\n",
       "      <td>12.0</td>\n",
       "      <td>False</td>\n",
       "      <td>False</td>\n",
       "      <td>False</td>\n",
       "      <td>10</td>\n",
       "      <td>2890000</td>\n",
       "      <td>2018-09-10</td>\n",
       "      <td>55.0</td>\n",
       "      <td>NaN</td>\n",
       "      <td>NaN</td>\n",
       "      <td>NaN</td>\n",
       "      <td>NaN</td>\n",
       "      <td>NaN</td>\n",
       "      <td>NaN</td>\n",
       "      <td>95065.79</td>\n",
       "      <td>0</td>\n",
       "      <td>9</td>\n",
       "      <td>2018</td>\n",
       "      <td>другой этаж</td>\n",
       "      <td>0.47</td>\n",
       "      <td>0.30</td>\n",
       "      <td>True</td>\n",
       "      <td>True</td>\n",
       "      <td>True</td>\n",
       "      <td>True</td>\n",
       "      <td>True</td>\n",
       "    </tr>\n",
       "    <tr>\n",
       "      <th>4</th>\n",
       "      <td>посёлок Парголово</td>\n",
       "      <td>37.3</td>\n",
       "      <td>10.6</td>\n",
       "      <td>14.4</td>\n",
       "      <td>NaN</td>\n",
       "      <td>1</td>\n",
       "      <td>1</td>\n",
       "      <td>6</td>\n",
       "      <td>26.0</td>\n",
       "      <td>False</td>\n",
       "      <td>False</td>\n",
       "      <td>False</td>\n",
       "      <td>6</td>\n",
       "      <td>3700000</td>\n",
       "      <td>2017-11-02</td>\n",
       "      <td>155.0</td>\n",
       "      <td>19143.0</td>\n",
       "      <td>52996.0</td>\n",
       "      <td>0.0</td>\n",
       "      <td>NaN</td>\n",
       "      <td>0.0</td>\n",
       "      <td>NaN</td>\n",
       "      <td>99195.71</td>\n",
       "      <td>3</td>\n",
       "      <td>11</td>\n",
       "      <td>2017</td>\n",
       "      <td>другой этаж</td>\n",
       "      <td>0.28</td>\n",
       "      <td>0.39</td>\n",
       "      <td>True</td>\n",
       "      <td>True</td>\n",
       "      <td>True</td>\n",
       "      <td>True</td>\n",
       "      <td>True</td>\n",
       "    </tr>\n",
       "  </tbody>\n",
       "</table>\n",
       "</div>"
      ],
      "text/plain": [
       "               locality_name  total_area  living_area  kitchen_area  \\\n",
       "0             посёлок Шушары        40.4         18.6          11.0   \n",
       "1            Санкт-Петербург        56.0         34.3           8.3   \n",
       "2            Санкт-Петербург       100.0         32.0          41.0   \n",
       "3  городской посёлок Янино-1        30.4         14.4           9.1   \n",
       "4          посёлок Парголово        37.3         10.6          14.4   \n",
       "\n",
       "   ceiling_height  rooms  balcony  floor  floors_total  is_apartment  studio  \\\n",
       "0             NaN      1        2      1          11.0         False   False   \n",
       "1             NaN      2        0      4           5.0         False   False   \n",
       "2           303.0      2        0     13          14.0         False   False   \n",
       "3             NaN      1        0      5          12.0         False   False   \n",
       "4             NaN      1        1      6          26.0         False   False   \n",
       "\n",
       "   open_plan  total_images  last_price first_day_exposition  \\\n",
       "0      False             7     3350000           2018-12-04   \n",
       "1      False            10     5196000           2015-08-20   \n",
       "2      False             2    10000000           2018-06-19   \n",
       "3      False            10     2890000           2018-09-10   \n",
       "4      False             6     3700000           2017-11-02   \n",
       "\n",
       "   days_of_exposition  city_center_m  airports_m  parks_3km  parks_nearest_m  \\\n",
       "0                81.0        18603.0     12817.0        0.0              NaN   \n",
       "1               558.0        13933.0     21741.0        1.0             90.0   \n",
       "2               121.0         8098.0     31856.0        2.0            112.0   \n",
       "3                55.0            NaN         NaN        NaN              NaN   \n",
       "4               155.0        19143.0     52996.0        0.0              NaN   \n",
       "\n",
       "   ponds_3km  ponds_nearest_m  price_per_metre  weekday_of_exposition  \\\n",
       "0        0.0              NaN         82920.79                      1   \n",
       "1        2.0            574.0         92785.71                      3   \n",
       "2        1.0             48.0        100000.00                      1   \n",
       "3        NaN              NaN         95065.79                      0   \n",
       "4        0.0              NaN         99195.71                      3   \n",
       "\n",
       "   month_of_exposition  year_of_exposition floor_optimezed  living_area_ratio  \\\n",
       "0                   12                2018     первый этаж               0.46   \n",
       "1                    8                2015     другой этаж               0.61   \n",
       "2                    6                2018     другой этаж               0.32   \n",
       "3                    9                2018     другой этаж               0.47   \n",
       "4                   11                2017     другой этаж               0.28   \n",
       "\n",
       "   kitchen_area_ratio  good_area  good_price  good_rooms  good_ceiling  \\\n",
       "0                0.27       True        True        True          True   \n",
       "1                0.15       True        True        True          True   \n",
       "2                0.41       True        True        True          True   \n",
       "3                0.30       True        True        True          True   \n",
       "4                0.39       True        True        True          True   \n",
       "\n",
       "   good_days_of_exposition  \n",
       "0                     True  \n",
       "1                     True  \n",
       "2                     True  \n",
       "3                     True  \n",
       "4                     True  "
      ]
     },
     "execution_count": 245,
     "metadata": {},
     "output_type": "execute_result"
    }
   ],
   "source": [
    "#составим таблицу с хорошими данными на основе написанной функции\n",
    "\n",
    "\n",
    "data['good_area'] = data['total_area'] < mustache('total_area')[1]\n",
    "data['good_price'] = data['last_price'] < mustache('last_price')[1]\n",
    "data['good_rooms'] = data['rooms'] < mustache('rooms')[1]\n",
    "data['good_ceiling'] = (data['ceiling_height'] < mustache('ceiling_height')[1]) \\\n",
    "                        | data['ceiling_height'].isna()\n",
    "data['good_days_of_exposition'] = (data['days_of_exposition'] < mustache('days_of_exposition')[1]) \\\n",
    "                        | (data['days_of_exposition'] > mustache('days_of_exposition')[0])\n",
    "good_data = data[(data['good_area'] == True) & \n",
    "     (data['good_price'] == True) &\n",
    "     (data['good_rooms'] == True) &\n",
    "     (data['good_ceiling'] == True) &\n",
    "     (data['good_days_of_exposition'] == True)].reset_index(drop=True)\n",
    "\n",
    "#проверим таблицу с хорошими данными\n",
    "good_data.head()"
   ]
  },
  {
   "cell_type": "code",
   "execution_count": 246,
   "metadata": {},
   "outputs": [
    {
     "name": "stdout",
     "output_type": "stream",
     "text": [
      "<class 'pandas.core.frame.DataFrame'>\n",
      "RangeIndex: 18294 entries, 0 to 18293\n",
      "Data columns (total 34 columns):\n",
      " #   Column                   Non-Null Count  Dtype         \n",
      "---  ------                   --------------  -----         \n",
      " 0   locality_name            18294 non-null  object        \n",
      " 1   total_area               18294 non-null  float64       \n",
      " 2   living_area              18205 non-null  float64       \n",
      " 3   kitchen_area             18183 non-null  float64       \n",
      " 4   ceiling_height           10538 non-null  float64       \n",
      " 5   rooms                    18294 non-null  int64         \n",
      " 6   balcony                  18294 non-null  int32         \n",
      " 7   floor                    18294 non-null  int64         \n",
      " 8   floors_total             18231 non-null  float64       \n",
      " 9   is_apartment             18294 non-null  bool          \n",
      " 10  studio                   18294 non-null  bool          \n",
      " 11  open_plan                18294 non-null  bool          \n",
      " 12  total_images             18294 non-null  int64         \n",
      " 13  last_price               18294 non-null  int32         \n",
      " 14  first_day_exposition     18294 non-null  datetime64[ns]\n",
      " 15  days_of_exposition       18294 non-null  float64       \n",
      " 16  city_center_m            13776 non-null  float64       \n",
      " 17  airports_m               13764 non-null  float64       \n",
      " 18  parks_3km                13776 non-null  float64       \n",
      " 19  parks_nearest_m          5586 non-null   float64       \n",
      " 20  ponds_3km                13776 non-null  float64       \n",
      " 21  ponds_nearest_m          6526 non-null   float64       \n",
      " 22  price_per_metre          18294 non-null  float64       \n",
      " 23  weekday_of_exposition    18294 non-null  int64         \n",
      " 24  month_of_exposition      18294 non-null  int64         \n",
      " 25  year_of_exposition       18294 non-null  int64         \n",
      " 26  floor_optimezed          18294 non-null  object        \n",
      " 27  living_area_ratio        18205 non-null  float64       \n",
      " 28  kitchen_area_ratio       18183 non-null  float64       \n",
      " 29  good_area                18294 non-null  bool          \n",
      " 30  good_price               18294 non-null  bool          \n",
      " 31  good_rooms               18294 non-null  bool          \n",
      " 32  good_ceiling             18294 non-null  bool          \n",
      " 33  good_days_of_exposition  18294 non-null  bool          \n",
      "dtypes: bool(8), datetime64[ns](1), float64(15), int32(2), int64(6), object(2)\n",
      "memory usage: 3.6+ MB\n"
     ]
    }
   ],
   "source": [
    "# Код ревьюера\n",
    "good_data.info()"
   ]
  },
  {
   "cell_type": "code",
   "execution_count": 247,
   "metadata": {},
   "outputs": [
    {
     "data": {
      "text/html": [
       "<div>\n",
       "<style scoped>\n",
       "    .dataframe tbody tr th:only-of-type {\n",
       "        vertical-align: middle;\n",
       "    }\n",
       "\n",
       "    .dataframe tbody tr th {\n",
       "        vertical-align: top;\n",
       "    }\n",
       "\n",
       "    .dataframe thead th {\n",
       "        text-align: right;\n",
       "    }\n",
       "</style>\n",
       "<table border=\"1\" class=\"dataframe\">\n",
       "  <thead>\n",
       "    <tr style=\"text-align: right;\">\n",
       "      <th></th>\n",
       "      <th>total_area</th>\n",
       "      <th>living_area</th>\n",
       "      <th>kitchen_area</th>\n",
       "      <th>ceiling_height</th>\n",
       "      <th>rooms</th>\n",
       "      <th>balcony</th>\n",
       "      <th>floor</th>\n",
       "      <th>floors_total</th>\n",
       "      <th>total_images</th>\n",
       "      <th>last_price</th>\n",
       "      <th>days_of_exposition</th>\n",
       "      <th>city_center_m</th>\n",
       "      <th>airports_m</th>\n",
       "      <th>parks_3km</th>\n",
       "      <th>parks_nearest_m</th>\n",
       "      <th>ponds_3km</th>\n",
       "      <th>ponds_nearest_m</th>\n",
       "      <th>price_per_metre</th>\n",
       "      <th>weekday_of_exposition</th>\n",
       "      <th>month_of_exposition</th>\n",
       "      <th>year_of_exposition</th>\n",
       "      <th>living_area_ratio</th>\n",
       "      <th>kitchen_area_ratio</th>\n",
       "    </tr>\n",
       "  </thead>\n",
       "  <tbody>\n",
       "    <tr>\n",
       "      <th>count</th>\n",
       "      <td>18294.000000</td>\n",
       "      <td>18205.000000</td>\n",
       "      <td>18183.000000</td>\n",
       "      <td>10538.000000</td>\n",
       "      <td>18294.000000</td>\n",
       "      <td>18294.000000</td>\n",
       "      <td>18294.000000</td>\n",
       "      <td>18231.000000</td>\n",
       "      <td>18294.000000</td>\n",
       "      <td>1.829400e+04</td>\n",
       "      <td>18294.000000</td>\n",
       "      <td>13776.000000</td>\n",
       "      <td>13764.00000</td>\n",
       "      <td>13776.000000</td>\n",
       "      <td>5586.000000</td>\n",
       "      <td>13776.000000</td>\n",
       "      <td>6526.000000</td>\n",
       "      <td>18294.000000</td>\n",
       "      <td>18294.000000</td>\n",
       "      <td>18294.000000</td>\n",
       "      <td>18294.000000</td>\n",
       "      <td>18205.000000</td>\n",
       "      <td>18183.000000</td>\n",
       "    </tr>\n",
       "    <tr>\n",
       "      <th>mean</th>\n",
       "      <td>52.037063</td>\n",
       "      <td>29.659564</td>\n",
       "      <td>9.444208</td>\n",
       "      <td>265.739704</td>\n",
       "      <td>1.891932</td>\n",
       "      <td>0.592763</td>\n",
       "      <td>6.014540</td>\n",
       "      <td>11.005705</td>\n",
       "      <td>9.476823</td>\n",
       "      <td>4.710958e+06</td>\n",
       "      <td>171.791352</td>\n",
       "      <td>15210.670732</td>\n",
       "      <td>29090.93236</td>\n",
       "      <td>0.538690</td>\n",
       "      <td>490.435195</td>\n",
       "      <td>0.689968</td>\n",
       "      <td>534.313515</td>\n",
       "      <td>91320.076549</td>\n",
       "      <td>2.589592</td>\n",
       "      <td>6.573029</td>\n",
       "      <td>2017.242867</td>\n",
       "      <td>0.560770</td>\n",
       "      <td>0.190960</td>\n",
       "    </tr>\n",
       "    <tr>\n",
       "      <th>std</th>\n",
       "      <td>17.205536</td>\n",
       "      <td>12.349685</td>\n",
       "      <td>3.559383</td>\n",
       "      <td>17.048332</td>\n",
       "      <td>0.857321</td>\n",
       "      <td>0.932889</td>\n",
       "      <td>4.957437</td>\n",
       "      <td>6.667387</td>\n",
       "      <td>5.524131</td>\n",
       "      <td>2.091778e+06</td>\n",
       "      <td>209.966156</td>\n",
       "      <td>8388.963928</td>\n",
       "      <td>13109.06922</td>\n",
       "      <td>0.752172</td>\n",
       "      <td>333.389644</td>\n",
       "      <td>0.875264</td>\n",
       "      <td>276.149442</td>\n",
       "      <td>28603.525348</td>\n",
       "      <td>1.790795</td>\n",
       "      <td>3.486469</td>\n",
       "      <td>0.951395</td>\n",
       "      <td>0.100619</td>\n",
       "      <td>0.069091</td>\n",
       "    </tr>\n",
       "    <tr>\n",
       "      <th>min</th>\n",
       "      <td>12.000000</td>\n",
       "      <td>2.000000</td>\n",
       "      <td>2.000000</td>\n",
       "      <td>100.000000</td>\n",
       "      <td>1.000000</td>\n",
       "      <td>0.000000</td>\n",
       "      <td>1.000000</td>\n",
       "      <td>1.000000</td>\n",
       "      <td>0.000000</td>\n",
       "      <td>1.219000e+04</td>\n",
       "      <td>1.000000</td>\n",
       "      <td>329.000000</td>\n",
       "      <td>0.00000</td>\n",
       "      <td>0.000000</td>\n",
       "      <td>1.000000</td>\n",
       "      <td>0.000000</td>\n",
       "      <td>16.000000</td>\n",
       "      <td>111.830000</td>\n",
       "      <td>0.000000</td>\n",
       "      <td>1.000000</td>\n",
       "      <td>2014.000000</td>\n",
       "      <td>0.040000</td>\n",
       "      <td>0.040000</td>\n",
       "    </tr>\n",
       "    <tr>\n",
       "      <th>25%</th>\n",
       "      <td>38.762500</td>\n",
       "      <td>18.000000</td>\n",
       "      <td>7.000000</td>\n",
       "      <td>250.000000</td>\n",
       "      <td>1.000000</td>\n",
       "      <td>0.000000</td>\n",
       "      <td>2.000000</td>\n",
       "      <td>5.000000</td>\n",
       "      <td>6.000000</td>\n",
       "      <td>3.300000e+06</td>\n",
       "      <td>44.000000</td>\n",
       "      <td>10890.000000</td>\n",
       "      <td>17942.00000</td>\n",
       "      <td>0.000000</td>\n",
       "      <td>289.000000</td>\n",
       "      <td>0.000000</td>\n",
       "      <td>322.250000</td>\n",
       "      <td>74576.270000</td>\n",
       "      <td>1.000000</td>\n",
       "      <td>3.000000</td>\n",
       "      <td>2017.000000</td>\n",
       "      <td>0.490000</td>\n",
       "      <td>0.140000</td>\n",
       "    </tr>\n",
       "    <tr>\n",
       "      <th>50%</th>\n",
       "      <td>48.000000</td>\n",
       "      <td>28.800000</td>\n",
       "      <td>9.000000</td>\n",
       "      <td>260.000000</td>\n",
       "      <td>2.000000</td>\n",
       "      <td>0.000000</td>\n",
       "      <td>4.000000</td>\n",
       "      <td>9.000000</td>\n",
       "      <td>9.000000</td>\n",
       "      <td>4.300000e+06</td>\n",
       "      <td>91.000000</td>\n",
       "      <td>13755.500000</td>\n",
       "      <td>27556.00000</td>\n",
       "      <td>0.000000</td>\n",
       "      <td>456.000000</td>\n",
       "      <td>0.000000</td>\n",
       "      <td>522.000000</td>\n",
       "      <td>91913.325000</td>\n",
       "      <td>3.000000</td>\n",
       "      <td>7.000000</td>\n",
       "      <td>2017.000000</td>\n",
       "      <td>0.570000</td>\n",
       "      <td>0.180000</td>\n",
       "    </tr>\n",
       "    <tr>\n",
       "      <th>75%</th>\n",
       "      <td>62.000000</td>\n",
       "      <td>38.000000</td>\n",
       "      <td>11.000000</td>\n",
       "      <td>275.000000</td>\n",
       "      <td>3.000000</td>\n",
       "      <td>1.000000</td>\n",
       "      <td>8.000000</td>\n",
       "      <td>16.000000</td>\n",
       "      <td>13.000000</td>\n",
       "      <td>5.800000e+06</td>\n",
       "      <td>217.000000</td>\n",
       "      <td>16791.500000</td>\n",
       "      <td>38195.00000</td>\n",
       "      <td>1.000000</td>\n",
       "      <td>616.000000</td>\n",
       "      <td>1.000000</td>\n",
       "      <td>741.000000</td>\n",
       "      <td>107719.957500</td>\n",
       "      <td>4.000000</td>\n",
       "      <td>10.000000</td>\n",
       "      <td>2018.000000</td>\n",
       "      <td>0.630000</td>\n",
       "      <td>0.240000</td>\n",
       "    </tr>\n",
       "    <tr>\n",
       "      <th>max</th>\n",
       "      <td>114.800000</td>\n",
       "      <td>90.200000</td>\n",
       "      <td>50.000000</td>\n",
       "      <td>323.000000</td>\n",
       "      <td>5.000000</td>\n",
       "      <td>5.000000</td>\n",
       "      <td>33.000000</td>\n",
       "      <td>60.000000</td>\n",
       "      <td>50.000000</td>\n",
       "      <td>1.180967e+07</td>\n",
       "      <td>1580.000000</td>\n",
       "      <td>65968.000000</td>\n",
       "      <td>84869.00000</td>\n",
       "      <td>3.000000</td>\n",
       "      <td>3190.000000</td>\n",
       "      <td>3.000000</td>\n",
       "      <td>1344.000000</td>\n",
       "      <td>312240.000000</td>\n",
       "      <td>6.000000</td>\n",
       "      <td>12.000000</td>\n",
       "      <td>2019.000000</td>\n",
       "      <td>0.980000</td>\n",
       "      <td>0.790000</td>\n",
       "    </tr>\n",
       "  </tbody>\n",
       "</table>\n",
       "</div>"
      ],
      "text/plain": [
       "         total_area   living_area  kitchen_area  ceiling_height         rooms  \\\n",
       "count  18294.000000  18205.000000  18183.000000    10538.000000  18294.000000   \n",
       "mean      52.037063     29.659564      9.444208      265.739704      1.891932   \n",
       "std       17.205536     12.349685      3.559383       17.048332      0.857321   \n",
       "min       12.000000      2.000000      2.000000      100.000000      1.000000   \n",
       "25%       38.762500     18.000000      7.000000      250.000000      1.000000   \n",
       "50%       48.000000     28.800000      9.000000      260.000000      2.000000   \n",
       "75%       62.000000     38.000000     11.000000      275.000000      3.000000   \n",
       "max      114.800000     90.200000     50.000000      323.000000      5.000000   \n",
       "\n",
       "            balcony         floor  floors_total  total_images    last_price  \\\n",
       "count  18294.000000  18294.000000  18231.000000  18294.000000  1.829400e+04   \n",
       "mean       0.592763      6.014540     11.005705      9.476823  4.710958e+06   \n",
       "std        0.932889      4.957437      6.667387      5.524131  2.091778e+06   \n",
       "min        0.000000      1.000000      1.000000      0.000000  1.219000e+04   \n",
       "25%        0.000000      2.000000      5.000000      6.000000  3.300000e+06   \n",
       "50%        0.000000      4.000000      9.000000      9.000000  4.300000e+06   \n",
       "75%        1.000000      8.000000     16.000000     13.000000  5.800000e+06   \n",
       "max        5.000000     33.000000     60.000000     50.000000  1.180967e+07   \n",
       "\n",
       "       days_of_exposition  city_center_m   airports_m     parks_3km  \\\n",
       "count        18294.000000   13776.000000  13764.00000  13776.000000   \n",
       "mean           171.791352   15210.670732  29090.93236      0.538690   \n",
       "std            209.966156    8388.963928  13109.06922      0.752172   \n",
       "min              1.000000     329.000000      0.00000      0.000000   \n",
       "25%             44.000000   10890.000000  17942.00000      0.000000   \n",
       "50%             91.000000   13755.500000  27556.00000      0.000000   \n",
       "75%            217.000000   16791.500000  38195.00000      1.000000   \n",
       "max           1580.000000   65968.000000  84869.00000      3.000000   \n",
       "\n",
       "       parks_nearest_m     ponds_3km  ponds_nearest_m  price_per_metre  \\\n",
       "count      5586.000000  13776.000000      6526.000000     18294.000000   \n",
       "mean        490.435195      0.689968       534.313515     91320.076549   \n",
       "std         333.389644      0.875264       276.149442     28603.525348   \n",
       "min           1.000000      0.000000        16.000000       111.830000   \n",
       "25%         289.000000      0.000000       322.250000     74576.270000   \n",
       "50%         456.000000      0.000000       522.000000     91913.325000   \n",
       "75%         616.000000      1.000000       741.000000    107719.957500   \n",
       "max        3190.000000      3.000000      1344.000000    312240.000000   \n",
       "\n",
       "       weekday_of_exposition  month_of_exposition  year_of_exposition  \\\n",
       "count           18294.000000         18294.000000        18294.000000   \n",
       "mean                2.589592             6.573029         2017.242867   \n",
       "std                 1.790795             3.486469            0.951395   \n",
       "min                 0.000000             1.000000         2014.000000   \n",
       "25%                 1.000000             3.000000         2017.000000   \n",
       "50%                 3.000000             7.000000         2017.000000   \n",
       "75%                 4.000000            10.000000         2018.000000   \n",
       "max                 6.000000            12.000000         2019.000000   \n",
       "\n",
       "       living_area_ratio  kitchen_area_ratio  \n",
       "count       18205.000000        18183.000000  \n",
       "mean            0.560770            0.190960  \n",
       "std             0.100619            0.069091  \n",
       "min             0.040000            0.040000  \n",
       "25%             0.490000            0.140000  \n",
       "50%             0.570000            0.180000  \n",
       "75%             0.630000            0.240000  \n",
       "max             0.980000            0.790000  "
      ]
     },
     "execution_count": 247,
     "metadata": {},
     "output_type": "execute_result"
    }
   ],
   "source": [
    "good_data.describe()"
   ]
  },
  {
   "cell_type": "markdown",
   "metadata": {},
   "source": [
    "Удалив лишние значения, мы видим, что таблица приобрела реальный вид и на ее основе мы можем продолжить работать дальше."
   ]
  },
  {
   "cell_type": "code",
   "execution_count": 248,
   "metadata": {},
   "outputs": [
    {
     "data": {
      "text/plain": [
       "total_area               0.692883\n",
       "rooms                    0.425897\n",
       "floor                    0.152398\n",
       "city_center_m           -0.336300\n",
       "weekday_of_exposition   -0.007776\n",
       "month_of_exposition      0.008428\n",
       "year_of_exposition      -0.020154\n",
       "dtype: float64"
      ]
     },
     "metadata": {},
     "output_type": "display_data"
    }
   ],
   "source": [
    "#рассчитаем, какие факторы больше всего влияют на стоимость квартиры\n",
    "\n",
    "display(good_data[['total_area', 'rooms',\\\n",
    "           'floor', 'city_center_m', 'weekday_of_exposition',\\\n",
    "           'month_of_exposition', 'year_of_exposition']].corrwith(good_data['last_price']))"
   ]
  },
  {
   "cell_type": "code",
   "execution_count": 249,
   "metadata": {},
   "outputs": [
    {
     "data": {
      "text/html": [
       "<div>\n",
       "<style scoped>\n",
       "    .dataframe tbody tr th:only-of-type {\n",
       "        vertical-align: middle;\n",
       "    }\n",
       "\n",
       "    .dataframe tbody tr th {\n",
       "        vertical-align: top;\n",
       "    }\n",
       "\n",
       "    .dataframe thead th {\n",
       "        text-align: right;\n",
       "    }\n",
       "</style>\n",
       "<table border=\"1\" class=\"dataframe\">\n",
       "  <thead>\n",
       "    <tr style=\"text-align: right;\">\n",
       "      <th></th>\n",
       "      <th>last_price</th>\n",
       "    </tr>\n",
       "    <tr>\n",
       "      <th>floor_optimezed</th>\n",
       "      <th></th>\n",
       "    </tr>\n",
       "  </thead>\n",
       "  <tbody>\n",
       "    <tr>\n",
       "      <th>другой этаж</th>\n",
       "      <td>4.907334e+06</td>\n",
       "    </tr>\n",
       "    <tr>\n",
       "      <th>первый этаж</th>\n",
       "      <td>3.970167e+06</td>\n",
       "    </tr>\n",
       "    <tr>\n",
       "      <th>последний этаж</th>\n",
       "      <td>4.322271e+06</td>\n",
       "    </tr>\n",
       "  </tbody>\n",
       "</table>\n",
       "</div>"
      ],
      "text/plain": [
       "                   last_price\n",
       "floor_optimezed              \n",
       "другой этаж      4.907334e+06\n",
       "первый этаж      3.970167e+06\n",
       "последний этаж   4.322271e+06"
      ]
     },
     "execution_count": 249,
     "metadata": {},
     "output_type": "execute_result"
    }
   ],
   "source": [
    "good_data.pivot_table(index=['floor_optimezed'], values='last_price', aggfunc='mean')"
   ]
  },
  {
   "cell_type": "markdown",
   "metadata": {},
   "source": [
    "Построив таблицу зависимости цены квартиры от этажа мы видим, что самые дешевые квартиры расположены на первом этаже. Это не странно, так как согласно статистике, цена на них в среднем на 10% ниже. Не удивительно, что самые дорогие квартиры расположены и не на последнем этаже, так как их цена тоже в среднем ниже."
   ]
  },
  {
   "cell_type": "code",
   "execution_count": 250,
   "metadata": {},
   "outputs": [
    {
     "data": {
      "text/html": [
       "<div>\n",
       "<style scoped>\n",
       "    .dataframe tbody tr th:only-of-type {\n",
       "        vertical-align: middle;\n",
       "    }\n",
       "\n",
       "    .dataframe tbody tr th {\n",
       "        vertical-align: top;\n",
       "    }\n",
       "\n",
       "    .dataframe thead th {\n",
       "        text-align: right;\n",
       "    }\n",
       "</style>\n",
       "<table border=\"1\" class=\"dataframe\">\n",
       "  <thead>\n",
       "    <tr style=\"text-align: right;\">\n",
       "      <th></th>\n",
       "      <th>last_price</th>\n",
       "    </tr>\n",
       "    <tr>\n",
       "      <th>weekday_of_exposition</th>\n",
       "      <th></th>\n",
       "    </tr>\n",
       "  </thead>\n",
       "  <tbody>\n",
       "    <tr>\n",
       "      <th>0</th>\n",
       "      <td>4.700607e+06</td>\n",
       "    </tr>\n",
       "    <tr>\n",
       "      <th>1</th>\n",
       "      <td>4.734999e+06</td>\n",
       "    </tr>\n",
       "    <tr>\n",
       "      <th>2</th>\n",
       "      <td>4.702262e+06</td>\n",
       "    </tr>\n",
       "    <tr>\n",
       "      <th>3</th>\n",
       "      <td>4.757857e+06</td>\n",
       "    </tr>\n",
       "    <tr>\n",
       "      <th>4</th>\n",
       "      <td>4.720399e+06</td>\n",
       "    </tr>\n",
       "    <tr>\n",
       "      <th>5</th>\n",
       "      <td>4.642678e+06</td>\n",
       "    </tr>\n",
       "    <tr>\n",
       "      <th>6</th>\n",
       "      <td>4.632472e+06</td>\n",
       "    </tr>\n",
       "  </tbody>\n",
       "</table>\n",
       "</div>"
      ],
      "text/plain": [
       "                         last_price\n",
       "weekday_of_exposition              \n",
       "0                      4.700607e+06\n",
       "1                      4.734999e+06\n",
       "2                      4.702262e+06\n",
       "3                      4.757857e+06\n",
       "4                      4.720399e+06\n",
       "5                      4.642678e+06\n",
       "6                      4.632472e+06"
      ]
     },
     "execution_count": 250,
     "metadata": {},
     "output_type": "execute_result"
    }
   ],
   "source": [
    "good_data.pivot_table(index='weekday_of_exposition',\n",
    "                      values='last_price', aggfunc='mean')"
   ]
  },
  {
   "cell_type": "code",
   "execution_count": 251,
   "metadata": {},
   "outputs": [
    {
     "data": {
      "text/html": [
       "<div>\n",
       "<style scoped>\n",
       "    .dataframe tbody tr th:only-of-type {\n",
       "        vertical-align: middle;\n",
       "    }\n",
       "\n",
       "    .dataframe tbody tr th {\n",
       "        vertical-align: top;\n",
       "    }\n",
       "\n",
       "    .dataframe thead th {\n",
       "        text-align: right;\n",
       "    }\n",
       "</style>\n",
       "<table border=\"1\" class=\"dataframe\">\n",
       "  <thead>\n",
       "    <tr style=\"text-align: right;\">\n",
       "      <th></th>\n",
       "      <th>last_price</th>\n",
       "    </tr>\n",
       "    <tr>\n",
       "      <th>month_of_exposition</th>\n",
       "      <th></th>\n",
       "    </tr>\n",
       "  </thead>\n",
       "  <tbody>\n",
       "    <tr>\n",
       "      <th>1</th>\n",
       "      <td>4.676984e+06</td>\n",
       "    </tr>\n",
       "    <tr>\n",
       "      <th>2</th>\n",
       "      <td>4.714934e+06</td>\n",
       "    </tr>\n",
       "    <tr>\n",
       "      <th>3</th>\n",
       "      <td>4.637779e+06</td>\n",
       "    </tr>\n",
       "    <tr>\n",
       "      <th>4</th>\n",
       "      <td>4.797434e+06</td>\n",
       "    </tr>\n",
       "    <tr>\n",
       "      <th>5</th>\n",
       "      <td>4.739486e+06</td>\n",
       "    </tr>\n",
       "    <tr>\n",
       "      <th>6</th>\n",
       "      <td>4.577566e+06</td>\n",
       "    </tr>\n",
       "    <tr>\n",
       "      <th>7</th>\n",
       "      <td>4.647334e+06</td>\n",
       "    </tr>\n",
       "    <tr>\n",
       "      <th>8</th>\n",
       "      <td>4.760288e+06</td>\n",
       "    </tr>\n",
       "    <tr>\n",
       "      <th>9</th>\n",
       "      <td>4.822263e+06</td>\n",
       "    </tr>\n",
       "    <tr>\n",
       "      <th>10</th>\n",
       "      <td>4.700760e+06</td>\n",
       "    </tr>\n",
       "    <tr>\n",
       "      <th>11</th>\n",
       "      <td>4.760779e+06</td>\n",
       "    </tr>\n",
       "    <tr>\n",
       "      <th>12</th>\n",
       "      <td>4.691381e+06</td>\n",
       "    </tr>\n",
       "  </tbody>\n",
       "</table>\n",
       "</div>"
      ],
      "text/plain": [
       "                       last_price\n",
       "month_of_exposition              \n",
       "1                    4.676984e+06\n",
       "2                    4.714934e+06\n",
       "3                    4.637779e+06\n",
       "4                    4.797434e+06\n",
       "5                    4.739486e+06\n",
       "6                    4.577566e+06\n",
       "7                    4.647334e+06\n",
       "8                    4.760288e+06\n",
       "9                    4.822263e+06\n",
       "10                   4.700760e+06\n",
       "11                   4.760779e+06\n",
       "12                   4.691381e+06"
      ]
     },
     "execution_count": 251,
     "metadata": {},
     "output_type": "execute_result"
    }
   ],
   "source": [
    "good_data.pivot_table(index='month_of_exposition', \n",
    "                      values='last_price', aggfunc='mean')"
   ]
  },
  {
   "cell_type": "code",
   "execution_count": 252,
   "metadata": {},
   "outputs": [
    {
     "data": {
      "text/html": [
       "<div>\n",
       "<style scoped>\n",
       "    .dataframe tbody tr th:only-of-type {\n",
       "        vertical-align: middle;\n",
       "    }\n",
       "\n",
       "    .dataframe tbody tr th {\n",
       "        vertical-align: top;\n",
       "    }\n",
       "\n",
       "    .dataframe thead th {\n",
       "        text-align: right;\n",
       "    }\n",
       "</style>\n",
       "<table border=\"1\" class=\"dataframe\">\n",
       "  <thead>\n",
       "    <tr style=\"text-align: right;\">\n",
       "      <th></th>\n",
       "      <th>last_price</th>\n",
       "    </tr>\n",
       "    <tr>\n",
       "      <th>year_of_exposition</th>\n",
       "      <th></th>\n",
       "    </tr>\n",
       "  </thead>\n",
       "  <tbody>\n",
       "    <tr>\n",
       "      <th>2014</th>\n",
       "      <td>5.556114e+06</td>\n",
       "    </tr>\n",
       "    <tr>\n",
       "      <th>2015</th>\n",
       "      <td>5.068605e+06</td>\n",
       "    </tr>\n",
       "    <tr>\n",
       "      <th>2016</th>\n",
       "      <td>4.680542e+06</td>\n",
       "    </tr>\n",
       "    <tr>\n",
       "      <th>2017</th>\n",
       "      <td>4.692708e+06</td>\n",
       "    </tr>\n",
       "    <tr>\n",
       "      <th>2018</th>\n",
       "      <td>4.647548e+06</td>\n",
       "    </tr>\n",
       "    <tr>\n",
       "      <th>2019</th>\n",
       "      <td>4.955413e+06</td>\n",
       "    </tr>\n",
       "  </tbody>\n",
       "</table>\n",
       "</div>"
      ],
      "text/plain": [
       "                      last_price\n",
       "year_of_exposition              \n",
       "2014                5.556114e+06\n",
       "2015                5.068605e+06\n",
       "2016                4.680542e+06\n",
       "2017                4.692708e+06\n",
       "2018                4.647548e+06\n",
       "2019                4.955413e+06"
      ]
     },
     "execution_count": 252,
     "metadata": {},
     "output_type": "execute_result"
    }
   ],
   "source": [
    "good_data.pivot_table(index='year_of_exposition', \n",
    "                      values='last_price', aggfunc='mean')"
   ]
  },
  {
   "cell_type": "markdown",
   "metadata": {},
   "source": [
    "Изучив таблицы, мы можем сказать, что зависимости цены от дня недели или месяца не прослеживается. Средняя цена на квартиру упала после 2014 года, что может быть спровоцировано, например, геополитическими факторами и введеним санкций из-за присоединения Крыма, однако затем стоимость находилась примерно на одном и том же уровне. "
   ]
  },
  {
   "cell_type": "markdown",
   "metadata": {},
   "source": [
    "**Вывод**\n",
    "\n",
    "Сильнее всего на цену квартиры влияет общая площадь, далее идет количество комнат (логично, так как они взаимосвязаны). Также прослеживается обратная зависимость цены от расстояния до центра города. Также можно отметить, что самые дешевые квартиры расположены на первом этаже, а самые дорогие - на последнем. Зависимость цены от года не прослеживается, за исключением ее падения после 2014 года."
   ]
  },
  {
   "cell_type": "code",
   "execution_count": 253,
   "metadata": {},
   "outputs": [
    {
     "data": {
      "text/html": [
       "<div>\n",
       "<style scoped>\n",
       "    .dataframe tbody tr th:only-of-type {\n",
       "        vertical-align: middle;\n",
       "    }\n",
       "\n",
       "    .dataframe tbody tr th {\n",
       "        vertical-align: top;\n",
       "    }\n",
       "\n",
       "    .dataframe thead th {\n",
       "        text-align: right;\n",
       "    }\n",
       "</style>\n",
       "<table border=\"1\" class=\"dataframe\">\n",
       "  <thead>\n",
       "    <tr style=\"text-align: right;\">\n",
       "      <th></th>\n",
       "      <th>count</th>\n",
       "      <th>median</th>\n",
       "    </tr>\n",
       "    <tr>\n",
       "      <th>locality_name</th>\n",
       "      <th></th>\n",
       "      <th></th>\n",
       "    </tr>\n",
       "  </thead>\n",
       "  <tbody>\n",
       "    <tr>\n",
       "      <th>Санкт-Петербург</th>\n",
       "      <td>11669</td>\n",
       "      <td>100900.900</td>\n",
       "    </tr>\n",
       "    <tr>\n",
       "      <th>посёлок Мурино</th>\n",
       "      <td>489</td>\n",
       "      <td>84375.000</td>\n",
       "    </tr>\n",
       "    <tr>\n",
       "      <th>посёлок Шушары</th>\n",
       "      <td>400</td>\n",
       "      <td>75933.555</td>\n",
       "    </tr>\n",
       "    <tr>\n",
       "      <th>Всеволожск</th>\n",
       "      <td>329</td>\n",
       "      <td>65686.270</td>\n",
       "    </tr>\n",
       "    <tr>\n",
       "      <th>Колпино</th>\n",
       "      <td>303</td>\n",
       "      <td>73913.040</td>\n",
       "    </tr>\n",
       "    <tr>\n",
       "      <th>посёлок Парголово</th>\n",
       "      <td>297</td>\n",
       "      <td>91516.560</td>\n",
       "    </tr>\n",
       "    <tr>\n",
       "      <th>деревня Кудрово</th>\n",
       "      <td>282</td>\n",
       "      <td>91618.220</td>\n",
       "    </tr>\n",
       "    <tr>\n",
       "      <th>Пушкин</th>\n",
       "      <td>280</td>\n",
       "      <td>97426.935</td>\n",
       "    </tr>\n",
       "    <tr>\n",
       "      <th>Гатчина</th>\n",
       "      <td>263</td>\n",
       "      <td>67187.500</td>\n",
       "    </tr>\n",
       "    <tr>\n",
       "      <th>Выборг</th>\n",
       "      <td>198</td>\n",
       "      <td>56960.590</td>\n",
       "    </tr>\n",
       "  </tbody>\n",
       "</table>\n",
       "</div>"
      ],
      "text/plain": [
       "                   count      median\n",
       "locality_name                       \n",
       "Санкт-Петербург    11669  100900.900\n",
       "посёлок Мурино       489   84375.000\n",
       "посёлок Шушары       400   75933.555\n",
       "Всеволожск           329   65686.270\n",
       "Колпино              303   73913.040\n",
       "посёлок Парголово    297   91516.560\n",
       "деревня Кудрово      282   91618.220\n",
       "Пушкин               280   97426.935\n",
       "Гатчина              263   67187.500\n",
       "Выборг               198   56960.590"
      ]
     },
     "execution_count": 253,
     "metadata": {},
     "output_type": "execute_result"
    }
   ],
   "source": [
    "#выберем 10 населенных пунктов с наибольшим количеством объявлений\n",
    "#рассчитает в них среднюю цену квадратного метра\n",
    "\n",
    "locality_price_ratio = good_data.pivot_table(index='locality_name', values='price_per_metre', \n",
    "                                             aggfunc=['count', 'median'])\n",
    "locality_price_ratio.columns = ['count', 'median']\n",
    "locality_price_ratio.sort_values('count', ascending=False).head(10)"
   ]
  },
  {
   "cell_type": "markdown",
   "metadata": {},
   "source": [
    "**Вывод**\n",
    "\n",
    "Город с самой большой ценой за квадратный метр является Санкт-Петербург. Самая низкая цена во Всеволожске."
   ]
  },
  {
   "cell_type": "code",
   "execution_count": 254,
   "metadata": {},
   "outputs": [
    {
     "data": {
      "text/plain": [
       "<AxesSubplot:xlabel='city_center_km'>"
      ]
     },
     "execution_count": 254,
     "metadata": {},
     "output_type": "execute_result"
    },
    {
     "data": {
      "image/png": "[encoded data removed]",
      "text/plain": [
       "<Figure size 1080x504 with 1 Axes>"
      ]
     },
     "metadata": {
      "needs_background": "light"
     },
     "output_type": "display_data"
    }
   ],
   "source": [
    "good_data['city_center_km'] = round(good_data['city_center_m'] / 1000, 0)\n",
    "saint_p = good_data.query('locality_name == \"Санкт-Петербург\"')\n",
    "saint_p_center = saint_p.pivot_table(index='city_center_km', values=['last_price'], aggfunc='median')\n",
    "saint_p_center.head()\n",
    "plt.figure(figsize=(15, 7))\n",
    "sns.lineplot(data=saint_p_center)"
   ]
  },
  {
   "cell_type": "markdown",
   "metadata": {},
   "source": [
    "**Вывод**\n",
    "\n",
    "На графике прослеживается падение цены, начиная с 5-го км, будем считать эту область за центр города."
   ]
  },
  {
   "cell_type": "code",
   "execution_count": 255,
   "metadata": {},
   "outputs": [
    {
     "data": {
      "text/html": [
       "<div>\n",
       "<style scoped>\n",
       "    .dataframe tbody tr th:only-of-type {\n",
       "        vertical-align: middle;\n",
       "    }\n",
       "\n",
       "    .dataframe tbody tr th {\n",
       "        vertical-align: top;\n",
       "    }\n",
       "\n",
       "    .dataframe thead th {\n",
       "        text-align: right;\n",
       "    }\n",
       "</style>\n",
       "<table border=\"1\" class=\"dataframe\">\n",
       "  <thead>\n",
       "    <tr style=\"text-align: right;\">\n",
       "      <th></th>\n",
       "      <th>total_area</th>\n",
       "      <th>last_price</th>\n",
       "      <th>rooms</th>\n",
       "      <th>ceiling_height</th>\n",
       "    </tr>\n",
       "  </thead>\n",
       "  <tbody>\n",
       "    <tr>\n",
       "      <th>count</th>\n",
       "      <td>670.000000</td>\n",
       "      <td>6.700000e+02</td>\n",
       "      <td>670.000000</td>\n",
       "      <td>365.000000</td>\n",
       "    </tr>\n",
       "    <tr>\n",
       "      <th>mean</th>\n",
       "      <td>66.470776</td>\n",
       "      <td>7.283444e+06</td>\n",
       "      <td>2.417910</td>\n",
       "      <td>293.449315</td>\n",
       "    </tr>\n",
       "    <tr>\n",
       "      <th>std</th>\n",
       "      <td>20.770991</td>\n",
       "      <td>2.042540e+06</td>\n",
       "      <td>0.925462</td>\n",
       "      <td>19.512486</td>\n",
       "    </tr>\n",
       "    <tr>\n",
       "      <th>min</th>\n",
       "      <td>12.000000</td>\n",
       "      <td>1.600000e+06</td>\n",
       "      <td>1.000000</td>\n",
       "      <td>240.000000</td>\n",
       "    </tr>\n",
       "    <tr>\n",
       "      <th>25%</th>\n",
       "      <td>50.000000</td>\n",
       "      <td>5.700000e+06</td>\n",
       "      <td>2.000000</td>\n",
       "      <td>280.000000</td>\n",
       "    </tr>\n",
       "    <tr>\n",
       "      <th>50%</th>\n",
       "      <td>65.000000</td>\n",
       "      <td>7.230000e+06</td>\n",
       "      <td>2.000000</td>\n",
       "      <td>300.000000</td>\n",
       "    </tr>\n",
       "    <tr>\n",
       "      <th>75%</th>\n",
       "      <td>81.475000</td>\n",
       "      <td>8.737500e+06</td>\n",
       "      <td>3.000000</td>\n",
       "      <td>310.000000</td>\n",
       "    </tr>\n",
       "    <tr>\n",
       "      <th>max</th>\n",
       "      <td>114.800000</td>\n",
       "      <td>1.180000e+07</td>\n",
       "      <td>5.000000</td>\n",
       "      <td>323.000000</td>\n",
       "    </tr>\n",
       "  </tbody>\n",
       "</table>\n",
       "</div>"
      ],
      "text/plain": [
       "       total_area    last_price       rooms  ceiling_height\n",
       "count  670.000000  6.700000e+02  670.000000      365.000000\n",
       "mean    66.470776  7.283444e+06    2.417910      293.449315\n",
       "std     20.770991  2.042540e+06    0.925462       19.512486\n",
       "min     12.000000  1.600000e+06    1.000000      240.000000\n",
       "25%     50.000000  5.700000e+06    2.000000      280.000000\n",
       "50%     65.000000  7.230000e+06    2.000000      300.000000\n",
       "75%     81.475000  8.737500e+06    3.000000      310.000000\n",
       "max    114.800000  1.180000e+07    5.000000      323.000000"
      ]
     },
     "execution_count": 255,
     "metadata": {},
     "output_type": "execute_result"
    }
   ],
   "source": [
    "#выделим центр города\n",
    "saint_p_center = good_data[(good_data['city_center_km'] < 5) &\n",
    "                           (good_data['locality_name'] == 'Санкт-Петербург')]\n",
    "\n",
    "#проанализируем необходимые столбцы\n",
    "saint_p_center[['total_area', 'last_price', 'rooms', 'ceiling_height']].describe()"
   ]
  },
  {
   "cell_type": "code",
   "execution_count": 256,
   "metadata": {},
   "outputs": [
    {
     "data": {
      "text/plain": [
       "total_area               0.673918\n",
       "rooms                    0.467442\n",
       "floor                    0.142945\n",
       "city_center_m           -0.086476\n",
       "weekday_of_exposition   -0.041127\n",
       "month_of_exposition     -0.020136\n",
       "year_of_exposition      -0.030241\n",
       "dtype: float64"
      ]
     },
     "metadata": {},
     "output_type": "display_data"
    }
   ],
   "source": [
    "#проанализируем зависимость числа комнат, этажа, удалённости от центра и даты размещения\n",
    "#объявления от цены\n",
    "\n",
    "#display(saint_p_center[['last_price', 'total_area', 'rooms',\\\n",
    "#           'floor', 'city_center_m', 'weekday_of_exposition',\\\n",
    "#           'month_of_exposition', 'year_of_exposition']].corr())\n",
    "display(saint_p_center[['total_area', 'rooms',\\\n",
    "           'floor', 'city_center_m', 'weekday_of_exposition',\\\n",
    "           'month_of_exposition', 'year_of_exposition']].corrwith(saint_p_center['last_price']))"
   ]
  },
  {
   "cell_type": "code",
   "execution_count": 257,
   "metadata": {},
   "outputs": [
    {
     "data": {
      "text/html": [
       "<div>\n",
       "<style scoped>\n",
       "    .dataframe tbody tr th:only-of-type {\n",
       "        vertical-align: middle;\n",
       "    }\n",
       "\n",
       "    .dataframe tbody tr th {\n",
       "        vertical-align: top;\n",
       "    }\n",
       "\n",
       "    .dataframe thead th {\n",
       "        text-align: right;\n",
       "    }\n",
       "</style>\n",
       "<table border=\"1\" class=\"dataframe\">\n",
       "  <thead>\n",
       "    <tr style=\"text-align: right;\">\n",
       "      <th></th>\n",
       "      <th>last_price</th>\n",
       "    </tr>\n",
       "    <tr>\n",
       "      <th>floor_optimezed</th>\n",
       "      <th></th>\n",
       "    </tr>\n",
       "  </thead>\n",
       "  <tbody>\n",
       "    <tr>\n",
       "      <th>другой этаж</th>\n",
       "      <td>7.518140e+06</td>\n",
       "    </tr>\n",
       "    <tr>\n",
       "      <th>первый этаж</th>\n",
       "      <td>6.262882e+06</td>\n",
       "    </tr>\n",
       "    <tr>\n",
       "      <th>последний этаж</th>\n",
       "      <td>7.463862e+06</td>\n",
       "    </tr>\n",
       "  </tbody>\n",
       "</table>\n",
       "</div>"
      ],
      "text/plain": [
       "                   last_price\n",
       "floor_optimezed              \n",
       "другой этаж      7.518140e+06\n",
       "первый этаж      6.262882e+06\n",
       "последний этаж   7.463862e+06"
      ]
     },
     "execution_count": 257,
     "metadata": {},
     "output_type": "execute_result"
    }
   ],
   "source": [
    "saint_p_center.pivot_table(index='floor_optimezed', values='last_price', aggfunc='mean')"
   ]
  },
  {
   "cell_type": "markdown",
   "metadata": {},
   "source": [
    "Здесь все очевидно: самые дешевые квартиры расположены на первом этаже. Средняя цена кварти на других этажах почти одинаковая. "
   ]
  },
  {
   "cell_type": "code",
   "execution_count": 258,
   "metadata": {},
   "outputs": [
    {
     "data": {
      "text/html": [
       "<div>\n",
       "<style scoped>\n",
       "    .dataframe tbody tr th:only-of-type {\n",
       "        vertical-align: middle;\n",
       "    }\n",
       "\n",
       "    .dataframe tbody tr th {\n",
       "        vertical-align: top;\n",
       "    }\n",
       "\n",
       "    .dataframe thead th {\n",
       "        text-align: right;\n",
       "    }\n",
       "</style>\n",
       "<table border=\"1\" class=\"dataframe\">\n",
       "  <thead>\n",
       "    <tr style=\"text-align: right;\">\n",
       "      <th></th>\n",
       "      <th>last_price</th>\n",
       "    </tr>\n",
       "    <tr>\n",
       "      <th>city_center_km</th>\n",
       "      <th></th>\n",
       "    </tr>\n",
       "  </thead>\n",
       "  <tbody>\n",
       "    <tr>\n",
       "      <th>0.0</th>\n",
       "      <td>6.650000e+06</td>\n",
       "    </tr>\n",
       "    <tr>\n",
       "      <th>1.0</th>\n",
       "      <td>7.817414e+06</td>\n",
       "    </tr>\n",
       "    <tr>\n",
       "      <th>2.0</th>\n",
       "      <td>7.682950e+06</td>\n",
       "    </tr>\n",
       "    <tr>\n",
       "      <th>3.0</th>\n",
       "      <td>6.891080e+06</td>\n",
       "    </tr>\n",
       "    <tr>\n",
       "      <th>4.0</th>\n",
       "      <td>7.209537e+06</td>\n",
       "    </tr>\n",
       "  </tbody>\n",
       "</table>\n",
       "</div>"
      ],
      "text/plain": [
       "                  last_price\n",
       "city_center_km              \n",
       "0.0             6.650000e+06\n",
       "1.0             7.817414e+06\n",
       "2.0             7.682950e+06\n",
       "3.0             6.891080e+06\n",
       "4.0             7.209537e+06"
      ]
     },
     "execution_count": 258,
     "metadata": {},
     "output_type": "execute_result"
    }
   ],
   "source": [
    "saint_p_center['city_center_km'].round()\n",
    "saint_p_center.pivot_table(index='city_center_km', values='last_price', aggfunc='mean')"
   ]
  },
  {
   "cell_type": "markdown",
   "metadata": {},
   "source": [
    "Мы видим, что самые дорогие квартиры находятся на расстоянии приблизительно 1-2км от условного цента, а самые дешевые - 3км."
   ]
  },
  {
   "cell_type": "code",
   "execution_count": 259,
   "metadata": {},
   "outputs": [
    {
     "data": {
      "text/html": [
       "<div>\n",
       "<style scoped>\n",
       "    .dataframe tbody tr th:only-of-type {\n",
       "        vertical-align: middle;\n",
       "    }\n",
       "\n",
       "    .dataframe tbody tr th {\n",
       "        vertical-align: top;\n",
       "    }\n",
       "\n",
       "    .dataframe thead th {\n",
       "        text-align: right;\n",
       "    }\n",
       "</style>\n",
       "<table border=\"1\" class=\"dataframe\">\n",
       "  <thead>\n",
       "    <tr style=\"text-align: right;\">\n",
       "      <th></th>\n",
       "      <th>last_price</th>\n",
       "    </tr>\n",
       "    <tr>\n",
       "      <th>weekday_of_exposition</th>\n",
       "      <th></th>\n",
       "    </tr>\n",
       "  </thead>\n",
       "  <tbody>\n",
       "    <tr>\n",
       "      <th>0</th>\n",
       "      <td>7.562529e+06</td>\n",
       "    </tr>\n",
       "    <tr>\n",
       "      <th>1</th>\n",
       "      <td>7.421095e+06</td>\n",
       "    </tr>\n",
       "    <tr>\n",
       "      <th>2</th>\n",
       "      <td>7.127638e+06</td>\n",
       "    </tr>\n",
       "    <tr>\n",
       "      <th>3</th>\n",
       "      <td>7.092443e+06</td>\n",
       "    </tr>\n",
       "    <tr>\n",
       "      <th>4</th>\n",
       "      <td>7.393000e+06</td>\n",
       "    </tr>\n",
       "    <tr>\n",
       "      <th>5</th>\n",
       "      <td>6.819008e+06</td>\n",
       "    </tr>\n",
       "    <tr>\n",
       "      <th>6</th>\n",
       "      <td>7.583712e+06</td>\n",
       "    </tr>\n",
       "  </tbody>\n",
       "</table>\n",
       "</div>"
      ],
      "text/plain": [
       "                         last_price\n",
       "weekday_of_exposition              \n",
       "0                      7.562529e+06\n",
       "1                      7.421095e+06\n",
       "2                      7.127638e+06\n",
       "3                      7.092443e+06\n",
       "4                      7.393000e+06\n",
       "5                      6.819008e+06\n",
       "6                      7.583712e+06"
      ]
     },
     "execution_count": 259,
     "metadata": {},
     "output_type": "execute_result"
    }
   ],
   "source": [
    "saint_p_center.pivot_table(index='weekday_of_exposition', \n",
    "                      values='last_price', aggfunc='mean')"
   ]
  },
  {
   "cell_type": "code",
   "execution_count": 260,
   "metadata": {},
   "outputs": [
    {
     "data": {
      "text/html": [
       "<div>\n",
       "<style scoped>\n",
       "    .dataframe tbody tr th:only-of-type {\n",
       "        vertical-align: middle;\n",
       "    }\n",
       "\n",
       "    .dataframe tbody tr th {\n",
       "        vertical-align: top;\n",
       "    }\n",
       "\n",
       "    .dataframe thead th {\n",
       "        text-align: right;\n",
       "    }\n",
       "</style>\n",
       "<table border=\"1\" class=\"dataframe\">\n",
       "  <thead>\n",
       "    <tr style=\"text-align: right;\">\n",
       "      <th></th>\n",
       "      <th>last_price</th>\n",
       "    </tr>\n",
       "    <tr>\n",
       "      <th>month_of_exposition</th>\n",
       "      <th></th>\n",
       "    </tr>\n",
       "  </thead>\n",
       "  <tbody>\n",
       "    <tr>\n",
       "      <th>1</th>\n",
       "      <td>7.159086e+06</td>\n",
       "    </tr>\n",
       "    <tr>\n",
       "      <th>2</th>\n",
       "      <td>7.387594e+06</td>\n",
       "    </tr>\n",
       "    <tr>\n",
       "      <th>3</th>\n",
       "      <td>7.297679e+06</td>\n",
       "    </tr>\n",
       "    <tr>\n",
       "      <th>4</th>\n",
       "      <td>7.634797e+06</td>\n",
       "    </tr>\n",
       "    <tr>\n",
       "      <th>5</th>\n",
       "      <td>7.314215e+06</td>\n",
       "    </tr>\n",
       "    <tr>\n",
       "      <th>6</th>\n",
       "      <td>6.990168e+06</td>\n",
       "    </tr>\n",
       "    <tr>\n",
       "      <th>7</th>\n",
       "      <td>7.359528e+06</td>\n",
       "    </tr>\n",
       "    <tr>\n",
       "      <th>8</th>\n",
       "      <td>6.949333e+06</td>\n",
       "    </tr>\n",
       "    <tr>\n",
       "      <th>9</th>\n",
       "      <td>7.554917e+06</td>\n",
       "    </tr>\n",
       "    <tr>\n",
       "      <th>10</th>\n",
       "      <td>7.252588e+06</td>\n",
       "    </tr>\n",
       "    <tr>\n",
       "      <th>11</th>\n",
       "      <td>7.257506e+06</td>\n",
       "    </tr>\n",
       "    <tr>\n",
       "      <th>12</th>\n",
       "      <td>7.129789e+06</td>\n",
       "    </tr>\n",
       "  </tbody>\n",
       "</table>\n",
       "</div>"
      ],
      "text/plain": [
       "                       last_price\n",
       "month_of_exposition              \n",
       "1                    7.159086e+06\n",
       "2                    7.387594e+06\n",
       "3                    7.297679e+06\n",
       "4                    7.634797e+06\n",
       "5                    7.314215e+06\n",
       "6                    6.990168e+06\n",
       "7                    7.359528e+06\n",
       "8                    6.949333e+06\n",
       "9                    7.554917e+06\n",
       "10                   7.252588e+06\n",
       "11                   7.257506e+06\n",
       "12                   7.129789e+06"
      ]
     },
     "execution_count": 260,
     "metadata": {},
     "output_type": "execute_result"
    }
   ],
   "source": [
    "saint_p_center.pivot_table(index='month_of_exposition', \n",
    "                      values='last_price', aggfunc='mean')"
   ]
  },
  {
   "cell_type": "code",
   "execution_count": 261,
   "metadata": {},
   "outputs": [
    {
     "data": {
      "text/html": [
       "<div>\n",
       "<style scoped>\n",
       "    .dataframe tbody tr th:only-of-type {\n",
       "        vertical-align: middle;\n",
       "    }\n",
       "\n",
       "    .dataframe tbody tr th {\n",
       "        vertical-align: top;\n",
       "    }\n",
       "\n",
       "    .dataframe thead th {\n",
       "        text-align: right;\n",
       "    }\n",
       "</style>\n",
       "<table border=\"1\" class=\"dataframe\">\n",
       "  <thead>\n",
       "    <tr style=\"text-align: right;\">\n",
       "      <th></th>\n",
       "      <th>last_price</th>\n",
       "    </tr>\n",
       "    <tr>\n",
       "      <th>year_of_exposition</th>\n",
       "      <th></th>\n",
       "    </tr>\n",
       "  </thead>\n",
       "  <tbody>\n",
       "    <tr>\n",
       "      <th>2014</th>\n",
       "      <td>8.830000e+06</td>\n",
       "    </tr>\n",
       "    <tr>\n",
       "      <th>2015</th>\n",
       "      <td>7.080262e+06</td>\n",
       "    </tr>\n",
       "    <tr>\n",
       "      <th>2016</th>\n",
       "      <td>7.665918e+06</td>\n",
       "    </tr>\n",
       "    <tr>\n",
       "      <th>2017</th>\n",
       "      <td>7.229997e+06</td>\n",
       "    </tr>\n",
       "    <tr>\n",
       "      <th>2018</th>\n",
       "      <td>7.161263e+06</td>\n",
       "    </tr>\n",
       "    <tr>\n",
       "      <th>2019</th>\n",
       "      <td>7.575833e+06</td>\n",
       "    </tr>\n",
       "  </tbody>\n",
       "</table>\n",
       "</div>"
      ],
      "text/plain": [
       "                      last_price\n",
       "year_of_exposition              \n",
       "2014                8.830000e+06\n",
       "2015                7.080262e+06\n",
       "2016                7.665918e+06\n",
       "2017                7.229997e+06\n",
       "2018                7.161263e+06\n",
       "2019                7.575833e+06"
      ]
     },
     "execution_count": 261,
     "metadata": {},
     "output_type": "execute_result"
    }
   ],
   "source": [
    "saint_p_center.pivot_table(index='year_of_exposition', \n",
    "                      values='last_price', aggfunc='mean')"
   ]
  },
  {
   "cell_type": "markdown",
   "metadata": {},
   "source": [
    "**Вывод**\n",
    "\n",
    "Здесь ситуация следующая: в целом цена продажи не зависит от дня недели, однако в субботу этот показатель самый низкий.  Также можно выделить саную низку цену и по месяцам - это авугст. Годовой показатель аналогичен ситуации на общем рынке, после 2014 года был спад средней стоимости жилья."
   ]
  },
  {
   "cell_type": "code",
   "execution_count": 262,
   "metadata": {},
   "outputs": [
    {
     "data": {
      "text/plain": [
       "Text(0.5, 1.0, 'Распределение стоимости квартир по всему городу')"
      ]
     },
     "execution_count": 262,
     "metadata": {},
     "output_type": "execute_result"
    },
    {
     "data": {
      "image/png": "[encoded data removed]",
      "text/plain": [
       "<Figure size 1080x288 with 2 Axes>"
      ]
     },
     "metadata": {
      "needs_background": "light"
     },
     "output_type": "display_data"
    }
   ],
   "source": [
    "fig, axes = plt.subplots(1,2,figsize=(15,4))\n",
    "\n",
    "saint_p_center['last_price'].hist(bins=30, ax=axes[0], range=(3000000, 12000000))\n",
    "good_data[good_data['locality_name'] == 'Санкт-Петербург']['last_price'].hist(bins=30, ax=axes[1], range=(1000000,12000000))\n",
    "\n",
    "axes[0].set_title('Распределение стоимости квартир в центре')\n",
    "axes[1].set_title('Распределение стоимости квартир по всему городу')"
   ]
  },
  {
   "cell_type": "markdown",
   "metadata": {},
   "source": [
    "Мы видим, что пик покупки квартир по городу в целом приходится на 4.5 млн, в то время как большинство квартир в центре продалось от 6 до 9 млн. "
   ]
  },
  {
   "cell_type": "code",
   "execution_count": 263,
   "metadata": {},
   "outputs": [
    {
     "data": {
      "image/png": "[encoded data removed]",
      "text/plain": [
       "<Figure size 1080x288 with 2 Axes>"
      ]
     },
     "metadata": {
      "needs_background": "light"
     },
     "output_type": "display_data"
    }
   ],
   "source": [
    "fig, axes = plt.subplots(1,2,figsize=(15,4))\n",
    "\n",
    "saint_p_center['ceiling_height'].hist(bins=30, ax=axes[0], range=(200, 400))\n",
    "good_data[good_data['locality_name'] == 'Санкт-Петербург']['ceiling_height'].hist(bins=30, ax=axes[1], range=(200,400))\n",
    "\n",
    "axes[0].set_title('Распределение высоты потолков в центре')\n",
    "axes[1].set_title('Распределение высоты потолков по всему городу')\n",
    "\n",
    "plt.show()"
   ]
  },
  {
   "cell_type": "raw",
   "metadata": {},
   "source": [
    "Мы видим, что средняя высота потолков в центре 3м, что на 50см больше средней высоты потолков по городу."
   ]
  },
  {
   "cell_type": "code",
   "execution_count": 264,
   "metadata": {},
   "outputs": [
    {
     "data": {
      "text/plain": [
       "Text(0.5, 1.0, 'Распределение общей площади по всему городу')"
      ]
     },
     "execution_count": 264,
     "metadata": {},
     "output_type": "execute_result"
    },
    {
     "data": {
      "image/png": "[encoded data removed]",
      "text/plain": [
       "<Figure size 1080x288 with 2 Axes>"
      ]
     },
     "metadata": {
      "needs_background": "light"
     },
     "output_type": "display_data"
    }
   ],
   "source": [
    "fig, axes = plt.subplots(1,2,figsize=(15,4))\n",
    "\n",
    "saint_p_center['total_area'].hist(bins=30, ax=axes[0], range=(20, 130))\n",
    "good_data[good_data['locality_name'] == 'Санкт-Петербург']['total_area'].hist(bins=30, ax=axes[1], range=(20,150))\n",
    "\n",
    "axes[0].set_title('Распределение общей площади в центре')\n",
    "axes[1].set_title('Распределение общей площади по всему городу')"
   ]
  },
  {
   "cell_type": "markdown",
   "metadata": {},
   "source": [
    "Большинство квартир в центре города имеют площадь от 55 до 79 квадратных метров. Площаь большинства квартир по городу равняется 41-44 квадратным метрам.  "
   ]
  },
  {
   "cell_type": "code",
   "execution_count": 265,
   "metadata": {},
   "outputs": [
    {
     "data": {
      "text/plain": [
       "Text(0.5, 1.0, 'Распределение количества комнат в центре')"
      ]
     },
     "execution_count": 265,
     "metadata": {},
     "output_type": "execute_result"
    },
    {
     "data": {
      "image/png": "[encoded data removed]",
      "text/plain": [
       "<Figure size 432x288 with 1 Axes>"
      ]
     },
     "metadata": {
      "needs_background": "light"
     },
     "output_type": "display_data"
    }
   ],
   "source": [
    "saint_p_center['rooms'].value_counts().plot.bar()\n",
    "\n",
    "axes[0].set_title('Распределение количества комнат в центре')"
   ]
  },
  {
   "cell_type": "code",
   "execution_count": 266,
   "metadata": {},
   "outputs": [
    {
     "data": {
      "text/plain": [
       "Text(0.5, 1.0, 'Распределение количества комнат по всему городу')"
      ]
     },
     "execution_count": 266,
     "metadata": {},
     "output_type": "execute_result"
    },
    {
     "data": {
      "image/png": "[encoded data removed]",
      "text/plain": [
       "<Figure size 432x288 with 1 Axes>"
      ]
     },
     "metadata": {
      "needs_background": "light"
     },
     "output_type": "display_data"
    }
   ],
   "source": [
    "good_data[good_data['locality_name'] == 'Санкт-Петербург']['rooms'].value_counts().plot.bar()\n",
    "\n",
    "axes[1].set_title('Распределение количества комнат по всему городу')"
   ]
  },
  {
   "cell_type": "markdown",
   "metadata": {},
   "source": [
    "Большинство комнат в центре имеют 2 или 3 комнаты. Во всем городе большая часть квартир - одно- и двухкомнатные."
   ]
  },
  {
   "cell_type": "markdown",
   "metadata": {},
   "source": [
    "**Вывод**\n",
    "\n",
    " Мы видим, что в центре города высота потолков, итоговая цена на квартиры, количество комнат и площадь квартир выше, чем пообщим данным в городе, что и следовало ожидать."
   ]
  },
  {
   "cell_type": "markdown",
   "metadata": {},
   "source": [
    "## Общий вывод"
   ]
  },
  {
   "cell_type": "markdown",
   "metadata": {},
   "source": [
    "Мы провели исследование и можем сдеалть следующие выводы по самым ликвидным квартирам:\n",
    "- количество комнат равняется 1 или 2;\n",
    "- высота потолков составляет около 2.5м;\n",
    "- цена варьируется от 2.5 до 4.5 млн;\n",
    "- площадь равняется от 27 до 49 метров.\n",
    "\n",
    "Как мы выяснили, в большей степени на цену влияет площадь квартиры и количество комнат. Важным элементом является этаж, квартиры на первом этаже продаются по самой низкой цене. Также, можно отметить, что по общей статистике цена квартиры обратно пропорциональна удаленности от центра.\n",
    "\n",
    "Квартиры в центре Питера почти на 3млн дороже, чем по городу. Их площадь больше приблизительно на 15 кв.м., высота полотлков - на 50см, а количество комнат - на одну. Зависимость от цены и остальные параметры почти не отличаются от общей статистики по региону. "
   ]
  }
 ],
 "metadata": {
  "ExecuteTimeLog": [
   {
    "duration": 314,
    "start_time": "2022-01-23T09:40:29.667Z"
   },
   {
    "duration": 673,
    "start_time": "2022-01-23T09:40:37.781Z"
   },
   {
    "duration": 85,
    "start_time": "2022-01-23T09:40:39.187Z"
   },
   {
    "duration": 912,
    "start_time": "2022-02-06T11:22:46.299Z"
   },
   {
    "duration": 137,
    "start_time": "2022-02-06T11:22:47.214Z"
   },
   {
    "duration": 10,
    "start_time": "2022-02-06T11:22:47.354Z"
   },
   {
    "duration": 7,
    "start_time": "2022-02-06T11:22:47.367Z"
   },
   {
    "duration": 19,
    "start_time": "2022-02-06T11:22:47.376Z"
   },
   {
    "duration": 4,
    "start_time": "2022-02-06T11:22:47.397Z"
   },
   {
    "duration": 45,
    "start_time": "2022-02-06T11:22:47.404Z"
   },
   {
    "duration": 15,
    "start_time": "2022-02-06T11:22:47.453Z"
   },
   {
    "duration": 23,
    "start_time": "2022-02-06T11:22:47.471Z"
   },
   {
    "duration": 40,
    "start_time": "2022-02-06T11:22:47.496Z"
   },
   {
    "duration": 6,
    "start_time": "2022-02-06T11:22:47.538Z"
   },
   {
    "duration": 16,
    "start_time": "2022-02-06T11:22:47.546Z"
   },
   {
    "duration": 21,
    "start_time": "2022-02-06T11:22:47.564Z"
   },
   {
    "duration": 79,
    "start_time": "2022-02-06T11:22:47.588Z"
   },
   {
    "duration": 10,
    "start_time": "2022-02-06T11:22:47.669Z"
   },
   {
    "duration": 54,
    "start_time": "2022-02-06T11:22:47.681Z"
   },
   {
    "duration": 5,
    "start_time": "2022-02-06T11:22:47.737Z"
   },
   {
    "duration": 51,
    "start_time": "2022-02-06T11:22:47.745Z"
   },
   {
    "duration": 10,
    "start_time": "2022-02-06T11:22:47.798Z"
   },
   {
    "duration": 425,
    "start_time": "2022-02-06T11:22:47.833Z"
   },
   {
    "duration": 10,
    "start_time": "2022-02-06T11:22:48.260Z"
   },
   {
    "duration": 427,
    "start_time": "2022-02-06T11:22:48.272Z"
   },
   {
    "duration": 28,
    "start_time": "2022-02-06T11:22:48.704Z"
   },
   {
    "duration": 334,
    "start_time": "2022-02-06T11:22:48.736Z"
   },
   {
    "duration": 10,
    "start_time": "2022-02-06T11:22:49.072Z"
   },
   {
    "duration": 458,
    "start_time": "2022-02-06T11:22:49.084Z"
   },
   {
    "duration": 14,
    "start_time": "2022-02-06T11:22:49.544Z"
   },
   {
    "duration": 11,
    "start_time": "2022-02-06T11:22:49.560Z"
   },
   {
    "duration": 576,
    "start_time": "2022-02-06T11:22:49.574Z"
   },
   {
    "duration": 94,
    "start_time": "2022-02-06T11:22:50.152Z"
   },
   {
    "duration": 127,
    "start_time": "2022-02-06T11:22:50.248Z"
   },
   {
    "duration": 23,
    "start_time": "2022-02-06T11:22:50.378Z"
   },
   {
    "duration": 55,
    "start_time": "2022-02-06T11:22:50.403Z"
   },
   {
    "duration": 315,
    "start_time": "2022-02-06T11:22:50.460Z"
   },
   {
    "duration": 54,
    "start_time": "2022-02-06T11:22:50.778Z"
   },
   {
    "duration": 20,
    "start_time": "2022-02-06T11:22:50.834Z"
   },
   {
    "duration": 4,
    "start_time": "2022-02-06T11:25:45.301Z"
   },
   {
    "duration": 5,
    "start_time": "2022-02-06T11:25:47.295Z"
   },
   {
    "duration": 128,
    "start_time": "2022-02-06T11:37:17.513Z"
   },
   {
    "duration": 665,
    "start_time": "2022-02-06T11:39:38.881Z"
   },
   {
    "duration": 719,
    "start_time": "2022-02-06T11:40:05.389Z"
   },
   {
    "duration": 421,
    "start_time": "2022-02-06T13:22:41.627Z"
   },
   {
    "duration": 904,
    "start_time": "2022-02-06T13:22:49.332Z"
   },
   {
    "duration": 128,
    "start_time": "2022-02-06T13:22:50.239Z"
   },
   {
    "duration": 12,
    "start_time": "2022-02-06T13:22:50.371Z"
   },
   {
    "duration": 7,
    "start_time": "2022-02-06T13:22:50.386Z"
   },
   {
    "duration": 21,
    "start_time": "2022-02-06T13:22:50.395Z"
   },
   {
    "duration": 5,
    "start_time": "2022-02-06T13:22:50.418Z"
   },
   {
    "duration": 50,
    "start_time": "2022-02-06T13:22:50.425Z"
   },
   {
    "duration": 16,
    "start_time": "2022-02-06T13:22:50.478Z"
   },
   {
    "duration": 22,
    "start_time": "2022-02-06T13:22:50.497Z"
   },
   {
    "duration": 41,
    "start_time": "2022-02-06T13:22:50.521Z"
   },
   {
    "duration": 5,
    "start_time": "2022-02-06T13:22:50.565Z"
   },
   {
    "duration": 18,
    "start_time": "2022-02-06T13:22:50.572Z"
   },
   {
    "duration": 18,
    "start_time": "2022-02-06T13:22:50.592Z"
   },
   {
    "duration": 66,
    "start_time": "2022-02-06T13:22:50.612Z"
   },
   {
    "duration": 32,
    "start_time": "2022-02-06T13:22:50.680Z"
   },
   {
    "duration": 5,
    "start_time": "2022-02-06T13:22:50.715Z"
   },
   {
    "duration": 71,
    "start_time": "2022-02-06T13:22:50.723Z"
   },
   {
    "duration": 11,
    "start_time": "2022-02-06T13:22:50.796Z"
   },
   {
    "duration": 426,
    "start_time": "2022-02-06T13:22:50.809Z"
   },
   {
    "duration": 25,
    "start_time": "2022-02-06T13:22:51.237Z"
   },
   {
    "duration": 429,
    "start_time": "2022-02-06T13:22:51.265Z"
   },
   {
    "duration": 10,
    "start_time": "2022-02-06T13:22:51.697Z"
   },
   {
    "duration": 325,
    "start_time": "2022-02-06T13:22:51.713Z"
   },
   {
    "duration": 23,
    "start_time": "2022-02-06T13:22:52.040Z"
   },
   {
    "duration": 473,
    "start_time": "2022-02-06T13:22:52.066Z"
   },
   {
    "duration": 24,
    "start_time": "2022-02-06T13:22:52.541Z"
   },
   {
    "duration": 10,
    "start_time": "2022-02-06T13:22:52.568Z"
   },
   {
    "duration": 546,
    "start_time": "2022-02-06T13:22:52.580Z"
   },
   {
    "duration": 90,
    "start_time": "2022-02-06T13:22:53.129Z"
   },
   {
    "duration": 131,
    "start_time": "2022-02-06T13:22:53.222Z"
   },
   {
    "duration": 22,
    "start_time": "2022-02-06T13:22:53.355Z"
   },
   {
    "duration": 31,
    "start_time": "2022-02-06T13:22:53.379Z"
   },
   {
    "duration": 321,
    "start_time": "2022-02-06T13:22:53.413Z"
   },
   {
    "duration": 47,
    "start_time": "2022-02-06T13:22:53.736Z"
   },
   {
    "duration": 17,
    "start_time": "2022-02-06T13:22:53.786Z"
   },
   {
    "duration": 748,
    "start_time": "2022-02-06T13:22:53.806Z"
   },
   {
    "duration": 415,
    "start_time": "2022-02-06T13:23:12.027Z"
   },
   {
    "duration": 6,
    "start_time": "2022-02-06T13:23:22.173Z"
   },
   {
    "duration": 126,
    "start_time": "2022-02-06T13:25:49.717Z"
   },
   {
    "duration": 116,
    "start_time": "2022-02-06T13:26:11.535Z"
   },
   {
    "duration": 128,
    "start_time": "2022-02-06T13:26:20.415Z"
   },
   {
    "duration": 73,
    "start_time": "2022-02-06T13:26:48.512Z"
   },
   {
    "duration": 386,
    "start_time": "2022-02-06T13:32:18.995Z"
   },
   {
    "duration": 376,
    "start_time": "2022-02-06T13:32:34.139Z"
   },
   {
    "duration": 20,
    "start_time": "2022-02-06T13:33:02.492Z"
   },
   {
    "duration": 436,
    "start_time": "2022-02-06T13:33:48.385Z"
   },
   {
    "duration": 21,
    "start_time": "2022-02-06T13:34:32.150Z"
   },
   {
    "duration": 1896,
    "start_time": "2022-02-06T13:35:10.118Z"
   },
   {
    "duration": 21,
    "start_time": "2022-02-06T13:35:27.479Z"
   },
   {
    "duration": 1700,
    "start_time": "2022-02-06T13:35:46.669Z"
   },
   {
    "duration": 413,
    "start_time": "2022-02-06T13:35:52.340Z"
   },
   {
    "duration": 22,
    "start_time": "2022-02-06T13:36:08.208Z"
   },
   {
    "duration": 1637,
    "start_time": "2022-02-06T13:40:53.145Z"
   },
   {
    "duration": 38,
    "start_time": "2022-02-06T13:41:15.425Z"
   },
   {
    "duration": 20,
    "start_time": "2022-02-06T13:42:00.635Z"
   },
   {
    "duration": 19,
    "start_time": "2022-02-06T13:42:03.315Z"
   },
   {
    "duration": 19,
    "start_time": "2022-02-06T13:42:17.910Z"
   },
   {
    "duration": 417,
    "start_time": "2022-02-06T13:55:04.878Z"
   },
   {
    "duration": 456,
    "start_time": "2022-02-06T13:55:12.424Z"
   },
   {
    "duration": 494,
    "start_time": "2022-02-06T13:55:51.148Z"
   },
   {
    "duration": 48,
    "start_time": "2022-02-06T13:56:08.093Z"
   },
   {
    "duration": 14,
    "start_time": "2022-02-06T13:56:26.747Z"
   },
   {
    "duration": 21,
    "start_time": "2022-02-06T13:57:53.524Z"
   },
   {
    "duration": 636,
    "start_time": "2022-02-06T13:59:57.908Z"
   },
   {
    "duration": 491,
    "start_time": "2022-02-06T14:04:07.161Z"
   },
   {
    "duration": 29,
    "start_time": "2022-02-06T14:04:26.340Z"
   },
   {
    "duration": 24,
    "start_time": "2022-02-06T14:04:42.612Z"
   },
   {
    "duration": 334,
    "start_time": "2022-02-06T14:05:24.572Z"
   },
   {
    "duration": 393,
    "start_time": "2022-02-06T14:05:33.035Z"
   },
   {
    "duration": 482,
    "start_time": "2022-02-06T14:05:40.021Z"
   },
   {
    "duration": 321,
    "start_time": "2022-02-06T14:06:45.715Z"
   },
   {
    "duration": 396,
    "start_time": "2022-02-06T14:11:59.136Z"
   },
   {
    "duration": 16,
    "start_time": "2022-02-06T14:12:34.556Z"
   },
   {
    "duration": 358,
    "start_time": "2022-02-06T14:13:43.444Z"
   },
   {
    "duration": 370,
    "start_time": "2022-02-06T14:14:09.044Z"
   },
   {
    "duration": 390,
    "start_time": "2022-02-06T14:14:11.277Z"
   },
   {
    "duration": 4,
    "start_time": "2022-02-06T14:14:22.021Z"
   },
   {
    "duration": 178,
    "start_time": "2022-02-06T14:14:22.029Z"
   },
   {
    "duration": 9,
    "start_time": "2022-02-06T14:14:22.211Z"
   },
   {
    "duration": 36,
    "start_time": "2022-02-06T14:14:22.223Z"
   },
   {
    "duration": 12,
    "start_time": "2022-02-06T14:14:22.262Z"
   },
   {
    "duration": 4,
    "start_time": "2022-02-06T14:14:22.277Z"
   },
   {
    "duration": 17,
    "start_time": "2022-02-06T14:14:22.284Z"
   },
   {
    "duration": 57,
    "start_time": "2022-02-06T14:14:22.304Z"
   },
   {
    "duration": 23,
    "start_time": "2022-02-06T14:14:22.365Z"
   },
   {
    "duration": 7,
    "start_time": "2022-02-06T14:14:22.391Z"
   },
   {
    "duration": 5,
    "start_time": "2022-02-06T14:14:22.400Z"
   },
   {
    "duration": 51,
    "start_time": "2022-02-06T14:14:22.408Z"
   },
   {
    "duration": 18,
    "start_time": "2022-02-06T14:14:22.461Z"
   },
   {
    "duration": 38,
    "start_time": "2022-02-06T14:14:22.482Z"
   },
   {
    "duration": 58,
    "start_time": "2022-02-06T14:14:22.522Z"
   },
   {
    "duration": 5,
    "start_time": "2022-02-06T14:14:22.582Z"
   },
   {
    "duration": 50,
    "start_time": "2022-02-06T14:14:22.590Z"
   },
   {
    "duration": 23,
    "start_time": "2022-02-06T14:14:22.643Z"
   },
   {
    "duration": 522,
    "start_time": "2022-02-06T14:14:22.668Z"
   },
   {
    "duration": 9,
    "start_time": "2022-02-06T14:14:23.193Z"
   },
   {
    "duration": 445,
    "start_time": "2022-02-06T14:14:23.204Z"
   },
   {
    "duration": 9,
    "start_time": "2022-02-06T14:14:23.660Z"
   },
   {
    "duration": 325,
    "start_time": "2022-02-06T14:14:23.671Z"
   },
   {
    "duration": 12,
    "start_time": "2022-02-06T14:14:24.001Z"
   },
   {
    "duration": 500,
    "start_time": "2022-02-06T14:14:24.015Z"
   },
   {
    "duration": 12,
    "start_time": "2022-02-06T14:14:24.517Z"
   },
   {
    "duration": 30,
    "start_time": "2022-02-06T14:14:24.531Z"
   },
   {
    "duration": 558,
    "start_time": "2022-02-06T14:14:24.563Z"
   },
   {
    "duration": 85,
    "start_time": "2022-02-06T14:14:25.123Z"
   },
   {
    "duration": 132,
    "start_time": "2022-02-06T14:14:25.210Z"
   },
   {
    "duration": 22,
    "start_time": "2022-02-06T14:14:25.344Z"
   },
   {
    "duration": 23,
    "start_time": "2022-02-06T14:14:25.369Z"
   },
   {
    "duration": 22,
    "start_time": "2022-02-06T14:14:25.394Z"
   },
   {
    "duration": 59,
    "start_time": "2022-02-06T14:14:25.419Z"
   },
   {
    "duration": 22,
    "start_time": "2022-02-06T14:14:25.481Z"
   },
   {
    "duration": 64,
    "start_time": "2022-02-06T14:14:25.505Z"
   },
   {
    "duration": 335,
    "start_time": "2022-02-06T14:14:25.573Z"
   },
   {
    "duration": 51,
    "start_time": "2022-02-06T14:14:25.910Z"
   },
   {
    "duration": 30,
    "start_time": "2022-02-06T14:14:25.964Z"
   },
   {
    "duration": 868,
    "start_time": "2022-02-06T14:14:25.996Z"
   },
   {
    "duration": 17,
    "start_time": "2022-02-06T14:15:21.519Z"
   },
   {
    "duration": 352,
    "start_time": "2022-02-06T14:19:12.003Z"
   },
   {
    "duration": 19,
    "start_time": "2022-02-06T14:19:17.860Z"
   },
   {
    "duration": 9908,
    "start_time": "2022-02-06T14:22:27.919Z"
   },
   {
    "duration": 362,
    "start_time": "2022-02-06T14:26:22.570Z"
   },
   {
    "duration": 125,
    "start_time": "2022-02-06T14:26:33.338Z"
   },
   {
    "duration": 456,
    "start_time": "2022-02-06T14:26:40.676Z"
   },
   {
    "duration": 347,
    "start_time": "2022-02-06T14:26:52.515Z"
   },
   {
    "duration": 18,
    "start_time": "2022-02-06T14:28:49.790Z"
   },
   {
    "duration": 15,
    "start_time": "2022-02-06T14:28:59.365Z"
   },
   {
    "duration": 394,
    "start_time": "2022-02-06T14:29:06.974Z"
   },
   {
    "duration": 48,
    "start_time": "2022-02-06T14:29:29.396Z"
   },
   {
    "duration": 600,
    "start_time": "2022-02-06T14:30:11.685Z"
   },
   {
    "duration": 55,
    "start_time": "2022-02-06T14:30:28.630Z"
   },
   {
    "duration": 459,
    "start_time": "2022-02-06T14:30:45.281Z"
   },
   {
    "duration": 355,
    "start_time": "2022-02-06T14:30:48.826Z"
   },
   {
    "duration": 72,
    "start_time": "2022-02-06T14:30:59.907Z"
   },
   {
    "duration": 36,
    "start_time": "2022-02-06T14:31:11.467Z"
   },
   {
    "duration": 13,
    "start_time": "2022-02-06T14:31:21.009Z"
   },
   {
    "duration": 20,
    "start_time": "2022-02-06T14:31:46.117Z"
   },
   {
    "duration": 15,
    "start_time": "2022-02-06T14:35:29.605Z"
   },
   {
    "duration": 23,
    "start_time": "2022-02-06T14:35:53.691Z"
   },
   {
    "duration": 27,
    "start_time": "2022-02-06T14:38:59.757Z"
   },
   {
    "duration": 4,
    "start_time": "2022-02-06T14:39:24.361Z"
   },
   {
    "duration": 25,
    "start_time": "2022-02-06T14:39:34.176Z"
   },
   {
    "duration": 619,
    "start_time": "2022-02-06T14:40:01.646Z"
   },
   {
    "duration": 26,
    "start_time": "2022-02-06T14:40:07.101Z"
   },
   {
    "duration": 5,
    "start_time": "2022-02-06T14:40:11.459Z"
   },
   {
    "duration": 22,
    "start_time": "2022-02-06T14:41:32.543Z"
   },
   {
    "duration": 5,
    "start_time": "2022-02-06T14:41:37.009Z"
   },
   {
    "duration": 46,
    "start_time": "2022-02-06T14:41:52.994Z"
   },
   {
    "duration": 8,
    "start_time": "2022-02-06T14:42:28.974Z"
   },
   {
    "duration": 24,
    "start_time": "2022-02-06T14:42:42.629Z"
   },
   {
    "duration": 23,
    "start_time": "2022-02-06T14:42:54.916Z"
   },
   {
    "duration": 25,
    "start_time": "2022-02-06T14:43:03.531Z"
   },
   {
    "duration": 19,
    "start_time": "2022-02-06T14:47:26.828Z"
   },
   {
    "duration": 20,
    "start_time": "2022-02-06T14:47:29.251Z"
   },
   {
    "duration": 20,
    "start_time": "2022-02-06T14:47:31.247Z"
   },
   {
    "duration": 682,
    "start_time": "2022-02-06T14:57:49.434Z"
   },
   {
    "duration": 710,
    "start_time": "2022-02-06T14:59:01.366Z"
   },
   {
    "duration": 812,
    "start_time": "2022-02-06T14:59:17.696Z"
   },
   {
    "duration": 719,
    "start_time": "2022-02-06T14:59:26.193Z"
   },
   {
    "duration": 714,
    "start_time": "2022-02-06T14:59:32.654Z"
   },
   {
    "duration": 707,
    "start_time": "2022-02-06T14:59:43.560Z"
   },
   {
    "duration": 802,
    "start_time": "2022-02-06T14:59:50.435Z"
   },
   {
    "duration": 824,
    "start_time": "2022-02-06T14:59:53.786Z"
   },
   {
    "duration": 873,
    "start_time": "2022-02-06T15:00:00.720Z"
   },
   {
    "duration": 735,
    "start_time": "2022-02-06T15:00:45.433Z"
   },
   {
    "duration": 726,
    "start_time": "2022-02-06T15:02:13.355Z"
   },
   {
    "duration": 696,
    "start_time": "2022-02-06T15:02:23.456Z"
   },
   {
    "duration": 713,
    "start_time": "2022-02-06T15:02:28.730Z"
   },
   {
    "duration": 879,
    "start_time": "2022-02-06T15:02:32.501Z"
   },
   {
    "duration": 913,
    "start_time": "2022-02-06T15:02:38.855Z"
   },
   {
    "duration": 729,
    "start_time": "2022-02-06T15:02:46.657Z"
   },
   {
    "duration": 720,
    "start_time": "2022-02-06T15:02:53.252Z"
   },
   {
    "duration": 696,
    "start_time": "2022-02-06T15:02:55.481Z"
   },
   {
    "duration": 782,
    "start_time": "2022-02-06T15:03:01.345Z"
   },
   {
    "duration": 686,
    "start_time": "2022-02-06T15:03:19.105Z"
   },
   {
    "duration": 1160,
    "start_time": "2022-02-06T15:03:26.749Z"
   },
   {
    "duration": 431,
    "start_time": "2022-02-06T15:07:31.169Z"
   },
   {
    "duration": 6,
    "start_time": "2022-02-06T15:11:40.787Z"
   },
   {
    "duration": 131,
    "start_time": "2022-02-06T15:11:40.798Z"
   },
   {
    "duration": 8,
    "start_time": "2022-02-06T15:11:40.931Z"
   },
   {
    "duration": 27,
    "start_time": "2022-02-06T15:11:40.941Z"
   },
   {
    "duration": 17,
    "start_time": "2022-02-06T15:11:40.971Z"
   },
   {
    "duration": 8,
    "start_time": "2022-02-06T15:11:40.991Z"
   },
   {
    "duration": 67,
    "start_time": "2022-02-06T15:11:41.002Z"
   },
   {
    "duration": 22,
    "start_time": "2022-02-06T15:11:41.072Z"
   },
   {
    "duration": 69,
    "start_time": "2022-02-06T15:11:41.099Z"
   },
   {
    "duration": 9,
    "start_time": "2022-02-06T15:11:41.172Z"
   },
   {
    "duration": 10,
    "start_time": "2022-02-06T15:11:41.183Z"
   },
   {
    "duration": 16,
    "start_time": "2022-02-06T15:11:41.195Z"
   },
   {
    "duration": 62,
    "start_time": "2022-02-06T15:11:41.213Z"
   },
   {
    "duration": 39,
    "start_time": "2022-02-06T15:11:41.278Z"
   },
   {
    "duration": 59,
    "start_time": "2022-02-06T15:11:41.320Z"
   },
   {
    "duration": 6,
    "start_time": "2022-02-06T15:11:41.381Z"
   },
   {
    "duration": 44,
    "start_time": "2022-02-06T15:11:41.390Z"
   },
   {
    "duration": 11,
    "start_time": "2022-02-06T15:11:41.460Z"
   },
   {
    "duration": 428,
    "start_time": "2022-02-06T15:11:41.473Z"
   },
   {
    "duration": 10,
    "start_time": "2022-02-06T15:11:41.904Z"
   },
   {
    "duration": 430,
    "start_time": "2022-02-06T15:11:41.916Z"
   },
   {
    "duration": 17,
    "start_time": "2022-02-06T15:11:42.349Z"
   },
   {
    "duration": 18,
    "start_time": "2022-02-06T15:11:42.369Z"
   },
   {
    "duration": 13,
    "start_time": "2022-02-06T15:11:42.395Z"
   },
   {
    "duration": 652,
    "start_time": "2022-02-06T15:11:42.412Z"
   },
   {
    "duration": 16,
    "start_time": "2022-02-06T15:11:43.067Z"
   },
   {
    "duration": 13,
    "start_time": "2022-02-06T15:11:43.086Z"
   },
   {
    "duration": 857,
    "start_time": "2022-02-06T15:11:43.102Z"
   },
   {
    "duration": 125,
    "start_time": "2022-02-06T15:11:43.962Z"
   },
   {
    "duration": 203,
    "start_time": "2022-02-06T15:11:44.090Z"
   },
   {
    "duration": 15,
    "start_time": "2022-02-06T15:11:44.296Z"
   },
   {
    "duration": 46,
    "start_time": "2022-02-06T15:11:44.313Z"
   },
   {
    "duration": 18,
    "start_time": "2022-02-06T15:11:44.362Z"
   },
   {
    "duration": 18,
    "start_time": "2022-02-06T15:11:44.383Z"
   },
   {
    "duration": 58,
    "start_time": "2022-02-06T15:11:44.403Z"
   },
   {
    "duration": 32,
    "start_time": "2022-02-06T15:11:44.463Z"
   },
   {
    "duration": 364,
    "start_time": "2022-02-06T15:11:44.498Z"
   },
   {
    "duration": 38,
    "start_time": "2022-02-06T15:11:44.865Z"
   },
   {
    "duration": 13,
    "start_time": "2022-02-06T15:11:44.906Z"
   },
   {
    "duration": 54,
    "start_time": "2022-02-06T15:11:44.921Z"
   },
   {
    "duration": 21,
    "start_time": "2022-02-06T15:11:44.977Z"
   },
   {
    "duration": 60,
    "start_time": "2022-02-06T15:11:45.001Z"
   },
   {
    "duration": 21,
    "start_time": "2022-02-06T15:11:45.064Z"
   },
   {
    "duration": 24,
    "start_time": "2022-02-06T15:11:45.088Z"
   },
   {
    "duration": 772,
    "start_time": "2022-02-06T15:11:45.115Z"
   },
   {
    "duration": 942,
    "start_time": "2022-02-06T15:11:45.890Z"
   },
   {
    "duration": 1014,
    "start_time": "2022-02-06T15:11:46.835Z"
   },
   {
    "duration": 780,
    "start_time": "2022-02-06T15:11:47.852Z"
   },
   {
    "duration": 757,
    "start_time": "2022-02-06T15:11:48.636Z"
   },
   {
    "duration": 396,
    "start_time": "2022-02-06T15:12:46.010Z"
   },
   {
    "duration": 414,
    "start_time": "2022-02-06T15:12:51.959Z"
   },
   {
    "duration": 381,
    "start_time": "2022-02-06T15:13:01.495Z"
   },
   {
    "duration": 127,
    "start_time": "2022-02-06T15:13:07.654Z"
   },
   {
    "duration": 223,
    "start_time": "2022-02-06T15:13:10.072Z"
   },
   {
    "duration": 406,
    "start_time": "2022-02-06T15:14:50.206Z"
   },
   {
    "duration": 17,
    "start_time": "2022-02-06T15:15:16.062Z"
   },
   {
    "duration": 82072,
    "start_time": "2022-02-06T15:15:31.324Z"
   },
   {
    "duration": 958,
    "start_time": "2022-02-06T15:17:24.220Z"
   },
   {
    "duration": 1045,
    "start_time": "2022-02-06T15:17:48.933Z"
   },
   {
    "duration": 107984,
    "start_time": "2022-02-06T15:17:57.888Z"
   },
   {
    "duration": 5893,
    "start_time": "2022-02-06T15:19:45.876Z"
   },
   {
    "duration": 801,
    "start_time": "2022-02-06T15:19:54.861Z"
   },
   {
    "duration": 1241,
    "start_time": "2022-02-06T15:20:03.461Z"
   },
   {
    "duration": 782,
    "start_time": "2022-02-06T15:20:16.807Z"
   },
   {
    "duration": 296,
    "start_time": "2022-02-06T15:20:54.248Z"
   },
   {
    "duration": 343,
    "start_time": "2022-02-06T15:28:31.547Z"
   },
   {
    "duration": 240,
    "start_time": "2022-02-06T15:30:53.388Z"
   },
   {
    "duration": 509,
    "start_time": "2022-02-06T15:31:03.177Z"
   },
   {
    "duration": 511,
    "start_time": "2022-02-06T15:31:30.231Z"
   },
   {
    "duration": 916,
    "start_time": "2022-02-06T15:31:49.707Z"
   },
   {
    "duration": 645,
    "start_time": "2022-02-06T15:32:01.055Z"
   },
   {
    "duration": 495,
    "start_time": "2022-02-06T15:32:13.103Z"
   },
   {
    "duration": 510,
    "start_time": "2022-02-06T15:32:28.652Z"
   },
   {
    "duration": 730,
    "start_time": "2022-02-06T15:32:51.004Z"
   },
   {
    "duration": 1002,
    "start_time": "2022-02-06T15:33:01.128Z"
   },
   {
    "duration": 747,
    "start_time": "2022-02-06T15:33:21.566Z"
   },
   {
    "duration": 845,
    "start_time": "2022-02-06T15:33:39.343Z"
   },
   {
    "duration": 815,
    "start_time": "2022-02-06T15:33:50.061Z"
   },
   {
    "duration": 665,
    "start_time": "2022-02-06T15:34:00.234Z"
   },
   {
    "duration": 526,
    "start_time": "2022-02-06T15:34:04.236Z"
   },
   {
    "duration": 1259,
    "start_time": "2022-02-06T15:34:07.452Z"
   },
   {
    "duration": 498,
    "start_time": "2022-02-06T15:34:15.112Z"
   },
   {
    "duration": 395,
    "start_time": "2022-02-06T15:34:20.956Z"
   },
   {
    "duration": 230,
    "start_time": "2022-02-06T15:34:44.549Z"
   },
   {
    "duration": 254,
    "start_time": "2022-02-06T15:34:55.161Z"
   },
   {
    "duration": 4,
    "start_time": "2022-02-06T15:42:51.712Z"
   },
   {
    "duration": 200,
    "start_time": "2022-02-06T15:42:51.722Z"
   },
   {
    "duration": 12,
    "start_time": "2022-02-06T15:42:51.926Z"
   },
   {
    "duration": 7,
    "start_time": "2022-02-06T15:42:51.962Z"
   },
   {
    "duration": 24,
    "start_time": "2022-02-06T15:42:51.973Z"
   },
   {
    "duration": 6,
    "start_time": "2022-02-06T15:42:52.001Z"
   },
   {
    "duration": 64,
    "start_time": "2022-02-06T15:42:52.010Z"
   },
   {
    "duration": 22,
    "start_time": "2022-02-06T15:42:52.077Z"
   },
   {
    "duration": 56,
    "start_time": "2022-02-06T15:42:52.103Z"
   },
   {
    "duration": 7,
    "start_time": "2022-02-06T15:42:52.162Z"
   },
   {
    "duration": 5,
    "start_time": "2022-02-06T15:42:52.171Z"
   },
   {
    "duration": 14,
    "start_time": "2022-02-06T15:42:52.179Z"
   },
   {
    "duration": 18,
    "start_time": "2022-02-06T15:42:52.195Z"
   },
   {
    "duration": 72,
    "start_time": "2022-02-06T15:42:52.216Z"
   },
   {
    "duration": 36,
    "start_time": "2022-02-06T15:42:52.291Z"
   },
   {
    "duration": 5,
    "start_time": "2022-02-06T15:42:52.329Z"
   },
   {
    "duration": 40,
    "start_time": "2022-02-06T15:42:52.359Z"
   },
   {
    "duration": 9,
    "start_time": "2022-02-06T15:42:52.402Z"
   },
   {
    "duration": 441,
    "start_time": "2022-02-06T15:42:52.413Z"
   },
   {
    "duration": 10,
    "start_time": "2022-02-06T15:42:52.859Z"
   },
   {
    "duration": 431,
    "start_time": "2022-02-06T15:42:52.872Z"
   },
   {
    "duration": 10,
    "start_time": "2022-02-06T15:42:53.305Z"
   },
   {
    "duration": 342,
    "start_time": "2022-02-06T15:42:53.317Z"
   },
   {
    "duration": 12,
    "start_time": "2022-02-06T15:42:53.665Z"
   },
   {
    "duration": 426,
    "start_time": "2022-02-06T15:42:53.680Z"
   },
   {
    "duration": 12,
    "start_time": "2022-02-06T15:42:54.108Z"
   },
   {
    "duration": 38,
    "start_time": "2022-02-06T15:42:54.122Z"
   },
   {
    "duration": 541,
    "start_time": "2022-02-06T15:42:54.163Z"
   },
   {
    "duration": 89,
    "start_time": "2022-02-06T15:42:54.706Z"
   },
   {
    "duration": 130,
    "start_time": "2022-02-06T15:42:54.797Z"
   },
   {
    "duration": 32,
    "start_time": "2022-02-06T15:42:54.929Z"
   },
   {
    "duration": 21,
    "start_time": "2022-02-06T15:42:54.963Z"
   },
   {
    "duration": 17,
    "start_time": "2022-02-06T15:42:54.987Z"
   },
   {
    "duration": 55,
    "start_time": "2022-02-06T15:42:55.007Z"
   },
   {
    "duration": 18,
    "start_time": "2022-02-06T15:42:55.064Z"
   },
   {
    "duration": 30,
    "start_time": "2022-02-06T15:42:55.085Z"
   },
   {
    "duration": 354,
    "start_time": "2022-02-06T15:42:55.117Z"
   },
   {
    "duration": 35,
    "start_time": "2022-02-06T15:42:55.473Z"
   },
   {
    "duration": 16,
    "start_time": "2022-02-06T15:42:55.510Z"
   },
   {
    "duration": 19,
    "start_time": "2022-02-06T15:42:55.560Z"
   },
   {
    "duration": 21,
    "start_time": "2022-02-06T15:42:55.581Z"
   },
   {
    "duration": 23,
    "start_time": "2022-02-06T15:42:55.605Z"
   },
   {
    "duration": 25,
    "start_time": "2022-02-06T15:42:55.661Z"
   },
   {
    "duration": 22,
    "start_time": "2022-02-06T15:42:55.688Z"
   },
   {
    "duration": 727,
    "start_time": "2022-02-06T15:42:55.712Z"
   },
   {
    "duration": 738,
    "start_time": "2022-02-06T15:42:56.442Z"
   },
   {
    "duration": 722,
    "start_time": "2022-02-06T15:42:57.184Z"
   },
   {
    "duration": 266,
    "start_time": "2022-02-06T15:42:57.910Z"
   },
   {
    "duration": 237,
    "start_time": "2022-02-06T15:42:58.178Z"
   },
   {
    "duration": 292,
    "start_time": "2022-02-07T09:59:10.317Z"
   },
   {
    "duration": 1013,
    "start_time": "2022-02-07T09:59:19.305Z"
   },
   {
    "duration": 106,
    "start_time": "2022-02-07T09:59:20.320Z"
   },
   {
    "duration": 9,
    "start_time": "2022-02-07T09:59:20.428Z"
   },
   {
    "duration": 20,
    "start_time": "2022-02-07T09:59:20.439Z"
   },
   {
    "duration": 33,
    "start_time": "2022-02-07T09:59:20.461Z"
   },
   {
    "duration": 23,
    "start_time": "2022-02-07T09:59:20.496Z"
   },
   {
    "duration": 22,
    "start_time": "2022-02-07T09:59:20.521Z"
   },
   {
    "duration": 39,
    "start_time": "2022-02-07T09:59:20.545Z"
   },
   {
    "duration": 31,
    "start_time": "2022-02-07T09:59:20.587Z"
   },
   {
    "duration": 18,
    "start_time": "2022-02-07T09:59:20.621Z"
   },
   {
    "duration": 33,
    "start_time": "2022-02-07T09:59:20.641Z"
   },
   {
    "duration": 26,
    "start_time": "2022-02-07T09:59:20.676Z"
   },
   {
    "duration": 23,
    "start_time": "2022-02-07T09:59:20.703Z"
   },
   {
    "duration": 35,
    "start_time": "2022-02-07T09:59:20.728Z"
   },
   {
    "duration": 35,
    "start_time": "2022-02-07T09:59:20.765Z"
   },
   {
    "duration": 4,
    "start_time": "2022-02-07T09:59:20.802Z"
   },
   {
    "duration": 50,
    "start_time": "2022-02-07T09:59:20.808Z"
   },
   {
    "duration": 7,
    "start_time": "2022-02-07T09:59:20.860Z"
   },
   {
    "duration": 262,
    "start_time": "2022-02-07T09:59:20.868Z"
   },
   {
    "duration": 8,
    "start_time": "2022-02-07T09:59:21.131Z"
   },
   {
    "duration": 267,
    "start_time": "2022-02-07T09:59:21.140Z"
   },
   {
    "duration": 9,
    "start_time": "2022-02-07T09:59:21.409Z"
   },
   {
    "duration": 229,
    "start_time": "2022-02-07T09:59:21.420Z"
   },
   {
    "duration": 14,
    "start_time": "2022-02-07T09:59:21.651Z"
   },
   {
    "duration": 277,
    "start_time": "2022-02-07T09:59:21.667Z"
   },
   {
    "duration": 17,
    "start_time": "2022-02-07T09:59:21.946Z"
   },
   {
    "duration": 13,
    "start_time": "2022-02-07T09:59:21.967Z"
   },
   {
    "duration": 343,
    "start_time": "2022-02-07T09:59:21.982Z"
   },
   {
    "duration": 10,
    "start_time": "2022-02-07T09:59:22.327Z"
   },
   {
    "duration": 153,
    "start_time": "2022-02-07T09:59:22.339Z"
   },
   {
    "duration": 10,
    "start_time": "2022-02-07T09:59:22.494Z"
   },
   {
    "duration": 89,
    "start_time": "2022-02-07T09:59:22.506Z"
   },
   {
    "duration": 11,
    "start_time": "2022-02-07T09:59:22.597Z"
   },
   {
    "duration": 28,
    "start_time": "2022-02-07T09:59:22.610Z"
   },
   {
    "duration": 20,
    "start_time": "2022-02-07T09:59:22.640Z"
   },
   {
    "duration": 13,
    "start_time": "2022-02-07T09:59:22.661Z"
   },
   {
    "duration": 11,
    "start_time": "2022-02-07T09:59:22.676Z"
   },
   {
    "duration": 20,
    "start_time": "2022-02-07T09:59:22.688Z"
   },
   {
    "duration": 231,
    "start_time": "2022-02-07T09:59:22.709Z"
   },
   {
    "duration": 30,
    "start_time": "2022-02-07T09:59:22.941Z"
   },
   {
    "duration": 9,
    "start_time": "2022-02-07T09:59:22.972Z"
   },
   {
    "duration": 25,
    "start_time": "2022-02-07T09:59:22.983Z"
   },
   {
    "duration": 28,
    "start_time": "2022-02-07T09:59:23.010Z"
   },
   {
    "duration": 52,
    "start_time": "2022-02-07T09:59:23.040Z"
   },
   {
    "duration": 25,
    "start_time": "2022-02-07T09:59:23.094Z"
   },
   {
    "duration": 30,
    "start_time": "2022-02-07T09:59:23.121Z"
   },
   {
    "duration": 449,
    "start_time": "2022-02-07T09:59:23.153Z"
   },
   {
    "duration": 465,
    "start_time": "2022-02-07T09:59:23.604Z"
   },
   {
    "duration": 462,
    "start_time": "2022-02-07T09:59:24.071Z"
   },
   {
    "duration": 179,
    "start_time": "2022-02-07T09:59:24.535Z"
   },
   {
    "duration": 152,
    "start_time": "2022-02-07T09:59:24.715Z"
   },
   {
    "duration": 11,
    "start_time": "2022-02-07T10:00:20.031Z"
   },
   {
    "duration": 14,
    "start_time": "2022-02-07T10:03:12.527Z"
   },
   {
    "duration": 60,
    "start_time": "2022-02-07T10:03:41.722Z"
   },
   {
    "duration": 294,
    "start_time": "2022-02-07T10:06:16.456Z"
   },
   {
    "duration": 290,
    "start_time": "2022-02-07T10:06:32.112Z"
   },
   {
    "duration": 387,
    "start_time": "2022-02-07T10:06:41.236Z"
   },
   {
    "duration": 1445,
    "start_time": "2022-02-07T15:36:00.356Z"
   },
   {
    "duration": 106,
    "start_time": "2022-02-07T15:36:01.803Z"
   },
   {
    "duration": 12,
    "start_time": "2022-02-07T15:36:01.912Z"
   },
   {
    "duration": 21,
    "start_time": "2022-02-07T15:36:01.926Z"
   },
   {
    "duration": 27,
    "start_time": "2022-02-07T15:36:01.949Z"
   },
   {
    "duration": 21,
    "start_time": "2022-02-07T15:36:01.977Z"
   },
   {
    "duration": 35,
    "start_time": "2022-02-07T15:36:02.000Z"
   },
   {
    "duration": 53,
    "start_time": "2022-02-07T15:36:02.038Z"
   },
   {
    "duration": 38,
    "start_time": "2022-02-07T15:36:02.094Z"
   },
   {
    "duration": 24,
    "start_time": "2022-02-07T15:36:02.134Z"
   },
   {
    "duration": 33,
    "start_time": "2022-02-07T15:36:02.160Z"
   },
   {
    "duration": 40,
    "start_time": "2022-02-07T15:36:02.195Z"
   },
   {
    "duration": 32,
    "start_time": "2022-02-07T15:36:02.237Z"
   },
   {
    "duration": 50,
    "start_time": "2022-02-07T15:36:02.271Z"
   },
   {
    "duration": 29,
    "start_time": "2022-02-07T15:36:02.323Z"
   },
   {
    "duration": 7,
    "start_time": "2022-02-07T15:36:02.354Z"
   },
   {
    "duration": 78,
    "start_time": "2022-02-07T15:36:02.363Z"
   },
   {
    "duration": 10,
    "start_time": "2022-02-07T15:36:02.442Z"
   },
   {
    "duration": 280,
    "start_time": "2022-02-07T15:36:02.454Z"
   },
   {
    "duration": 8,
    "start_time": "2022-02-07T15:36:02.735Z"
   },
   {
    "duration": 282,
    "start_time": "2022-02-07T15:36:02.744Z"
   },
   {
    "duration": 8,
    "start_time": "2022-02-07T15:36:03.028Z"
   },
   {
    "duration": 239,
    "start_time": "2022-02-07T15:36:03.039Z"
   },
   {
    "duration": 9,
    "start_time": "2022-02-07T15:36:03.280Z"
   },
   {
    "duration": 270,
    "start_time": "2022-02-07T15:36:03.291Z"
   },
   {
    "duration": 8,
    "start_time": "2022-02-07T15:36:03.563Z"
   },
   {
    "duration": 18,
    "start_time": "2022-02-07T15:36:03.573Z"
   },
   {
    "duration": 347,
    "start_time": "2022-02-07T15:36:03.593Z"
   },
   {
    "duration": 12,
    "start_time": "2022-02-07T15:36:03.942Z"
   },
   {
    "duration": 142,
    "start_time": "2022-02-07T15:36:03.956Z"
   },
   {
    "duration": 28,
    "start_time": "2022-02-07T15:36:04.100Z"
   },
   {
    "duration": 96,
    "start_time": "2022-02-07T15:36:04.130Z"
   },
   {
    "duration": 12,
    "start_time": "2022-02-07T15:36:04.228Z"
   },
   {
    "duration": 24,
    "start_time": "2022-02-07T15:36:04.242Z"
   },
   {
    "duration": 31,
    "start_time": "2022-02-07T15:36:04.267Z"
   },
   {
    "duration": 40,
    "start_time": "2022-02-07T15:36:04.299Z"
   },
   {
    "duration": 34,
    "start_time": "2022-02-07T15:36:04.341Z"
   },
   {
    "duration": 32,
    "start_time": "2022-02-07T15:36:04.377Z"
   },
   {
    "duration": 51,
    "start_time": "2022-02-07T15:36:04.411Z"
   },
   {
    "duration": 275,
    "start_time": "2022-02-07T15:36:04.464Z"
   },
   {
    "duration": 25,
    "start_time": "2022-02-07T15:36:04.741Z"
   },
   {
    "duration": 24,
    "start_time": "2022-02-07T15:36:04.768Z"
   },
   {
    "duration": 52,
    "start_time": "2022-02-07T15:36:04.793Z"
   },
   {
    "duration": 39,
    "start_time": "2022-02-07T15:36:04.847Z"
   },
   {
    "duration": 32,
    "start_time": "2022-02-07T15:36:04.888Z"
   },
   {
    "duration": 34,
    "start_time": "2022-02-07T15:36:04.922Z"
   },
   {
    "duration": 32,
    "start_time": "2022-02-07T15:36:04.958Z"
   },
   {
    "duration": 488,
    "start_time": "2022-02-07T15:36:04.992Z"
   },
   {
    "duration": 468,
    "start_time": "2022-02-07T15:36:05.482Z"
   },
   {
    "duration": 452,
    "start_time": "2022-02-07T15:36:05.952Z"
   },
   {
    "duration": 164,
    "start_time": "2022-02-07T15:36:06.406Z"
   },
   {
    "duration": 152,
    "start_time": "2022-02-07T15:36:06.572Z"
   },
   {
    "duration": 326,
    "start_time": "2022-02-07T15:36:06.726Z"
   },
   {
    "duration": 7060,
    "start_time": "2022-02-07T15:37:34.525Z"
   },
   {
    "duration": 6396,
    "start_time": "2022-02-07T15:38:22.907Z"
   },
   {
    "duration": 7,
    "start_time": "2022-02-07T15:38:31.215Z"
   },
   {
    "duration": 4,
    "start_time": "2022-02-07T15:38:36.180Z"
   },
   {
    "duration": 55,
    "start_time": "2022-02-07T15:39:45.750Z"
   },
   {
    "duration": 12,
    "start_time": "2022-02-07T15:39:53.840Z"
   },
   {
    "duration": 4,
    "start_time": "2022-02-07T15:40:10.469Z"
   },
   {
    "duration": 165,
    "start_time": "2022-02-07T15:40:10.475Z"
   },
   {
    "duration": 9,
    "start_time": "2022-02-07T15:40:10.642Z"
   },
   {
    "duration": 14,
    "start_time": "2022-02-07T15:40:10.654Z"
   },
   {
    "duration": 13,
    "start_time": "2022-02-07T15:40:10.670Z"
   },
   {
    "duration": 33,
    "start_time": "2022-02-07T15:40:10.685Z"
   },
   {
    "duration": 14,
    "start_time": "2022-02-07T15:40:10.722Z"
   },
   {
    "duration": 13,
    "start_time": "2022-02-07T15:40:10.739Z"
   },
   {
    "duration": 19,
    "start_time": "2022-02-07T15:40:10.754Z"
   },
   {
    "duration": 48,
    "start_time": "2022-02-07T15:40:10.775Z"
   },
   {
    "duration": 4,
    "start_time": "2022-02-07T15:40:10.824Z"
   },
   {
    "duration": 22,
    "start_time": "2022-02-07T15:40:10.830Z"
   },
   {
    "duration": 24,
    "start_time": "2022-02-07T15:40:10.853Z"
   },
   {
    "duration": 31,
    "start_time": "2022-02-07T15:40:10.879Z"
   },
   {
    "duration": 21,
    "start_time": "2022-02-07T15:40:10.918Z"
   },
   {
    "duration": 5,
    "start_time": "2022-02-07T15:40:10.941Z"
   },
   {
    "duration": 44,
    "start_time": "2022-02-07T15:40:10.947Z"
   },
   {
    "duration": 25,
    "start_time": "2022-02-07T15:40:10.993Z"
   },
   {
    "duration": 379,
    "start_time": "2022-02-07T15:40:11.023Z"
   },
   {
    "duration": 16,
    "start_time": "2022-02-07T15:40:11.405Z"
   },
   {
    "duration": 268,
    "start_time": "2022-02-07T15:40:11.423Z"
   },
   {
    "duration": 7,
    "start_time": "2022-02-07T15:40:11.693Z"
   },
   {
    "duration": 226,
    "start_time": "2022-02-07T15:40:11.702Z"
   },
   {
    "duration": 8,
    "start_time": "2022-02-07T15:40:11.930Z"
   },
   {
    "duration": 278,
    "start_time": "2022-02-07T15:40:11.940Z"
   },
   {
    "duration": 10,
    "start_time": "2022-02-07T15:40:12.220Z"
   },
   {
    "duration": 8,
    "start_time": "2022-02-07T15:40:12.232Z"
   },
   {
    "duration": 366,
    "start_time": "2022-02-07T15:40:12.242Z"
   },
   {
    "duration": 18,
    "start_time": "2022-02-07T15:40:12.610Z"
   },
   {
    "duration": 71,
    "start_time": "2022-02-07T15:40:12.630Z"
   },
   {
    "duration": 17,
    "start_time": "2022-02-07T15:40:12.703Z"
   },
   {
    "duration": 97,
    "start_time": "2022-02-07T15:40:12.722Z"
   },
   {
    "duration": 13,
    "start_time": "2022-02-07T15:40:12.821Z"
   },
   {
    "duration": 14,
    "start_time": "2022-02-07T15:40:12.836Z"
   },
   {
    "duration": 13,
    "start_time": "2022-02-07T15:40:12.852Z"
   },
   {
    "duration": 12,
    "start_time": "2022-02-07T15:40:12.866Z"
   },
   {
    "duration": 49,
    "start_time": "2022-02-07T15:40:12.880Z"
   },
   {
    "duration": 12,
    "start_time": "2022-02-07T15:40:12.931Z"
   },
   {
    "duration": 24,
    "start_time": "2022-02-07T15:40:12.944Z"
   },
   {
    "duration": 255,
    "start_time": "2022-02-07T15:40:12.970Z"
   },
   {
    "duration": 27,
    "start_time": "2022-02-07T15:40:13.227Z"
   },
   {
    "duration": 12,
    "start_time": "2022-02-07T15:40:13.256Z"
   },
   {
    "duration": 62,
    "start_time": "2022-02-07T15:40:13.270Z"
   },
   {
    "duration": 16,
    "start_time": "2022-02-07T15:40:13.334Z"
   },
   {
    "duration": 17,
    "start_time": "2022-02-07T15:40:13.352Z"
   },
   {
    "duration": 15,
    "start_time": "2022-02-07T15:40:13.371Z"
   },
   {
    "duration": 42,
    "start_time": "2022-02-07T15:40:13.388Z"
   },
   {
    "duration": 476,
    "start_time": "2022-02-07T15:40:13.432Z"
   },
   {
    "duration": 487,
    "start_time": "2022-02-07T15:40:13.918Z"
   },
   {
    "duration": 595,
    "start_time": "2022-02-07T15:40:14.407Z"
   },
   {
    "duration": 160,
    "start_time": "2022-02-07T15:40:15.003Z"
   },
   {
    "duration": 166,
    "start_time": "2022-02-07T15:40:15.165Z"
   },
   {
    "duration": 301,
    "start_time": "2022-02-07T15:40:15.333Z"
   },
   {
    "duration": 58,
    "start_time": "2022-02-07T15:40:35.790Z"
   },
   {
    "duration": 14,
    "start_time": "2022-02-07T15:42:25.629Z"
   },
   {
    "duration": 3,
    "start_time": "2022-02-07T15:42:45.703Z"
   },
   {
    "duration": 117,
    "start_time": "2022-02-07T15:42:45.708Z"
   },
   {
    "duration": 6,
    "start_time": "2022-02-07T15:42:45.827Z"
   },
   {
    "duration": 9,
    "start_time": "2022-02-07T15:42:45.835Z"
   },
   {
    "duration": 17,
    "start_time": "2022-02-07T15:42:45.846Z"
   },
   {
    "duration": 7,
    "start_time": "2022-02-07T15:42:45.864Z"
   },
   {
    "duration": 17,
    "start_time": "2022-02-07T15:42:45.873Z"
   },
   {
    "duration": 32,
    "start_time": "2022-02-07T15:42:45.892Z"
   },
   {
    "duration": 23,
    "start_time": "2022-02-07T15:42:45.925Z"
   },
   {
    "duration": 6,
    "start_time": "2022-02-07T15:42:45.951Z"
   },
   {
    "duration": 5,
    "start_time": "2022-02-07T15:42:45.959Z"
   },
   {
    "duration": 13,
    "start_time": "2022-02-07T15:42:45.966Z"
   },
   {
    "duration": 48,
    "start_time": "2022-02-07T15:42:45.980Z"
   },
   {
    "duration": 30,
    "start_time": "2022-02-07T15:42:46.030Z"
   },
   {
    "duration": 24,
    "start_time": "2022-02-07T15:42:46.062Z"
   },
   {
    "duration": 4,
    "start_time": "2022-02-07T15:42:46.087Z"
   },
   {
    "duration": 52,
    "start_time": "2022-02-07T15:42:46.093Z"
   },
   {
    "duration": 8,
    "start_time": "2022-02-07T15:42:46.146Z"
   },
   {
    "duration": 271,
    "start_time": "2022-02-07T15:42:46.158Z"
   },
   {
    "duration": 8,
    "start_time": "2022-02-07T15:42:46.431Z"
   },
   {
    "duration": 268,
    "start_time": "2022-02-07T15:42:46.441Z"
   },
   {
    "duration": 12,
    "start_time": "2022-02-07T15:42:46.711Z"
   },
   {
    "duration": 222,
    "start_time": "2022-02-07T15:42:46.725Z"
   },
   {
    "duration": 9,
    "start_time": "2022-02-07T15:42:46.949Z"
   },
   {
    "duration": 280,
    "start_time": "2022-02-07T15:42:46.959Z"
   },
   {
    "duration": 8,
    "start_time": "2022-02-07T15:42:47.241Z"
   },
   {
    "duration": 7,
    "start_time": "2022-02-07T15:42:47.251Z"
   },
   {
    "duration": 347,
    "start_time": "2022-02-07T15:42:47.260Z"
   },
   {
    "duration": 16,
    "start_time": "2022-02-07T15:42:47.609Z"
   },
   {
    "duration": 53,
    "start_time": "2022-02-07T15:42:47.626Z"
   },
   {
    "duration": 10,
    "start_time": "2022-02-07T15:42:47.680Z"
   },
   {
    "duration": 105,
    "start_time": "2022-02-07T15:42:47.692Z"
   },
   {
    "duration": 24,
    "start_time": "2022-02-07T15:42:47.799Z"
   },
   {
    "duration": 14,
    "start_time": "2022-02-07T15:42:47.824Z"
   },
   {
    "duration": 14,
    "start_time": "2022-02-07T15:42:47.840Z"
   },
   {
    "duration": 13,
    "start_time": "2022-02-07T15:42:47.856Z"
   },
   {
    "duration": 13,
    "start_time": "2022-02-07T15:42:47.871Z"
   },
   {
    "duration": 42,
    "start_time": "2022-02-07T15:42:47.886Z"
   },
   {
    "duration": 28,
    "start_time": "2022-02-07T15:42:47.930Z"
   },
   {
    "duration": 240,
    "start_time": "2022-02-07T15:42:47.959Z"
   },
   {
    "duration": 32,
    "start_time": "2022-02-07T15:42:48.201Z"
   },
   {
    "duration": 9,
    "start_time": "2022-02-07T15:42:48.234Z"
   },
   {
    "duration": 12,
    "start_time": "2022-02-07T15:42:48.245Z"
   },
   {
    "duration": 14,
    "start_time": "2022-02-07T15:42:48.259Z"
   },
   {
    "duration": 12,
    "start_time": "2022-02-07T15:42:48.275Z"
   },
   {
    "duration": 191,
    "start_time": "2022-02-07T15:42:48.289Z"
   },
   {
    "duration": 15,
    "start_time": "2022-02-07T15:42:48.482Z"
   },
   {
    "duration": 453,
    "start_time": "2022-02-07T15:42:48.499Z"
   },
   {
    "duration": 490,
    "start_time": "2022-02-07T15:42:48.954Z"
   },
   {
    "duration": 469,
    "start_time": "2022-02-07T15:42:49.446Z"
   },
   {
    "duration": 160,
    "start_time": "2022-02-07T15:42:49.918Z"
   },
   {
    "duration": 152,
    "start_time": "2022-02-07T15:42:50.080Z"
   },
   {
    "duration": 400,
    "start_time": "2022-02-07T15:42:50.234Z"
   }
  ],
  "kernelspec": {
   "display_name": "Python 3 (ipykernel)",
   "language": "python",
   "name": "python3"
  },
  "language_info": {
   "codemirror_mode": {
    "name": "ipython",
    "version": 3
   },
   "file_extension": ".py",
   "mimetype": "text/x-python",
   "name": "python",
   "nbconvert_exporter": "python",
   "pygments_lexer": "ipython3",
   "version": "3.9.7"
  },
  "toc": {
   "base_numbering": 1,
   "nav_menu": {},
   "number_sections": true,
   "sideBar": true,
   "skip_h1_title": true,
   "title_cell": "Содержание",
   "title_sidebar": "Contents",
   "toc_cell": true,
   "toc_position": {},
   "toc_section_display": true,
   "toc_window_display": true
  }
 },
 "nbformat": 4,
 "nbformat_minor": 2
}
