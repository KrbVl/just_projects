{
 "cells": [
  {
   "cell_type": "markdown",
   "id": "e4a4f9f6",
   "metadata": {},
   "source": [
    "# Описание данных"
   ]
  },
  {
   "cell_type": "markdown",
   "id": "2e4d7008",
   "metadata": {},
   "source": [
    "Компания «Мегалайн» — федеральный оператор сотовой связи. Клиентам предлагают два тарифных плана: «Смарт» и «Ультра».\n",
    "Чтобы скорректировать рекламный бюджет, коммерческий департамент хочет понять, какой тариф приносит больше денег.\n",
    "Нам предстоит сделать предварительный анализ тарифов на небольшой выборке клиентов. В нашем распоряжении данные 500\n",
    "пользователей «Мегалайна»: кто они, откуда, каким тарифом пользуются, сколько звонков и сообщений каждый отправил за\n",
    "2018 год. Нужно проанализировать поведение клиентов и сделать вывод — какой тариф лучше.\n",
    "\n",
    "Описание тарифов\n",
    "\n",
    "- Тариф «Смарт»\n",
    "Ежемесячная плата: 550 рублей\n",
    "Включено 500 минут разговора, 50 сообщений и 15 Гб интернет-трафика\n",
    "Стоимость услуг сверх тарифного пакета: 1. минута разговора: 3 рубля («Мегалайн» всегда округляет вверх значения минут и мегабайтов. Если пользователь проговорил всего 1 секунду, в тарифе засчитывается целая минута); 2. сообщение: 3 рубля; 3. 1 Гб интернет-трафика: 200 рублей.\n",
    "- Тариф «Ультра»\n",
    "Ежемесячная плата: 1950 рублей\n",
    "Включено 3000 минут разговора, 1000 сообщений и 30 Гб интернет-трафика\n",
    "Стоимость услуг сверх тарифного пакета: 1. минута разговора: 1 рубль; 2. сообщение: 1 рубль; 3. 1 Гб интернет-трафика: 150 рублей.\n",
    "\n",
    "Примечание:\n",
    "«Мегалайн» всегда округляет секунды до минут, а мегабайты — до гигабайт. Каждый звонок\n",
    "округляется отдельно: даже если он длился всего 1 секунду, будет засчитан как 1 минута.\n",
    "Для веб-трафика отдельные сессии не считаются. Вместо этого общая сумма за месяц округляется\n",
    "в бо́льшую сторону. Если абонент использует 1025 мегабайт в этом месяце, с него возьмут плату за 2 гигабайта."
   ]
  },
  {
   "cell_type": "markdown",
   "id": "116940b5",
   "metadata": {},
   "source": [
    "Таблица users (информация о пользователях):\n",
    "- user_id — уникальный идентификатор пользователя\n",
    "- first_name — имя пользователя\n",
    "- last_name — фамилия пользователя\n",
    "- age — возраст пользователя (годы)\n",
    "- reg_date — дата подключения тарифа (день, месяц, год)\n",
    "- churn_date — дата прекращения пользования тарифом (если значение пропущено, то тариф ещё действовал на момент выгрузки данных)\n",
    "- city — город проживания пользователя\n",
    "- tarif — название тарифного плана\n",
    "\n",
    "Таблица calls (информация о звонках):\n",
    "- id — уникальный номер звонка\n",
    "- call_date — дата звонка\n",
    "- duration — длительность звонка в минутах\n",
    "- user_id — идентификатор пользователя, сделавшего звонок\n",
    "\n",
    "Таблица messages (информация о сообщениях):\n",
    "- id — уникальный номер сообщения\n",
    "- message_date — дата сообщения\n",
    "- user_id — идентификатор пользователя, отправившего сообщение\n",
    "\n",
    "Таблица internet (информация об интернет-сессиях):\n",
    "- id — уникальный номер сессии\n",
    "- mb_used — объём потраченного за сессию интернет-трафика (в мегабайтах)\n",
    "- session_date — дата интернет-сессии\n",
    "- user_id — идентификатор пользователя\n",
    "\n",
    "Таблица tariffs (информация о тарифах):\n",
    "- tariff_name — название тарифа\n",
    "- rub_monthly_fee — ежемесячная абонентская плата в рублях\n",
    "- minutes_included — количество минут разговора в месяц, включённых в абонентскую плату\n",
    "- messages_included — количество сообщений в месяц, включённых в абонентскую плату\n",
    "- mb_per_month_included — объём интернет-трафика, включённого в абонентскую плату (в мегабайтах)\n",
    "- rub_per_minute — стоимость минуты разговора сверх тарифного пакета (например, если в тарифе 100 минут разговора в месяц, то со 101 минуты будет взиматься плата)\n",
    "- rub_per_message — стоимость отправки сообщения сверх тарифного пакета\n",
    "- rub_per_gb — стоимость дополнительного гигабайта интернет-трафика сверх тарифного пакета (1 гигабайт = 1024 мегабайта)"
   ]
  },
  {
   "cell_type": "markdown",
   "id": "5b618e85",
   "metadata": {},
   "source": [
    "# **План работы** #\n",
    "\n",
    "- изучить таблицы\n",
    "- подготовить данные для анализа\n",
    "- провести анализ\n",
    "- проверить гипотезы\n",
    "- сделать вывод"
   ]
  },
  {
   "cell_type": "markdown",
   "id": "965cb69e",
   "metadata": {},
   "source": [
    "Нам необходимо проверить следующие гипотезы:\n",
    "- средняя выручка от пользователей тарифов «Ультра» и «Смарт» различается;\n",
    "- средняя выручка от пользователей из Москвы отличается от выручки от пользователей из других регионов."
   ]
  },
  {
   "cell_type": "markdown",
   "id": "124e74d2",
   "metadata": {},
   "source": [
    "# **Изучение таблиц** #"
   ]
  },
  {
   "cell_type": "code",
   "execution_count": 13,
   "id": "16a744d1",
   "metadata": {},
   "outputs": [],
   "source": [
    "import pandas as pd\n",
    "import numpy as np\n",
    "from datetime import datetime\n",
    "import matplotlib.pyplot as plt\n",
    "from scipy import stats as st"
   ]
  },
  {
   "cell_type": "code",
   "execution_count": 14,
   "id": "3be0ea20",
   "metadata": {},
   "outputs": [
    {
     "data": {
      "text/html": [
       "<div>\n",
       "<style scoped>\n",
       "    .dataframe tbody tr th:only-of-type {\n",
       "        vertical-align: middle;\n",
       "    }\n",
       "\n",
       "    .dataframe tbody tr th {\n",
       "        vertical-align: top;\n",
       "    }\n",
       "\n",
       "    .dataframe thead th {\n",
       "        text-align: right;\n",
       "    }\n",
       "</style>\n",
       "<table border=\"1\" class=\"dataframe\">\n",
       "  <thead>\n",
       "    <tr style=\"text-align: right;\">\n",
       "      <th></th>\n",
       "      <th>user_id</th>\n",
       "      <th>age</th>\n",
       "      <th>churn_date</th>\n",
       "      <th>city</th>\n",
       "      <th>first_name</th>\n",
       "      <th>last_name</th>\n",
       "      <th>reg_date</th>\n",
       "      <th>tariff</th>\n",
       "    </tr>\n",
       "  </thead>\n",
       "  <tbody>\n",
       "    <tr>\n",
       "      <th>0</th>\n",
       "      <td>1000</td>\n",
       "      <td>52</td>\n",
       "      <td>NaN</td>\n",
       "      <td>Краснодар</td>\n",
       "      <td>Рафаил</td>\n",
       "      <td>Верещагин</td>\n",
       "      <td>2018-05-25</td>\n",
       "      <td>ultra</td>\n",
       "    </tr>\n",
       "    <tr>\n",
       "      <th>1</th>\n",
       "      <td>1001</td>\n",
       "      <td>41</td>\n",
       "      <td>NaN</td>\n",
       "      <td>Москва</td>\n",
       "      <td>Иван</td>\n",
       "      <td>Ежов</td>\n",
       "      <td>2018-11-01</td>\n",
       "      <td>smart</td>\n",
       "    </tr>\n",
       "    <tr>\n",
       "      <th>2</th>\n",
       "      <td>1002</td>\n",
       "      <td>59</td>\n",
       "      <td>NaN</td>\n",
       "      <td>Стерлитамак</td>\n",
       "      <td>Евгений</td>\n",
       "      <td>Абрамович</td>\n",
       "      <td>2018-06-17</td>\n",
       "      <td>smart</td>\n",
       "    </tr>\n",
       "    <tr>\n",
       "      <th>3</th>\n",
       "      <td>1003</td>\n",
       "      <td>23</td>\n",
       "      <td>NaN</td>\n",
       "      <td>Москва</td>\n",
       "      <td>Белла</td>\n",
       "      <td>Белякова</td>\n",
       "      <td>2018-08-17</td>\n",
       "      <td>ultra</td>\n",
       "    </tr>\n",
       "    <tr>\n",
       "      <th>4</th>\n",
       "      <td>1004</td>\n",
       "      <td>68</td>\n",
       "      <td>NaN</td>\n",
       "      <td>Новокузнецк</td>\n",
       "      <td>Татьяна</td>\n",
       "      <td>Авдеенко</td>\n",
       "      <td>2018-05-14</td>\n",
       "      <td>ultra</td>\n",
       "    </tr>\n",
       "  </tbody>\n",
       "</table>\n",
       "</div>"
      ],
      "text/plain": [
       "   user_id  age churn_date         city first_name  last_name    reg_date  \\\n",
       "0     1000   52        NaN    Краснодар     Рафаил  Верещагин  2018-05-25   \n",
       "1     1001   41        NaN       Москва       Иван       Ежов  2018-11-01   \n",
       "2     1002   59        NaN  Стерлитамак    Евгений  Абрамович  2018-06-17   \n",
       "3     1003   23        NaN       Москва      Белла   Белякова  2018-08-17   \n",
       "4     1004   68        NaN  Новокузнецк    Татьяна   Авдеенко  2018-05-14   \n",
       "\n",
       "  tariff  \n",
       "0  ultra  \n",
       "1  smart  \n",
       "2  smart  \n",
       "3  ultra  \n",
       "4  ultra  "
      ]
     },
     "metadata": {},
     "output_type": "display_data"
    },
    {
     "name": "stdout",
     "output_type": "stream",
     "text": [
      "<class 'pandas.core.frame.DataFrame'>\n",
      "RangeIndex: 500 entries, 0 to 499\n",
      "Data columns (total 8 columns):\n",
      " #   Column      Non-Null Count  Dtype \n",
      "---  ------      --------------  ----- \n",
      " 0   user_id     500 non-null    int64 \n",
      " 1   age         500 non-null    int64 \n",
      " 2   churn_date  38 non-null     object\n",
      " 3   city        500 non-null    object\n",
      " 4   first_name  500 non-null    object\n",
      " 5   last_name   500 non-null    object\n",
      " 6   reg_date    500 non-null    object\n",
      " 7   tariff      500 non-null    object\n",
      "dtypes: int64(2), object(6)\n",
      "memory usage: 31.4+ KB\n"
     ]
    }
   ],
   "source": [
    "#откроем файлы с данными и изучим таблицы\n",
    "df = pd.read_csv('/users.csv')\n",
    "df_calls = pd.read_csv('/calls.csv')\n",
    "df_internet = pd.read_csv('/internet.csv')\n",
    "df_messages = pd.read_csv('/messages.csv')\n",
    "df_tariffs = pd.read_csv('/tariffs.csv')\n",
    "\n",
    "#выведем таблицы на экран и информацию о них\n",
    "display(df.head())\n",
    "df.info()"
   ]
  },
  {
   "cell_type": "markdown",
   "id": "59e51963",
   "metadata": {},
   "source": [
    "Здесь мы видим выборку из 500 пользователей с персональной информацией о каждом из них, а также данные об используемом тарифе.\n",
    "\n",
    "Сразу можно отметить неправильный формат дат."
   ]
  },
  {
   "cell_type": "code",
   "execution_count": 15,
   "id": "5ccbc558",
   "metadata": {},
   "outputs": [
    {
     "data": {
      "text/html": [
       "<div>\n",
       "<style scoped>\n",
       "    .dataframe tbody tr th:only-of-type {\n",
       "        vertical-align: middle;\n",
       "    }\n",
       "\n",
       "    .dataframe tbody tr th {\n",
       "        vertical-align: top;\n",
       "    }\n",
       "\n",
       "    .dataframe thead th {\n",
       "        text-align: right;\n",
       "    }\n",
       "</style>\n",
       "<table border=\"1\" class=\"dataframe\">\n",
       "  <thead>\n",
       "    <tr style=\"text-align: right;\">\n",
       "      <th></th>\n",
       "      <th>id</th>\n",
       "      <th>call_date</th>\n",
       "      <th>duration</th>\n",
       "      <th>user_id</th>\n",
       "    </tr>\n",
       "  </thead>\n",
       "  <tbody>\n",
       "    <tr>\n",
       "      <th>0</th>\n",
       "      <td>1000_0</td>\n",
       "      <td>2018-07-25</td>\n",
       "      <td>0.00</td>\n",
       "      <td>1000</td>\n",
       "    </tr>\n",
       "    <tr>\n",
       "      <th>1</th>\n",
       "      <td>1000_1</td>\n",
       "      <td>2018-08-17</td>\n",
       "      <td>0.00</td>\n",
       "      <td>1000</td>\n",
       "    </tr>\n",
       "    <tr>\n",
       "      <th>2</th>\n",
       "      <td>1000_2</td>\n",
       "      <td>2018-06-11</td>\n",
       "      <td>2.85</td>\n",
       "      <td>1000</td>\n",
       "    </tr>\n",
       "    <tr>\n",
       "      <th>3</th>\n",
       "      <td>1000_3</td>\n",
       "      <td>2018-09-21</td>\n",
       "      <td>13.80</td>\n",
       "      <td>1000</td>\n",
       "    </tr>\n",
       "    <tr>\n",
       "      <th>4</th>\n",
       "      <td>1000_4</td>\n",
       "      <td>2018-12-15</td>\n",
       "      <td>5.18</td>\n",
       "      <td>1000</td>\n",
       "    </tr>\n",
       "  </tbody>\n",
       "</table>\n",
       "</div>"
      ],
      "text/plain": [
       "       id   call_date  duration  user_id\n",
       "0  1000_0  2018-07-25      0.00     1000\n",
       "1  1000_1  2018-08-17      0.00     1000\n",
       "2  1000_2  2018-06-11      2.85     1000\n",
       "3  1000_3  2018-09-21     13.80     1000\n",
       "4  1000_4  2018-12-15      5.18     1000"
      ]
     },
     "metadata": {},
     "output_type": "display_data"
    },
    {
     "name": "stdout",
     "output_type": "stream",
     "text": [
      "<class 'pandas.core.frame.DataFrame'>\n",
      "RangeIndex: 202607 entries, 0 to 202606\n",
      "Data columns (total 4 columns):\n",
      " #   Column     Non-Null Count   Dtype  \n",
      "---  ------     --------------   -----  \n",
      " 0   id         202607 non-null  object \n",
      " 1   call_date  202607 non-null  object \n",
      " 2   duration   202607 non-null  float64\n",
      " 3   user_id    202607 non-null  int64  \n",
      "dtypes: float64(1), int64(1), object(2)\n",
      "memory usage: 6.2+ MB\n"
     ]
    },
    {
     "data": {
      "text/plain": [
       "count    202607.000000\n",
       "mean          6.755887\n",
       "std           5.843365\n",
       "min           0.000000\n",
       "25%           1.300000\n",
       "50%           6.000000\n",
       "75%          10.700000\n",
       "max          38.000000\n",
       "Name: duration, dtype: float64"
      ]
     },
     "execution_count": 15,
     "metadata": {},
     "output_type": "execute_result"
    }
   ],
   "source": [
    "display(df_calls.head())\n",
    "df_calls.info()\n",
    "df_calls['duration'].describe()"
   ]
  },
  {
   "cell_type": "markdown",
   "id": "5b9029d9",
   "metadata": {},
   "source": [
    "Мы видим, что в данной таблице представлено количество звонков каждого пользователя, их продолжительность и дата осуществления. Странных значений мы не видим, однако подозрительно, что самый долгий звонок имеет продолжительсность 38 секунд.\n",
    "\n",
    "Нам необходимо будет исправить: \n",
    "- формат даты;\n",
    "- округлить время разговора до минут в большую сторону."
   ]
  },
  {
   "cell_type": "code",
   "execution_count": 16,
   "id": "8858a04a",
   "metadata": {},
   "outputs": [
    {
     "data": {
      "text/html": [
       "<div>\n",
       "<style scoped>\n",
       "    .dataframe tbody tr th:only-of-type {\n",
       "        vertical-align: middle;\n",
       "    }\n",
       "\n",
       "    .dataframe tbody tr th {\n",
       "        vertical-align: top;\n",
       "    }\n",
       "\n",
       "    .dataframe thead th {\n",
       "        text-align: right;\n",
       "    }\n",
       "</style>\n",
       "<table border=\"1\" class=\"dataframe\">\n",
       "  <thead>\n",
       "    <tr style=\"text-align: right;\">\n",
       "      <th></th>\n",
       "      <th>Unnamed: 0</th>\n",
       "      <th>id</th>\n",
       "      <th>mb_used</th>\n",
       "      <th>session_date</th>\n",
       "      <th>user_id</th>\n",
       "    </tr>\n",
       "  </thead>\n",
       "  <tbody>\n",
       "    <tr>\n",
       "      <th>0</th>\n",
       "      <td>0</td>\n",
       "      <td>1000_0</td>\n",
       "      <td>112.95</td>\n",
       "      <td>2018-11-25</td>\n",
       "      <td>1000</td>\n",
       "    </tr>\n",
       "    <tr>\n",
       "      <th>1</th>\n",
       "      <td>1</td>\n",
       "      <td>1000_1</td>\n",
       "      <td>1052.81</td>\n",
       "      <td>2018-09-07</td>\n",
       "      <td>1000</td>\n",
       "    </tr>\n",
       "    <tr>\n",
       "      <th>2</th>\n",
       "      <td>2</td>\n",
       "      <td>1000_2</td>\n",
       "      <td>1197.26</td>\n",
       "      <td>2018-06-25</td>\n",
       "      <td>1000</td>\n",
       "    </tr>\n",
       "    <tr>\n",
       "      <th>3</th>\n",
       "      <td>3</td>\n",
       "      <td>1000_3</td>\n",
       "      <td>550.27</td>\n",
       "      <td>2018-08-22</td>\n",
       "      <td>1000</td>\n",
       "    </tr>\n",
       "    <tr>\n",
       "      <th>4</th>\n",
       "      <td>4</td>\n",
       "      <td>1000_4</td>\n",
       "      <td>302.56</td>\n",
       "      <td>2018-09-24</td>\n",
       "      <td>1000</td>\n",
       "    </tr>\n",
       "  </tbody>\n",
       "</table>\n",
       "</div>"
      ],
      "text/plain": [
       "   Unnamed: 0      id  mb_used session_date  user_id\n",
       "0           0  1000_0   112.95   2018-11-25     1000\n",
       "1           1  1000_1  1052.81   2018-09-07     1000\n",
       "2           2  1000_2  1197.26   2018-06-25     1000\n",
       "3           3  1000_3   550.27   2018-08-22     1000\n",
       "4           4  1000_4   302.56   2018-09-24     1000"
      ]
     },
     "metadata": {},
     "output_type": "display_data"
    },
    {
     "name": "stdout",
     "output_type": "stream",
     "text": [
      "<class 'pandas.core.frame.DataFrame'>\n",
      "RangeIndex: 149396 entries, 0 to 149395\n",
      "Data columns (total 5 columns):\n",
      " #   Column        Non-Null Count   Dtype  \n",
      "---  ------        --------------   -----  \n",
      " 0   Unnamed: 0    149396 non-null  int64  \n",
      " 1   id            149396 non-null  object \n",
      " 2   mb_used       149396 non-null  float64\n",
      " 3   session_date  149396 non-null  object \n",
      " 4   user_id       149396 non-null  int64  \n",
      "dtypes: float64(1), int64(2), object(2)\n",
      "memory usage: 5.7+ MB\n"
     ]
    },
    {
     "data": {
      "text/plain": [
       "count    149396.000000\n",
       "mean        370.192426\n",
       "std         278.300951\n",
       "min           0.000000\n",
       "25%         138.187500\n",
       "50%         348.015000\n",
       "75%         559.552500\n",
       "max        1724.830000\n",
       "Name: mb_used, dtype: float64"
      ]
     },
     "execution_count": 16,
     "metadata": {},
     "output_type": "execute_result"
    }
   ],
   "source": [
    "display(df_internet.head())\n",
    "df_internet.info()\n",
    "df_internet['mb_used'].describe()"
   ]
  },
  {
   "cell_type": "markdown",
   "id": "38fbb2bd",
   "metadata": {},
   "source": [
    "В данной таблице представлено, когда пользвоатель заходил в интернет и какой объем трафика исользовал. Странных значений не обнаружено.\n",
    "\n",
    "Здесь следует исправить формат времени, общий интернет трафик будем определять по ходу анализа. "
   ]
  },
  {
   "cell_type": "code",
   "execution_count": 17,
   "id": "e03d4ec0",
   "metadata": {},
   "outputs": [
    {
     "data": {
      "text/html": [
       "<div>\n",
       "<style scoped>\n",
       "    .dataframe tbody tr th:only-of-type {\n",
       "        vertical-align: middle;\n",
       "    }\n",
       "\n",
       "    .dataframe tbody tr th {\n",
       "        vertical-align: top;\n",
       "    }\n",
       "\n",
       "    .dataframe thead th {\n",
       "        text-align: right;\n",
       "    }\n",
       "</style>\n",
       "<table border=\"1\" class=\"dataframe\">\n",
       "  <thead>\n",
       "    <tr style=\"text-align: right;\">\n",
       "      <th></th>\n",
       "      <th>id</th>\n",
       "      <th>message_date</th>\n",
       "      <th>user_id</th>\n",
       "    </tr>\n",
       "  </thead>\n",
       "  <tbody>\n",
       "    <tr>\n",
       "      <th>0</th>\n",
       "      <td>1000_0</td>\n",
       "      <td>2018-06-27</td>\n",
       "      <td>1000</td>\n",
       "    </tr>\n",
       "    <tr>\n",
       "      <th>1</th>\n",
       "      <td>1000_1</td>\n",
       "      <td>2018-10-08</td>\n",
       "      <td>1000</td>\n",
       "    </tr>\n",
       "    <tr>\n",
       "      <th>2</th>\n",
       "      <td>1000_2</td>\n",
       "      <td>2018-08-04</td>\n",
       "      <td>1000</td>\n",
       "    </tr>\n",
       "    <tr>\n",
       "      <th>3</th>\n",
       "      <td>1000_3</td>\n",
       "      <td>2018-06-16</td>\n",
       "      <td>1000</td>\n",
       "    </tr>\n",
       "    <tr>\n",
       "      <th>4</th>\n",
       "      <td>1000_4</td>\n",
       "      <td>2018-12-05</td>\n",
       "      <td>1000</td>\n",
       "    </tr>\n",
       "  </tbody>\n",
       "</table>\n",
       "</div>"
      ],
      "text/plain": [
       "       id message_date  user_id\n",
       "0  1000_0   2018-06-27     1000\n",
       "1  1000_1   2018-10-08     1000\n",
       "2  1000_2   2018-08-04     1000\n",
       "3  1000_3   2018-06-16     1000\n",
       "4  1000_4   2018-12-05     1000"
      ]
     },
     "metadata": {},
     "output_type": "display_data"
    },
    {
     "name": "stdout",
     "output_type": "stream",
     "text": [
      "<class 'pandas.core.frame.DataFrame'>\n",
      "RangeIndex: 123036 entries, 0 to 123035\n",
      "Data columns (total 3 columns):\n",
      " #   Column        Non-Null Count   Dtype \n",
      "---  ------        --------------   ----- \n",
      " 0   id            123036 non-null  object\n",
      " 1   message_date  123036 non-null  object\n",
      " 2   user_id       123036 non-null  int64 \n",
      "dtypes: int64(1), object(2)\n",
      "memory usage: 2.8+ MB\n"
     ]
    }
   ],
   "source": [
    "display(df_messages.head())\n",
    "df_messages.info()"
   ]
  },
  {
   "cell_type": "markdown",
   "id": "01cdab0c",
   "metadata": {},
   "source": [
    "Здесь мы видим, когда пользователь отправлял сообщения.\n",
    "\n",
    "Также исправим формат даты."
   ]
  },
  {
   "cell_type": "code",
   "execution_count": 18,
   "id": "beec1380",
   "metadata": {},
   "outputs": [
    {
     "data": {
      "text/html": [
       "<div>\n",
       "<style scoped>\n",
       "    .dataframe tbody tr th:only-of-type {\n",
       "        vertical-align: middle;\n",
       "    }\n",
       "\n",
       "    .dataframe tbody tr th {\n",
       "        vertical-align: top;\n",
       "    }\n",
       "\n",
       "    .dataframe thead th {\n",
       "        text-align: right;\n",
       "    }\n",
       "</style>\n",
       "<table border=\"1\" class=\"dataframe\">\n",
       "  <thead>\n",
       "    <tr style=\"text-align: right;\">\n",
       "      <th></th>\n",
       "      <th>messages_included</th>\n",
       "      <th>mb_per_month_included</th>\n",
       "      <th>minutes_included</th>\n",
       "      <th>rub_monthly_fee</th>\n",
       "      <th>rub_per_gb</th>\n",
       "      <th>rub_per_message</th>\n",
       "      <th>rub_per_minute</th>\n",
       "      <th>tariff_name</th>\n",
       "    </tr>\n",
       "  </thead>\n",
       "  <tbody>\n",
       "    <tr>\n",
       "      <th>0</th>\n",
       "      <td>50</td>\n",
       "      <td>15360</td>\n",
       "      <td>500</td>\n",
       "      <td>550</td>\n",
       "      <td>200</td>\n",
       "      <td>3</td>\n",
       "      <td>3</td>\n",
       "      <td>smart</td>\n",
       "    </tr>\n",
       "    <tr>\n",
       "      <th>1</th>\n",
       "      <td>1000</td>\n",
       "      <td>30720</td>\n",
       "      <td>3000</td>\n",
       "      <td>1950</td>\n",
       "      <td>150</td>\n",
       "      <td>1</td>\n",
       "      <td>1</td>\n",
       "      <td>ultra</td>\n",
       "    </tr>\n",
       "  </tbody>\n",
       "</table>\n",
       "</div>"
      ],
      "text/plain": [
       "   messages_included  mb_per_month_included  minutes_included  \\\n",
       "0                 50                  15360               500   \n",
       "1               1000                  30720              3000   \n",
       "\n",
       "   rub_monthly_fee  rub_per_gb  rub_per_message  rub_per_minute tariff_name  \n",
       "0              550         200                3               3       smart  \n",
       "1             1950         150                1               1       ultra  "
      ]
     },
     "execution_count": 18,
     "metadata": {},
     "output_type": "execute_result"
    }
   ],
   "source": [
    "df_tariffs"
   ]
  },
  {
   "cell_type": "markdown",
   "id": "a50b281e",
   "metadata": {},
   "source": [
    "Как ни странно, теперь мы получили информцию о самих тарифах, и здесь все в порядке."
   ]
  },
  {
   "cell_type": "markdown",
   "id": "0b9d90d0",
   "metadata": {},
   "source": [
    "**Вывод**\n",
    "\n",
    "Мы посмотрели информацию по всем таблицам и теперь готовы приступить к подготовке данных для анализа.\n",
    "\n",
    "Нам необходимо:\n",
    "- привести даты в таблицах к временному формату;\n",
    "- округлить время до минут (как взимает плату оператор по условиям тарифов)."
   ]
  },
  {
   "cell_type": "markdown",
   "id": "1001d6b9",
   "metadata": {},
   "source": [
    "# **Подготовка данных** #"
   ]
  },
  {
   "cell_type": "code",
   "execution_count": 19,
   "id": "c2eed7ec",
   "metadata": {},
   "outputs": [],
   "source": [
    "#приведем дату во всех таблицах к удобному формату\n",
    "#заетм проверим результат\n",
    "\n",
    "df['reg_date'] = pd.to_datetime(df['reg_date'], format='%Y-%m-%dT%')\n",
    "df_calls['call_date'] = pd.to_datetime(df_calls['call_date'], format='%Y-%m-%dT%')\n",
    "df_internet['session_date'] = pd.to_datetime(df_internet['session_date'], format='%Y-%m-%dT%')\n",
    "df_messages['message_date'] = pd.to_datetime(df_messages['message_date'], format='%Y-%m-%dT%')"
   ]
  },
  {
   "cell_type": "code",
   "execution_count": 20,
   "id": "959fe93d",
   "metadata": {},
   "outputs": [],
   "source": [
    "#округлим время звонков до минут\n",
    "df_calls['duration'] = df_calls['duration'].apply(np.ceil).astype('int')"
   ]
  },
  {
   "cell_type": "code",
   "execution_count": 21,
   "id": "6bdb6723",
   "metadata": {},
   "outputs": [],
   "source": [
    "#добавим столбцы с месяцами операций для выполнеия подсчетов\n",
    "\n",
    "df_calls['month'] = df_calls['call_date'].dt.month\n",
    "df_messages['month'] = df_messages['message_date'].dt.month\n",
    "df_internet['month'] = df_internet['session_date'].dt.month"
   ]
  },
  {
   "cell_type": "code",
   "execution_count": 22,
   "id": "5d1938bf",
   "metadata": {},
   "outputs": [
    {
     "name": "stdout",
     "output_type": "stream",
     "text": [
      "<class 'pandas.core.frame.DataFrame'>\n",
      "RangeIndex: 202607 entries, 0 to 202606\n",
      "Data columns (total 5 columns):\n",
      " #   Column     Non-Null Count   Dtype         \n",
      "---  ------     --------------   -----         \n",
      " 0   id         202607 non-null  object        \n",
      " 1   call_date  202607 non-null  datetime64[ns]\n",
      " 2   duration   202607 non-null  int32         \n",
      " 3   user_id    202607 non-null  int64         \n",
      " 4   month      202607 non-null  int64         \n",
      "dtypes: datetime64[ns](1), int32(1), int64(2), object(1)\n",
      "memory usage: 7.0+ MB\n",
      "<class 'pandas.core.frame.DataFrame'>\n",
      "RangeIndex: 500 entries, 0 to 499\n",
      "Data columns (total 8 columns):\n",
      " #   Column      Non-Null Count  Dtype         \n",
      "---  ------      --------------  -----         \n",
      " 0   user_id     500 non-null    int64         \n",
      " 1   age         500 non-null    int64         \n",
      " 2   churn_date  38 non-null     object        \n",
      " 3   city        500 non-null    object        \n",
      " 4   first_name  500 non-null    object        \n",
      " 5   last_name   500 non-null    object        \n",
      " 6   reg_date    500 non-null    datetime64[ns]\n",
      " 7   tariff      500 non-null    object        \n",
      "dtypes: datetime64[ns](1), int64(2), object(5)\n",
      "memory usage: 31.4+ KB\n",
      "<class 'pandas.core.frame.DataFrame'>\n",
      "RangeIndex: 149396 entries, 0 to 149395\n",
      "Data columns (total 6 columns):\n",
      " #   Column        Non-Null Count   Dtype         \n",
      "---  ------        --------------   -----         \n",
      " 0   Unnamed: 0    149396 non-null  int64         \n",
      " 1   id            149396 non-null  object        \n",
      " 2   mb_used       149396 non-null  float64       \n",
      " 3   session_date  149396 non-null  datetime64[ns]\n",
      " 4   user_id       149396 non-null  int64         \n",
      " 5   month         149396 non-null  int64         \n",
      "dtypes: datetime64[ns](1), float64(1), int64(3), object(1)\n",
      "memory usage: 6.8+ MB\n",
      "<class 'pandas.core.frame.DataFrame'>\n",
      "RangeIndex: 123036 entries, 0 to 123035\n",
      "Data columns (total 4 columns):\n",
      " #   Column        Non-Null Count   Dtype         \n",
      "---  ------        --------------   -----         \n",
      " 0   id            123036 non-null  object        \n",
      " 1   message_date  123036 non-null  datetime64[ns]\n",
      " 2   user_id       123036 non-null  int64         \n",
      " 3   month         123036 non-null  int64         \n",
      "dtypes: datetime64[ns](1), int64(2), object(1)\n",
      "memory usage: 3.8+ MB\n"
     ]
    },
    {
     "data": {
      "text/html": [
       "<div>\n",
       "<style scoped>\n",
       "    .dataframe tbody tr th:only-of-type {\n",
       "        vertical-align: middle;\n",
       "    }\n",
       "\n",
       "    .dataframe tbody tr th {\n",
       "        vertical-align: top;\n",
       "    }\n",
       "\n",
       "    .dataframe thead th {\n",
       "        text-align: right;\n",
       "    }\n",
       "</style>\n",
       "<table border=\"1\" class=\"dataframe\">\n",
       "  <thead>\n",
       "    <tr style=\"text-align: right;\">\n",
       "      <th></th>\n",
       "      <th>id</th>\n",
       "      <th>call_date</th>\n",
       "      <th>duration</th>\n",
       "      <th>user_id</th>\n",
       "      <th>month</th>\n",
       "    </tr>\n",
       "  </thead>\n",
       "  <tbody>\n",
       "    <tr>\n",
       "      <th>0</th>\n",
       "      <td>1000_0</td>\n",
       "      <td>2018-07-25</td>\n",
       "      <td>0</td>\n",
       "      <td>1000</td>\n",
       "      <td>7</td>\n",
       "    </tr>\n",
       "    <tr>\n",
       "      <th>1</th>\n",
       "      <td>1000_1</td>\n",
       "      <td>2018-08-17</td>\n",
       "      <td>0</td>\n",
       "      <td>1000</td>\n",
       "      <td>8</td>\n",
       "    </tr>\n",
       "    <tr>\n",
       "      <th>2</th>\n",
       "      <td>1000_2</td>\n",
       "      <td>2018-06-11</td>\n",
       "      <td>3</td>\n",
       "      <td>1000</td>\n",
       "      <td>6</td>\n",
       "    </tr>\n",
       "    <tr>\n",
       "      <th>3</th>\n",
       "      <td>1000_3</td>\n",
       "      <td>2018-09-21</td>\n",
       "      <td>14</td>\n",
       "      <td>1000</td>\n",
       "      <td>9</td>\n",
       "    </tr>\n",
       "    <tr>\n",
       "      <th>4</th>\n",
       "      <td>1000_4</td>\n",
       "      <td>2018-12-15</td>\n",
       "      <td>6</td>\n",
       "      <td>1000</td>\n",
       "      <td>12</td>\n",
       "    </tr>\n",
       "  </tbody>\n",
       "</table>\n",
       "</div>"
      ],
      "text/plain": [
       "       id  call_date  duration  user_id  month\n",
       "0  1000_0 2018-07-25         0     1000      7\n",
       "1  1000_1 2018-08-17         0     1000      8\n",
       "2  1000_2 2018-06-11         3     1000      6\n",
       "3  1000_3 2018-09-21        14     1000      9\n",
       "4  1000_4 2018-12-15         6     1000     12"
      ]
     },
     "execution_count": 22,
     "metadata": {},
     "output_type": "execute_result"
    }
   ],
   "source": [
    "#проверим результаты\n",
    "df_calls.info()\n",
    "df.info()\n",
    "df_internet.info()\n",
    "df_messages.info()\n",
    "df_calls.head()"
   ]
  },
  {
   "cell_type": "markdown",
   "id": "01dacc6e",
   "metadata": {},
   "source": [
    "**Вывод**\n",
    "\n",
    "Все данные исправлены и подготовлены к подсчетам. На данном этапе мы не будем склеивать все таблицы в одну. Это сможем сделать в дальнейшем при необходимости.\n",
    "\n",
    "Мы не проводили провекру на пропуски значений и дубликаты, так как для оптимизации процесса сделаем это позже."
   ]
  },
  {
   "cell_type": "markdown",
   "id": "9edbe72e",
   "metadata": {},
   "source": [
    "# **Перейдем к подсчетам.** #\n",
    "\n",
    "Сначала нам необходимо посчитать для каждого пользователя:\n",
    "- количество сделанных звонков и израсходованных минут разговора по месяцам;\n",
    "- количество отправленных сообщений по месяцам;\n",
    "- объем израсходованного интернет-трафика по месяцам.\n",
    "\n",
    "Затем мы найдем помесячную выручку с каждого пользователя."
   ]
  },
  {
   "cell_type": "code",
   "execution_count": 23,
   "id": "33f471bf",
   "metadata": {},
   "outputs": [
    {
     "data": {
      "text/html": [
       "<div>\n",
       "<style scoped>\n",
       "    .dataframe tbody tr th:only-of-type {\n",
       "        vertical-align: middle;\n",
       "    }\n",
       "\n",
       "    .dataframe tbody tr th {\n",
       "        vertical-align: top;\n",
       "    }\n",
       "\n",
       "    .dataframe thead th {\n",
       "        text-align: right;\n",
       "    }\n",
       "</style>\n",
       "<table border=\"1\" class=\"dataframe\">\n",
       "  <thead>\n",
       "    <tr style=\"text-align: right;\">\n",
       "      <th></th>\n",
       "      <th>user_id</th>\n",
       "      <th>month</th>\n",
       "      <th>month_calls_duration</th>\n",
       "      <th>total_count_calls_in_month</th>\n",
       "    </tr>\n",
       "  </thead>\n",
       "  <tbody>\n",
       "    <tr>\n",
       "      <th>0</th>\n",
       "      <td>1000</td>\n",
       "      <td>5</td>\n",
       "      <td>159</td>\n",
       "      <td>22</td>\n",
       "    </tr>\n",
       "    <tr>\n",
       "      <th>1</th>\n",
       "      <td>1000</td>\n",
       "      <td>6</td>\n",
       "      <td>172</td>\n",
       "      <td>43</td>\n",
       "    </tr>\n",
       "    <tr>\n",
       "      <th>2</th>\n",
       "      <td>1000</td>\n",
       "      <td>7</td>\n",
       "      <td>340</td>\n",
       "      <td>47</td>\n",
       "    </tr>\n",
       "    <tr>\n",
       "      <th>3</th>\n",
       "      <td>1000</td>\n",
       "      <td>8</td>\n",
       "      <td>408</td>\n",
       "      <td>52</td>\n",
       "    </tr>\n",
       "    <tr>\n",
       "      <th>4</th>\n",
       "      <td>1000</td>\n",
       "      <td>9</td>\n",
       "      <td>466</td>\n",
       "      <td>58</td>\n",
       "    </tr>\n",
       "    <tr>\n",
       "      <th>...</th>\n",
       "      <td>...</td>\n",
       "      <td>...</td>\n",
       "      <td>...</td>\n",
       "      <td>...</td>\n",
       "    </tr>\n",
       "    <tr>\n",
       "      <th>3169</th>\n",
       "      <td>1498</td>\n",
       "      <td>10</td>\n",
       "      <td>247</td>\n",
       "      <td>41</td>\n",
       "    </tr>\n",
       "    <tr>\n",
       "      <th>3170</th>\n",
       "      <td>1499</td>\n",
       "      <td>9</td>\n",
       "      <td>70</td>\n",
       "      <td>9</td>\n",
       "    </tr>\n",
       "    <tr>\n",
       "      <th>3171</th>\n",
       "      <td>1499</td>\n",
       "      <td>10</td>\n",
       "      <td>449</td>\n",
       "      <td>68</td>\n",
       "    </tr>\n",
       "    <tr>\n",
       "      <th>3172</th>\n",
       "      <td>1499</td>\n",
       "      <td>11</td>\n",
       "      <td>612</td>\n",
       "      <td>74</td>\n",
       "    </tr>\n",
       "    <tr>\n",
       "      <th>3173</th>\n",
       "      <td>1499</td>\n",
       "      <td>12</td>\n",
       "      <td>492</td>\n",
       "      <td>69</td>\n",
       "    </tr>\n",
       "  </tbody>\n",
       "</table>\n",
       "<p>3174 rows × 4 columns</p>\n",
       "</div>"
      ],
      "text/plain": [
       "      user_id  month  month_calls_duration  total_count_calls_in_month\n",
       "0        1000      5                   159                          22\n",
       "1        1000      6                   172                          43\n",
       "2        1000      7                   340                          47\n",
       "3        1000      8                   408                          52\n",
       "4        1000      9                   466                          58\n",
       "...       ...    ...                   ...                         ...\n",
       "3169     1498     10                   247                          41\n",
       "3170     1499      9                    70                           9\n",
       "3171     1499     10                   449                          68\n",
       "3172     1499     11                   612                          74\n",
       "3173     1499     12                   492                          69\n",
       "\n",
       "[3174 rows x 4 columns]"
      ]
     },
     "execution_count": 23,
     "metadata": {},
     "output_type": "execute_result"
    }
   ],
   "source": [
    "#сгруппируем таблицу по уникальному идентификатору пользователя,\n",
    "#посчитаем продолжительность разговоров в месяц и количество звонков\n",
    "\n",
    "df_calls_statitics = df_calls.groupby(['user_id', 'month'])\\\n",
    "    .agg({'duration': 'sum', 'id': 'count'}).reset_index()\\\n",
    "    .rename(columns={'duration': 'month_calls_duration','id': 'total_count_calls_in_month'})\n",
    "\n",
    "#проверим результаты\n",
    "df_calls_statitics"
   ]
  },
  {
   "cell_type": "markdown",
   "id": "d6d3d34a",
   "metadata": {},
   "source": [
    "Проделаем аналогичную работу с другими таблицами."
   ]
  },
  {
   "cell_type": "code",
   "execution_count": 24,
   "id": "bb0d5bc9",
   "metadata": {},
   "outputs": [
    {
     "data": {
      "text/html": [
       "<div>\n",
       "<style scoped>\n",
       "    .dataframe tbody tr th:only-of-type {\n",
       "        vertical-align: middle;\n",
       "    }\n",
       "\n",
       "    .dataframe tbody tr th {\n",
       "        vertical-align: top;\n",
       "    }\n",
       "\n",
       "    .dataframe thead th {\n",
       "        text-align: right;\n",
       "    }\n",
       "</style>\n",
       "<table border=\"1\" class=\"dataframe\">\n",
       "  <thead>\n",
       "    <tr style=\"text-align: right;\">\n",
       "      <th></th>\n",
       "      <th>user_id</th>\n",
       "      <th>month</th>\n",
       "      <th>total_count_messages_in_month</th>\n",
       "    </tr>\n",
       "  </thead>\n",
       "  <tbody>\n",
       "    <tr>\n",
       "      <th>0</th>\n",
       "      <td>1000</td>\n",
       "      <td>5</td>\n",
       "      <td>22</td>\n",
       "    </tr>\n",
       "    <tr>\n",
       "      <th>1</th>\n",
       "      <td>1000</td>\n",
       "      <td>6</td>\n",
       "      <td>60</td>\n",
       "    </tr>\n",
       "    <tr>\n",
       "      <th>2</th>\n",
       "      <td>1000</td>\n",
       "      <td>7</td>\n",
       "      <td>75</td>\n",
       "    </tr>\n",
       "    <tr>\n",
       "      <th>3</th>\n",
       "      <td>1000</td>\n",
       "      <td>8</td>\n",
       "      <td>81</td>\n",
       "    </tr>\n",
       "    <tr>\n",
       "      <th>4</th>\n",
       "      <td>1000</td>\n",
       "      <td>9</td>\n",
       "      <td>57</td>\n",
       "    </tr>\n",
       "  </tbody>\n",
       "</table>\n",
       "</div>"
      ],
      "text/plain": [
       "   user_id  month  total_count_messages_in_month\n",
       "0     1000      5                             22\n",
       "1     1000      6                             60\n",
       "2     1000      7                             75\n",
       "3     1000      8                             81\n",
       "4     1000      9                             57"
      ]
     },
     "execution_count": 24,
     "metadata": {},
     "output_type": "execute_result"
    }
   ],
   "source": [
    "df_messages_statistics = df_messages.groupby(['user_id', 'month'])\\\n",
    "    .agg({'id': 'count'}).reset_index()\\\n",
    "    .rename(columns={'id': 'total_count_messages_in_month'})\n",
    "df_messages_statistics.head()"
   ]
  },
  {
   "cell_type": "code",
   "execution_count": 25,
   "id": "b582d913",
   "metadata": {},
   "outputs": [],
   "source": [
    "df_internet_statistics = df_internet.groupby(['user_id', 'month'])\\\n",
    "    .agg({'mb_used': 'sum'}).reset_index()\\\n",
    "    .rename(columns={'mb_used': 'month_mb_used'})"
   ]
  },
  {
   "cell_type": "code",
   "execution_count": 26,
   "id": "7aeec65c",
   "metadata": {},
   "outputs": [
    {
     "data": {
      "text/html": [
       "<div>\n",
       "<style scoped>\n",
       "    .dataframe tbody tr th:only-of-type {\n",
       "        vertical-align: middle;\n",
       "    }\n",
       "\n",
       "    .dataframe tbody tr th {\n",
       "        vertical-align: top;\n",
       "    }\n",
       "\n",
       "    .dataframe thead th {\n",
       "        text-align: right;\n",
       "    }\n",
       "</style>\n",
       "<table border=\"1\" class=\"dataframe\">\n",
       "  <thead>\n",
       "    <tr style=\"text-align: right;\">\n",
       "      <th></th>\n",
       "      <th>user_id</th>\n",
       "      <th>month</th>\n",
       "      <th>month_mb_used</th>\n",
       "      <th>month_gb_used</th>\n",
       "    </tr>\n",
       "  </thead>\n",
       "  <tbody>\n",
       "    <tr>\n",
       "      <th>0</th>\n",
       "      <td>1000</td>\n",
       "      <td>5</td>\n",
       "      <td>2253.49</td>\n",
       "      <td>3</td>\n",
       "    </tr>\n",
       "    <tr>\n",
       "      <th>1</th>\n",
       "      <td>1000</td>\n",
       "      <td>6</td>\n",
       "      <td>23233.77</td>\n",
       "      <td>23</td>\n",
       "    </tr>\n",
       "    <tr>\n",
       "      <th>2</th>\n",
       "      <td>1000</td>\n",
       "      <td>7</td>\n",
       "      <td>14003.64</td>\n",
       "      <td>14</td>\n",
       "    </tr>\n",
       "    <tr>\n",
       "      <th>3</th>\n",
       "      <td>1000</td>\n",
       "      <td>8</td>\n",
       "      <td>14055.93</td>\n",
       "      <td>14</td>\n",
       "    </tr>\n",
       "    <tr>\n",
       "      <th>4</th>\n",
       "      <td>1000</td>\n",
       "      <td>9</td>\n",
       "      <td>14568.91</td>\n",
       "      <td>15</td>\n",
       "    </tr>\n",
       "  </tbody>\n",
       "</table>\n",
       "</div>"
      ],
      "text/plain": [
       "   user_id  month  month_mb_used  month_gb_used\n",
       "0     1000      5        2253.49              3\n",
       "1     1000      6       23233.77             23\n",
       "2     1000      7       14003.64             14\n",
       "3     1000      8       14055.93             14\n",
       "4     1000      9       14568.91             15"
      ]
     },
     "execution_count": 26,
     "metadata": {},
     "output_type": "execute_result"
    }
   ],
   "source": [
    "#также переведем столбец с использованным интернет-трафиком в гб\n",
    "\n",
    "df_internet_statistics['month_gb_used'] = df_internet_statistics['month_mb_used'] / 1024\n",
    "df_internet_statistics['month_gb_used'] = df_internet_statistics['month_gb_used'].apply(np.ceil).astype('int')\n",
    "df_internet_statistics.head()"
   ]
  },
  {
   "cell_type": "code",
   "execution_count": 27,
   "id": "fc0b9a7b",
   "metadata": {},
   "outputs": [
    {
     "data": {
      "text/plain": [
       "500"
      ]
     },
     "execution_count": 27,
     "metadata": {},
     "output_type": "execute_result"
    }
   ],
   "source": [
    "#настало время объединить таблицы для выполнения необходимых подсчетов \n",
    "\n",
    "df_tariffs = df_tariffs.rename(columns={'tariff_name':'tariff'})\n",
    "\n",
    "users_statistics = df.merge(df_calls_statitics, on=['user_id'], how='left')\n",
    "users_statistics = users_statistics.merge(df_messages_statistics, on=['user_id', 'month'], how='outer')\n",
    "users_statistics = users_statistics.merge(df_internet_statistics, on=['user_id', 'month'], how='outer')\n",
    "users_statistics = users_statistics.merge(df_tariffs, on=['tariff'], how='outer')\n",
    "users_statistics.head()\n",
    "len(users_statistics['user_id'].unique())"
   ]
  },
  {
   "cell_type": "code",
   "execution_count": 28,
   "id": "0eef42df",
   "metadata": {},
   "outputs": [
    {
     "data": {
      "text/plain": [
       "user_id                             0\n",
       "age                                40\n",
       "churn_date                       3033\n",
       "city                               40\n",
       "first_name                         40\n",
       "last_name                          40\n",
       "reg_date                           40\n",
       "tariff                             40\n",
       "month                               8\n",
       "month_calls_duration               48\n",
       "total_count_calls_in_month         48\n",
       "total_count_messages_in_month     505\n",
       "month_mb_used                      19\n",
       "month_gb_used                      19\n",
       "messages_included                  40\n",
       "mb_per_month_included              40\n",
       "minutes_included                   40\n",
       "rub_monthly_fee                    40\n",
       "rub_per_gb                         40\n",
       "rub_per_message                    40\n",
       "rub_per_minute                     40\n",
       "dtype: int64"
      ]
     },
     "execution_count": 28,
     "metadata": {},
     "output_type": "execute_result"
    }
   ],
   "source": [
    "#проверим пустые значения в таблице, может, кто-то не пользуется определенными опциями вообще\n",
    "\n",
    "users_statistics.isna().sum()"
   ]
  },
  {
   "cell_type": "code",
   "execution_count": 29,
   "id": "18610ed3",
   "metadata": {},
   "outputs": [],
   "source": [
    "#заполним пробелы нулями\n",
    "users_statistics['month_calls_duration'] = users_statistics['month_calls_duration'].fillna(0)\n",
    "users_statistics['total_count_calls_in_month'] = users_statistics['total_count_calls_in_month'].fillna(0)\n",
    "users_statistics['month_mb_used'] = users_statistics['month_mb_used'].fillna(0)\n",
    "users_statistics['month_gb_used'] = users_statistics['month_gb_used'].fillna(0)"
   ]
  },
  {
   "cell_type": "code",
   "execution_count": 30,
   "id": "5fa3b430",
   "metadata": {},
   "outputs": [
    {
     "data": {
      "text/plain": [
       "user_id                             0\n",
       "age                                40\n",
       "churn_date                       3033\n",
       "city                               40\n",
       "first_name                         40\n",
       "last_name                          40\n",
       "reg_date                           40\n",
       "tariff                             40\n",
       "month                               8\n",
       "month_calls_duration                0\n",
       "total_count_calls_in_month          0\n",
       "total_count_messages_in_month     505\n",
       "month_mb_used                       0\n",
       "month_gb_used                       0\n",
       "messages_included                  40\n",
       "mb_per_month_included              40\n",
       "minutes_included                   40\n",
       "rub_monthly_fee                    40\n",
       "rub_per_gb                         40\n",
       "rub_per_message                    40\n",
       "rub_per_minute                     40\n",
       "dtype: int64"
      ]
     },
     "execution_count": 30,
     "metadata": {},
     "output_type": "execute_result"
    }
   ],
   "source": [
    "users_statistics.isna().sum()"
   ]
  },
  {
   "cell_type": "code",
   "execution_count": 31,
   "id": "a6fa84fa",
   "metadata": {},
   "outputs": [
    {
     "data": {
      "text/plain": [
       "0"
      ]
     },
     "execution_count": 31,
     "metadata": {},
     "output_type": "execute_result"
    }
   ],
   "source": [
    "#также проверим на дубликаты\n",
    "\n",
    "users_statistics.duplicated().sum()"
   ]
  },
  {
   "cell_type": "code",
   "execution_count": 32,
   "id": "e73394c8",
   "metadata": {},
   "outputs": [],
   "source": [
    "#напишем функции по вычислению затрат клиентов\n",
    "\n",
    "#затраты на превышение лимита минут\n",
    "\n",
    "'''функция подсчета овердарфта минут'''\n",
    "\n",
    "def overpay_mins(row):\n",
    "    mins = (row['month_calls_duration'] - row['minutes_included']) * row['rub_per_minute']\n",
    "    \n",
    "    if mins > 0:\n",
    "        return mins\n",
    "    else:\n",
    "        return 0\n",
    "\n",
    "    \n",
    "'''функция подсчета овердарфта смс'''\n",
    "\n",
    "#затраты на превышение лимита смс\n",
    "def overpay_sms(row):\n",
    "    sms = (row['total_count_messages_in_month'] - row['messages_included']) * row['rub_per_message']\n",
    "    \n",
    "    if sms > 0:\n",
    "        return sms\n",
    "    else:\n",
    "        return 0\n",
    "\n",
    "    \n",
    "'''функция подсчета овердарфта интернет трафика'''\n",
    "\n",
    "#затраты на превышение лимита интернет трафика\n",
    "def overpay_gbs(row):\n",
    "    gbs = (row['month_gb_used'] - row['mb_per_month_included'] / 1024) * row['rub_per_gb']\n",
    "    \n",
    "    if gbs > 0:\n",
    "        return gbs\n",
    "    else:\n",
    "        return 0"
   ]
  },
  {
   "cell_type": "code",
   "execution_count": 33,
   "id": "3d83957f",
   "metadata": {},
   "outputs": [
    {
     "data": {
      "text/plain": [
       "500"
      ]
     },
     "execution_count": 33,
     "metadata": {},
     "output_type": "execute_result"
    }
   ],
   "source": [
    "#додбавим перепалты пользователей по каждому параметру тарифа,\n",
    "#затем посчитаем суммарную переплату\n",
    "\n",
    "users_statistics['overpay_mins'] = users_statistics.apply(lambda x: overpay_mins(x), axis=1)\n",
    "users_statistics['overpay_sms'] = users_statistics.apply(lambda x: overpay_sms(x), axis=1)\n",
    "users_statistics['overpay_gbs'] = users_statistics.apply(lambda x: overpay_gbs(x), axis=1)\n",
    "users_statistics['total_revenue'] = users_statistics['overpay_mins'] + \\\n",
    "users_statistics['overpay_sms'] + users_statistics['overpay_gbs'] + \\\n",
    "users_statistics['rub_monthly_fee']\n",
    "users_statistics.head()\n",
    "len(users_statistics['user_id'].unique())"
   ]
  },
  {
   "cell_type": "markdown",
   "id": "0c4d0d63",
   "metadata": {},
   "source": [
    "**Вывод**\n",
    "\n",
    "Мы сгруппировали все необходимые данные, привели их в считабельный формат и вычислили, сколько каждый пользователь каждого тарифа приносит прибыли для оператора связи. Теперь у нас есть все необходимые цифры для проведения анализа."
   ]
  },
  {
   "cell_type": "markdown",
   "id": "d93fdb7b",
   "metadata": {},
   "source": [
    "# **Анализ данных** #"
   ]
  },
  {
   "cell_type": "markdown",
   "id": "ed1353ad",
   "metadata": {},
   "source": [
    "Опишишем, сколько минут разговора, сообщений и какой объём интернет-трафика требуется пользователям\n",
    "каждого тарифа в месяц. Посчитаем среднее количество, дисперсию и стандартное отклонение. Для наглядности построим гистограммы."
   ]
  },
  {
   "cell_type": "code",
   "execution_count": 34,
   "id": "7fb41573",
   "metadata": {},
   "outputs": [
    {
     "data": {
      "text/plain": [
       "smart    351\n",
       "ultra    149\n",
       "Name: tariff, dtype: int64"
      ]
     },
     "execution_count": 34,
     "metadata": {},
     "output_type": "execute_result"
    }
   ],
   "source": [
    "#проверим объемы выборок, чтобы понимать, с чем мы имеет дело\n",
    "\n",
    "df['tariff'].value_counts()"
   ]
  },
  {
   "cell_type": "markdown",
   "id": "b839213a",
   "metadata": {},
   "source": [
    "Пользователей тарифа ultra в 2.35 раза меньше. Это логично, так как сам тариф стоит намного дороже и подключать его должно ментше пользователей."
   ]
  },
  {
   "cell_type": "code",
   "execution_count": 35,
   "id": "3c7f7f22",
   "metadata": {},
   "outputs": [
    {
     "data": {
      "text/html": [
       "<div>\n",
       "<style scoped>\n",
       "    .dataframe tbody tr th:only-of-type {\n",
       "        vertical-align: middle;\n",
       "    }\n",
       "\n",
       "    .dataframe tbody tr th {\n",
       "        vertical-align: top;\n",
       "    }\n",
       "\n",
       "    .dataframe thead th {\n",
       "        text-align: right;\n",
       "    }\n",
       "</style>\n",
       "<table border=\"1\" class=\"dataframe\">\n",
       "  <thead>\n",
       "    <tr style=\"text-align: right;\">\n",
       "      <th></th>\n",
       "      <th>month_calls_duration</th>\n",
       "      <th>total_count_messages_in_month</th>\n",
       "      <th>month_mb_used</th>\n",
       "    </tr>\n",
       "  </thead>\n",
       "  <tbody>\n",
       "    <tr>\n",
       "      <th>count</th>\n",
       "      <td>957.000000</td>\n",
       "      <td>762.000000</td>\n",
       "      <td>957.000000</td>\n",
       "    </tr>\n",
       "    <tr>\n",
       "      <th>mean</th>\n",
       "      <td>542.031348</td>\n",
       "      <td>61.195538</td>\n",
       "      <td>19340.434556</td>\n",
       "    </tr>\n",
       "    <tr>\n",
       "      <th>std</th>\n",
       "      <td>308.978539</td>\n",
       "      <td>44.716597</td>\n",
       "      <td>10211.330843</td>\n",
       "    </tr>\n",
       "    <tr>\n",
       "      <th>min</th>\n",
       "      <td>0.000000</td>\n",
       "      <td>1.000000</td>\n",
       "      <td>0.000000</td>\n",
       "    </tr>\n",
       "    <tr>\n",
       "      <th>25%</th>\n",
       "      <td>308.000000</td>\n",
       "      <td>25.000000</td>\n",
       "      <td>11412.690000</td>\n",
       "    </tr>\n",
       "    <tr>\n",
       "      <th>50%</th>\n",
       "      <td>525.000000</td>\n",
       "      <td>52.000000</td>\n",
       "      <td>19300.030000</td>\n",
       "    </tr>\n",
       "    <tr>\n",
       "      <th>75%</th>\n",
       "      <td>756.000000</td>\n",
       "      <td>88.000000</td>\n",
       "      <td>26788.150000</td>\n",
       "    </tr>\n",
       "    <tr>\n",
       "      <th>max</th>\n",
       "      <td>1673.000000</td>\n",
       "      <td>224.000000</td>\n",
       "      <td>49745.690000</td>\n",
       "    </tr>\n",
       "  </tbody>\n",
       "</table>\n",
       "</div>"
      ],
      "text/plain": [
       "       month_calls_duration  total_count_messages_in_month  month_mb_used\n",
       "count            957.000000                     762.000000     957.000000\n",
       "mean             542.031348                      61.195538   19340.434556\n",
       "std              308.978539                      44.716597   10211.330843\n",
       "min                0.000000                       1.000000       0.000000\n",
       "25%              308.000000                      25.000000   11412.690000\n",
       "50%              525.000000                      52.000000   19300.030000\n",
       "75%              756.000000                      88.000000   26788.150000\n",
       "max             1673.000000                     224.000000   49745.690000"
      ]
     },
     "execution_count": 35,
     "metadata": {},
     "output_type": "execute_result"
    }
   ],
   "source": [
    "#выведем информацию о требущихся нам параметрах тарифа гдекф и посчитаем\n",
    "#дисперсию для более точного результата возьмем трафик в мегабайтах\n",
    "\n",
    "users_statistics[users_statistics['tariff'] == 'ultra'][['month_calls_duration', \n",
    "                                                         'total_count_messages_in_month', \n",
    "                                                         'month_mb_used']].describe()"
   ]
  },
  {
   "cell_type": "code",
   "execution_count": 36,
   "id": "3a913493",
   "metadata": {},
   "outputs": [
    {
     "data": {
      "text/plain": [
       "95467.73751000104"
      ]
     },
     "metadata": {},
     "output_type": "display_data"
    },
    {
     "data": {
      "text/plain": [
       "1999.5740667928983"
      ]
     },
     "metadata": {},
     "output_type": "display_data"
    },
    {
     "data": {
      "text/plain": [
       "104271277.58032946"
      ]
     },
     "metadata": {},
     "output_type": "display_data"
    }
   ],
   "source": [
    "#так как у нас выборка, а не егнеральная совокупность, то будем считать оценку дисперсии\n",
    "\n",
    "variance_ultra_calls = np.var(users_statistics[users_statistics['tariff'] == 'ultra']\n",
    "                              ['month_calls_duration'], ddof=1)\n",
    "variance_ultra_sms = np.var(users_statistics[users_statistics['tariff'] == 'ultra']\n",
    "                            ['total_count_messages_in_month'], ddof=1)\n",
    "variance_ultra_mbs = np.var(users_statistics[users_statistics['tariff'] == 'ultra']\n",
    "                            ['month_mb_used'], ddof=1)\n",
    "display(variance_ultra_calls, variance_ultra_sms, variance_ultra_mbs)"
   ]
  },
  {
   "cell_type": "markdown",
   "id": "8c53188d",
   "metadata": {},
   "source": [
    "Мы видим, в среднем пользователи тарифа ultra в день разговаривают 518 минут, пишут 51 смс и используют 19308 мб трафика.\n",
    "\n",
    "Длительность звонков:\n",
    "\n",
    "1. среднее = 526.62\n",
    "2. стандартное отклонение = 307.6\n",
    "3. дисперсия = 100873.63\n",
    "\n",
    "Количество сообщений:\n",
    "\n",
    "1. среднее = 61.16\n",
    "2. стандартное отклонение = 45.93\n",
    "3. дисперсия = 2109.66\n",
    "\n",
    "Использованный трафик:\n",
    "\n",
    "1. среднее = 19468.8\n",
    "2. стандартное отклонение = 10087.17\n",
    "3. дисперсия = 101751013.78"
   ]
  },
  {
   "cell_type": "code",
   "execution_count": 37,
   "id": "399d6a29",
   "metadata": {},
   "outputs": [
    {
     "data": {
      "text/html": [
       "<div>\n",
       "<style scoped>\n",
       "    .dataframe tbody tr th:only-of-type {\n",
       "        vertical-align: middle;\n",
       "    }\n",
       "\n",
       "    .dataframe tbody tr th {\n",
       "        vertical-align: top;\n",
       "    }\n",
       "\n",
       "    .dataframe thead th {\n",
       "        text-align: right;\n",
       "    }\n",
       "</style>\n",
       "<table border=\"1\" class=\"dataframe\">\n",
       "  <thead>\n",
       "    <tr style=\"text-align: right;\">\n",
       "      <th></th>\n",
       "      <th>month_calls_duration</th>\n",
       "      <th>total_count_messages_in_month</th>\n",
       "      <th>month_mb_used</th>\n",
       "    </tr>\n",
       "  </thead>\n",
       "  <tbody>\n",
       "    <tr>\n",
       "      <th>count</th>\n",
       "      <td>2225.000000</td>\n",
       "      <td>1916.000000</td>\n",
       "      <td>2225.000000</td>\n",
       "    </tr>\n",
       "    <tr>\n",
       "      <th>mean</th>\n",
       "      <td>418.686292</td>\n",
       "      <td>38.747390</td>\n",
       "      <td>16194.796112</td>\n",
       "    </tr>\n",
       "    <tr>\n",
       "      <th>std</th>\n",
       "      <td>189.656900</td>\n",
       "      <td>26.817396</td>\n",
       "      <td>5893.675710</td>\n",
       "    </tr>\n",
       "    <tr>\n",
       "      <th>min</th>\n",
       "      <td>0.000000</td>\n",
       "      <td>1.000000</td>\n",
       "      <td>0.000000</td>\n",
       "    </tr>\n",
       "    <tr>\n",
       "      <th>25%</th>\n",
       "      <td>284.000000</td>\n",
       "      <td>17.000000</td>\n",
       "      <td>12625.710000</td>\n",
       "    </tr>\n",
       "    <tr>\n",
       "      <th>50%</th>\n",
       "      <td>422.000000</td>\n",
       "      <td>34.000000</td>\n",
       "      <td>16476.730000</td>\n",
       "    </tr>\n",
       "    <tr>\n",
       "      <th>75%</th>\n",
       "      <td>545.000000</td>\n",
       "      <td>55.000000</td>\n",
       "      <td>20046.380000</td>\n",
       "    </tr>\n",
       "    <tr>\n",
       "      <th>max</th>\n",
       "      <td>1435.000000</td>\n",
       "      <td>143.000000</td>\n",
       "      <td>38552.450000</td>\n",
       "    </tr>\n",
       "  </tbody>\n",
       "</table>\n",
       "</div>"
      ],
      "text/plain": [
       "       month_calls_duration  total_count_messages_in_month  month_mb_used\n",
       "count           2225.000000                    1916.000000    2225.000000\n",
       "mean             418.686292                      38.747390   16194.796112\n",
       "std              189.656900                      26.817396    5893.675710\n",
       "min                0.000000                       1.000000       0.000000\n",
       "25%              284.000000                      17.000000   12625.710000\n",
       "50%              422.000000                      34.000000   16476.730000\n",
       "75%              545.000000                      55.000000   20046.380000\n",
       "max             1435.000000                     143.000000   38552.450000"
      ]
     },
     "execution_count": 37,
     "metadata": {},
     "output_type": "execute_result"
    }
   ],
   "source": [
    "#повторим то же самое с тарифом smart\n",
    "\n",
    "users_statistics[users_statistics['tariff'] == 'smart'][['month_calls_duration', \n",
    "                                                         'total_count_messages_in_month', \n",
    "                                                         'month_mb_used']].describe()"
   ]
  },
  {
   "cell_type": "code",
   "execution_count": 38,
   "id": "57e689b8",
   "metadata": {},
   "outputs": [
    {
     "data": {
      "text/plain": [
       "35969.73967262148"
      ]
     },
     "metadata": {},
     "output_type": "display_data"
    },
    {
     "data": {
      "text/plain": [
       "719.1727085911066"
      ]
     },
     "metadata": {},
     "output_type": "display_data"
    },
    {
     "data": {
      "text/plain": [
       "34735413.37260269"
      ]
     },
     "metadata": {},
     "output_type": "display_data"
    }
   ],
   "source": [
    "variance_smart_calls = np.var(users_statistics[users_statistics['tariff'] == 'smart']\n",
    "                              ['month_calls_duration'], ddof=1)\n",
    "variance_smart_sms = np.var(users_statistics[users_statistics['tariff'] == 'smart']\n",
    "                            ['total_count_messages_in_month'], ddof=1)\n",
    "variance_smart_mbs = np.var(users_statistics[users_statistics['tariff'] == 'smart']\n",
    "                            ['month_mb_used'], ddof=1)\n",
    "display(variance_smart_calls, variance_smart_sms, variance_smart_mbs)"
   ]
  },
  {
   "cell_type": "markdown",
   "id": "f9a77276",
   "metadata": {},
   "source": [
    "В то же время пользователи тарифа smart в день разговаривают в среднем 422 минуты, пишут 34 смс и используют 16506 мб трафика.\n",
    "\n",
    "Длительность звонков:\n",
    "\n",
    "1. среднее = 417.93\n",
    "2. стандартное отклонение = 190.31\n",
    "3. дисперсия = 36219.31\n",
    "\n",
    "Количество сообщений:\n",
    "\n",
    "1. среднее = 38.71\n",
    "2. стандартное отклонение = 26.79\n",
    "3. дисперсия = 717.59\n",
    "\n",
    "Использованный трафик:\n",
    "\n",
    "1. среднее = 16208.39\n",
    "2. стандартное отклонение = 5870.48\n",
    "3. дисперсия = 34462496.46"
   ]
  },
  {
   "cell_type": "code",
   "execution_count": 39,
   "id": "a4cad415",
   "metadata": {},
   "outputs": [
    {
     "data": {
      "text/plain": [
       "Text(0.5, 1.0, 'Распределение испозьзованных минут в месяц на тарифе smart')"
      ]
     },
     "execution_count": 39,
     "metadata": {},
     "output_type": "execute_result"
    },
    {
     "data": {
      "image/png": "[encoded data removed]",
      "text/plain": [
       "<Figure size 1080x288 with 2 Axes>"
      ]
     },
     "metadata": {
      "needs_background": "light"
     },
     "output_type": "display_data"
    }
   ],
   "source": [
    "#построим гистограммы продолжительности звонков в месяц\n",
    "\n",
    "fig, axes = plt.subplots(1,2,figsize=(15,4))\n",
    "\n",
    "users_statistics[users_statistics['tariff'] == 'ultra']['month_calls_duration'].hist(bins=30, ax=axes[0])\n",
    "users_statistics[users_statistics['tariff'] == 'smart']['month_calls_duration'].hist(bins=30, ax=axes[1])\n",
    "\n",
    "axes[0].set_title('Распределение использованных минут в месяц на тарифе ultra')\n",
    "axes[1].set_title('Распределение испозьзованных минут в месяц на тарифе smart')"
   ]
  },
  {
   "cell_type": "markdown",
   "id": "0abc17bc",
   "metadata": {},
   "source": [
    "По гистограмме видно - это также подверждается значениями медианы и среднего, - что график распределения минут на тарифе ultra скошен вправо, а на тарифе smart - влево. На графике тарифа ultra виден скачок в районе 0."
   ]
  },
  {
   "cell_type": "code",
   "execution_count": 40,
   "id": "4711eb10",
   "metadata": {},
   "outputs": [
    {
     "data": {
      "text/plain": [
       "Text(0.5, 1.0, 'Количество написанных сообщений в месяц на тарифе smart')"
      ]
     },
     "execution_count": 40,
     "metadata": {},
     "output_type": "execute_result"
    },
    {
     "data": {
      "image/png": "[encoded data removed]",
      "text/plain": [
       "<Figure size 1080x288 with 2 Axes>"
      ]
     },
     "metadata": {
      "needs_background": "light"
     },
     "output_type": "display_data"
    }
   ],
   "source": [
    "#построим гистограммы количества написанных сообщений в месяц\n",
    "\n",
    "fig, axes = plt.subplots(1,2,figsize=(15,4))\n",
    "\n",
    "users_statistics[users_statistics['tariff'] == 'ultra']['total_count_messages_in_month'].hist(bins=30, ax=axes[0])\n",
    "users_statistics[users_statistics['tariff'] == 'smart']['total_count_messages_in_month'].hist(bins=30, ax=axes[1])\n",
    "                                                        \n",
    "axes[0].set_title('Количество написанных сообщений в месяц на тарифе ultra')\n",
    "axes[1].set_title('Количество написанных сообщений в месяц на тарифе smart')"
   ]
  },
  {
   "cell_type": "markdown",
   "id": "502ca3b7",
   "metadata": {},
   "source": [
    "Обе гистограммы скошены вправо, что логично. В наше время пользователи редко пользуются смс."
   ]
  },
  {
   "cell_type": "code",
   "execution_count": 41,
   "id": "401db1e5",
   "metadata": {},
   "outputs": [
    {
     "data": {
      "text/plain": [
       "Text(0.5, 1.0, 'Использованный интернет трафик в месяц на тарифе smart')"
      ]
     },
     "execution_count": 41,
     "metadata": {},
     "output_type": "execute_result"
    },
    {
     "data": {
      "image/png": "[encoded data removed]",
      "text/plain": [
       "<Figure size 1080x288 with 2 Axes>"
      ]
     },
     "metadata": {
      "needs_background": "light"
     },
     "output_type": "display_data"
    }
   ],
   "source": [
    "#построим гистограммы количества использованного интернет трафика в месяц\n",
    "\n",
    "fig, axes = plt.subplots(1,2,figsize=(15,4))\n",
    "\n",
    "users_statistics[users_statistics['tariff'] == 'ultra']['month_mb_used'].hist(bins=30, ax=axes[0])\n",
    "users_statistics[users_statistics['tariff'] == 'smart']['month_mb_used'].hist(bins=30, ax=axes[1])\n",
    "                                                        \n",
    "axes[0].set_title('Использованный интернет трафик в месяц на тарифе ultra')\n",
    "axes[1].set_title('Использованный интернет трафик в месяц на тарифе smart')"
   ]
  },
  {
   "cell_type": "markdown",
   "id": "bd9102b0",
   "metadata": {},
   "source": [
    "Здесть также видна разнонаправленная скошенность графиков: с тарифом ultra - вправо, с тарифом smart - влево. "
   ]
  },
  {
   "cell_type": "markdown",
   "id": "03389ded",
   "metadata": {},
   "source": [
    "# **Проверка гипотез** #\n",
    "\n",
    "Выдвенем нулевые и альтернативные гипотезы, исходя из поставленных задач:\n",
    "\n",
    "- H0 - средняя выручка от пользователей тарифа \"Ультра\" равна выручке от пользователей тарифа \"Смарт\";\n",
    "- H1 - средняя выручка от пользователей тарифа \"Ультра\" не равна выручке от пользователей тарифа \"Смарт\";\n",
    "\n",
    "\n",
    "- H0 - средняя выручка от пользователей из Москвы равна выручке от пользователей из других городов;\n",
    "- H1 - средняя выручка от пользователей из Москвы не равна выручке от пользователей из других городов.\n",
    "\n",
    "Пороговое значение alpha задайте самостоятельно.\n",
    "Поясните:\n",
    "как вы формулировали нулевую и альтернативную гипотезы;\n",
    "какой критерий использовали для проверки гипотез и почему."
   ]
  },
  {
   "cell_type": "code",
   "execution_count": 42,
   "id": "a783d472",
   "metadata": {},
   "outputs": [
    {
     "data": {
      "text/plain": [
       "'p-значение:'"
      ]
     },
     "metadata": {},
     "output_type": "display_data"
    },
    {
     "data": {
      "text/plain": [
       "2.796424815525196e-246"
      ]
     },
     "metadata": {},
     "output_type": "display_data"
    },
    {
     "data": {
      "text/plain": [
       "'Отвергаем нулевую гипотезу.'"
      ]
     },
     "metadata": {},
     "output_type": "display_data"
    }
   ],
   "source": [
    "#так как мы располагаем двумя сильно отличающимися по объему выборками,\n",
    "#то воспользуемся функцией st.ttest_ind() с параметром equal_var=False\n",
    "\n",
    "\n",
    "alpha_tariff = 0.05\n",
    "\n",
    "result_tariff = st.ttest_ind(users_statistics[users_statistics['tariff'] == 'ultra']['total_revenue'], \n",
    "                            users_statistics[users_statistics['tariff'] == 'smart']['total_revenue'],\n",
    "                            equal_var=False)\n",
    "\n",
    "display('p-значение:', result_tariff.pvalue)\n",
    "\n",
    "if result_tariff.pvalue < alpha_tariff:\n",
    "    display('Отвергаем нулевую гипотезу.')\n",
    "else:\n",
    "    display('Не получилось отвергнуть нулевую гипотезу.')"
   ]
  },
  {
   "cell_type": "markdown",
   "id": "e014faec",
   "metadata": {},
   "source": [
    "Мы отвергаем гипотезу о том, что средняя выручка от пользователей тарифов \"Ультра\" и \"Смарт\" одинаковая."
   ]
  },
  {
   "cell_type": "code",
   "execution_count": 43,
   "id": "5ae59c9b",
   "metadata": {},
   "outputs": [
    {
     "data": {
      "text/plain": [
       "610"
      ]
     },
     "execution_count": 43,
     "metadata": {},
     "output_type": "execute_result"
    }
   ],
   "source": [
    "#посчитаем количество месяцов, в которых использовали тарифы в Москве\n",
    "\n",
    "users_statistics.query('city == \"Москва\"')['city'].count()"
   ]
  },
  {
   "cell_type": "code",
   "execution_count": 44,
   "id": "17b521d5",
   "metadata": {},
   "outputs": [
    {
     "data": {
      "text/plain": [
       "'p-значение:'"
      ]
     },
     "metadata": {},
     "output_type": "display_data"
    },
    {
     "data": {
      "text/plain": [
       "nan"
      ]
     },
     "metadata": {},
     "output_type": "display_data"
    },
    {
     "data": {
      "text/plain": [
       "'Не получилось отвергнуть нулевую гипотезу.'"
      ]
     },
     "metadata": {},
     "output_type": "display_data"
    }
   ],
   "source": [
    "#теперь проверим вторую гипотезу\n",
    "\n",
    "alpha_city = 0.05\n",
    "\n",
    "result_city = st.ttest_ind(users_statistics[users_statistics['city'] == 'Москва']['total_revenue'], \n",
    "                            users_statistics[users_statistics['city'] != 'Москва']['total_revenue'],\n",
    "                            equal_var=False)\n",
    "\n",
    "display('p-значение:', result_city.pvalue)\n",
    "\n",
    "if result_city.pvalue < alpha_city:\n",
    "    display('Отвергаем нулевую гипотезу.')\n",
    "else:\n",
    "    display('Не получилось отвергнуть нулевую гипотезу.')"
   ]
  },
  {
   "cell_type": "markdown",
   "id": "a7e22c82",
   "metadata": {},
   "source": [
    "В данном случае мы не можем отвергнуть гипотезу о том, что средняя выручка от пользователей из Москвы и других городов одинаковая."
   ]
  },
  {
   "cell_type": "markdown",
   "id": "b87c3b24",
   "metadata": {},
   "source": [
    "# **Вывод** #\n",
    "\n",
    "Мы сформировали нулевую и альтернативную гипотезы на основании общих гипотез, исходя из того, что в нулевой гипотезе всегда присутствует знак равенства.\n",
    "\n",
    "Так как мы имеем сравнивали среднее двух генеральных совокупностей по взятым из них выборкам, то пользовались специальным методом scupy.ttest_ind(). Так как наши выборки сильно отличались по размеру, то мы указывали параметр equal_var как False.\n",
    "\n",
    "С одной стороны, в результате проведенного исследования мы отвергли гипотезу о равной средней выручке от пользователей тарифов \"Ультра\" и \"Смарт\", поэтому нам необходимо проверить, какой же тариф в итоге выгоднец. С другой стороны, мы не смогли отвегрнуть гипотезу об одинаковой средней выручке от пользователей из Москвы и других городов."
   ]
  },
  {
   "cell_type": "markdown",
   "id": "ed1f843d",
   "metadata": {},
   "source": [
    "# **Общий вывод** #"
   ]
  },
  {
   "cell_type": "code",
   "execution_count": 45,
   "id": "bf4063f4",
   "metadata": {},
   "outputs": [
    {
     "data": {
      "image/png": "[encoded data removed]",
      "text/plain": [
       "<Figure size 432x288 with 1 Axes>"
      ]
     },
     "metadata": {
      "needs_background": "light"
     },
     "output_type": "display_data"
    },
    {
     "data": {
      "text/plain": [
       "count     957.000000\n",
       "mean     2070.219436\n",
       "std       378.351486\n",
       "min      1950.000000\n",
       "25%      1950.000000\n",
       "50%      1950.000000\n",
       "75%      1950.000000\n",
       "max      4800.000000\n",
       "Name: total_revenue, dtype: float64"
      ]
     },
     "execution_count": 45,
     "metadata": {},
     "output_type": "execute_result"
    },
    {
     "data": {
      "image/png": "[encoded data removed]",
      "text/plain": [
       "<Figure size 432x288 with 1 Axes>"
      ]
     },
     "metadata": {
      "needs_background": "light"
     },
     "output_type": "display_data"
    }
   ],
   "source": [
    "plt.boxplot(users_statistics[users_statistics['tariff'] == 'ultra']['total_revenue'])\n",
    "plt.show()\n",
    "plt.hist(users_statistics[users_statistics['tariff'] == 'ultra']['total_revenue'], bins=10)\n",
    "users_statistics[users_statistics['tariff'] == 'ultra']['total_revenue'].describe()"
   ]
  },
  {
   "cell_type": "code",
   "execution_count": 46,
   "id": "cdfffb3c",
   "metadata": {},
   "outputs": [
    {
     "data": {
      "image/png": "[encoded data removed]",
      "text/plain": [
       "<Figure size 432x288 with 1 Axes>"
      ]
     },
     "metadata": {
      "needs_background": "light"
     },
     "output_type": "display_data"
    },
    {
     "data": {
      "text/plain": [
       "count    2225.000000\n",
       "mean     1290.225169\n",
       "std       819.052589\n",
       "min       550.000000\n",
       "25%       550.000000\n",
       "50%      1023.000000\n",
       "75%      1750.000000\n",
       "max      6770.000000\n",
       "Name: total_revenue, dtype: float64"
      ]
     },
     "execution_count": 46,
     "metadata": {},
     "output_type": "execute_result"
    },
    {
     "data": {
      "image/png": "[encoded data removed]",
      "text/plain": [
       "<Figure size 432x288 with 1 Axes>"
      ]
     },
     "metadata": {
      "needs_background": "light"
     },
     "output_type": "display_data"
    }
   ],
   "source": [
    "plt.boxplot(users_statistics[users_statistics['tariff'] == 'smart']['total_revenue'])\n",
    "plt.show()\n",
    "plt.hist(users_statistics[users_statistics['tariff'] == 'smart']['total_revenue'])\n",
    "users_statistics[users_statistics['tariff'] == 'smart']['total_revenue'].describe()"
   ]
  },
  {
   "cell_type": "markdown",
   "id": "81f8f7a3",
   "metadata": {},
   "source": [
    "# **Итог** #"
   ]
  },
  {
   "cell_type": "markdown",
   "id": "f5b785c3",
   "metadata": {},
   "source": [
    "Сначала мы изучили все данные, исправили их и подготовили к подсчетам.\n",
    "\n",
    "Далее мы сгруппировали всю необходимую информацию, привели ее в считабельный формат и вычислили, сколько каждый пользователь каждого тарифа приносит прибыли для оператора связи.\n",
    "\n",
    "Мы построили гистограммы, а также выдвинули нулевые и альтернативные гипотезы:\n",
    "\n",
    "- H0 - средняя выручка от пользователей тарифа \"Ультра\" равна выручке от пользователей тарифа \"Смарт\";\n",
    "- H1 - средняя выручка от пользователей тарифа \"Ультра\" не равна выручке от пользователей тарифа \"Смарт\";\n",
    "\n",
    "\n",
    "- H0 - средняя выручка от пользователей из Москвы равна выручке от пользователей из других городов;\n",
    "- H1 - средняя выручка от пользователей из Москвы не равна выручке от пользователей из других городов.\n",
    "\n",
    "Проанализировав все данные мы пришли к следующим выводам:\n",
    "\n",
    "- Во-первых, мы видим, что среднее значение переплаты у тарифа \"Смарт\" больше чем в 2 раза превышает размер абонентской платы. Такого не сказать о доходах с тарифа \"Ультра\".\n",
    "- Во-вторых, несмотря на то что среднее значение доходов с тарифа \"Смарт\" меньше, на графике видна скошенность вправо, что свидетельствует о болших переплатах пользователей именно этого тарифного плана.\n",
    "\n",
    "**Подводя итог, какой из тарифов лучше, можно однозначно сказать, что для компании \"Мегалайн\" выгоден тариф \"Смарт\"!**"
   ]
  }
 ],
 "metadata": {
  "ExecuteTimeLog": [
   {
    "duration": 960,
    "start_time": "2022-02-15T16:01:41.051Z"
   },
   {
    "duration": 398,
    "start_time": "2022-02-15T16:01:42.013Z"
   },
   {
    "duration": 40,
    "start_time": "2022-02-15T16:01:42.413Z"
   },
   {
    "duration": 31,
    "start_time": "2022-02-15T16:01:42.455Z"
   },
   {
    "duration": 19,
    "start_time": "2022-02-15T16:01:42.488Z"
   },
   {
    "duration": 8,
    "start_time": "2022-02-15T16:01:42.530Z"
   },
   {
    "duration": 73,
    "start_time": "2022-02-15T16:01:42.540Z"
   },
   {
    "duration": 17,
    "start_time": "2022-02-15T16:01:42.616Z"
   },
   {
    "duration": 52,
    "start_time": "2022-02-15T16:01:42.635Z"
   },
   {
    "duration": 68,
    "start_time": "2022-02-15T16:01:42.688Z"
   },
   {
    "duration": 27,
    "start_time": "2022-02-15T16:01:42.757Z"
   },
   {
    "duration": 18,
    "start_time": "2022-02-15T16:01:42.786Z"
   },
   {
    "duration": 36,
    "start_time": "2022-02-15T16:01:42.805Z"
   },
   {
    "duration": 11,
    "start_time": "2022-02-15T16:01:42.843Z"
   },
   {
    "duration": 20,
    "start_time": "2022-02-15T16:01:42.856Z"
   },
   {
    "duration": 22,
    "start_time": "2022-02-15T16:01:42.877Z"
   },
   {
    "duration": 30,
    "start_time": "2022-02-15T16:01:42.901Z"
   },
   {
    "duration": 6,
    "start_time": "2022-02-15T16:01:42.934Z"
   },
   {
    "duration": 7,
    "start_time": "2022-02-15T16:01:42.941Z"
   },
   {
    "duration": 11,
    "start_time": "2022-02-15T16:01:42.950Z"
   },
   {
    "duration": 4,
    "start_time": "2022-02-15T16:01:42.963Z"
   },
   {
    "duration": 265,
    "start_time": "2022-02-15T16:01:42.968Z"
   },
   {
    "duration": 6,
    "start_time": "2022-02-15T16:01:56.078Z"
   },
   {
    "duration": 248,
    "start_time": "2022-02-15T16:01:59.703Z"
   },
   {
    "duration": 5,
    "start_time": "2022-02-15T16:02:04.935Z"
   },
   {
    "duration": 1031,
    "start_time": "2022-02-15T16:05:53.469Z"
   },
   {
    "duration": 364,
    "start_time": "2022-02-15T16:05:54.502Z"
   },
   {
    "duration": 37,
    "start_time": "2022-02-15T16:05:54.868Z"
   },
   {
    "duration": 42,
    "start_time": "2022-02-15T16:05:54.907Z"
   },
   {
    "duration": 17,
    "start_time": "2022-02-15T16:05:54.951Z"
   },
   {
    "duration": 7,
    "start_time": "2022-02-15T16:05:54.969Z"
   },
   {
    "duration": 91,
    "start_time": "2022-02-15T16:05:54.978Z"
   },
   {
    "duration": 5,
    "start_time": "2022-02-15T16:05:55.070Z"
   },
   {
    "duration": 56,
    "start_time": "2022-02-15T16:05:55.077Z"
   },
   {
    "duration": 48,
    "start_time": "2022-02-15T16:05:55.136Z"
   },
   {
    "duration": 46,
    "start_time": "2022-02-15T16:05:55.185Z"
   },
   {
    "duration": 18,
    "start_time": "2022-02-15T16:05:55.233Z"
   },
   {
    "duration": 13,
    "start_time": "2022-02-15T16:05:55.252Z"
   },
   {
    "duration": 10,
    "start_time": "2022-02-15T16:05:55.266Z"
   },
   {
    "duration": 20,
    "start_time": "2022-02-15T16:05:55.278Z"
   },
   {
    "duration": 50,
    "start_time": "2022-02-15T16:05:55.299Z"
   },
   {
    "duration": 5,
    "start_time": "2022-02-15T16:05:55.351Z"
   },
   {
    "duration": 5,
    "start_time": "2022-02-15T16:05:55.358Z"
   },
   {
    "duration": 7,
    "start_time": "2022-02-15T16:05:55.364Z"
   },
   {
    "duration": 8,
    "start_time": "2022-02-15T16:05:55.373Z"
   },
   {
    "duration": 4,
    "start_time": "2022-02-15T16:05:55.383Z"
   },
   {
    "duration": 262,
    "start_time": "2022-02-15T16:05:55.389Z"
   },
   {
    "duration": 6,
    "start_time": "2022-02-15T16:05:55.653Z"
   },
   {
    "duration": 20,
    "start_time": "2022-02-15T16:05:55.660Z"
   },
   {
    "duration": 11,
    "start_time": "2022-02-15T16:05:55.682Z"
   },
   {
    "duration": 46,
    "start_time": "2022-02-15T16:05:55.695Z"
   },
   {
    "duration": 10,
    "start_time": "2022-02-15T16:05:55.745Z"
   },
   {
    "duration": 439,
    "start_time": "2022-02-15T16:05:55.757Z"
   },
   {
    "duration": 439,
    "start_time": "2022-02-15T16:05:56.198Z"
   },
   {
    "duration": 435,
    "start_time": "2022-02-15T16:05:56.639Z"
   },
   {
    "duration": 12,
    "start_time": "2022-02-15T16:05:57.076Z"
   },
   {
    "duration": 8,
    "start_time": "2022-02-15T16:05:57.089Z"
   },
   {
    "duration": 39,
    "start_time": "2022-02-15T16:05:57.099Z"
   },
   {
    "duration": 282,
    "start_time": "2022-02-15T16:05:57.140Z"
   },
   {
    "duration": 373,
    "start_time": "2022-02-15T16:05:57.423Z"
   },
   {
    "duration": 8,
    "start_time": "2022-02-15T17:12:27.345Z"
   },
   {
    "duration": 1029,
    "start_time": "2022-02-15T17:12:31.011Z"
   },
   {
    "duration": 414,
    "start_time": "2022-02-15T17:12:32.042Z"
   },
   {
    "duration": 39,
    "start_time": "2022-02-15T17:12:32.458Z"
   },
   {
    "duration": 33,
    "start_time": "2022-02-15T17:12:32.499Z"
   },
   {
    "duration": 40,
    "start_time": "2022-02-15T17:12:32.535Z"
   },
   {
    "duration": 9,
    "start_time": "2022-02-15T17:12:32.577Z"
   },
   {
    "duration": 104,
    "start_time": "2022-02-15T17:12:32.588Z"
   },
   {
    "duration": 5,
    "start_time": "2022-02-15T17:12:32.695Z"
   },
   {
    "duration": 57,
    "start_time": "2022-02-15T17:12:32.702Z"
   },
   {
    "duration": 49,
    "start_time": "2022-02-15T17:12:32.760Z"
   },
   {
    "duration": 28,
    "start_time": "2022-02-15T17:12:32.810Z"
   },
   {
    "duration": 33,
    "start_time": "2022-02-15T17:12:32.840Z"
   },
   {
    "duration": 12,
    "start_time": "2022-02-15T17:12:32.875Z"
   },
   {
    "duration": 11,
    "start_time": "2022-02-15T17:12:32.889Z"
   },
   {
    "duration": 21,
    "start_time": "2022-02-15T17:12:32.902Z"
   },
   {
    "duration": 57,
    "start_time": "2022-02-15T17:12:32.925Z"
   },
   {
    "duration": 6,
    "start_time": "2022-02-15T17:12:32.984Z"
   },
   {
    "duration": 5,
    "start_time": "2022-02-15T17:12:32.992Z"
   },
   {
    "duration": 9,
    "start_time": "2022-02-15T17:12:32.999Z"
   },
   {
    "duration": 13,
    "start_time": "2022-02-15T17:12:33.009Z"
   },
   {
    "duration": 4,
    "start_time": "2022-02-15T17:12:33.024Z"
   },
   {
    "duration": 233,
    "start_time": "2022-02-15T17:12:33.059Z"
   },
   {
    "duration": 5,
    "start_time": "2022-02-15T17:12:33.295Z"
   },
   {
    "duration": 28,
    "start_time": "2022-02-15T17:12:33.303Z"
   },
   {
    "duration": 35,
    "start_time": "2022-02-15T17:12:33.333Z"
   },
   {
    "duration": 20,
    "start_time": "2022-02-15T17:12:33.370Z"
   },
   {
    "duration": 12,
    "start_time": "2022-02-15T17:12:33.391Z"
   },
   {
    "duration": 482,
    "start_time": "2022-02-15T17:12:33.405Z"
   },
   {
    "duration": 467,
    "start_time": "2022-02-15T17:12:33.889Z"
   },
   {
    "duration": 450,
    "start_time": "2022-02-15T17:12:34.358Z"
   },
   {
    "duration": 13,
    "start_time": "2022-02-15T17:12:34.810Z"
   },
   {
    "duration": 8,
    "start_time": "2022-02-15T17:12:34.825Z"
   },
   {
    "duration": 32,
    "start_time": "2022-02-15T17:12:34.835Z"
   },
   {
    "duration": 304,
    "start_time": "2022-02-15T17:12:34.869Z"
   },
   {
    "duration": 399,
    "start_time": "2022-02-15T17:12:35.175Z"
   },
   {
    "duration": 230,
    "start_time": "2022-02-15T17:17:03.345Z"
   },
   {
    "duration": 221,
    "start_time": "2022-02-15T17:17:22.603Z"
   },
   {
    "duration": 4,
    "start_time": "2022-02-15T17:20:44.404Z"
   },
   {
    "duration": 384,
    "start_time": "2022-02-15T17:20:44.410Z"
   },
   {
    "duration": 35,
    "start_time": "2022-02-15T17:20:44.796Z"
   },
   {
    "duration": 47,
    "start_time": "2022-02-15T17:20:44.833Z"
   },
   {
    "duration": 18,
    "start_time": "2022-02-15T17:20:44.882Z"
   },
   {
    "duration": 7,
    "start_time": "2022-02-15T17:20:44.902Z"
   },
   {
    "duration": 91,
    "start_time": "2022-02-15T17:20:44.912Z"
   },
   {
    "duration": 6,
    "start_time": "2022-02-15T17:20:45.006Z"
   },
   {
    "duration": 62,
    "start_time": "2022-02-15T17:20:45.013Z"
   },
   {
    "duration": 45,
    "start_time": "2022-02-15T17:20:45.077Z"
   },
   {
    "duration": 42,
    "start_time": "2022-02-15T17:20:45.124Z"
   },
   {
    "duration": 20,
    "start_time": "2022-02-15T17:20:45.168Z"
   },
   {
    "duration": 12,
    "start_time": "2022-02-15T17:20:45.190Z"
   },
   {
    "duration": 10,
    "start_time": "2022-02-15T17:20:45.204Z"
   },
   {
    "duration": 51,
    "start_time": "2022-02-15T17:20:45.216Z"
   },
   {
    "duration": 19,
    "start_time": "2022-02-15T17:20:45.269Z"
   },
   {
    "duration": 6,
    "start_time": "2022-02-15T17:20:45.289Z"
   },
   {
    "duration": 6,
    "start_time": "2022-02-15T17:20:45.297Z"
   },
   {
    "duration": 8,
    "start_time": "2022-02-15T17:20:45.306Z"
   },
   {
    "duration": 10,
    "start_time": "2022-02-15T17:20:45.316Z"
   },
   {
    "duration": 33,
    "start_time": "2022-02-15T17:20:45.328Z"
   },
   {
    "duration": 254,
    "start_time": "2022-02-15T17:20:45.362Z"
   },
   {
    "duration": 6,
    "start_time": "2022-02-15T17:20:45.618Z"
   },
   {
    "duration": 34,
    "start_time": "2022-02-15T17:20:45.625Z"
   },
   {
    "duration": 18,
    "start_time": "2022-02-15T17:20:45.663Z"
   },
   {
    "duration": 18,
    "start_time": "2022-02-15T17:20:45.683Z"
   },
   {
    "duration": 12,
    "start_time": "2022-02-15T17:20:45.703Z"
   },
   {
    "duration": 489,
    "start_time": "2022-02-15T17:20:45.716Z"
   },
   {
    "duration": 472,
    "start_time": "2022-02-15T17:20:46.208Z"
   },
   {
    "duration": 454,
    "start_time": "2022-02-15T17:20:46.682Z"
   },
   {
    "duration": 24,
    "start_time": "2022-02-15T17:20:47.138Z"
   },
   {
    "duration": 7,
    "start_time": "2022-02-15T17:20:47.164Z"
   },
   {
    "duration": 11,
    "start_time": "2022-02-15T17:20:47.173Z"
   },
   {
    "duration": 316,
    "start_time": "2022-02-15T17:20:47.185Z"
   },
   {
    "duration": 317,
    "start_time": "2022-02-15T17:20:47.504Z"
   },
   {
    "duration": 224,
    "start_time": "2022-02-15T17:21:05.115Z"
   },
   {
    "duration": 223,
    "start_time": "2022-02-15T17:21:13.793Z"
   },
   {
    "duration": 36,
    "start_time": "2022-02-15T17:22:24.124Z"
   },
   {
    "duration": 27,
    "start_time": "2022-02-15T17:22:29.271Z"
   },
   {
    "duration": 29,
    "start_time": "2022-02-15T17:25:30.869Z"
   },
   {
    "duration": 1423,
    "start_time": "2022-02-16T15:18:25.164Z"
   },
   {
    "duration": 535,
    "start_time": "2022-02-16T15:18:26.590Z"
   },
   {
    "duration": 56,
    "start_time": "2022-02-16T15:18:27.132Z"
   },
   {
    "duration": 69,
    "start_time": "2022-02-16T15:18:27.190Z"
   },
   {
    "duration": 25,
    "start_time": "2022-02-16T15:18:27.262Z"
   },
   {
    "duration": 11,
    "start_time": "2022-02-16T15:18:27.289Z"
   },
   {
    "duration": 110,
    "start_time": "2022-02-16T15:18:27.331Z"
   },
   {
    "duration": 6,
    "start_time": "2022-02-16T15:18:27.445Z"
   },
   {
    "duration": 89,
    "start_time": "2022-02-16T15:18:27.454Z"
   },
   {
    "duration": 87,
    "start_time": "2022-02-16T15:18:27.545Z"
   },
   {
    "duration": 47,
    "start_time": "2022-02-16T15:18:27.634Z"
   },
   {
    "duration": 59,
    "start_time": "2022-02-16T15:18:27.684Z"
   },
   {
    "duration": 20,
    "start_time": "2022-02-16T15:18:27.747Z"
   },
   {
    "duration": 20,
    "start_time": "2022-02-16T15:18:27.769Z"
   },
   {
    "duration": 63,
    "start_time": "2022-02-16T15:18:27.792Z"
   },
   {
    "duration": 29,
    "start_time": "2022-02-16T15:18:27.858Z"
   },
   {
    "duration": 8,
    "start_time": "2022-02-16T15:18:27.889Z"
   },
   {
    "duration": 38,
    "start_time": "2022-02-16T15:18:27.899Z"
   },
   {
    "duration": 22,
    "start_time": "2022-02-16T15:18:27.940Z"
   },
   {
    "duration": 30,
    "start_time": "2022-02-16T15:18:27.964Z"
   },
   {
    "duration": 12,
    "start_time": "2022-02-16T15:18:27.996Z"
   },
   {
    "duration": 444,
    "start_time": "2022-02-16T15:18:28.010Z"
   },
   {
    "duration": 7,
    "start_time": "2022-02-16T15:18:28.461Z"
   },
   {
    "duration": 30,
    "start_time": "2022-02-16T15:18:28.471Z"
   },
   {
    "duration": 44,
    "start_time": "2022-02-16T15:18:28.503Z"
   },
   {
    "duration": 37,
    "start_time": "2022-02-16T15:18:28.550Z"
   },
   {
    "duration": 50,
    "start_time": "2022-02-16T15:18:28.589Z"
   },
   {
    "duration": 798,
    "start_time": "2022-02-16T15:18:28.642Z"
   },
   {
    "duration": 930,
    "start_time": "2022-02-16T15:18:29.443Z"
   },
   {
    "duration": 793,
    "start_time": "2022-02-16T15:18:30.376Z"
   },
   {
    "duration": 14,
    "start_time": "2022-02-16T15:18:31.171Z"
   },
   {
    "duration": 15,
    "start_time": "2022-02-16T15:18:31.188Z"
   },
   {
    "duration": 16,
    "start_time": "2022-02-16T15:18:31.233Z"
   },
   {
    "duration": 527,
    "start_time": "2022-02-16T15:18:31.251Z"
   },
   {
    "duration": 599,
    "start_time": "2022-02-16T15:18:31.781Z"
   },
   {
    "duration": 400,
    "start_time": "2022-02-16T15:19:08.558Z"
   },
   {
    "duration": 393,
    "start_time": "2022-02-16T15:19:13.872Z"
   },
   {
    "duration": 389,
    "start_time": "2022-02-16T15:19:24.213Z"
   },
   {
    "duration": 411,
    "start_time": "2022-02-16T15:19:33.993Z"
   },
   {
    "duration": 389,
    "start_time": "2022-02-16T15:20:01.748Z"
   },
   {
    "duration": 420,
    "start_time": "2022-02-16T15:23:01.665Z"
   },
   {
    "duration": 4,
    "start_time": "2022-02-16T15:23:13.712Z"
   },
   {
    "duration": 655,
    "start_time": "2022-02-16T15:23:13.722Z"
   },
   {
    "duration": 61,
    "start_time": "2022-02-16T15:23:14.380Z"
   },
   {
    "duration": 49,
    "start_time": "2022-02-16T15:23:14.443Z"
   },
   {
    "duration": 55,
    "start_time": "2022-02-16T15:23:14.495Z"
   },
   {
    "duration": 11,
    "start_time": "2022-02-16T15:23:14.553Z"
   },
   {
    "duration": 129,
    "start_time": "2022-02-16T15:23:14.567Z"
   },
   {
    "duration": 7,
    "start_time": "2022-02-16T15:23:14.699Z"
   },
   {
    "duration": 101,
    "start_time": "2022-02-16T15:23:14.711Z"
   },
   {
    "duration": 124,
    "start_time": "2022-02-16T15:23:14.816Z"
   },
   {
    "duration": 66,
    "start_time": "2022-02-16T15:23:14.943Z"
   },
   {
    "duration": 43,
    "start_time": "2022-02-16T15:23:15.032Z"
   },
   {
    "duration": 20,
    "start_time": "2022-02-16T15:23:15.078Z"
   },
   {
    "duration": 42,
    "start_time": "2022-02-16T15:23:15.101Z"
   },
   {
    "duration": 56,
    "start_time": "2022-02-16T15:23:15.146Z"
   },
   {
    "duration": 39,
    "start_time": "2022-02-16T15:23:15.205Z"
   },
   {
    "duration": 10,
    "start_time": "2022-02-16T15:23:15.247Z"
   },
   {
    "duration": 23,
    "start_time": "2022-02-16T15:23:15.260Z"
   },
   {
    "duration": 16,
    "start_time": "2022-02-16T15:23:15.286Z"
   },
   {
    "duration": 37,
    "start_time": "2022-02-16T15:23:15.305Z"
   },
   {
    "duration": 11,
    "start_time": "2022-02-16T15:23:15.345Z"
   },
   {
    "duration": 449,
    "start_time": "2022-02-16T15:23:15.358Z"
   },
   {
    "duration": 9,
    "start_time": "2022-02-16T15:23:15.810Z"
   },
   {
    "duration": 34,
    "start_time": "2022-02-16T15:23:15.837Z"
   },
   {
    "duration": 17,
    "start_time": "2022-02-16T15:23:15.874Z"
   },
   {
    "duration": 63,
    "start_time": "2022-02-16T15:23:15.894Z"
   },
   {
    "duration": 29,
    "start_time": "2022-02-16T15:23:15.960Z"
   },
   {
    "duration": 775,
    "start_time": "2022-02-16T15:23:15.991Z"
   },
   {
    "duration": 811,
    "start_time": "2022-02-16T15:23:16.769Z"
   },
   {
    "duration": 808,
    "start_time": "2022-02-16T15:23:17.583Z"
   },
   {
    "duration": 38,
    "start_time": "2022-02-16T15:23:18.394Z"
   },
   {
    "duration": 10,
    "start_time": "2022-02-16T15:23:18.435Z"
   },
   {
    "duration": 16,
    "start_time": "2022-02-16T15:23:18.447Z"
   },
   {
    "duration": 624,
    "start_time": "2022-02-16T15:23:18.465Z"
   },
   {
    "duration": 529,
    "start_time": "2022-02-16T15:23:19.091Z"
   },
   {
    "duration": 402,
    "start_time": "2022-02-16T15:23:36.317Z"
   },
   {
    "duration": 410,
    "start_time": "2022-02-16T15:23:59.266Z"
   },
   {
    "duration": 392,
    "start_time": "2022-02-16T15:24:07.360Z"
   },
   {
    "duration": 28,
    "start_time": "2022-02-16T15:25:02.963Z"
   },
   {
    "duration": 33,
    "start_time": "2022-02-16T15:25:16.712Z"
   },
   {
    "duration": 30,
    "start_time": "2022-02-16T15:25:37.007Z"
   },
   {
    "duration": 673,
    "start_time": "2022-02-16T15:26:56.700Z"
   },
   {
    "duration": 4,
    "start_time": "2022-02-16T15:27:05.954Z"
   },
   {
    "duration": 727,
    "start_time": "2022-02-16T15:27:05.960Z"
   },
   {
    "duration": 49,
    "start_time": "2022-02-16T15:27:06.690Z"
   },
   {
    "duration": 44,
    "start_time": "2022-02-16T15:27:06.741Z"
   },
   {
    "duration": 53,
    "start_time": "2022-02-16T15:27:06.788Z"
   },
   {
    "duration": 11,
    "start_time": "2022-02-16T15:27:06.843Z"
   },
   {
    "duration": 113,
    "start_time": "2022-02-16T15:27:06.857Z"
   },
   {
    "duration": 6,
    "start_time": "2022-02-16T15:27:06.974Z"
   },
   {
    "duration": 86,
    "start_time": "2022-02-16T15:27:06.983Z"
   },
   {
    "duration": 70,
    "start_time": "2022-02-16T15:27:07.071Z"
   },
   {
    "duration": 43,
    "start_time": "2022-02-16T15:27:07.143Z"
   },
   {
    "duration": 54,
    "start_time": "2022-02-16T15:27:07.188Z"
   },
   {
    "duration": 20,
    "start_time": "2022-02-16T15:27:07.244Z"
   },
   {
    "duration": 15,
    "start_time": "2022-02-16T15:27:07.267Z"
   },
   {
    "duration": 278,
    "start_time": "2022-02-16T15:27:07.285Z"
   },
   {
    "duration": -3779,
    "start_time": "2022-02-16T15:27:11.345Z"
   },
   {
    "duration": -3782,
    "start_time": "2022-02-16T15:27:11.350Z"
   },
   {
    "duration": -3786,
    "start_time": "2022-02-16T15:27:11.355Z"
   },
   {
    "duration": -3795,
    "start_time": "2022-02-16T15:27:11.366Z"
   },
   {
    "duration": -3805,
    "start_time": "2022-02-16T15:27:11.377Z"
   },
   {
    "duration": -3807,
    "start_time": "2022-02-16T15:27:11.381Z"
   },
   {
    "duration": -3811,
    "start_time": "2022-02-16T15:27:11.386Z"
   },
   {
    "duration": -3819,
    "start_time": "2022-02-16T15:27:11.396Z"
   },
   {
    "duration": -3825,
    "start_time": "2022-02-16T15:27:11.403Z"
   },
   {
    "duration": -3830,
    "start_time": "2022-02-16T15:27:11.410Z"
   },
   {
    "duration": -3830,
    "start_time": "2022-02-16T15:27:11.413Z"
   },
   {
    "duration": -3832,
    "start_time": "2022-02-16T15:27:11.416Z"
   },
   {
    "duration": -3833,
    "start_time": "2022-02-16T15:27:11.419Z"
   },
   {
    "duration": -3838,
    "start_time": "2022-02-16T15:27:11.426Z"
   },
   {
    "duration": -3841,
    "start_time": "2022-02-16T15:27:11.430Z"
   },
   {
    "duration": -3842,
    "start_time": "2022-02-16T15:27:11.432Z"
   },
   {
    "duration": -3849,
    "start_time": "2022-02-16T15:27:11.441Z"
   },
   {
    "duration": -3851,
    "start_time": "2022-02-16T15:27:11.444Z"
   },
   {
    "duration": -3853,
    "start_time": "2022-02-16T15:27:11.447Z"
   },
   {
    "duration": -3854,
    "start_time": "2022-02-16T15:27:11.450Z"
   },
   {
    "duration": 48,
    "start_time": "2022-02-16T15:27:24.023Z"
   },
   {
    "duration": 4,
    "start_time": "2022-02-16T15:27:31.288Z"
   },
   {
    "duration": 538,
    "start_time": "2022-02-16T15:27:31.296Z"
   },
   {
    "duration": 50,
    "start_time": "2022-02-16T15:27:31.837Z"
   },
   {
    "duration": 73,
    "start_time": "2022-02-16T15:27:31.890Z"
   },
   {
    "duration": 27,
    "start_time": "2022-02-16T15:27:31.965Z"
   },
   {
    "duration": 39,
    "start_time": "2022-02-16T15:27:31.995Z"
   },
   {
    "duration": 110,
    "start_time": "2022-02-16T15:27:32.037Z"
   },
   {
    "duration": 6,
    "start_time": "2022-02-16T15:27:32.151Z"
   },
   {
    "duration": 90,
    "start_time": "2022-02-16T15:27:32.159Z"
   },
   {
    "duration": 65,
    "start_time": "2022-02-16T15:27:32.252Z"
   },
   {
    "duration": 42,
    "start_time": "2022-02-16T15:27:32.333Z"
   },
   {
    "duration": 55,
    "start_time": "2022-02-16T15:27:32.379Z"
   },
   {
    "duration": 18,
    "start_time": "2022-02-16T15:27:32.437Z"
   },
   {
    "duration": 15,
    "start_time": "2022-02-16T15:27:32.458Z"
   },
   {
    "duration": 78,
    "start_time": "2022-02-16T15:27:32.476Z"
   },
   {
    "duration": 269,
    "start_time": "2022-02-16T15:27:32.556Z"
   },
   {
    "duration": -3707,
    "start_time": "2022-02-16T15:27:36.535Z"
   },
   {
    "duration": -3718,
    "start_time": "2022-02-16T15:27:36.547Z"
   },
   {
    "duration": -3721,
    "start_time": "2022-02-16T15:27:36.551Z"
   },
   {
    "duration": -3727,
    "start_time": "2022-02-16T15:27:36.559Z"
   },
   {
    "duration": -3754,
    "start_time": "2022-02-16T15:27:36.587Z"
   },
   {
    "duration": -3760,
    "start_time": "2022-02-16T15:27:36.595Z"
   },
   {
    "duration": -3763,
    "start_time": "2022-02-16T15:27:36.601Z"
   },
   {
    "duration": -3781,
    "start_time": "2022-02-16T15:27:36.621Z"
   },
   {
    "duration": -3796,
    "start_time": "2022-02-16T15:27:36.638Z"
   },
   {
    "duration": -3813,
    "start_time": "2022-02-16T15:27:36.657Z"
   },
   {
    "duration": -3817,
    "start_time": "2022-02-16T15:27:36.664Z"
   },
   {
    "duration": -3823,
    "start_time": "2022-02-16T15:27:36.672Z"
   },
   {
    "duration": -3828,
    "start_time": "2022-02-16T15:27:36.679Z"
   },
   {
    "duration": -3832,
    "start_time": "2022-02-16T15:27:36.686Z"
   },
   {
    "duration": -3836,
    "start_time": "2022-02-16T15:27:36.693Z"
   },
   {
    "duration": -3841,
    "start_time": "2022-02-16T15:27:36.700Z"
   },
   {
    "duration": -3845,
    "start_time": "2022-02-16T15:27:36.706Z"
   },
   {
    "duration": -3851,
    "start_time": "2022-02-16T15:27:36.714Z"
   },
   {
    "duration": -3863,
    "start_time": "2022-02-16T15:27:36.729Z"
   },
   {
    "duration": 41,
    "start_time": "2022-02-16T15:27:59.471Z"
   },
   {
    "duration": 37,
    "start_time": "2022-02-16T15:32:33.206Z"
   },
   {
    "duration": 308,
    "start_time": "2022-02-16T15:32:34.942Z"
   },
   {
    "duration": 36,
    "start_time": "2022-02-16T15:33:22.910Z"
   },
   {
    "duration": 47,
    "start_time": "2022-02-16T15:33:32.609Z"
   },
   {
    "duration": 65,
    "start_time": "2022-02-16T15:34:24.245Z"
   },
   {
    "duration": 10,
    "start_time": "2022-02-16T15:34:59.453Z"
   },
   {
    "duration": 4,
    "start_time": "2022-02-16T15:35:02.266Z"
   },
   {
    "duration": 586,
    "start_time": "2022-02-16T15:35:02.273Z"
   },
   {
    "duration": 69,
    "start_time": "2022-02-16T15:35:02.863Z"
   },
   {
    "duration": 62,
    "start_time": "2022-02-16T15:35:02.940Z"
   },
   {
    "duration": 62,
    "start_time": "2022-02-16T15:35:03.004Z"
   },
   {
    "duration": 13,
    "start_time": "2022-02-16T15:35:03.070Z"
   },
   {
    "duration": 128,
    "start_time": "2022-02-16T15:35:03.088Z"
   },
   {
    "duration": 13,
    "start_time": "2022-02-16T15:35:03.219Z"
   },
   {
    "duration": 77,
    "start_time": "2022-02-16T15:35:03.235Z"
   },
   {
    "duration": 76,
    "start_time": "2022-02-16T15:35:03.315Z"
   },
   {
    "duration": 93,
    "start_time": "2022-02-16T15:35:03.394Z"
   },
   {
    "duration": 57,
    "start_time": "2022-02-16T15:35:03.490Z"
   },
   {
    "duration": 19,
    "start_time": "2022-02-16T15:35:03.550Z"
   },
   {
    "duration": 14,
    "start_time": "2022-02-16T15:35:03.571Z"
   },
   {
    "duration": 80,
    "start_time": "2022-02-16T15:35:03.588Z"
   },
   {
    "duration": 9,
    "start_time": "2022-02-16T15:35:03.671Z"
   },
   {
    "duration": 10,
    "start_time": "2022-02-16T15:35:03.683Z"
   },
   {
    "duration": 44,
    "start_time": "2022-02-16T15:35:03.695Z"
   },
   {
    "duration": 16,
    "start_time": "2022-02-16T15:35:03.744Z"
   },
   {
    "duration": 9,
    "start_time": "2022-02-16T15:35:03.763Z"
   },
   {
    "duration": 7334,
    "start_time": "2022-02-16T15:35:03.774Z"
   },
   {
    "duration": -3829,
    "start_time": "2022-02-16T15:35:14.940Z"
   },
   {
    "duration": -3835,
    "start_time": "2022-02-16T15:35:14.947Z"
   },
   {
    "duration": -3839,
    "start_time": "2022-02-16T15:35:14.953Z"
   },
   {
    "duration": -3845,
    "start_time": "2022-02-16T15:35:14.960Z"
   },
   {
    "duration": -3850,
    "start_time": "2022-02-16T15:35:14.967Z"
   },
   {
    "duration": -3854,
    "start_time": "2022-02-16T15:35:14.973Z"
   },
   {
    "duration": -3858,
    "start_time": "2022-02-16T15:35:14.978Z"
   },
   {
    "duration": -3863,
    "start_time": "2022-02-16T15:35:14.985Z"
   },
   {
    "duration": -3868,
    "start_time": "2022-02-16T15:35:14.992Z"
   },
   {
    "duration": -3873,
    "start_time": "2022-02-16T15:35:14.998Z"
   },
   {
    "duration": -3879,
    "start_time": "2022-02-16T15:35:15.005Z"
   },
   {
    "duration": -3883,
    "start_time": "2022-02-16T15:35:15.011Z"
   },
   {
    "duration": -3889,
    "start_time": "2022-02-16T15:35:15.018Z"
   },
   {
    "duration": 34,
    "start_time": "2022-02-16T15:37:08.186Z"
   },
   {
    "duration": 291,
    "start_time": "2022-02-16T15:37:56.841Z"
   },
   {
    "duration": 281,
    "start_time": "2022-02-16T15:38:14.555Z"
   },
   {
    "duration": 278,
    "start_time": "2022-02-16T15:38:34.189Z"
   },
   {
    "duration": 4,
    "start_time": "2022-02-16T15:39:11.004Z"
   },
   {
    "duration": 619,
    "start_time": "2022-02-16T15:39:11.011Z"
   },
   {
    "duration": 51,
    "start_time": "2022-02-16T15:39:11.632Z"
   },
   {
    "duration": 69,
    "start_time": "2022-02-16T15:39:11.686Z"
   },
   {
    "duration": 27,
    "start_time": "2022-02-16T15:39:11.757Z"
   },
   {
    "duration": 14,
    "start_time": "2022-02-16T15:39:11.787Z"
   },
   {
    "duration": 137,
    "start_time": "2022-02-16T15:39:11.805Z"
   },
   {
    "duration": 7,
    "start_time": "2022-02-16T15:39:11.946Z"
   },
   {
    "duration": 93,
    "start_time": "2022-02-16T15:39:11.956Z"
   },
   {
    "duration": 80,
    "start_time": "2022-02-16T15:39:12.052Z"
   },
   {
    "duration": 45,
    "start_time": "2022-02-16T15:39:12.134Z"
   },
   {
    "duration": 59,
    "start_time": "2022-02-16T15:39:12.182Z"
   },
   {
    "duration": 18,
    "start_time": "2022-02-16T15:39:12.244Z"
   },
   {
    "duration": 15,
    "start_time": "2022-02-16T15:39:12.264Z"
   },
   {
    "duration": 320,
    "start_time": "2022-02-16T15:39:12.282Z"
   },
   {
    "duration": -3734,
    "start_time": "2022-02-16T15:39:16.340Z"
   },
   {
    "duration": -3737,
    "start_time": "2022-02-16T15:39:16.345Z"
   },
   {
    "duration": -3740,
    "start_time": "2022-02-16T15:39:16.349Z"
   },
   {
    "duration": -3742,
    "start_time": "2022-02-16T15:39:16.353Z"
   },
   {
    "duration": -3743,
    "start_time": "2022-02-16T15:39:16.356Z"
   },
   {
    "duration": -3747,
    "start_time": "2022-02-16T15:39:16.361Z"
   },
   {
    "duration": -3749,
    "start_time": "2022-02-16T15:39:16.365Z"
   },
   {
    "duration": -3752,
    "start_time": "2022-02-16T15:39:16.369Z"
   },
   {
    "duration": -3754,
    "start_time": "2022-02-16T15:39:16.372Z"
   },
   {
    "duration": -3756,
    "start_time": "2022-02-16T15:39:16.376Z"
   },
   {
    "duration": -3758,
    "start_time": "2022-02-16T15:39:16.379Z"
   },
   {
    "duration": -3760,
    "start_time": "2022-02-16T15:39:16.383Z"
   },
   {
    "duration": -3762,
    "start_time": "2022-02-16T15:39:16.386Z"
   },
   {
    "duration": -3765,
    "start_time": "2022-02-16T15:39:16.390Z"
   },
   {
    "duration": -3765,
    "start_time": "2022-02-16T15:39:16.392Z"
   },
   {
    "duration": -3767,
    "start_time": "2022-02-16T15:39:16.395Z"
   },
   {
    "duration": -3768,
    "start_time": "2022-02-16T15:39:16.397Z"
   },
   {
    "duration": -3769,
    "start_time": "2022-02-16T15:39:16.400Z"
   },
   {
    "duration": -3770,
    "start_time": "2022-02-16T15:39:16.402Z"
   },
   {
    "duration": -3770,
    "start_time": "2022-02-16T15:39:16.404Z"
   },
   {
    "duration": 64,
    "start_time": "2022-02-16T15:40:21.255Z"
   },
   {
    "duration": 5,
    "start_time": "2022-02-16T15:40:25.167Z"
   },
   {
    "duration": 536,
    "start_time": "2022-02-16T15:40:25.175Z"
   },
   {
    "duration": 60,
    "start_time": "2022-02-16T15:40:25.715Z"
   },
   {
    "duration": 67,
    "start_time": "2022-02-16T15:40:25.778Z"
   },
   {
    "duration": 26,
    "start_time": "2022-02-16T15:40:25.848Z"
   },
   {
    "duration": 12,
    "start_time": "2022-02-16T15:40:25.876Z"
   },
   {
    "duration": 166,
    "start_time": "2022-02-16T15:40:25.891Z"
   },
   {
    "duration": 7,
    "start_time": "2022-02-16T15:40:26.061Z"
   },
   {
    "duration": 95,
    "start_time": "2022-02-16T15:40:26.071Z"
   },
   {
    "duration": 74,
    "start_time": "2022-02-16T15:40:26.169Z"
   },
   {
    "duration": 43,
    "start_time": "2022-02-16T15:40:26.245Z"
   },
   {
    "duration": 53,
    "start_time": "2022-02-16T15:40:26.290Z"
   },
   {
    "duration": 18,
    "start_time": "2022-02-16T15:40:26.346Z"
   },
   {
    "duration": 16,
    "start_time": "2022-02-16T15:40:26.366Z"
   },
   {
    "duration": 93,
    "start_time": "2022-02-16T15:40:26.384Z"
   },
   {
    "duration": 10,
    "start_time": "2022-02-16T15:40:26.479Z"
   },
   {
    "duration": 7,
    "start_time": "2022-02-16T15:40:26.491Z"
   },
   {
    "duration": 34,
    "start_time": "2022-02-16T15:40:26.500Z"
   },
   {
    "duration": 17,
    "start_time": "2022-02-16T15:40:26.540Z"
   },
   {
    "duration": 71,
    "start_time": "2022-02-16T15:40:26.560Z"
   },
   {
    "duration": 6,
    "start_time": "2022-02-16T15:40:26.634Z"
   },
   {
    "duration": 458,
    "start_time": "2022-02-16T15:40:26.643Z"
   },
   {
    "duration": 7,
    "start_time": "2022-02-16T15:40:27.104Z"
   },
   {
    "duration": 31,
    "start_time": "2022-02-16T15:40:27.132Z"
   },
   {
    "duration": 17,
    "start_time": "2022-02-16T15:40:27.166Z"
   },
   {
    "duration": 62,
    "start_time": "2022-02-16T15:40:27.186Z"
   },
   {
    "duration": 19,
    "start_time": "2022-02-16T15:40:27.251Z"
   },
   {
    "duration": 779,
    "start_time": "2022-02-16T15:40:27.272Z"
   },
   {
    "duration": 808,
    "start_time": "2022-02-16T15:40:28.054Z"
   },
   {
    "duration": 791,
    "start_time": "2022-02-16T15:40:28.865Z"
   },
   {
    "duration": 17,
    "start_time": "2022-02-16T15:40:29.658Z"
   },
   {
    "duration": 12,
    "start_time": "2022-02-16T15:40:29.677Z"
   },
   {
    "duration": 52,
    "start_time": "2022-02-16T15:40:29.691Z"
   },
   {
    "duration": 618,
    "start_time": "2022-02-16T15:40:29.746Z"
   },
   {
    "duration": 692,
    "start_time": "2022-02-16T15:40:30.366Z"
   },
   {
    "duration": 523,
    "start_time": "2022-02-16T15:40:40.928Z"
   },
   {
    "duration": 488,
    "start_time": "2022-02-16T15:40:45.299Z"
   },
   {
    "duration": 13,
    "start_time": "2022-02-16T15:41:03.092Z"
   },
   {
    "duration": 44,
    "start_time": "2022-02-16T15:42:34.762Z"
   },
   {
    "duration": 279,
    "start_time": "2022-02-16T15:43:31.540Z"
   },
   {
    "duration": 43,
    "start_time": "2022-02-16T15:43:35.809Z"
   },
   {
    "duration": 41,
    "start_time": "2022-02-16T15:43:43.069Z"
   },
   {
    "duration": 41,
    "start_time": "2022-02-16T15:43:59.838Z"
   },
   {
    "duration": 348,
    "start_time": "2022-02-16T15:44:54.680Z"
   },
   {
    "duration": 47,
    "start_time": "2022-02-16T15:44:59.980Z"
   },
   {
    "duration": 43,
    "start_time": "2022-02-16T15:45:13.816Z"
   },
   {
    "duration": 75,
    "start_time": "2022-02-16T15:45:39.577Z"
   },
   {
    "duration": 71,
    "start_time": "2022-02-16T15:45:59.400Z"
   },
   {
    "duration": 64,
    "start_time": "2022-02-16T15:46:24.358Z"
   },
   {
    "duration": 4,
    "start_time": "2022-02-16T15:47:53.178Z"
   },
   {
    "duration": 512,
    "start_time": "2022-02-16T15:47:53.184Z"
   },
   {
    "duration": 61,
    "start_time": "2022-02-16T15:47:53.698Z"
   },
   {
    "duration": 43,
    "start_time": "2022-02-16T15:47:53.761Z"
   },
   {
    "duration": 47,
    "start_time": "2022-02-16T15:47:53.806Z"
   },
   {
    "duration": 11,
    "start_time": "2022-02-16T15:47:53.856Z"
   },
   {
    "duration": 118,
    "start_time": "2022-02-16T15:47:53.870Z"
   },
   {
    "duration": 5,
    "start_time": "2022-02-16T15:47:53.991Z"
   },
   {
    "duration": 84,
    "start_time": "2022-02-16T15:47:53.998Z"
   },
   {
    "duration": 74,
    "start_time": "2022-02-16T15:47:54.085Z"
   },
   {
    "duration": 40,
    "start_time": "2022-02-16T15:47:54.161Z"
   },
   {
    "duration": 47,
    "start_time": "2022-02-16T15:47:54.203Z"
   },
   {
    "duration": 18,
    "start_time": "2022-02-16T15:47:54.252Z"
   },
   {
    "duration": 14,
    "start_time": "2022-02-16T15:47:54.272Z"
   },
   {
    "duration": 86,
    "start_time": "2022-02-16T15:47:54.288Z"
   },
   {
    "duration": 9,
    "start_time": "2022-02-16T15:47:54.377Z"
   },
   {
    "duration": 8,
    "start_time": "2022-02-16T15:47:54.388Z"
   },
   {
    "duration": 35,
    "start_time": "2022-02-16T15:47:54.398Z"
   },
   {
    "duration": 17,
    "start_time": "2022-02-16T15:47:54.437Z"
   },
   {
    "duration": 6,
    "start_time": "2022-02-16T15:47:54.457Z"
   },
   {
    "duration": 580,
    "start_time": "2022-02-16T15:47:54.465Z"
   },
   {
    "duration": 7,
    "start_time": "2022-02-16T15:47:55.047Z"
   },
   {
    "duration": 34,
    "start_time": "2022-02-16T15:47:55.057Z"
   },
   {
    "duration": 41,
    "start_time": "2022-02-16T15:47:55.094Z"
   },
   {
    "duration": 30,
    "start_time": "2022-02-16T15:47:55.137Z"
   },
   {
    "duration": 17,
    "start_time": "2022-02-16T15:47:55.170Z"
   },
   {
    "duration": 847,
    "start_time": "2022-02-16T15:47:55.190Z"
   },
   {
    "duration": 803,
    "start_time": "2022-02-16T15:47:56.040Z"
   },
   {
    "duration": 799,
    "start_time": "2022-02-16T15:47:56.846Z"
   },
   {
    "duration": 19,
    "start_time": "2022-02-16T15:47:57.649Z"
   },
   {
    "duration": 11,
    "start_time": "2022-02-16T15:47:57.670Z"
   },
   {
    "duration": 55,
    "start_time": "2022-02-16T15:47:57.684Z"
   },
   {
    "duration": 538,
    "start_time": "2022-02-16T15:47:57.742Z"
   },
   {
    "duration": 526,
    "start_time": "2022-02-16T15:47:58.282Z"
   },
   {
    "duration": 611,
    "start_time": "2022-02-16T15:50:19.327Z"
   },
   {
    "duration": 4,
    "start_time": "2022-02-16T15:53:18.621Z"
   },
   {
    "duration": 547,
    "start_time": "2022-02-16T15:53:18.629Z"
   },
   {
    "duration": 65,
    "start_time": "2022-02-16T15:53:19.180Z"
   },
   {
    "duration": 45,
    "start_time": "2022-02-16T15:53:19.249Z"
   },
   {
    "duration": 52,
    "start_time": "2022-02-16T15:53:19.296Z"
   },
   {
    "duration": 12,
    "start_time": "2022-02-16T15:53:19.351Z"
   },
   {
    "duration": 130,
    "start_time": "2022-02-16T15:53:19.365Z"
   },
   {
    "duration": 6,
    "start_time": "2022-02-16T15:53:19.499Z"
   },
   {
    "duration": 98,
    "start_time": "2022-02-16T15:53:19.509Z"
   },
   {
    "duration": 74,
    "start_time": "2022-02-16T15:53:19.610Z"
   },
   {
    "duration": 61,
    "start_time": "2022-02-16T15:53:19.686Z"
   },
   {
    "duration": 28,
    "start_time": "2022-02-16T15:53:19.750Z"
   },
   {
    "duration": 50,
    "start_time": "2022-02-16T15:53:19.782Z"
   },
   {
    "duration": 16,
    "start_time": "2022-02-16T15:53:19.835Z"
   },
   {
    "duration": 87,
    "start_time": "2022-02-16T15:53:19.854Z"
   },
   {
    "duration": 10,
    "start_time": "2022-02-16T15:53:19.944Z"
   },
   {
    "duration": 14,
    "start_time": "2022-02-16T15:53:19.956Z"
   },
   {
    "duration": 13,
    "start_time": "2022-02-16T15:53:19.973Z"
   },
   {
    "duration": 50,
    "start_time": "2022-02-16T15:53:19.989Z"
   },
   {
    "duration": 9,
    "start_time": "2022-02-16T15:53:20.042Z"
   },
   {
    "duration": 498,
    "start_time": "2022-02-16T15:53:20.055Z"
   },
   {
    "duration": 9,
    "start_time": "2022-02-16T15:53:20.556Z"
   },
   {
    "duration": 34,
    "start_time": "2022-02-16T15:53:20.572Z"
   },
   {
    "duration": 21,
    "start_time": "2022-02-16T15:53:20.633Z"
   },
   {
    "duration": 31,
    "start_time": "2022-02-16T15:53:20.657Z"
   },
   {
    "duration": 55,
    "start_time": "2022-02-16T15:53:20.690Z"
   },
   {
    "duration": 850,
    "start_time": "2022-02-16T15:53:20.747Z"
   },
   {
    "duration": 822,
    "start_time": "2022-02-16T15:53:21.600Z"
   },
   {
    "duration": 904,
    "start_time": "2022-02-16T15:53:22.424Z"
   },
   {
    "duration": 18,
    "start_time": "2022-02-16T15:53:23.333Z"
   },
   {
    "duration": 13,
    "start_time": "2022-02-16T15:53:23.353Z"
   },
   {
    "duration": 27,
    "start_time": "2022-02-16T15:53:23.369Z"
   },
   {
    "duration": 570,
    "start_time": "2022-02-16T15:53:23.433Z"
   },
   {
    "duration": 545,
    "start_time": "2022-02-16T15:53:24.005Z"
   },
   {
    "duration": 46,
    "start_time": "2022-02-16T15:54:14.248Z"
   },
   {
    "duration": 62,
    "start_time": "2022-02-16T15:54:20.542Z"
   },
   {
    "duration": 520,
    "start_time": "2022-02-16T15:54:54.505Z"
   },
   {
    "duration": 518,
    "start_time": "2022-02-16T15:55:01.728Z"
   },
   {
    "duration": 38,
    "start_time": "2022-02-16T15:56:14.538Z"
   },
   {
    "duration": 274,
    "start_time": "2022-02-16T15:57:59.148Z"
   },
   {
    "duration": 89,
    "start_time": "2022-02-16T15:58:24.396Z"
   },
   {
    "duration": 39,
    "start_time": "2022-02-16T15:58:37.768Z"
   },
   {
    "duration": 59,
    "start_time": "2022-02-16T15:58:43.355Z"
   },
   {
    "duration": 43,
    "start_time": "2022-02-16T15:58:50.822Z"
   },
   {
    "duration": 22,
    "start_time": "2022-02-16T16:01:53.290Z"
   },
   {
    "duration": 14,
    "start_time": "2022-02-16T16:02:17.865Z"
   },
   {
    "duration": 23,
    "start_time": "2022-02-16T16:02:30.195Z"
   },
   {
    "duration": 33,
    "start_time": "2022-02-16T16:02:35.915Z"
   },
   {
    "duration": 37,
    "start_time": "2022-02-16T16:02:44.751Z"
   },
   {
    "duration": 40,
    "start_time": "2022-02-16T16:02:54.032Z"
   },
   {
    "duration": 4,
    "start_time": "2022-02-16T16:02:57.369Z"
   },
   {
    "duration": 535,
    "start_time": "2022-02-16T16:02:57.379Z"
   },
   {
    "duration": 56,
    "start_time": "2022-02-16T16:02:57.918Z"
   },
   {
    "duration": 66,
    "start_time": "2022-02-16T16:02:57.977Z"
   },
   {
    "duration": 29,
    "start_time": "2022-02-16T16:02:58.046Z"
   },
   {
    "duration": 12,
    "start_time": "2022-02-16T16:02:58.078Z"
   },
   {
    "duration": 130,
    "start_time": "2022-02-16T16:02:58.093Z"
   },
   {
    "duration": 9,
    "start_time": "2022-02-16T16:02:58.226Z"
   },
   {
    "duration": 73,
    "start_time": "2022-02-16T16:02:58.239Z"
   },
   {
    "duration": 78,
    "start_time": "2022-02-16T16:02:58.315Z"
   },
   {
    "duration": 66,
    "start_time": "2022-02-16T16:02:58.395Z"
   },
   {
    "duration": 28,
    "start_time": "2022-02-16T16:02:58.463Z"
   },
   {
    "duration": 17,
    "start_time": "2022-02-16T16:02:58.493Z"
   },
   {
    "duration": 16,
    "start_time": "2022-02-16T16:02:58.533Z"
   },
   {
    "duration": 51,
    "start_time": "2022-02-16T16:02:58.551Z"
   },
   {
    "duration": 31,
    "start_time": "2022-02-16T16:02:58.605Z"
   },
   {
    "duration": 8,
    "start_time": "2022-02-16T16:02:58.639Z"
   },
   {
    "duration": 11,
    "start_time": "2022-02-16T16:02:58.649Z"
   },
   {
    "duration": 21,
    "start_time": "2022-02-16T16:02:58.662Z"
   },
   {
    "duration": 8,
    "start_time": "2022-02-16T16:02:58.685Z"
   },
   {
    "duration": 459,
    "start_time": "2022-02-16T16:02:58.731Z"
   },
   {
    "duration": 8,
    "start_time": "2022-02-16T16:02:59.192Z"
   },
   {
    "duration": 49,
    "start_time": "2022-02-16T16:02:59.202Z"
   },
   {
    "duration": 18,
    "start_time": "2022-02-16T16:02:59.256Z"
   },
   {
    "duration": 56,
    "start_time": "2022-02-16T16:02:59.276Z"
   },
   {
    "duration": 19,
    "start_time": "2022-02-16T16:02:59.335Z"
   },
   {
    "duration": 937,
    "start_time": "2022-02-16T16:02:59.356Z"
   },
   {
    "duration": 791,
    "start_time": "2022-02-16T16:03:00.296Z"
   },
   {
    "duration": 774,
    "start_time": "2022-02-16T16:03:01.090Z"
   },
   {
    "duration": 16,
    "start_time": "2022-02-16T16:03:01.867Z"
   },
   {
    "duration": 11,
    "start_time": "2022-02-16T16:03:01.886Z"
   },
   {
    "duration": 19,
    "start_time": "2022-02-16T16:03:01.931Z"
   },
   {
    "duration": 552,
    "start_time": "2022-02-16T16:03:01.952Z"
   },
   {
    "duration": 525,
    "start_time": "2022-02-16T16:03:02.507Z"
   },
   {
    "duration": 4,
    "start_time": "2022-02-16T16:34:43.249Z"
   },
   {
    "duration": 521,
    "start_time": "2022-02-16T16:34:43.259Z"
   },
   {
    "duration": 64,
    "start_time": "2022-02-16T16:34:43.783Z"
   },
   {
    "duration": 50,
    "start_time": "2022-02-16T16:34:43.851Z"
   },
   {
    "duration": 61,
    "start_time": "2022-02-16T16:34:43.905Z"
   },
   {
    "duration": 15,
    "start_time": "2022-02-16T16:34:43.969Z"
   },
   {
    "duration": 125,
    "start_time": "2022-02-16T16:34:43.986Z"
   },
   {
    "duration": 6,
    "start_time": "2022-02-16T16:34:44.113Z"
   },
   {
    "duration": 79,
    "start_time": "2022-02-16T16:34:44.123Z"
   },
   {
    "duration": 82,
    "start_time": "2022-02-16T16:34:44.206Z"
   },
   {
    "duration": 60,
    "start_time": "2022-02-16T16:34:44.291Z"
   },
   {
    "duration": 28,
    "start_time": "2022-02-16T16:34:44.353Z"
   },
   {
    "duration": 17,
    "start_time": "2022-02-16T16:34:44.384Z"
   },
   {
    "duration": 40,
    "start_time": "2022-02-16T16:34:44.404Z"
   },
   {
    "duration": 53,
    "start_time": "2022-02-16T16:34:44.447Z"
   },
   {
    "duration": 32,
    "start_time": "2022-02-16T16:34:44.503Z"
   },
   {
    "duration": 10,
    "start_time": "2022-02-16T16:34:44.538Z"
   },
   {
    "duration": 12,
    "start_time": "2022-02-16T16:34:44.550Z"
   },
   {
    "duration": 21,
    "start_time": "2022-02-16T16:34:44.565Z"
   },
   {
    "duration": 7,
    "start_time": "2022-02-16T16:34:44.589Z"
   },
   {
    "duration": 555,
    "start_time": "2022-02-16T16:34:44.631Z"
   },
   {
    "duration": 8,
    "start_time": "2022-02-16T16:34:45.188Z"
   },
   {
    "duration": 53,
    "start_time": "2022-02-16T16:34:45.199Z"
   },
   {
    "duration": 18,
    "start_time": "2022-02-16T16:34:45.257Z"
   },
   {
    "duration": 64,
    "start_time": "2022-02-16T16:34:45.278Z"
   },
   {
    "duration": 22,
    "start_time": "2022-02-16T16:34:45.344Z"
   },
   {
    "duration": 895,
    "start_time": "2022-02-16T16:34:45.369Z"
   },
   {
    "duration": 783,
    "start_time": "2022-02-16T16:34:46.266Z"
   },
   {
    "duration": 960,
    "start_time": "2022-02-16T16:34:47.052Z"
   },
   {
    "duration": 28,
    "start_time": "2022-02-16T16:34:48.014Z"
   },
   {
    "duration": 12,
    "start_time": "2022-02-16T16:34:48.044Z"
   },
   {
    "duration": 46,
    "start_time": "2022-02-16T16:34:48.058Z"
   },
   {
    "duration": 558,
    "start_time": "2022-02-16T16:34:48.107Z"
   },
   {
    "duration": 550,
    "start_time": "2022-02-16T16:34:48.668Z"
   },
   {
    "duration": 255,
    "start_time": "2022-02-16T16:35:17.322Z"
   },
   {
    "duration": 797,
    "start_time": "2022-02-16T16:35:30.638Z"
   },
   {
    "duration": 760,
    "start_time": "2022-02-16T16:35:36.350Z"
   },
   {
    "duration": 651,
    "start_time": "2022-02-16T16:35:46.237Z"
   },
   {
    "duration": 535,
    "start_time": "2022-02-16T16:35:57.885Z"
   },
   {
    "duration": 754,
    "start_time": "2022-02-16T16:36:04.757Z"
   }
  ],
  "kernelspec": {
   "display_name": "Python 3 (ipykernel)",
   "language": "python",
   "name": "python3"
  },
  "language_info": {
   "codemirror_mode": {
    "name": "ipython",
    "version": 3
   },
   "file_extension": ".py",
   "mimetype": "text/x-python",
   "name": "python",
   "nbconvert_exporter": "python",
   "pygments_lexer": "ipython3",
   "version": "3.9.7"
  },
  "toc": {
   "base_numbering": 1,
   "nav_menu": {},
   "number_sections": true,
   "sideBar": true,
   "skip_h1_title": true,
   "title_cell": "Table of Contents",
   "title_sidebar": "Contents",
   "toc_cell": false,
   "toc_position": {
    "height": "618.4px",
    "left": "379px",
    "top": "647.125px",
    "width": "289.6px"
   },
   "toc_section_display": true,
   "toc_window_display": true
  }
 },
 "nbformat": 4,
 "nbformat_minor": 5
}
